{
 "cells": [
  {
   "cell_type": "code",
   "execution_count": 1,
   "metadata": {
    "collapsed": false
   },
   "outputs": [],
   "source": [
    "from pymongo import MongoClient\n",
    "import time\n",
    "import datetime\n",
    "from pprint import pprint\n",
    "import re\n",
    "import numpy as np\n",
    "from datetime import datetime as dtime\n",
    "import pandas as pd\n",
    "import matplotlib.pyplot as plt"
   ]
  },
  {
   "cell_type": "code",
   "execution_count": 2,
   "metadata": {
    "collapsed": false
   },
   "outputs": [],
   "source": [
    "# %load SkyScanner_QueryAPI.py\n",
    "\n",
    "\n",
    "# In[1]:\n",
    "\n",
    "from pymongo import MongoClient\n",
    "import time\n",
    "import datetime\n",
    "from pprint import pprint\n",
    "import re\n",
    "\n",
    "\n",
    "# In[2]:\n",
    "\n",
    "def get_date(fmt, ts=None):\n",
    "    ts = int(time.time()) if ts is None else int(ts)\n",
    "    date = datetime.datetime.fromtimestamp(ts).strftime(fmt)\n",
    "    return date\n",
    "\n",
    "def parse_date(fmt, date):\n",
    "    ts = time.mktime(datetime.datetime.strptime(date, fmt).timetuple())\n",
    "    return ts\n",
    "\n",
    "\n",
    "# In[3]:\n",
    "\n",
    "class Agent(object):\n",
    "    def __init__(self, data):\n",
    "        self._name = data['Name']\n",
    "        \n",
    "    def name(self):\n",
    "        return self._name\n",
    "    \n",
    "    def __str__(self):\n",
    "        return self.name()\n",
    "\n",
    "class Price(object):\n",
    "    def __init__(self, itinerary, data):\n",
    "        self.itinerary = itinerary\n",
    "        self._price = data['Price']\n",
    "        self._agents = data['Agents']\n",
    "        \n",
    "    def price(self):\n",
    "        return self._price\n",
    "    \n",
    "    def agent(self):\n",
    "        return [self.itinerary.flight.agent(id).name() for id in self._agents]\n",
    "    \n",
    "    def __str__(self):\n",
    "        return \"{}: {}€\".format(self.agent(), self.price())\n",
    "\n",
    "class Itinerary(object):\n",
    "    def __init__(self, flight, data):\n",
    "        self.flight = flight\n",
    "        self.prices = [Price(self, p) for p in data['PricingOptions']]\n",
    "        \n",
    "    def cheapest(self):\n",
    "        if not self.prices:\n",
    "            return None\n",
    "        \n",
    "        return min(self.prices, key=lambda p: p.price())\n",
    "        \n",
    "    def most_expensive(self):\n",
    "        if not self.prices:\n",
    "            return None\n",
    "        \n",
    "        return max(self.prices, key=lambda p: p.price())\n",
    "\n",
    "class Flight(object):\n",
    "    def __init__(self, data):\n",
    "        self.itineraries = [Itinerary(self, itinerary) for itinerary in data['Itineraries']]\n",
    "        self.agents = {agent_data['Id']: Agent(agent_data) for agent_data in data['Agents']}\n",
    "        self._id = data['_id']\n",
    "        \n",
    "    def cheapest(self):\n",
    "        if not self.itineraries:\n",
    "            return None\n",
    "        \n",
    "        return min(self.itineraries, key=lambda it: it.cheapest().price()).cheapest()\n",
    "    \n",
    "    def most_expensive(self):\n",
    "        if not self.itineraries:\n",
    "            return None\n",
    "        \n",
    "        return max(self.itineraries, key=lambda it: it.most_expensive().price()).most_expensive()\n",
    "    \n",
    "    def agent(self, id):\n",
    "        return self.agents[id]\n",
    "    \n",
    "    def fake_date(self, dt):\n",
    "        dt = get_date('%Y-%m-%d', dt)\n",
    "        self._id['date'] = dt\n",
    "    \n",
    "    def date(self):\n",
    "        return self._id['date']\n",
    "    \n",
    "    def date_timestamp(self):\n",
    "        return parse_date('%Y-%m-%d', self._id['date'])\n",
    "    \n",
    "    def departure(self):\n",
    "        return self._id['departure']\n",
    "    \n",
    "    def departure_timestamp(self):\n",
    "        return parse_date('%Y-%m-%d', self._id['departure'])\n",
    "    \n",
    "    def __str__(self):\n",
    "        return \"{{{}->{}}} {} - {}\".format(self.date(), self.departure(), self.cheapest(), self.most_expensive())\n",
    "    \n",
    "    def is_missing(self):\n",
    "        return False\n",
    "    \n",
    "    \n",
    "class MisingFlight(object):\n",
    "    def __init__(self, date):\n",
    "        self.ts = date\n",
    "        self.dt = get_date('%Y-%m-%d', date)\n",
    "        \n",
    "    def date(self):\n",
    "        return self.dt\n",
    "    \n",
    "    def date_timestamp(self):\n",
    "        return self.ts\n",
    "    \n",
    "    def __str__(self):\n",
    "        return \"{{{}}} Missing\".format(self.date())\n",
    "    \n",
    "    def is_missing(self):\n",
    "        return True\n",
    "\n",
    "\n",
    "# In[4]:\n",
    "\n",
    "import math\n",
    "from collections import OrderedDict\n",
    "\n",
    "class SkyscannerAPI(object):\n",
    "    def __init__(self, host='localhost'):\n",
    "        self.client = MongoClient(host)\n",
    "        self.db = self.client.skyscanner\n",
    "        self.itineraries = self.db.itineraries\n",
    "        self.carriers = self.db.carriers\n",
    "        \n",
    "    def find_flight(self, departure, destination,origin):\n",
    "        cursor = self.itineraries.find({\n",
    "            '_id.departure': departure,\n",
    "            '_id.origin': origin,\n",
    "            '_id.destination': destination            \n",
    "        }, {\n",
    "            '_id': 1,\n",
    "            'Itineraries.PricingOptions': 1,\n",
    "            'Agents.Id': 1,\n",
    "            'Agents.Name': 1\n",
    "        })\n",
    "        \n",
    "        def distribute(sorted_flights):\n",
    "            i = 0\n",
    "            total = len(sorted_flights) - 1\n",
    "    \n",
    "            dist = []\n",
    "            while i < total:\n",
    "                cur = i\n",
    "                i += 1\n",
    "                \n",
    "                while i < total - 1 and sorted_flights[cur].date() == sorted_flights[i].date():\n",
    "                    i += 1\n",
    "                    \n",
    "                diff_in_days = sorted_flights[i].date_timestamp() - sorted_flights[cur].date_timestamp()\n",
    "                diff_in_days = math.ceil(diff_in_days / (24 * 60 * 60)) - 1\n",
    "                \n",
    "                dist.append(sorted_flights[cur])\n",
    "                \n",
    "                ts = parse_date('%Y-%m-%d', sorted_flights[cur].date())\n",
    "                    \n",
    "                for k in range(int(min(diff_in_days, i - cur))):\n",
    "                    sorted_flights[cur + k].fake_date(ts + (k + 1) * 24 * 60 * 60)\n",
    "                    dist.append(sorted_flights[cur + k])\n",
    "                    \n",
    "                for k in range(int(diff_in_days - (i - cur))):\n",
    "                    dist.append(MisingFlight(ts + (k + (i - cur) + 1) * 24 * 60 * 60))\n",
    "                    \n",
    "            return dist\n",
    "        \n",
    "        sorted_flights = sorted([Flight(data) for data in cursor], key=lambda f: f.date_timestamp())\n",
    "        sorted_flights = [f for f in sorted_flights if f.cheapest()]\n",
    "        dist_flights = distribute(sorted_flights)\n",
    "        unique_flights = OrderedDict([(f.date(), f) for f in dist_flights])\n",
    "        return list(unique_flights.values())\n",
    "\n"
   ]
  },
  {
   "cell_type": "code",
   "execution_count": 6,
   "metadata": {
    "collapsed": false
   },
   "outputs": [],
   "source": [
    "api = SkyscannerAPI()"
   ]
  },
  {
   "cell_type": "code",
   "execution_count": 7,
   "metadata": {
    "collapsed": true
   },
   "outputs": [],
   "source": [
    "Airport = ['LCY', 'LHR', 'LGW', 'LTN', 'SEN', 'STN','CDG', 'ORY', 'BVA','MAD','ATH','FCO','CIA','BRU', 'CRL',\n",
    "          'BER', 'SXF','DME', 'SVO','SFO','JFK','PEK','EZE','GIG','DEL']"
   ]
  },
  {
   "cell_type": "code",
   "execution_count": 10,
   "metadata": {
    "collapsed": false
   },
   "outputs": [],
   "source": [
    "Oil_prices = pd.read_csv('/home/manuel/Documentos/Master UB/TFM/TFM---Travel-chat-bot/DCOILBRENTEU.csv')\n",
    "Oil_prices.DCOILBRENTEU[Oil_prices.DCOILBRENTEU == '.'] = float('nan')\n",
    "Dates = [(dtime.today().date() - datetime.timedelta(days=x)).isoformat() for x in range(0, 365)]\n",
    "Dates = pd.DataFrame({'DATE': Dates})\n",
    "\n",
    "Oil_prices = Oil_prices.merge(Dates,how = 'right').sort_values('DATE').fillna(method = 'ffill')"
   ]
  },
  {
   "cell_type": "code",
   "execution_count": 11,
   "metadata": {
    "collapsed": false,
    "scrolled": true
   },
   "outputs": [
    {
     "name": "stdout",
     "output_type": "stream",
     "text": [
      "LCY\n",
      "LHR\n",
      "LGW\n",
      "LTN\n",
      "SEN\n",
      "STN\n",
      "CDG\n",
      "ORY\n",
      "BVA\n",
      "MAD\n",
      "ATH\n",
      "FCO\n",
      "CIA\n",
      "BRU\n",
      "CRL\n",
      "BER\n",
      "SXF\n",
      "DME\n",
      "SVO\n",
      "SFO\n",
      "JFK\n",
      "PEK\n",
      "EZE\n",
      "GIG\n",
      "DEL\n"
     ]
    }
   ],
   "source": [
    "init = dtime.strptime('2017-06-30', '%Y-%m-%d')\n",
    "#flights = []\n",
    "x = []\n",
    "x2 = []\n",
    "y = []\n",
    "for air in Airport:\n",
    "    print air\n",
    "    flightsairport = []\n",
    "    for i in range(90):\n",
    "        date = init + datetime.timedelta(days=i)\n",
    "        flightsaux = api.find_flight(date.strftime(\"%Y-%m-%d\"), air, 'BCN')\n",
    "        #flights = np.r_[flights,flightsaux]\n",
    "        flightsairport = np.r_[flightsairport,flightsaux]\n",
    "    for f in flightsairport:\n",
    "        if type(f) is MisingFlight:\n",
    "            continue\n",
    "        x.append([(dtime.strptime(f.departure(), '%Y-%m-%d')-dtime.strptime(f.date(), '%Y-%m-%d')).days,\n",
    "              float(Oil_prices.DCOILBRENTEU[Oil_prices.DATE == f.date()].values[0])])\n",
    "        x2.append([Airport.index(air),\n",
    "                  dtime.strptime(f.date(), '%Y-%m-%d').weekday(),\n",
    "                  dtime.strptime(f.departure(), '%Y-%m-%d').weekday(),\n",
    "                  dtime.strptime(f.departure(), '%Y-%m-%d').month])\n",
    "        y.append(f.cheapest().price())\n",
    "        \n",
    "    %reset_selective -f flightsairport\n",
    "    %reset_selective -f flightsaux"
   ]
  },
  {
   "cell_type": "code",
   "execution_count": 2,
   "metadata": {
    "collapsed": true
   },
   "outputs": [],
   "source": [
    "import cPickle\n",
    "\n",
    "#with open(r\"x.pickle\", \"wb\") as output_file:\n",
    "#    cPickle.dump(x, output_file)\n",
    "#with open(r\"x2.pickle\", \"wb\") as output_file:\n",
    "#    cPickle.dump(x2, output_file)\n",
    "#with open(r\"y.pickle\", \"wb\") as output_file:\n",
    "#    cPickle.dump(y, output_file)\n",
    "    \n",
    "with open(r\"x.pickle\", \"rb\") as input_file:\n",
    "    x = cPickle.load(input_file)\n",
    "with open(r\"x2.pickle\", \"rb\") as input_file:\n",
    "    x2 = cPickle.load(input_file)\n",
    "with open(r\"y.pickle\", \"rb\") as input_file:\n",
    "    y = cPickle.load(input_file)"
   ]
  },
  {
   "cell_type": "markdown",
   "metadata": {},
   "source": [
    "Destinations\n",
    "'LCY', 'LHR', 'LGW', 'LTN', 'SEN', 'STN', # LONDRES\n",
    "'CDG', 'ORY', 'BVA', # Paris\n",
    "'MAD', # Madrid\n",
    "'ATH', # Atenas\n",
    "'FCO', 'CIA', # Rome\n",
    "'BRU', 'CRL', # Bruselas\n",
    "'BER', 'SXF', # Berlin\n",
    "'DME', 'SVO', # Moscu\n",
    "'SFO', # San Francisco\n",
    "'JFK', # Nueva York\n",
    "'PEK', # Pekin\n",
    "'EZE', # Buenos Aires\n",
    "'GIG', # Rio de Janeiro\n",
    "'DEL', # Delhi"
   ]
  },
  {
   "cell_type": "markdown",
   "metadata": {},
   "source": [
    "Price according to the number of days that the flight is bought before departure"
   ]
  },
  {
   "cell_type": "code",
   "execution_count": 9,
   "metadata": {
    "collapsed": false
   },
   "outputs": [],
   "source": [
    "from sklearn.preprocessing import OneHotEncoder"
   ]
  },
  {
   "cell_type": "code",
   "execution_count": 10,
   "metadata": {
    "collapsed": false
   },
   "outputs": [
    {
     "data": {
      "text/plain": [
       "array([ 0, 25, 32, 39, 52])"
      ]
     },
     "execution_count": 10,
     "metadata": {},
     "output_type": "execute_result"
    }
   ],
   "source": [
    "to_encode = []\n",
    "for i in range(25):\n",
    "    for j in range(7):\n",
    "        for k in range(7):\n",
    "            for l in range(12):\n",
    "                to_encode.append([i,j,k,l+1])\n",
    "        \n",
    "\n",
    "enc = OneHotEncoder()\n",
    "enc.fit(to_encode)  \n",
    "enc.feature_indices_"
   ]
  },
  {
   "cell_type": "code",
   "execution_count": 11,
   "metadata": {
    "collapsed": false
   },
   "outputs": [],
   "source": [
    "x3 = np.array(np.c_[x,enc.transform(x2).toarray().tolist(),y])\n",
    "np.random.shuffle(x3)"
   ]
  },
  {
   "cell_type": "code",
   "execution_count": 19,
   "metadata": {
    "collapsed": false
   },
   "outputs": [],
   "source": [
    "X = {'LCY':np.array([l[0:(len(l)-1)] for l in x3 if l[2] == 1]),'LHR':np.array([l[0:(len(l)-1)] for l in x3 if l[3] == 1]),\n",
    "     'LGW':np.array([l[0:(len(l)-1)] for l in x3 if l[4] == 1]),'LTN':np.array([l[0:(len(l)-1)] for l in x3 if l[5] == 1]),\n",
    "     'SEN':np.array([l[0:(len(l)-1)] for l in x3 if l[6] == 1]),'STN':np.array([l[0:(len(l)-1)] for l in x3 if l[7] == 1]),\n",
    "     'CDG':np.array([l[0:(len(l)-1)] for l in x3 if l[8] == 1]),'ORY':np.array([l[0:(len(l)-1)] for l in x3 if l[9] == 1]),\n",
    "     'BVA':np.array([l[0:(len(l)-1)] for l in x3 if l[10] == 1]),'MAD':np.array([l[0:(len(l)-1)] for l in x3 if l[11] == 1]),\n",
    "     'ATH':np.array([l[0:(len(l)-1)] for l in x3 if l[12] == 1]),'FCO':np.array([l[0:(len(l)-1)] for l in x3 if l[13] == 1]),\n",
    "     'CIA':np.array([l[0:(len(l)-1)] for l in x3 if l[14] == 1]),'BRU':np.array([l[0:(len(l)-1)] for l in x3 if l[15] == 1]),\n",
    "     'CRL':np.array([l[0:(len(l)-1)] for l in x3 if l[16] == 1]),'BER':np.array([l[0:(len(l)-1)] for l in x3 if l[17] == 1]),\n",
    "     'SXF':np.array([l[0:(len(l)-1)] for l in x3 if l[18] == 1]),'DME':np.array([l[0:(len(l)-1)] for l in x3 if l[19] == 1]),\n",
    "     'SVO':np.array([l[0:(len(l)-1)] for l in x3 if l[20] == 1]),'SFO':np.array([l[0:(len(l)-1)] for l in x3 if l[21] == 1]),\n",
    "     'JFK':np.array([l[0:(len(l)-1)] for l in x3 if l[22] == 1]),'PEK':np.array([l[0:(len(l)-1)] for l in x3 if l[23] == 1]),\n",
    "     'EZE':np.array([l[0:(len(l)-1)] for l in x3 if l[24] == 1]),'GIG':np.array([l[0:(len(l)-1)] for l in x3 if l[25] == 1]),\n",
    "     'DEL':np.array([l[0:(len(l)-1)] for l in x3 if l[26] == 1])}\n",
    "Y = {'LCY':np.array([l[len(l)-1] for l in x3 if l[2] == 1]),'LHR':np.array([l[len(l)-1] for l in x3 if l[3] == 1]),\n",
    "     'LGW':np.array([l[len(l)-1] for l in x3 if l[4] == 1]),'LTN':np.array([l[len(l)-1] for l in x3 if l[5] == 1]),\n",
    "     'SEN':np.array([l[len(l)-1] for l in x3 if l[6] == 1]),'STN':np.array([l[len(l)-1] for l in x3 if l[7] == 1]),\n",
    "     'CDG':np.array([l[len(l)-1] for l in x3 if l[8] == 1]),'ORY':np.array([l[len(l)-1] for l in x3 if l[9] == 1]),\n",
    "     'BVA':np.array([l[len(l)-1] for l in x3 if l[10] == 1]),'MAD':np.array([l[len(l)-1] for l in x3 if l[11] == 1]),\n",
    "     'ATH':np.array([l[len(l)-1] for l in x3 if l[12] == 1]),'FCO':np.array([l[len(l)-1] for l in x3 if l[13] == 1]),\n",
    "     'CIA':np.array([l[len(l)-1] for l in x3 if l[14] == 1]),'BRU':np.array([l[len(l)-1] for l in x3 if l[15] == 1]),\n",
    "     'CRL':np.array([l[len(l)-1] for l in x3 if l[16] == 1]),'BER':np.array([l[len(l)-1] for l in x3 if l[17] == 1]),\n",
    "     'SXF':np.array([l[len(l)-1] for l in x3 if l[18] == 1]),'DME':np.array([l[len(l)-1] for l in x3 if l[19] == 1]),\n",
    "     'SVO':np.array([l[len(l)-1] for l in x3 if l[20] == 1]),'SFO':np.array([l[len(l)-1] for l in x3 if l[21] == 1]),\n",
    "     'JFK':np.array([l[len(l)-1] for l in x3 if l[22] == 1]),'PEK':np.array([l[len(l)-1] for l in x3 if l[23] == 1]),\n",
    "     'EZE':np.array([l[len(l)-1] for l in x3 if l[24] == 1]),'GIG':np.array([l[len(l)-1] for l in x3 if l[25] == 1]),\n",
    "     'DEL':np.array([l[len(l)-1] for l in x3 if l[26] == 1])}"
   ]
  },
  {
   "cell_type": "code",
   "execution_count": 20,
   "metadata": {
    "collapsed": false
   },
   "outputs": [],
   "source": [
    "Rfregressor = {'LCY':[], 'LHR':[], 'LGW':[], 'LTN':[], 'SEN':[], 'STN':[],'CDG':[], 'ORY':[], 'BVA':[],'MAD':[],'ATH':[],'FCO':[],'CIA':[],'BRU':[], 'CRL':[],\n",
    "          'BER':[], 'SXF':[],'DME':[], 'SVO':[],'SFO':[],'JFK':[],'PEK':[],'EZE':[],'GIG':[],'DEL':[]}"
   ]
  },
  {
   "cell_type": "code",
   "execution_count": 22,
   "metadata": {
    "collapsed": false
   },
   "outputs": [],
   "source": [
    "from sklearn import metrics\n",
    "from sklearn import cross_validation\n",
    "from sklearn.linear_model import ElasticNet\n",
    "from sklearn.linear_model import Lasso\n",
    "from sklearn.linear_model import Ridge\n",
    "from sklearn.ensemble import RandomForestRegressor \n",
    "from sklearn.svm import SVR\n",
    "from sklearn.preprocessing import StandardScaler\n",
    "\n"
   ]
  },
  {
   "cell_type": "code",
   "execution_count": 23,
   "metadata": {
    "collapsed": false,
    "scrolled": true
   },
   "outputs": [
    {
     "name": "stdout",
     "output_type": "stream",
     "text": [
      "LCY\n",
      "Mean accuracy: 12.4272842407  5.0915435197\n",
      "LHR\n",
      "Mean accuracy: 9.26709837468  3.81025767214\n",
      "LGW\n",
      "Mean accuracy: 8.47425144144  3.45925930045\n",
      "LTN\n",
      "Mean accuracy: 7.85431530628  3.26224588382\n",
      "SEN\n",
      "Mean accuracy: 22.0703618381  8.58588542242\n",
      "STN\n",
      "Mean accuracy: 40.9283554389  16.5840124251\n",
      "CDG\n",
      "Mean accuracy: 9.07891114705  3.70517309699\n",
      "ORY\n",
      "Mean accuracy: 8.41635281488  3.41018863188\n",
      "BVA\n",
      "Mean accuracy: 61.3084047575  23.3691115321\n",
      "MAD\n",
      "Mean accuracy: 6.48179820481  2.6431813076\n",
      "ATH\n",
      "Mean accuracy: 13.4077024797  5.44504065181\n",
      "FCO\n",
      "Mean accuracy: 10.3569536998  4.19292308211\n",
      "CIA\n",
      "Mean accuracy: 13.9934665274  5.3849291454\n",
      "BRU\n",
      "Mean accuracy: 10.5774432891  4.26594765181\n",
      "CRL\n",
      "Mean accuracy: 93.8999536995  37.6073808017\n",
      "BER\n",
      "Mean accuracy: 9.41000055619  3.82084065845\n",
      "SXF\n",
      "Mean accuracy: 12.7643767586  5.16942234753\n",
      "DME\n",
      "Mean accuracy: 29.9828920944  10.5201208946\n",
      "SVO\n",
      "Mean accuracy: 12.6710845381  5.16410690531\n",
      "SFO\n",
      "Mean accuracy: 72.2524601465  28.1835560739\n",
      "JFK\n",
      "Mean accuracy: 29.1649311843  11.8131126639\n",
      "PEK\n",
      "Mean accuracy: 31.6930522533  12.5314272072\n",
      "EZE\n",
      "Mean accuracy: 82.9898608373  33.4948115774\n",
      "GIG\n",
      "Mean accuracy: 87.1251101426  34.8063587129\n",
      "DEL\n",
      "Mean accuracy: 37.8589597313  14.8189910008\n"
     ]
    }
   ],
   "source": [
    "nfolds = 5\n",
    "for air in Airport:\n",
    "    X_air = X[air]\n",
    "    Y_air = Y[air]\n",
    "    kf = cross_validation.KFold(n=X_air.shape[0], n_folds=nfolds, shuffle=False, random_state=0)\n",
    "    \n",
    "    yhat = np.empty(Y_air.shape[0])\n",
    "    acc = np.empty(nfolds)\n",
    "    yhat_train = np.empty(Y_air.shape[0])\n",
    "    acc_train = np.empty(nfolds)\n",
    "    i = 0\n",
    "    for train_index, test_index in kf:\n",
    "\n",
    "        X_train_air, X_test_air = X_air[train_index], X_air[test_index]\n",
    "        y_train_air, y_test_air = Y_air[train_index], Y_air[test_index]\n",
    "\n",
    "        # scale?\n",
    "        #scaler = StandardScaler()\n",
    "        #X_train_air = scaler.fit_transform(X_train_air)\n",
    "\n",
    "        # Regressor\n",
    "        #Rfregressor_air = Lasso()\n",
    "        #Rfregressor_air = ElasticNet()\n",
    "        #Rfregressor_air = Ridge()\n",
    "        Rfregressor_air = RandomForestRegressor(n_estimators=100)\n",
    "        #Rfregressor_air = SVR(kernel = 'linear')\n",
    "        #Rfregressor_air = SVR(kernel = 'rbf')\n",
    "        \n",
    "        Rfregressor_air.fit(X_train_air,y_train_air)\n",
    "        \n",
    "        #X_test_air = scaler.transform(X_test_air)\n",
    "        yhat[test_index] = Rfregressor_air.predict(X_test_air)\n",
    "        acc[i] = metrics.mean_absolute_error(yhat[test_index], y_test_air)\n",
    "\n",
    "        yhat_train[train_index] = Rfregressor_air.predict(X_train_air)\n",
    "        acc_train[i] = metrics.mean_absolute_error(yhat_train[train_index], y_train_air)\n",
    "\n",
    "\n",
    "        i +=1\n",
    "    Rfregressor_air = RandomForestRegressor(n_estimators=100)\n",
    "    Rfregressor_air.fit(X_air,Y_air)\n",
    "    Rfregressor[air] = Rfregressor_air\n",
    "    print air\n",
    "    print 'Mean accuracy: '+ str(np.mean(acc)) + '  ' +str(np.mean(acc_train))\n",
    "    #print 'Mean accuracy train: '+ str(np.mean(acc_train))"
   ]
  },
  {
   "cell_type": "code",
   "execution_count": 24,
   "metadata": {
    "collapsed": true
   },
   "outputs": [],
   "source": [
    "with open(r\"Rfregressor.pickle\", \"wb\") as output_file:\n",
    "    cPickle.dump(Rfregressor, output_file)\n",
    "    \n",
    "#with open(r\"Rfregressor.pickle\", \"rb\") as input_file:\n",
    "#    Rfregressor = cPickle.load(input_file)"
   ]
  },
  {
   "cell_type": "code",
   "execution_count": null,
   "metadata": {
    "collapsed": false
   },
   "outputs": [],
   "source": [
    "import numpy as np\n",
    "from datetime import datetime as dtime\n",
    "import pandas as pd\n",
    "import datetime\n",
    "import cPickle\n",
    "from sklearn.ensemble import RandomForestRegressor \n",
    "from sklearn.preprocessing import OneHotEncoder\n",
    "\n",
    "Oil_prices = pd.read_csv('/home/manuel/Documentos/Master UB/TFM/TFM---Travel-chat-bot/DCOILBRENTEU.csv')\n",
    "Oil_prices.DCOILBRENTEU[Oil_prices.DCOILBRENTEU == '.'] = float('nan')\n",
    "Dates = [(dtime.today().date() - datetime.timedelta(days=x)).isoformat() for x in range(0, 365)]\n",
    "Dates = pd.DataFrame({'DATE': Dates})\n",
    "Oil_prices = Oil_prices.merge(Dates,how = 'right').sort_values('DATE').fillna(method = 'ffill')\n",
    "\n",
    "with open(r\"Rfregressor.pickle\", \"rb\") as input_file:\n",
    "    Rfregressor = cPickle.load(input_file)\n",
    "    \n",
    "Airport = ['LCY', 'LHR', 'LGW', 'LTN', 'SEN', 'STN','CDG', 'ORY', 'BVA','MAD','ATH','FCO','CIA','BRU', 'CRL',\n",
    "          'BER', 'SXF','DME', 'SVO','SFO','JFK','PEK','EZE','GIG','DEL']\n",
    "Airport_array = np.array(Airport)\n",
    "Airport_cities = ['london','london','london','london','london','london','paris','paris','paris','madrid','athens','rome','rome',\n",
    "                 'brussels','brussels','berlin','berlin','moscow','moscow','san francisco','new york','beijing','buenos aires',\n",
    "                 'rio de janeiro','new delhi']\n",
    "to_encode = []\n",
    "for i in range(25):\n",
    "    for j in range(7):\n",
    "        for k in range(7):\n",
    "            for l in range(12):\n",
    "                to_encode.append([i,j,k,l+1])\n",
    "enc = OneHotEncoder()\n",
    "enc.fit(to_encode)  \n",
    "\n",
    "\n",
    "def PredictLowestPrice(departure_date,origin,destination):\n",
    "    Rfregressor_air = Rfregressor[origin]\n",
    "    today = dtime.today().date()\n",
    "    departure_date = dtime.strptime(departure_date, '%Y-%m-%d').date()\n",
    "    predict2 = []\n",
    "    predict = []\n",
    "    date = today\n",
    "    for i in range((departure_date-today).days):\n",
    "        date = today + datetime.timedelta(days=i)\n",
    "        predict2.append([Airport.index(origin),\n",
    "                  date.weekday(),\n",
    "                  departure_date.weekday(),\n",
    "                  departure_date.month])\n",
    "        predict.append([(departure_date-date).days,\n",
    "                      float(Oil_prices[Oil_prices.DATE == today.isoformat()].DCOILBRENTEU.values[0])])\n",
    "    predict3 = np.c_[predict,enc.transform(predict2).toarray().tolist()]\n",
    "    prediction = Rfregressor_air.predict(predict3)\n",
    "    #return today, prediction[0],destination\n",
    "    days_wait_to_buy = [k1  for k1, k2 in enumerate(prediction) if k2 == min(prediction) ][0]\n",
    "    price = min(prediction)\n",
    "    return (today + datetime.timedelta(days=days_wait_to_buy) ).isoformat(), price, origin,destination\n",
    "\n",
    "\n",
    "def FindBestFlight(departure_date,origin,destination):\n",
    "    if destination.lower() != 'barcelona' and destination != 'BCN':\n",
    "        return 0,0,0\n",
    "    if origin in Airport:\n",
    "        day,price,origin,destination = PredictLowestPrice(departure_date,origin,'BCN')\n",
    "        return day,price,origin,destination\n",
    "    else:\n",
    "        ori = origin.lower()\n",
    "        if ori in Airport_cities:\n",
    "            airs = Airport_array[[k for k,city in enumerate(Airport_cities) if city == ori]] \n",
    "            minprice = 1e10\n",
    "            for air in airs:\n",
    "                day,price,origin,destination = PredictLowestPrice(departure_date,air,'BCN')\n",
    "                if price < minprice:\n",
    "                    minprice = price\n",
    "                    minday = day\n",
    "                    minairport = origin\n",
    "            return minday,minprice,minairport,destination\n",
    "        else:\n",
    "            return 0,0,0"
   ]
  },
  {
   "cell_type": "code",
   "execution_count": 26,
   "metadata": {
    "collapsed": false
   },
   "outputs": [
    {
     "data": {
      "text/plain": [
       "('2017-07-04', 49.688199999999888, 'LTN', 'BCN')"
      ]
     },
     "execution_count": 26,
     "metadata": {},
     "output_type": "execute_result"
    }
   ],
   "source": [
    "FindBestFlight('2017-08-04','london','barcelona')"
   ]
  },
  {
   "cell_type": "code",
   "execution_count": 6,
   "metadata": {
    "collapsed": false
   },
   "outputs": [],
   "source": [
    "air = 1 # athens"
   ]
  },
  {
   "cell_type": "code",
   "execution_count": 7,
   "metadata": {
    "collapsed": false
   },
   "outputs": [
    {
     "data": {
      "image/png": "[encoded data removed]",
      "text/plain": [
       "<matplotlib.figure.Figure at 0x7fc0b6a43cd0>"
      ]
     },
     "metadata": {},
     "output_type": "display_data"
    }
   ],
   "source": [
    "# antelacion\n",
    "x4 = np.array(np.c_[x,x2,y])\n",
    "f4 = [[t[0],t[6]] for t in x4 if (t[2] == air and t[5]<8 and t[5]>6) ]\n",
    "\n",
    "values = sorted(set(map(lambda j:-j[0], f4)))\n",
    "newlist = [[j[1] for j in f4 if j[0]==-i] for i in values]\n",
    "\n",
    "%matplotlib inline\n",
    "import matplotlib.pyplot as plt\n",
    "fig = plt.figure(1, figsize=(9, 5))\n",
    "ax = fig.add_subplot(111)\n",
    "bp = ax.boxplot(newlist,labels = values, showmeans=True,showfliers=False)\n",
    "plt.xticks([1, 11,21,31,41,51,61,71,81], ['90','80','70','60','50','40','30','20','10'])\n",
    "ax.set_xlabel('Days')\n",
    "ax.set_ylabel('Price')\n",
    "#plt.legend(('mean','median'),numpoints = 1)\n",
    "#leg = ax.get_legend()\n",
    "#leg.legendHandles[0].set_color('green')\n",
    "#leg.legendHandles[0].set_marker('^')\n",
    "#leg.legendHandles[0].set_linestyle('None')\n",
    "#leg.legendHandles[1].set_color('orange')\n",
    "fig.savefig(\"daysbeforelondon.png\", bbox_inches='tight')"
   ]
  },
  {
   "cell_type": "code",
   "execution_count": 7,
   "metadata": {
    "collapsed": false
   },
   "outputs": [
    {
     "data": {
      "image/png": "[encoded data removed]",
      "text/plain": [
       "<matplotlib.figure.Figure at 0x7f43630ea110>"
      ]
     },
     "metadata": {},
     "output_type": "display_data"
    }
   ],
   "source": [
    "# dia de compra\n",
    "\n",
    "x4 = np.array(np.c_[x,x2,y])\n",
    "f4 = [[t[3],t[6]] for t in x4 if t[2] == air]\n",
    "\n",
    "values = sorted(set(map(lambda j:j[0], f4)))\n",
    "newlist = [[j[1] for j in f4 if j[0]==i] for i in values]\n",
    "\n",
    "%matplotlib inline\n",
    "import matplotlib.pyplot as plt\n",
    "fig = plt.figure(1, figsize=(10, 8))\n",
    "ax = fig.add_subplot(111)\n",
    "bp = ax.boxplot(newlist, showmeans=True,labels = values,showfliers=False)\n"
   ]
  },
  {
   "cell_type": "code",
   "execution_count": 8,
   "metadata": {
    "collapsed": false
   },
   "outputs": [
    {
     "data": {
      "image/png": "[encoded data removed]",
      "text/plain": [
       "<matplotlib.figure.Figure at 0x7f436273d090>"
      ]
     },
     "metadata": {},
     "output_type": "display_data"
    }
   ],
   "source": [
    "# dia de llegada\n",
    "\n",
    "x4 = np.array(np.c_[x,x2,y])\n",
    "f4 = [[t[4],t[6]] for t in x4 if t[2] == air]\n",
    "\n",
    "values = sorted(set(map(lambda j:j[0], f4)))\n",
    "newlist = [[j[1] for j in f4 if j[0]==i] for i in values]\n",
    "\n",
    "%matplotlib inline\n",
    "import matplotlib.pyplot as plt\n",
    "fig = plt.figure(1, figsize=(10, 6))\n",
    "ax = fig.add_subplot(111)\n",
    "bp = ax.boxplot(newlist,labels = values, showmeans=True,showfliers=False)\n",
    "plt.xticks([1, 2, 3,4,5,6,7], ['Sun','Mon', 'Tue', 'Wed','Thu','Fri','Sat'])\n",
    "plt.legend(('mean','median'),numpoints = 1)\n",
    "leg = ax.get_legend()\n",
    "leg.legendHandles[0].set_color('green')\n",
    "leg.legendHandles[0].set_marker('^')\n",
    "leg.legendHandles[0].set_linestyle('None')\n",
    "leg.legendHandles[1].set_color('orange')\n",
    "fig.savefig(\"days.png\")"
   ]
  },
  {
   "cell_type": "code",
   "execution_count": 188,
   "metadata": {
    "collapsed": false
   },
   "outputs": [
    {
     "data": {
      "text/plain": [
       "1"
      ]
     },
     "execution_count": 188,
     "metadata": {},
     "output_type": "execute_result"
    }
   ],
   "source": [
    "a = leg.legendHandles[0]\n",
    "a.set_"
   ]
  },
  {
   "cell_type": "code",
   "execution_count": 63,
   "metadata": {
    "collapsed": false
   },
   "outputs": [
    {
     "data": {
      "text/plain": [
       "[161.35561224489797,\n",
       " 133.22705673758864,\n",
       " 133.40298181818184,\n",
       " 123.45760299625468,\n",
       " 178.54529780564263,\n",
       " 163.77279742765273,\n",
       " 161.65033112582785]"
      ]
     },
     "execution_count": 63,
     "metadata": {},
     "output_type": "execute_result"
    }
   ],
   "source": [
    "[np.mean(i) for i in newlist]\n"
   ]
  }
 ],
 "metadata": {
  "kernelspec": {
   "display_name": "Python 2",
   "language": "python",
   "name": "python2"
  },
  "language_info": {
   "codemirror_mode": {
    "name": "ipython",
    "version": 2
   },
   "file_extension": ".py",
   "mimetype": "text/x-python",
   "name": "python",
   "nbconvert_exporter": "python",
   "pygments_lexer": "ipython2",
   "version": "2.7.13"
  }
 },
 "nbformat": 4,
 "nbformat_minor": 2
}
