{
 "cells": [
  {
   "cell_type": "code",
   "execution_count": 23,
   "metadata": {
    "collapsed": false
   },
   "outputs": [],
   "source": [
    "import json\n",
    "import math\n",
    "import numpy as np\n",
    "\n",
    "#import codecs\n",
    "#data_file = codecs.open('barcelona_hotel_comments.json', \"r\", \"utf-8\")\n",
    "#data = data_file.readlines()\n",
    "with open('barcelona_hotel_comments.json', \"r\") as data_file:    \n",
    "    data = data_file.readlines()"
   ]
  },
  {
   "cell_type": "code",
   "execution_count": 103,
   "metadata": {
    "collapsed": false,
    "scrolled": true
   },
   "outputs": [],
   "source": [
    "maxindex = 0\n",
    "for j in range(len(data)):\n",
    "    a = json.loads(data[j])\n",
    "    a = a[\"comments\"]\n",
    "    for i in range(int(math.floor(len(a)/11.)*11)):\n",
    "        maxindex +=1\n",
    "\n",
    "#train = np.chararray([163880,2],itemsize = 10000)\n",
    "train = [\"\"] * (int(maxindex/11.))\n",
    "#test = np.chararray([len(data)*1000,1],itemsize = 10000)\n",
    "index = 0\n",
    "for j in range(len(data)):\n",
    "    a = json.loads(data[j])\n",
    "    a = a[\"comments\"]\n",
    "    for i in range(int(math.floor(len(a)/11.)*11)):\n",
    "        maxindex +=1\n",
    "        if index == 0:\n",
    "            train[index/11] =  \"abstract=\"+a[i].encode('ascii', 'ignore').replace(\"\\t\", \" \").replace(\"\\n\", \" \").replace(\"=\", \"\")\n",
    "            train[index/11] = train[index/11]+ \"\\tarticle=\"\n",
    "            index+=1\n",
    "        else:\n",
    "            if i%11 == 0:\n",
    "                train[index/11] =  \"\\nabstract=\"+a[i].encode('ascii', 'ignore').replace(\"\\t\", \" \").replace(\"\\n\", \" \").replace(\"=\", \"\").replace(\"=\", \"\")\n",
    "                train[index/11] = train[index/11]+ \"\\tarticle=\"\n",
    "            else:\n",
    "                train[index/11] = train[index/11]+  a[i].encode('ascii', 'ignore').replace(\"\\t\", \" \").replace(\"\\n\", \" \").replace(\"=\", \"\")\n",
    "            index +=1"
   ]
  },
  {
   "cell_type": "code",
   "execution_count": 109,
   "metadata": {
    "collapsed": false
   },
   "outputs": [],
   "source": [
    "with open(\"textsumtrain.txt\",\"w\") as as_data:\n",
    "        as_data.writelines(train[0:int(len(train)*0.8)])\n",
    "train[int(len(train)*0.8)] = train[int(len(train)*0.8)][1:]\n",
    "with open(\"textsumtest.txt\",\"w\") as as_data:\n",
    "        as_data.writelines(train[int(len(train)*0.8):])"
   ]
  }
 ],
 "metadata": {
  "kernelspec": {
   "display_name": "Python 2",
   "language": "python",
   "name": "python2"
  },
  "language_info": {
   "codemirror_mode": {
    "name": "ipython",
    "version": 2
   },
   "file_extension": ".py",
   "mimetype": "text/x-python",
   "name": "python",
   "nbconvert_exporter": "python",
   "pygments_lexer": "ipython2",
   "version": "2.7.13"
  }
 },
 "nbformat": 4,
 "nbformat_minor": 2
}
