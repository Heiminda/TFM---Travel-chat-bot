{
 "cells": [
  {
   "cell_type": "code",
   "execution_count": 1,
   "metadata": {
    "collapsed": false
   },
   "outputs": [],
   "source": [
    "import json\n",
    "import math\n",
    "import numpy as np\n",
    "import nltk\n",
    "from nltk.tokenize import sent_tokenize\n",
    "from nltk.tokenize import word_tokenize\n",
    "\n",
    "#nltk.download(\"punkt\")\n",
    "with open('barcelona_hotel_comments.json', \"r\") as data_file:    \n",
    "    data = data_file.readlines()"
   ]
  },
  {
   "cell_type": "code",
   "execution_count": 2,
   "metadata": {
    "collapsed": true
   },
   "outputs": [],
   "source": [
    "maxindex = 0\n",
    "for j in range(len(data)):\n",
    "    a = json.loads(data[j])\n",
    "    a = a[\"comments\"]\n",
    "    for i in range(int(math.floor(len(a)/11.)*11)):\n",
    "        maxindex +=1"
   ]
  },
  {
   "cell_type": "code",
   "execution_count": 8,
   "metadata": {
    "collapsed": false,
    "scrolled": true
   },
   "outputs": [],
   "source": [
    "\n",
    "\n",
    "#train = np.chararray([163880,2],itemsize = 10000)\n",
    "train = [\"\"] * (int(maxindex/11.))\n",
    "#test = np.chararray([len(data)*1000,1],itemsize = 10000)\n",
    "index = 0\n",
    "for j in range(len(data)):\n",
    "    a = json.loads(data[j])\n",
    "    a = a[\"comments\"]\n",
    "    for i in range(int(math.floor(len(a)/11.)*11)):\n",
    "        sent_tokenize_list = sent_tokenize(a[i].encode('ascii', 'ignore').replace(\"\\t\", \" \").replace(\"\\n\", \" \").replace(\"=\", \"\"))\n",
    "        string1 = \"</s><s>\".join(sent_tokenize_list)\n",
    "        string2 = \"<s>\"+string1+\"</s>\"\n",
    "        if index == 0:\n",
    "            train[index/11] = \"abstract=\"+string2\n",
    "            train[index/11] = train[index/11]+ \"\\tarticle=\"\n",
    "        else:\n",
    "            if i%11 == 0:\n",
    "                train[index/11] =  \"\\nabstract=\"+string2\n",
    "                train[index/11] = train[index/11]+ \"\\tarticle=\"\n",
    "            else:\n",
    "                train[index/11] = train[index/11]+  string2\n",
    "        index += 1\n",
    "            \n",
    "    "
   ]
  },
  {
   "cell_type": "code",
   "execution_count": 118,
   "metadata": {
    "collapsed": false
   },
   "outputs": [],
   "source": [
    "with open(\"textsumtrain.txt\",\"w\") as as_data:\n",
    "        as_data.writelines(train[0:int(len(train)*0.8)])\n",
    "train[int(len(train)*0.8)] = train[int(len(train)*0.8)][1:]\n",
    "with open(\"textsumtest.txt\",\"w\") as as_data:\n",
    "        as_data.writelines(train[int(len(train)*0.8):])"
   ]
  },
  {
   "cell_type": "markdown",
   "metadata": {},
   "source": [
    "Generate vocab"
   ]
  },
  {
   "cell_type": "code",
   "execution_count": 20,
   "metadata": {
    "collapsed": false
   },
   "outputs": [],
   "source": [
    "index = 0\n",
    "wordfreq = {}\n",
    "for j in range(len(data)):\n",
    "    if index == int(len(train)*0.8):\n",
    "        break\n",
    "    a = json.loads(data[j])\n",
    "    a = a[\"comments\"]\n",
    "    for i in range(int(math.floor(len(a)/11.)*11)):\n",
    "        index +=1\n",
    "        if index == int(len(train)*0.8):\n",
    "            break\n",
    "        wordlist = word_tokenize(a[i].encode('ascii', 'ignore').replace(\"\\t\", \" \").replace(\"\\n\", \" \").replace(\"=\", \"\"))\n",
    "        for w in wordlist:\n",
    "            if not wordfreq.has_key(w):\n",
    "                wordfreq[w] = wordlist.count(w)\n",
    "            else:\n",
    "                wordfreq[w] += wordlist.count(w)\n",
    "\n",
    "\n"
   ]
  },
  {
   "cell_type": "code",
   "execution_count": 22,
   "metadata": {
    "collapsed": false
   },
   "outputs": [],
   "source": [
    "w = sorted(wordfreq.items(),key = lambda x: x[1],reverse=True)"
   ]
  },
  {
   "cell_type": "code",
   "execution_count": 23,
   "metadata": {
    "collapsed": false
   },
   "outputs": [],
   "source": [
    "vocab = [\"\"]*len(w)"
   ]
  },
  {
   "cell_type": "code",
   "execution_count": 24,
   "metadata": {
    "collapsed": false
   },
   "outputs": [],
   "source": [
    "for i in range(len(w)):\n",
    "    vocab[i-1] = str(w[i][0])+ \" \" + str(w[i][1]) +\"\\n\""
   ]
  },
  {
   "cell_type": "code",
   "execution_count": 25,
   "metadata": {
    "collapsed": false
   },
   "outputs": [],
   "source": [
    "with open(\"vocabtrain\",\"w\") as as_data:\n",
    "        as_data.writelines(vocab)"
   ]
  }
 ],
 "metadata": {
  "kernelspec": {
   "display_name": "Python 2",
   "language": "python",
   "name": "python2"
  },
  "language_info": {
   "codemirror_mode": {
    "name": "ipython",
    "version": 2
   },
   "file_extension": ".py",
   "mimetype": "text/x-python",
   "name": "python",
   "nbconvert_exporter": "python",
   "pygments_lexer": "ipython2",
   "version": "2.7.13"
  }
 },
 "nbformat": 4,
 "nbformat_minor": 2
}
