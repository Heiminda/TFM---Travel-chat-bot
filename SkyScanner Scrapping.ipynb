{
 "cells": [
  {
   "cell_type": "code",
   "execution_count": 119,
   "metadata": {
    "collapsed": true
   },
   "outputs": [],
   "source": [
    "import os\n",
    "import urllib\n",
    "import requests\n",
    "import time\n",
    "import datetime"
   ]
  },
  {
   "cell_type": "code",
   "execution_count": 7,
   "metadata": {
    "collapsed": false
   },
   "outputs": [],
   "source": [
    "SKYSCANNER_API_KEY = os.environ.get('SKYSCANNER_API_KEY', 'prtl6749387986743898559646983194')"
   ]
  },
  {
   "cell_type": "code",
   "execution_count": 128,
   "metadata": {
    "collapsed": false
   },
   "outputs": [],
   "source": [
    "def do_request(request_type, url, data):\n",
    "    def get_method(request_type):\n",
    "        return getattr(requests, request_type)\n",
    "    \n",
    "    headers = {}\n",
    "    \n",
    "    if request_type != 'get':\n",
    "        data['apikey'] = SKYSCANNER_API_KEY\n",
    "        headers['content-type'] = 'application/x-www-form-urlencoded'\n",
    "    else:\n",
    "        url = add_apikey(url)\n",
    "    \n",
    "    print \"\\t[REQ] %s\" % (url)\n",
    "    \n",
    "    payload = urllib.urlencode(data, doseq=True)\n",
    "    r = get_method(request_type)(url, data=payload, headers=headers)\n",
    "    return r\n",
    "\n",
    "def add_apikey(url):\n",
    "    return url + '?apikey=' + SKYSCANNER_API_KEY\n",
    "\n",
    "def parse_request(r):\n",
    "    if r.status_code == 201:\n",
    "        return do_request('get', r.headers['Location'], {})\n",
    "    \n",
    "    return {'status_code': 500}"
   ]
  },
  {
   "cell_type": "code",
   "execution_count": 191,
   "metadata": {
    "collapsed": false
   },
   "outputs": [],
   "source": [
    "def fetch_data(origin, destination, when, tries=3, fail_wait=60):\n",
    "    current_try = 0\n",
    "    while current_try < tries:\n",
    "        data = {\n",
    "            'cabinclass': 'Economy',\n",
    "            'country': 'ES',\n",
    "            'currency': 'EUR',\n",
    "            'locale': 'en-GB',\n",
    "            'locationSchema': 'iata',\n",
    "            'originplace': origin,\n",
    "            'destinationplace': destination,\n",
    "            'outbounddate': when,\n",
    "            'adults': '1',\n",
    "            'children': '0',\n",
    "            'infants': '0'\n",
    "        }\n",
    "            \n",
    "        r = do_request('post', 'http://partners.api.skyscanner.net/apiservices/pricing/v1.0', data)\n",
    "        r = parse_request(r)\n",
    "        \n",
    "        if r.status_code == 200:\n",
    "            return r.text.encode('utf-8')\n",
    "        \n",
    "        current_try += 1\n",
    "        print \"\\t[FAIL] Reattempting in %d seconds (reason: %d)\" % (fail_wait, r.status_code)\n",
    "        time.sleep(fail_wait)\n",
    "        \n",
    "    return None"
   ]
  },
  {
   "cell_type": "code",
   "execution_count": 192,
   "metadata": {
    "collapsed": true
   },
   "outputs": [],
   "source": [
    "def get_date(fmt, ts=time.time()):\n",
    "    date = datetime.datetime.fromtimestamp(ts).strftime(fmt)\n",
    "    return date\n",
    "\n",
    "def fetch_and_save(origin, destination, when, tries=3, fail_wait=60):\n",
    "    print \"[DO] %s to %s on %s\" % (origin, destination, when)\n",
    "    \n",
    "    date = get_date('%Y-%m-%d-%H')\n",
    "    filename = '%s_%s_%s_%s.json' % (origin, destination, date, when)\n",
    "    filename = os.path.join('flights-data', filename)\n",
    "    \n",
    "    try:\n",
    "        os.makedirs('flights-data')\n",
    "    except:\n",
    "        pass\n",
    "    \n",
    "    data = fetch_data(origin, destination, when, tries, fail_wait)\n",
    "    if data is None:\n",
    "        print \"[ERROR] %s to %s on %s\" % (origin, destination, when)\n",
    "        \n",
    "    with open(filename, 'w') as fp:\n",
    "        fp.write(data)\n",
    "        \n",
    "    print \"[SAVED] %s to %s on %s\" % (origin, destination, when)"
   ]
  },
  {
   "cell_type": "code",
   "execution_count": 193,
   "metadata": {
    "collapsed": false
   },
   "outputs": [
    {
     "name": "stdout",
     "output_type": "stream",
     "text": [
      "[DO] BCN to PMI on 2017-07-20\n",
      "\t[REQ] http://partners.api.skyscanner.net/apiservices/pricing/v1.0\n",
      "\t[REQ] http://partners.api.skyscanner.net/apiservices/pricing/uk1/v1.0/a4f0b7ff27f9404fbab7d56250d77f8a_rrsqbjcb_06a13f0a788e803fcc56e78802891a26?apikey=prtl6749387986743898559646983194\n",
      "[SAVED] BCN to PMI on 2017-07-20\n"
     ]
    }
   ],
   "source": [
    "fetch_and_save('BCN', 'PMI', '2017-07-20')"
   ]
  },
  {
   "cell_type": "code",
   "execution_count": 194,
   "metadata": {
    "collapsed": false
   },
   "outputs": [],
   "source": [
    "def start_fetching(look_ahead_days, itineraries, start=int(time.time())):\n",
    "    DAY = 60 * 60 * 24\n",
    "    LOOK_AHEAD = look_ahead_days * DAY\n",
    "    TARGET_TIME = start + LOOK_AHEAD\n",
    "\n",
    "    now = int(time.time())\n",
    "    start = now + LOOK_AHEAD\n",
    "    target = TARGET_TIME\n",
    "    \n",
    "    for _ in range(2):\n",
    "        print \"-------------------------------------\"\n",
    "        print \"[UPDATE] Fetching day %d\" % ((now + LOOK_AHEAD + DAY - start) / DAY)\n",
    "\n",
    "        for ts in range(target, now + LOOK_AHEAD + DAY, DAY):\n",
    "            for origin, destination in itineraries:\n",
    "                fetch_and_save(origin, destination, get_date('%Y-%m-%d', ts))\n",
    "\n",
    "        if now + LOOK_AHEAD + DAY - target >= LOOK_AHEAD:\n",
    "            target += DAY\n",
    "\n",
    "        now += DAY"
   ]
  },
  {
   "cell_type": "code",
   "execution_count": 195,
   "metadata": {
    "collapsed": false
   },
   "outputs": [
    {
     "name": "stdout",
     "output_type": "stream",
     "text": [
      "-------------------------------------\n",
      "[UPDATE] Fetching day 1\n",
      "[DO] BCN to PMI on 2017-02-27\n",
      "\t[REQ] http://partners.api.skyscanner.net/apiservices/pricing/v1.0\n",
      "\t[REQ] http://partners.api.skyscanner.net/apiservices/pricing/uk1/v1.0/f61ed9f654934878b5833fe4d0c92976_rrsqbjcb_06a13f0a788e803fcc56e78802891a26?apikey=prtl6749387986743898559646983194\n",
      "\t[FAIL] Reattempting in 60 seconds (reason: 304)\n",
      "\t[REQ] http://partners.api.skyscanner.net/apiservices/pricing/v1.0\n",
      "\t[REQ] http://partners.api.skyscanner.net/apiservices/pricing/uk1/v1.0/01ccf8163c8243089c68978d42a2a2ea_rrsqbjcb_06a13f0a788e803fcc56e78802891a26?apikey=prtl6749387986743898559646983194\n",
      "[SAVED] BCN to PMI on 2017-02-27\n",
      "[DO] BCN to PMI on 2017-02-28\n",
      "\t[REQ] http://partners.api.skyscanner.net/apiservices/pricing/v1.0\n",
      "\t[REQ] http://partners.api.skyscanner.net/apiservices/pricing/uk1/v1.0/f03fe4d5108b41ef8f805b30430b325e_rrsqbjcb_06a13f0a788e803fcc56e78802891a26?apikey=prtl6749387986743898559646983194\n",
      "[SAVED] BCN to PMI on 2017-02-28\n",
      "-------------------------------------\n",
      "[UPDATE] Fetching day 2\n",
      "[DO] BCN to PMI on 2017-02-27\n",
      "\t[REQ] http://partners.api.skyscanner.net/apiservices/pricing/v1.0\n",
      "\t[REQ] http://partners.api.skyscanner.net/apiservices/pricing/uk1/v1.0/fe320f23513c454cacc28ddc6b7c81c6_rrsqbjcb_06a13f0a788e803fcc56e78802891a26?apikey=prtl6749387986743898559646983194\n",
      "[SAVED] BCN to PMI on 2017-02-27\n",
      "[DO] BCN to PMI on 2017-02-28\n",
      "\t[REQ] http://partners.api.skyscanner.net/apiservices/pricing/v1.0\n",
      "\t[REQ] http://partners.api.skyscanner.net/apiservices/pricing/uk1/v1.0/694e9341c931479f8c36a1264715993d_rrsqbjcb_06a13f0a788e803fcc56e78802891a26?apikey=prtl6749387986743898559646983194\n",
      "[SAVED] BCN to PMI on 2017-02-28\n",
      "[DO] BCN to PMI on 2017-03-01\n",
      "\t[REQ] http://partners.api.skyscanner.net/apiservices/pricing/v1.0\n",
      "\t[REQ] http://partners.api.skyscanner.net/apiservices/pricing/uk1/v1.0/f3e38dd23a0f43f6bcc3985d98173490_rrsqbjcb_06a13f0a788e803fcc56e78802891a26?apikey=prtl6749387986743898559646983194\n",
      "[SAVED] BCN to PMI on 2017-03-01\n"
     ]
    }
   ],
   "source": [
    "start_fetching(5, (('BCN', 'PMI'),))"
   ]
  },
  {
   "cell_type": "code",
   "execution_count": null,
   "metadata": {
    "collapsed": true
   },
   "outputs": [],
   "source": []
  }
 ],
 "metadata": {
  "anaconda-cloud": {},
  "kernelspec": {
   "display_name": "Python [default]",
   "language": "python",
   "name": "python2"
  },
  "language_info": {
   "codemirror_mode": {
    "name": "ipython",
    "version": 2
   },
   "file_extension": ".py",
   "mimetype": "text/x-python",
   "name": "python",
   "nbconvert_exporter": "python",
   "pygments_lexer": "ipython2",
   "version": "2.7.12"
  }
 },
 "nbformat": 4,
 "nbformat_minor": 1
}
