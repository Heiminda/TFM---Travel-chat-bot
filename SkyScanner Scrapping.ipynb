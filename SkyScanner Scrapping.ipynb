{
 "cells": [
  {
   "cell_type": "code",
   "execution_count": 3,
   "metadata": {
    "collapsed": true
   },
   "outputs": [],
   "source": [
    "import sys\n",
    "import os\n",
    "import urllib\n",
    "import requests\n",
    "import time\n",
    "import datetime\n",
    "import threading\n",
    "import logging"
   ]
  },
  {
   "cell_type": "code",
   "execution_count": 4,
   "metadata": {
    "collapsed": false
   },
   "outputs": [],
   "source": [
    "def add_handler(logger, fh):\n",
    "    logger.addHandler(fh)\n",
    "    fh_fmt = logging.Formatter(\"%(message)s\")\n",
    "    fh.setFormatter(fh_fmt)\n",
    "\n",
    "\n",
    "logger = logging.getLogger('SkyScanner')\n",
    "add_handler(logger, logging.FileHandler('skyscranner.log', 'w'))\n",
    "add_handler(logger, logging.StreamHandler())\n",
    "logger.setLevel(logging.INFO)"
   ]
  },
  {
   "cell_type": "code",
   "execution_count": 5,
   "metadata": {
    "collapsed": false
   },
   "outputs": [],
   "source": [
    "SKYSCANNER_API_KEY = os.environ.get('SKYSCANNER_API_KEY', 'prtl6749387986743898559646983194')"
   ]
  },
  {
   "cell_type": "code",
   "execution_count": 6,
   "metadata": {
    "collapsed": false
   },
   "outputs": [],
   "source": [
    "def do_request(request_type, url, data):\n",
    "    def get_method(request_type):\n",
    "        return getattr(requests, request_type)\n",
    "    \n",
    "    headers = {'Cache-control': 'no-cache, no-store, must-revalidate'}\n",
    "    \n",
    "    if request_type != 'get':\n",
    "        data['apikey'] = SKYSCANNER_API_KEY\n",
    "        headers['content-type'] = 'application/x-www-form-urlencoded'\n",
    "    else:\n",
    "        url = add_apikey(url)\n",
    "    \n",
    "    logger.info(\"\\t[REQ] %s\" % (url))\n",
    "    \n",
    "    payload = urllib.urlencode(data, doseq=True)\n",
    "    r = get_method(request_type)(url, data=payload, headers=headers)\n",
    "    return r\n",
    "\n",
    "def add_apikey(url):\n",
    "    return url + '?apikey=' + SKYSCANNER_API_KEY\n",
    "\n",
    "def parse_request(r):\n",
    "    if r.status_code == 201:\n",
    "        return do_request('get', r.headers['Location'], {})\n",
    "    \n",
    "    return r"
   ]
  },
  {
   "cell_type": "code",
   "execution_count": 7,
   "metadata": {
    "collapsed": false
   },
   "outputs": [],
   "source": [
    "def fetch_data(origin, destination, when, tries=3, fail_wait=60):\n",
    "    current_try = 0\n",
    "    while current_try < tries:\n",
    "        data = {\n",
    "            'cabinclass': 'Economy',\n",
    "            'country': 'ES',\n",
    "            'currency': 'EUR',\n",
    "            'locale': 'en-GB',\n",
    "            'locationSchema': 'iata',\n",
    "            'originplace': origin,\n",
    "            'destinationplace': destination,\n",
    "            'outbounddate': when,\n",
    "            'adults': '1',\n",
    "            'children': '0',\n",
    "            'infants': '0'\n",
    "        }\n",
    "            \n",
    "        r = do_request('post', 'http://partners.api.skyscanner.net/apiservices/pricing/v1.0', data)\n",
    "        \n",
    "        r_poll = None\n",
    "        pending_session = 0\n",
    "        while (r_poll == None or r_poll.status_code == 304) and pending_session < 5:\n",
    "            logger.info(\"\\t[WAIT] Waiting %ds for session to be created\" % (pending_session * 2 + 1))\n",
    "            time.sleep(pending_session * 2 + 1) # Let session be created\n",
    "            r_poll = parse_request(r)\n",
    "            pending_session += 1\n",
    "                    \n",
    "        if r_poll.status_code == 200:\n",
    "            return r_poll.text.encode('utf-8')\n",
    "                \n",
    "        current_try += 1\n",
    "        logger.error(\"\\t[FAIL] Reattempting in %d seconds (reason: %d)\" % (fail_wait, r_poll.status_code))\n",
    "        time.sleep(fail_wait)\n",
    "        \n",
    "    return None"
   ]
  },
  {
   "cell_type": "code",
   "execution_count": 8,
   "metadata": {
    "collapsed": true
   },
   "outputs": [],
   "source": [
    "def get_date(fmt, ts=None):\n",
    "    ts = int(time.time()) if ts is None else int(ts)\n",
    "    date = datetime.datetime.fromtimestamp(ts).strftime(fmt)\n",
    "    return date\n",
    "\n",
    "def fetch_and_save(origin, destination, when, tries=3, fail_wait=60):\n",
    "    logger.info(\"[DO] %s to %s on %s\" % (origin, destination, when))\n",
    "    \n",
    "    date = get_date('%Y-%m-%d-%H')\n",
    "    filename = '%s_%s_%s_%s.json' % (origin, destination, date, when)\n",
    "    filename = os.path.join('flights-data', filename)\n",
    "    \n",
    "    try:\n",
    "        os.makedirs('flights-data')\n",
    "    except:\n",
    "        pass\n",
    "    \n",
    "    data = fetch_data(origin, destination, when, tries, fail_wait)\n",
    "    if data is None:\n",
    "        logger.error(\"[ERROR] %s to %s on %s\" % (origin, destination, when))\n",
    "        \n",
    "    with open(filename, 'w') as fp:\n",
    "        fp.write(data)\n",
    "        \n",
    "    logger.info(\"[SAVED] %s to %s on %s\" % (origin, destination, when))\n",
    "    \n",
    "    \n",
    "def wait_for(date, fmt, callback):\n",
    "    def worker():\n",
    "        self = threading.currentThread()\n",
    "        logger.info('\\n[WAIT] %s' % date)\n",
    "        while get_date(fmt) != date:\n",
    "            if self.stop:\n",
    "                logger.error('[STOP] Cancel thread')\n",
    "                return\n",
    "            \n",
    "            logger.info('+1')\n",
    "            time.sleep(Fetcher.HOUR)\n",
    "            \n",
    "        callback()\n",
    "    \n",
    "    for thread in wait_for.threads:\n",
    "        thread.stop = True\n",
    "    \n",
    "    t = threading.Thread(target=worker)\n",
    "    t.stop = False\n",
    "    t.start()\n",
    "    wait_for.threads.append(t)\n",
    "    \n",
    "wait_for.threads = []"
   ]
  },
  {
   "cell_type": "code",
   "execution_count": 9,
   "metadata": {
    "collapsed": true
   },
   "outputs": [],
   "source": [
    "class Fetcher(object):\n",
    "    HOUR = 60 * 60\n",
    "    DAY = HOUR * 24\n",
    "        \n",
    "    def __init__(self, look_ahead_days, itineraries, start_time=None):\n",
    "        start_time = int(time.time()) if start_time is None else int(start_time)\n",
    "    \n",
    "        self.LOOK_AHEAD = look_ahead_days * Fetcher.DAY\n",
    "        self.TARGET_TIME = start_time + self.LOOK_AHEAD\n",
    "\n",
    "        self.now = start_time\n",
    "        self.start = self.now + self.LOOK_AHEAD\n",
    "        self.target = self.TARGET_TIME\n",
    "        self.itineraries = itineraries\n",
    "        self.stop = False\n",
    "        \n",
    "        # Fix it up in case start_time is not now\n",
    "        while self.now + self.LOOK_AHEAD + Fetcher.DAY - self.target >= self.LOOK_AHEAD:\n",
    "            self.target += Fetcher.DAY\n",
    "            \n",
    "    def fetch(self, day_moment):\n",
    "        if self.stop:\n",
    "            return\n",
    "        \n",
    "        self.now = int(time.time())\n",
    "        logger.info(\"-------------------------------------\")\n",
    "        logger.info(\"[UPDATE] Fetching day %d - %d\" % ((self.now + self.LOOK_AHEAD + Fetcher.DAY - self.start) / Fetcher.DAY,\n",
    "                                                        self.now))\n",
    "\n",
    "        for ts in range(self.target, self.now + self.LOOK_AHEAD + Fetcher.DAY, Fetcher.DAY):\n",
    "            for origin, destination in self.itineraries:\n",
    "                fetch_and_save(origin, destination, get_date('%Y-%m-%d', ts))\n",
    "\n",
    "        if self.now + self.LOOK_AHEAD + Fetcher.DAY - self.target >= self.LOOK_AHEAD:\n",
    "            self.target += Fetcher.DAY\n",
    "\n",
    "        # Next day\n",
    "        if day_moment == 0: # 08 --> 12\n",
    "            self.now += 4 * Fetcher.HOUR\n",
    "        elif day_moment == 1: # 12 --> 16\n",
    "            self.now += 4 * Fetcher.HOUR\n",
    "        elif day_moment == 2: # 16 --> 21\n",
    "            self.now += 5 * Fetcher.HOUR\n",
    "        elif day_moment == 3: # 21 --> 08\n",
    "            self.now += 11 * Fetcher.HOUR\n",
    "            \n",
    "        fmt = '%Y-%m-%d-%H'\n",
    "        wait_for(get_date(fmt, self.now), fmt, lambda: self.fetch((day_moment + 1) % 4))"
   ]
  },
  {
   "cell_type": "code",
   "execution_count": 12,
   "metadata": {
    "collapsed": false,
    "scrolled": false
   },
   "outputs": [
    {
     "name": "stderr",
     "output_type": "stream",
     "text": [
      "\n",
      "[WAIT] 2017-02-23-01\n",
      "-------------------------------------\n",
      "[UPDATE] Fetching day 1 - 1487808078\n",
      "[DO] BCN to LCY on 2017-06-23\n",
      "\t[REQ] http://partners.api.skyscanner.net/apiservices/pricing/v1.0\n",
      "\t[WAIT] Waiting 1s for session to be created\n",
      "\t[REQ] http://partners.api.skyscanner.net/apiservices/pricing/uk1/v1.0/bdf10cd7573e4bd089deb4d5d531f25e_rrsqbjcb_06a13f0a788e803fcc56e78802891a26?apikey=prtl6749387986743898559646983194\n",
      "[SAVED] BCN to LCY on 2017-06-23\n",
      "[DO] BCN to LHR on 2017-06-23\n",
      "\t[REQ] http://partners.api.skyscanner.net/apiservices/pricing/v1.0\n",
      "\t[WAIT] Waiting 1s for session to be created\n",
      "\t[REQ] http://partners.api.skyscanner.net/apiservices/pricing/uk1/v1.0/a99cebadee1b4f9abbfa04e6c8899c4d_rrsqbjcb_06a13f0a788e803fcc56e78802891a26?apikey=prtl6749387986743898559646983194\n",
      "[SAVED] BCN to LHR on 2017-06-23\n",
      "[DO] BCN to LGW on 2017-06-23\n",
      "\t[REQ] http://partners.api.skyscanner.net/apiservices/pricing/v1.0\n",
      "\t[WAIT] Waiting 1s for session to be created\n",
      "\t[FAIL] Reattempting in 60 seconds (reason: 429)\n"
     ]
    }
   ],
   "source": [
    "destinations = (\n",
    "    'LCY', 'LHR', 'LGW', 'LTN', 'SEN', 'STN', # LONDRES\n",
    "    'CDG', 'ORY', 'BVA', # Paris\n",
    "    'MAD', # Madrid\n",
    "    'ATH', # Atenas\n",
    "    'FCO', 'CIA', # Atenas\n",
    "    'BRU', 'CRL', # Bruselas\n",
    "    'BER', 'SXF', # Berlin\n",
    "    'DME', 'SVO', # Moscu\n",
    "    'SFO', # San Francisco\n",
    "    'JFK', # Nueva York\n",
    "    'PEK', # Pekin\n",
    "    'EZE', # Buenos Aires\n",
    "    'GIG', # Rio de Janeiro\n",
    "    'DEL', # Delphi\n",
    ")\n",
    "\n",
    "itineraries = (('BCN', dest) for dest in destinations)\n",
    "fetcher = Fetcher(90, itineraries)\n",
    "\n",
    "wait_for('2017-02-23-08', '%Y-%m-%d-%H', lambda: fetcher.fetch(0))"
   ]
  }
 ],
 "metadata": {
  "anaconda-cloud": {},
  "kernelspec": {
   "display_name": "Python [default]",
   "language": "python",
   "name": "python2"
  },
  "language_info": {
   "codemirror_mode": {
    "name": "ipython",
    "version": 2
   },
   "file_extension": ".py",
   "mimetype": "text/x-python",
   "name": "python",
   "nbconvert_exporter": "python",
   "pygments_lexer": "ipython2",
   "version": "2.7.11"
  }
 },
 "nbformat": 4,
 "nbformat_minor": 1
}
