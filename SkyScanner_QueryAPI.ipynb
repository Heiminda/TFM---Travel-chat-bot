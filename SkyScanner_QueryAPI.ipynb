{
 "cells": [
  {
   "cell_type": "code",
   "execution_count": 167,
   "metadata": {
    "collapsed": true
   },
   "outputs": [],
   "source": [
    "from pymongo import MongoClient\n",
    "import time\n",
    "import datetime\n",
    "from pprint import pprint\n",
    "import re"
   ]
  },
  {
   "cell_type": "code",
   "execution_count": 168,
   "metadata": {
    "collapsed": true
   },
   "outputs": [],
   "source": [
    "def get_date(fmt, ts=None):\n",
    "    ts = int(time.time()) if ts is None else int(ts)\n",
    "    date = datetime.datetime.fromtimestamp(ts).strftime(fmt)\n",
    "    return date\n",
    "\n",
    "def parse_date(fmt, date):\n",
    "    ts = time.mktime(datetime.datetime.strptime(date, fmt).timetuple())\n",
    "    return ts"
   ]
  },
  {
   "cell_type": "code",
   "execution_count": 214,
   "metadata": {
    "collapsed": false
   },
   "outputs": [],
   "source": [
    "class Agent(object):\n",
    "    def __init__(self, data):\n",
    "        self.data = data\n",
    "        \n",
    "    def name(self):\n",
    "        return self.data['Name']\n",
    "    \n",
    "    def __str__(self):\n",
    "        return self.name()\n",
    "\n",
    "class Price(object):\n",
    "    def __init__(self, itinerary, data):\n",
    "        self.data = data\n",
    "        self.itinerary = itinerary\n",
    "        \n",
    "    def price(self):\n",
    "        return self.data['Price']\n",
    "    \n",
    "    def agent(self):\n",
    "        return [self.itinerary.flight.agent(id).name() for id in self.data['Agents']]\n",
    "    \n",
    "    def __str__(self):\n",
    "        return \"{}: {}€\".format(self.agent(), self.price())\n",
    "\n",
    "class Itinerary(object):\n",
    "    def __init__(self, flight, data):\n",
    "        self.data = data\n",
    "        self.flight = flight\n",
    "        \n",
    "    def cheapest(self):\n",
    "        return Price(self, min(self.data['PricingOptions'], key=lambda opts: opts['Price']))\n",
    "        \n",
    "    def most_expensive(self):\n",
    "        return Price(self, max(self.data['PricingOptions'], key=lambda opts: opts['Price']))\n",
    "\n",
    "class Flight(object):\n",
    "    def __init__(self, data):\n",
    "        self.data = data\n",
    "        self.itineraries = [Itinerary(self, itinerary) for itinerary in self.data['Itineraries']]\n",
    "        self.agents = {data['Id']: Agent(data) for data in self.data['Agents']}\n",
    "        \n",
    "    def cheapest(self):\n",
    "        return min(self.itineraries, key=lambda it: it.cheapest().price()).cheapest()\n",
    "    \n",
    "    def most_expensive(self):\n",
    "        return max(self.itineraries, key=lambda it: it.most_expensive().price()).most_expensive()\n",
    "    \n",
    "    def agent(self, id):\n",
    "        return self.agents[id]\n",
    "    \n",
    "    def date(self):\n",
    "        return self.data['_id']['date']\n",
    "    \n",
    "    def departure(self):\n",
    "        return self.data['_id']['departure']\n",
    "    \n",
    "    def date_timestamp(self):\n",
    "        return parse_date('%Y-%m-%d', self.data['_id']['date'])\n",
    "    \n",
    "    def __str__(self):\n",
    "        return \"{{{}->{}}} {} - {}\".format(self.date(), self.departure(), self.cheapest(), self.most_expensive())"
   ]
  },
  {
   "cell_type": "code",
   "execution_count": 215,
   "metadata": {
    "collapsed": true
   },
   "outputs": [],
   "source": [
    "class SkyscannerAPI(object):\n",
    "    def __init__(self):\n",
    "        self.client = MongoClient()\n",
    "        self.db = self.client.skyscanner\n",
    "        self.itineraries = self.db.itineraries\n",
    "        self.carriers = self.db.carriers\n",
    "        \n",
    "    def find_flight(self, departure, origin, destination):\n",
    "        cursor = self.itineraries.find({\n",
    "            '_id.departure': departure,\n",
    "            '_id.origin': origin,\n",
    "            '_id.destination': destination\n",
    "        })\n",
    "        \n",
    "        sorted_flights = sorted([Flight(data) for data in cursor], key=lambda f: f.date_timestamp())\n",
    "        unique_flights = {f.date(): f for f in sorted_flights}\n",
    "        return list(unique_flights.values())"
   ]
  },
  {
   "cell_type": "code",
   "execution_count": 236,
   "metadata": {
    "collapsed": false
   },
   "outputs": [
    {
     "name": "stdout",
     "output_type": "stream",
     "text": [
      "{2017-04-01->2017-06-30} ['Iberia']: 88.92€ - ['Austrian Airlines']: 3005.43€\n",
      "{2017-04-02->2017-06-30} ['eurowings']: 119.99€ - ['Alitalia']: 622.5€\n",
      "{2017-04-03->2017-06-30} ['Tix.es']: 100.47€ - ['Austrian Airlines']: 3005.43€\n",
      "{2017-04-04->2017-06-30} ['Travelgenio']: 85.15€ - ['Austrian Airlines']: 3005.43€\n",
      "{2017-04-05->2017-06-30} ['Viajes El Corte Ingles']: 106.92€ - ['Austrian Airlines']: 3005.43€\n",
      "{2017-04-06->2017-06-30} ['eDreams']: 94.37€ - ['Austrian Airlines']: 3005.43€\n",
      "{2017-04-07->2017-06-30} ['Travelgenio']: 85.02€ - ['Austrian Airlines']: 3005.43€\n",
      "{2017-04-08->2017-06-30} ['Iberia']: 88.92€ - ['Austrian Airlines']: 3005.43€\n",
      "{2017-04-09->2017-06-30} ['Travelgenio']: 85.06€ - ['Austrian Airlines']: 3005.43€\n",
      "{2017-04-13->2017-06-30} ['Travelgenio']: 85.42€ - ['lol.travel']: 621.94€\n",
      "{2017-04-14->2017-06-30} ['Tripair']: 87.92€ - ['Austrian Airlines']: 3005.43€\n",
      "{2017-04-15->2017-06-30} ['Tripair']: 87.92€ - ['Austrian Airlines']: 3005.43€\n",
      "{2017-04-16->2017-06-30} ['Tripair']: 87.92€ - ['Austrian Airlines']: 3005.43€\n",
      "{2017-04-17->2017-06-30} ['Tripair']: 87.92€ - ['Austrian Airlines']: 3005.43€\n",
      "{2017-04-18->2017-06-30} ['Viajar']: 71.12€ - ['GotoGate']: 2610.99€\n",
      "{2017-04-19->2017-06-30} ['eDreams']: 64.37€ - ['Austrian Airlines']: 3005.43€\n",
      "{2017-04-20->2017-06-30} ['Tripair']: 87.92€ - ['Austrian Airlines']: 3005.43€\n",
      "{2017-04-21->2017-06-30} ['Tripair']: 87.92€ - ['Austrian Airlines']: 3005.43€\n",
      "{2017-04-22->2017-06-30} ['Tripair']: 87.92€ - ['Austrian Airlines']: 3005.43€\n",
      "{2017-04-23->2017-06-30} ['Tripair']: 87.92€ - ['Austrian Airlines']: 3005.43€\n",
      "{2017-04-24->2017-06-30} ['Tripair']: 87.92€ - ['Austrian Airlines']: 3005.43€\n",
      "{2017-04-25->2017-06-30} ['Brussels Airlines']: 64.71€ - ['Austrian Airlines']: 3005.43€\n",
      "{2017-04-26->2017-06-30} ['Brussels Airlines']: 64.71€ - ['Austrian Airlines']: 3005.43€\n",
      "{2017-04-27->2017-06-30} ['Brussels Airlines']: 65.06€ - ['Austrian Airlines']: 2967.43€\n",
      "{2017-04-28->2017-06-30} ['Brussels Airlines']: 65.06€ - ['Austrian Airlines']: 2967.43€\n",
      "{2017-04-29->2017-06-30} ['Brussels Airlines']: 65.06€ - ['Austrian Airlines']: 2967.43€\n",
      "{2017-04-30->2017-06-30} ['Brussels Airlines']: 65.06€ - ['Austrian Airlines']: 2967.43€\n",
      "{2017-05-01->2017-06-30} ['Brussels Airlines']: 65.06€ - ['Austrian Airlines']: 2967.43€\n",
      "{2017-05-02->2017-06-30} ['Brussels Airlines']: 65.06€ - ['Austrian Airlines']: 2967.43€\n",
      "{2017-05-03->2017-06-30} ['Brussels Airlines']: 65.06€ - ['Austrian Airlines']: 2967.43€\n",
      "{2017-05-04->2017-06-30} ['Brussels Airlines']: 65.06€ - ['Austrian Airlines']: 2967.43€\n",
      "{2017-05-05->2017-06-30} ['Brussels Airlines']: 65.06€ - ['Austrian Airlines']: 2967.43€\n",
      "{2017-05-06->2017-06-30} ['Viajar']: 105.46€ - ['Alitalia']: 622.5€\n",
      "{2017-05-07->2017-06-30} ['lastminute.com']: 92.9€ - ['Austrian Airlines']: 2967.43€\n",
      "{2017-05-08->2017-06-30} ['Tripair']: 88.47€ - ['Austrian Airlines']: 2967.43€\n",
      "{2017-05-09->2017-06-30} ['Tripair']: 88.47€ - ['Austrian Airlines']: 2967.43€\n",
      "{2017-05-10->2017-06-30} ['Tripair']: 88.47€ - ['Austrian Airlines']: 2967.43€\n",
      "{2017-05-11->2017-06-30} ['Travelgenio']: 97.17€ - ['GotoGate']: 2863.99€\n",
      "{2017-05-12->2017-06-30} ['GotoGate']: 121.99€ - ['Austrian Airlines']: 2964.61€\n",
      "{2017-05-13->2017-06-30} ['GotoGate']: 109.11€ - ['GotoGate']: 2611.69€\n",
      "{2017-05-14->2017-06-30} ['Brussels Airlines']: 104.06€ - ['GotoGate']: 2610.99€\n",
      "{2017-05-15->2017-06-30} ['Brussels Airlines']: 104.0€ - ['GotoGate']: 2610.99€\n",
      "{2017-05-16->2017-06-30} ['Travelgenio']: 96.82€ - ['Viajes El Corte Ingles']: 2208.61€\n",
      "{2017-05-17->2017-06-30} ['Brussels Airlines']: 104.06€ - ['Viajes El Corte Ingles']: 2208.61€\n",
      "{2017-05-18->2017-06-30} ['Brussels Airlines']: 104.06€ - ['Viajes El Corte Ingles']: 2208.61€\n",
      "{2017-05-19->2017-06-30} ['Travelgenio']: 96.31€ - ['GotoGate']: 2885.99€\n",
      "{2017-05-20->2017-06-30} ['eurowings']: 99.99€ - ['GotoGate']: 2885.99€\n",
      "{2017-05-21->2017-06-30} ['Travelgenio']: 96.11€ - ['GotoGate']: 2885.99€\n",
      "{2017-05-22->2017-06-30} ['eurowings']: 99.99€ - ['GotoGate']: 2885.99€\n",
      "{2017-05-23->2017-06-30} ['eurowings']: 99.99€ - ['GotoGate']: 2512.99€\n",
      "{2017-05-25->2017-06-30} ['eurowings']: 99.99€ - ['Viajes El Corte Ingles']: 2208.61€\n",
      "{2017-05-26->2017-06-30} ['Travelgenio']: 96.31€ - ['Viajes El Corte Ingles']: 2208.61€\n",
      "{2017-05-27->2017-06-30} ['Travelgenio']: 96.31€ - ['Viajes El Corte Ingles']: 2208.61€\n",
      "{2017-05-28->2017-06-30} ['eurowings']: 99.99€ - ['Viajes El Corte Ingles']: 2208.61€\n",
      "{2017-05-29->2017-06-30} ['Travelgenio']: 96.92€ - ['Viajes El Corte Ingles']: 2208.61€\n",
      "{2017-05-30->2017-06-30} ['eurowings']: 99.99€ - ['GotoGate']: 2335.99€\n",
      "{2017-05-31->2017-06-30} ['eurowings']: 99.99€ - ['GotoGate']: 2335.99€\n",
      "{2017-06-02->2017-06-30} ['Travel2Be']: 97.02€ - ['GotoGate']: 3139.99€\n",
      "{2017-06-03->2017-06-30} ['Travel2Be']: 97.02€ - ['GotoGate']: 3139.99€\n",
      "{2017-06-04->2017-06-30} ['eurowings']: 99.99€ - ['GotoGate']: 3139.99€\n"
     ]
    }
   ],
   "source": [
    "api = SkyscannerAPI()\n",
    "flights = api.find_flight('2017-06-30', 'BCN', 'LHR')\n",
    "\n",
    "for f in flights:\n",
    "    print(f)"
   ]
  }
 ],
 "metadata": {
  "kernelspec": {
   "display_name": "Python 3",
   "language": "python",
   "name": "python3"
  },
  "language_info": {
   "codemirror_mode": {
    "name": "ipython",
    "version": 3
   },
   "file_extension": ".py",
   "mimetype": "text/x-python",
   "name": "python",
   "nbconvert_exporter": "python",
   "pygments_lexer": "ipython3",
   "version": "3.6.0"
  }
 },
 "nbformat": 4,
 "nbformat_minor": 2
}
