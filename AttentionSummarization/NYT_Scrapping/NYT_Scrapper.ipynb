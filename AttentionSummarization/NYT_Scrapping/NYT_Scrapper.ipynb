{
 "cells": [
  {
   "cell_type": "code",
   "execution_count": 1,
   "metadata": {
    "collapsed": false
   },
   "outputs": [],
   "source": [
    "import asyncio\n",
    "import requests\n",
    "import json\n",
    "from tqdm import tqdm_notebook as tqdm\n",
    "from bs4 import BeautifulSoup"
   ]
  },
  {
   "cell_type": "code",
   "execution_count": 2,
   "metadata": {
    "collapsed": true
   },
   "outputs": [],
   "source": [
    "async def do_request(url, method='get'):\n",
    "    loop = asyncio.get_event_loop()\n",
    "    future = loop.run_in_executor(None, getattr(requests, method), url)\n",
    "    return await future"
   ]
  },
  {
   "cell_type": "code",
   "execution_count": 3,
   "metadata": {
    "collapsed": false
   },
   "outputs": [],
   "source": [
    "async def nyt_page(number):\n",
    "    url = 'https://www.nytimes.com/svc/collections/v1/publish/www.nytimes.com/section/aponline/news?q=&sort=newest&page={}&dom=www.nytimes.com&dedupe_hl=y'\n",
    "    return await do_request(url.format(number))\n",
    "\n",
    "async def main():\n",
    "    news = []\n",
    "    \n",
    "    for page in tqdm(range(500)):\n",
    "        resp = await nyt_page(page)\n",
    "        resp = json.loads(resp.content)    \n",
    "        news += resp['members']['items']\n",
    "    \n",
    "    return news"
   ]
  },
  {
   "cell_type": "code",
   "execution_count": null,
   "metadata": {
    "collapsed": false
   },
   "outputs": [],
   "source": [
    "loop = asyncio.get_event_loop()\n",
    "news = loop.run_until_complete(main())"
   ]
  },
  {
   "cell_type": "code",
   "execution_count": 4,
   "metadata": {
    "collapsed": false
   },
   "outputs": [],
   "source": [
    "async def api_request(year, month, api_key):\n",
    "    url = 'http://api.nytimes.com/svc/archive/v1/{}/{}.json?api-key={}'\n",
    "    resp = await do_request(url.format(year, month, api_key))\n",
    "    return json.loads(resp.content)\n",
    "\n",
    "async def fetch_year(year, api_key):\n",
    "    async def only_content(year, month, api_key):\n",
    "        await asyncio.sleep(1)\n",
    "        data = await api_request(year, month, api_key)\n",
    "        try:\n",
    "            return data['response']['docs']\n",
    "        except Exception as e:\n",
    "            print(data)\n",
    "            return await only_content(year, month, api_key)\n",
    "        \n",
    "    news = [await only_content(year, month, api_key) for month in tqdm(range(1, 13), leave=False)]\n",
    "    return news\n",
    "\n",
    "async def fetch_many(api_key):\n",
    "    api_news = [await fetch_year(year, api_key) for year in tqdm(range(2010, 2017))]\n",
    "    api_news = sum(api_news, [])\n",
    "    \n",
    "    articles = [[news for news in api_news[k] if news['document_type'] == 'article'] for k in range(12)]\n",
    "    articles = sum(articles, [])\n",
    "\n",
    "    return articles"
   ]
  },
  {
   "cell_type": "code",
   "execution_count": null,
   "metadata": {
    "collapsed": false
   },
   "outputs": [],
   "source": [
    "loop = asyncio.get_event_loop()\n",
    "articles = loop.run_until_complete(fetch_many('e48729d78b824b76a6eb151cd6e81ec7'))"
   ]
  },
  {
   "cell_type": "code",
   "execution_count": 5,
   "metadata": {
    "collapsed": true
   },
   "outputs": [],
   "source": [
    "import pickle"
   ]
  },
  {
   "cell_type": "code",
   "execution_count": null,
   "metadata": {
    "collapsed": false
   },
   "outputs": [],
   "source": [
    "with open('articles.pkl', 'rb') as fp:\n",
    "    articles = pickle.load(fp)"
   ]
  },
  {
   "cell_type": "code",
   "execution_count": null,
   "metadata": {
    "collapsed": false,
    "scrolled": true
   },
   "outputs": [
    {
     "name": "stderr",
     "output_type": "stream",
     "text": [
      "Widget Javascript not detected.  It may not be installed properly. Did you enable the widgetsnbextension? If not, then run \"jupyter nbextension enable --py --sys-prefix widgetsnbextension\"\n"
     ]
    },
    {
     "name": "stdout",
     "output_type": "stream",
     "text": [
      "https://www.nytimes.com/2010/01/01/nyregion/01bloomberg.text.html\n"
     ]
    },
    {
     "name": "stderr",
     "output_type": "stream",
     "text": [
      "Widget Javascript not detected.  It may not be installed properly. Did you enable the widgetsnbextension? If not, then run \"jupyter nbextension enable --py --sys-prefix widgetsnbextension\"\n",
      "Widget Javascript not detected.  It may not be installed properly. Did you enable the widgetsnbextension? If not, then run \"jupyter nbextension enable --py --sys-prefix widgetsnbextension\"\n",
      "Widget Javascript not detected.  It may not be installed properly. Did you enable the widgetsnbextension? If not, then run \"jupyter nbextension enable --py --sys-prefix widgetsnbextension\"\n",
      "Widget Javascript not detected.  It may not be installed properly. Did you enable the widgetsnbextension? If not, then run \"jupyter nbextension enable --py --sys-prefix widgetsnbextension\"\n",
      "Widget Javascript not detected.  It may not be installed properly. Did you enable the widgetsnbextension? If not, then run \"jupyter nbextension enable --py --sys-prefix widgetsnbextension\"\n",
      "Widget Javascript not detected.  It may not be installed properly. Did you enable the widgetsnbextension? If not, then run \"jupyter nbextension enable --py --sys-prefix widgetsnbextension\"\n",
      "Widget Javascript not detected.  It may not be installed properly. Did you enable the widgetsnbextension? If not, then run \"jupyter nbextension enable --py --sys-prefix widgetsnbextension\"\n",
      "Widget Javascript not detected.  It may not be installed properly. Did you enable the widgetsnbextension? If not, then run \"jupyter nbextension enable --py --sys-prefix widgetsnbextension\"\n",
      "Widget Javascript not detected.  It may not be installed properly. Did you enable the widgetsnbextension? If not, then run \"jupyter nbextension enable --py --sys-prefix widgetsnbextension\"\n",
      "Widget Javascript not detected.  It may not be installed properly. Did you enable the widgetsnbextension? If not, then run \"jupyter nbextension enable --py --sys-prefix widgetsnbextension\"\n",
      "Widget Javascript not detected.  It may not be installed properly. Did you enable the widgetsnbextension? If not, then run \"jupyter nbextension enable --py --sys-prefix widgetsnbextension\"\n",
      "Widget Javascript not detected.  It may not be installed properly. Did you enable the widgetsnbextension? If not, then run \"jupyter nbextension enable --py --sys-prefix widgetsnbextension\"\n",
      "Widget Javascript not detected.  It may not be installed properly. Did you enable the widgetsnbextension? If not, then run \"jupyter nbextension enable --py --sys-prefix widgetsnbextension\"\n",
      "Widget Javascript not detected.  It may not be installed properly. Did you enable the widgetsnbextension? If not, then run \"jupyter nbextension enable --py --sys-prefix widgetsnbextension\"\n",
      "Widget Javascript not detected.  It may not be installed properly. Did you enable the widgetsnbextension? If not, then run \"jupyter nbextension enable --py --sys-prefix widgetsnbextension\"\n",
      "Widget Javascript not detected.  It may not be installed properly. Did you enable the widgetsnbextension? If not, then run \"jupyter nbextension enable --py --sys-prefix widgetsnbextension\"\n",
      "Widget Javascript not detected.  It may not be installed properly. Did you enable the widgetsnbextension? If not, then run \"jupyter nbextension enable --py --sys-prefix widgetsnbextension\"\n",
      "Widget Javascript not detected.  It may not be installed properly. Did you enable the widgetsnbextension? If not, then run \"jupyter nbextension enable --py --sys-prefix widgetsnbextension\"\n",
      "Widget Javascript not detected.  It may not be installed properly. Did you enable the widgetsnbextension? If not, then run \"jupyter nbextension enable --py --sys-prefix widgetsnbextension\"\n",
      "Widget Javascript not detected.  It may not be installed properly. Did you enable the widgetsnbextension? If not, then run \"jupyter nbextension enable --py --sys-prefix widgetsnbextension\"\n",
      "Widget Javascript not detected.  It may not be installed properly. Did you enable the widgetsnbextension? If not, then run \"jupyter nbextension enable --py --sys-prefix widgetsnbextension\"\n",
      "Widget Javascript not detected.  It may not be installed properly. Did you enable the widgetsnbextension? If not, then run \"jupyter nbextension enable --py --sys-prefix widgetsnbextension\"\n",
      "Widget Javascript not detected.  It may not be installed properly. Did you enable the widgetsnbextension? If not, then run \"jupyter nbextension enable --py --sys-prefix widgetsnbextension\"\n",
      "Widget Javascript not detected.  It may not be installed properly. Did you enable the widgetsnbextension? If not, then run \"jupyter nbextension enable --py --sys-prefix widgetsnbextension\"\n",
      "Widget Javascript not detected.  It may not be installed properly. Did you enable the widgetsnbextension? If not, then run \"jupyter nbextension enable --py --sys-prefix widgetsnbextension\"\n",
      "Widget Javascript not detected.  It may not be installed properly. Did you enable the widgetsnbextension? If not, then run \"jupyter nbextension enable --py --sys-prefix widgetsnbextension\"\n",
      "Widget Javascript not detected.  It may not be installed properly. Did you enable the widgetsnbextension? If not, then run \"jupyter nbextension enable --py --sys-prefix widgetsnbextension\"\n",
      "Widget Javascript not detected.  It may not be installed properly. Did you enable the widgetsnbextension? If not, then run \"jupyter nbextension enable --py --sys-prefix widgetsnbextension\"\n",
      "Widget Javascript not detected.  It may not be installed properly. Did you enable the widgetsnbextension? If not, then run \"jupyter nbextension enable --py --sys-prefix widgetsnbextension\"\n",
      "Widget Javascript not detected.  It may not be installed properly. Did you enable the widgetsnbextension? If not, then run \"jupyter nbextension enable --py --sys-prefix widgetsnbextension\"\n",
      "Widget Javascript not detected.  It may not be installed properly. Did you enable the widgetsnbextension? If not, then run \"jupyter nbextension enable --py --sys-prefix widgetsnbextension\"\n",
      "Widget Javascript not detected.  It may not be installed properly. Did you enable the widgetsnbextension? If not, then run \"jupyter nbextension enable --py --sys-prefix widgetsnbextension\"\n",
      "Widget Javascript not detected.  It may not be installed properly. Did you enable the widgetsnbextension? If not, then run \"jupyter nbextension enable --py --sys-prefix widgetsnbextension\"\n",
      "Widget Javascript not detected.  It may not be installed properly. Did you enable the widgetsnbextension? If not, then run \"jupyter nbextension enable --py --sys-prefix widgetsnbextension\"\n",
      "Widget Javascript not detected.  It may not be installed properly. Did you enable the widgetsnbextension? If not, then run \"jupyter nbextension enable --py --sys-prefix widgetsnbextension\"\n",
      "Widget Javascript not detected.  It may not be installed properly. Did you enable the widgetsnbextension? If not, then run \"jupyter nbextension enable --py --sys-prefix widgetsnbextension\"\n",
      "Widget Javascript not detected.  It may not be installed properly. Did you enable the widgetsnbextension? If not, then run \"jupyter nbextension enable --py --sys-prefix widgetsnbextension\"\n",
      "Widget Javascript not detected.  It may not be installed properly. Did you enable the widgetsnbextension? If not, then run \"jupyter nbextension enable --py --sys-prefix widgetsnbextension\"\n",
      "Widget Javascript not detected.  It may not be installed properly. Did you enable the widgetsnbextension? If not, then run \"jupyter nbextension enable --py --sys-prefix widgetsnbextension\"\n",
      "Widget Javascript not detected.  It may not be installed properly. Did you enable the widgetsnbextension? If not, then run \"jupyter nbextension enable --py --sys-prefix widgetsnbextension\"\n",
      "Widget Javascript not detected.  It may not be installed properly. Did you enable the widgetsnbextension? If not, then run \"jupyter nbextension enable --py --sys-prefix widgetsnbextension\"\n",
      "Widget Javascript not detected.  It may not be installed properly. Did you enable the widgetsnbextension? If not, then run \"jupyter nbextension enable --py --sys-prefix widgetsnbextension\"\n",
      "Widget Javascript not detected.  It may not be installed properly. Did you enable the widgetsnbextension? If not, then run \"jupyter nbextension enable --py --sys-prefix widgetsnbextension\"\n",
      "Widget Javascript not detected.  It may not be installed properly. Did you enable the widgetsnbextension? If not, then run \"jupyter nbextension enable --py --sys-prefix widgetsnbextension\"\n",
      "Widget Javascript not detected.  It may not be installed properly. Did you enable the widgetsnbextension? If not, then run \"jupyter nbextension enable --py --sys-prefix widgetsnbextension\"\n",
      "Widget Javascript not detected.  It may not be installed properly. Did you enable the widgetsnbextension? If not, then run \"jupyter nbextension enable --py --sys-prefix widgetsnbextension\"\n",
      "Widget Javascript not detected.  It may not be installed properly. Did you enable the widgetsnbextension? If not, then run \"jupyter nbextension enable --py --sys-prefix widgetsnbextension\"\n",
      "Widget Javascript not detected.  It may not be installed properly. Did you enable the widgetsnbextension? If not, then run \"jupyter nbextension enable --py --sys-prefix widgetsnbextension\"\n",
      "Widget Javascript not detected.  It may not be installed properly. Did you enable the widgetsnbextension? If not, then run \"jupyter nbextension enable --py --sys-prefix widgetsnbextension\"\n",
      "Widget Javascript not detected.  It may not be installed properly. Did you enable the widgetsnbextension? If not, then run \"jupyter nbextension enable --py --sys-prefix widgetsnbextension\"\n",
      "Widget Javascript not detected.  It may not be installed properly. Did you enable the widgetsnbextension? If not, then run \"jupyter nbextension enable --py --sys-prefix widgetsnbextension\"\n",
      "Widget Javascript not detected.  It may not be installed properly. Did you enable the widgetsnbextension? If not, then run \"jupyter nbextension enable --py --sys-prefix widgetsnbextension\"\n",
      "Widget Javascript not detected.  It may not be installed properly. Did you enable the widgetsnbextension? If not, then run \"jupyter nbextension enable --py --sys-prefix widgetsnbextension\"\n",
      "Widget Javascript not detected.  It may not be installed properly. Did you enable the widgetsnbextension? If not, then run \"jupyter nbextension enable --py --sys-prefix widgetsnbextension\"\n",
      "Widget Javascript not detected.  It may not be installed properly. Did you enable the widgetsnbextension? If not, then run \"jupyter nbextension enable --py --sys-prefix widgetsnbextension\"\n",
      "Widget Javascript not detected.  It may not be installed properly. Did you enable the widgetsnbextension? If not, then run \"jupyter nbextension enable --py --sys-prefix widgetsnbextension\"\n",
      "Widget Javascript not detected.  It may not be installed properly. Did you enable the widgetsnbextension? If not, then run \"jupyter nbextension enable --py --sys-prefix widgetsnbextension\"\n",
      "Widget Javascript not detected.  It may not be installed properly. Did you enable the widgetsnbextension? If not, then run \"jupyter nbextension enable --py --sys-prefix widgetsnbextension\"\n",
      "Widget Javascript not detected.  It may not be installed properly. Did you enable the widgetsnbextension? If not, then run \"jupyter nbextension enable --py --sys-prefix widgetsnbextension\"\n",
      "Widget Javascript not detected.  It may not be installed properly. Did you enable the widgetsnbextension? If not, then run \"jupyter nbextension enable --py --sys-prefix widgetsnbextension\"\n",
      "Widget Javascript not detected.  It may not be installed properly. Did you enable the widgetsnbextension? If not, then run \"jupyter nbextension enable --py --sys-prefix widgetsnbextension\"\n",
      "Widget Javascript not detected.  It may not be installed properly. Did you enable the widgetsnbextension? If not, then run \"jupyter nbextension enable --py --sys-prefix widgetsnbextension\"\n",
      "Widget Javascript not detected.  It may not be installed properly. Did you enable the widgetsnbextension? If not, then run \"jupyter nbextension enable --py --sys-prefix widgetsnbextension\"\n",
      "Widget Javascript not detected.  It may not be installed properly. Did you enable the widgetsnbextension? If not, then run \"jupyter nbextension enable --py --sys-prefix widgetsnbextension\"\n",
      "Widget Javascript not detected.  It may not be installed properly. Did you enable the widgetsnbextension? If not, then run \"jupyter nbextension enable --py --sys-prefix widgetsnbextension\"\n",
      "Widget Javascript not detected.  It may not be installed properly. Did you enable the widgetsnbextension? If not, then run \"jupyter nbextension enable --py --sys-prefix widgetsnbextension\"\n",
      "Widget Javascript not detected.  It may not be installed properly. Did you enable the widgetsnbextension? If not, then run \"jupyter nbextension enable --py --sys-prefix widgetsnbextension\"\n",
      "Widget Javascript not detected.  It may not be installed properly. Did you enable the widgetsnbextension? If not, then run \"jupyter nbextension enable --py --sys-prefix widgetsnbextension\"\n",
      "Widget Javascript not detected.  It may not be installed properly. Did you enable the widgetsnbextension? If not, then run \"jupyter nbextension enable --py --sys-prefix widgetsnbextension\"\n",
      "Widget Javascript not detected.  It may not be installed properly. Did you enable the widgetsnbextension? If not, then run \"jupyter nbextension enable --py --sys-prefix widgetsnbextension\"\n",
      "Widget Javascript not detected.  It may not be installed properly. Did you enable the widgetsnbextension? If not, then run \"jupyter nbextension enable --py --sys-prefix widgetsnbextension\"\n",
      "Widget Javascript not detected.  It may not be installed properly. Did you enable the widgetsnbextension? If not, then run \"jupyter nbextension enable --py --sys-prefix widgetsnbextension\"\n",
      "Widget Javascript not detected.  It may not be installed properly. Did you enable the widgetsnbextension? If not, then run \"jupyter nbextension enable --py --sys-prefix widgetsnbextension\"\n",
      "Widget Javascript not detected.  It may not be installed properly. Did you enable the widgetsnbextension? If not, then run \"jupyter nbextension enable --py --sys-prefix widgetsnbextension\"\n",
      "Widget Javascript not detected.  It may not be installed properly. Did you enable the widgetsnbextension? If not, then run \"jupyter nbextension enable --py --sys-prefix widgetsnbextension\"\n",
      "Widget Javascript not detected.  It may not be installed properly. Did you enable the widgetsnbextension? If not, then run \"jupyter nbextension enable --py --sys-prefix widgetsnbextension\"\n",
      "Widget Javascript not detected.  It may not be installed properly. Did you enable the widgetsnbextension? If not, then run \"jupyter nbextension enable --py --sys-prefix widgetsnbextension\"\n",
      "Widget Javascript not detected.  It may not be installed properly. Did you enable the widgetsnbextension? If not, then run \"jupyter nbextension enable --py --sys-prefix widgetsnbextension\"\n",
      "Widget Javascript not detected.  It may not be installed properly. Did you enable the widgetsnbextension? If not, then run \"jupyter nbextension enable --py --sys-prefix widgetsnbextension\"\n",
      "Widget Javascript not detected.  It may not be installed properly. Did you enable the widgetsnbextension? If not, then run \"jupyter nbextension enable --py --sys-prefix widgetsnbextension\"\n",
      "Widget Javascript not detected.  It may not be installed properly. Did you enable the widgetsnbextension? If not, then run \"jupyter nbextension enable --py --sys-prefix widgetsnbextension\"\n",
      "Widget Javascript not detected.  It may not be installed properly. Did you enable the widgetsnbextension? If not, then run \"jupyter nbextension enable --py --sys-prefix widgetsnbextension\"\n",
      "Widget Javascript not detected.  It may not be installed properly. Did you enable the widgetsnbextension? If not, then run \"jupyter nbextension enable --py --sys-prefix widgetsnbextension\"\n",
      "Widget Javascript not detected.  It may not be installed properly. Did you enable the widgetsnbextension? If not, then run \"jupyter nbextension enable --py --sys-prefix widgetsnbextension\"\n",
      "Widget Javascript not detected.  It may not be installed properly. Did you enable the widgetsnbextension? If not, then run \"jupyter nbextension enable --py --sys-prefix widgetsnbextension\"\n",
      "Widget Javascript not detected.  It may not be installed properly. Did you enable the widgetsnbextension? If not, then run \"jupyter nbextension enable --py --sys-prefix widgetsnbextension\"\n"
     ]
    },
    {
     "name": "stdout",
     "output_type": "stream",
     "text": [
      "https://www.nytimes.com/2010/01/05/nyregion/05nyc.html\n",
      "https://query.nytimes.com/gst/fullpage.html?res=9A01E7DB123AF93AA35752C0A9669D8B63\n",
      "https://www.nytimes.com/2010/01/13/theater/reviews/13versus.html\n",
      "https://www.nytimes.com/2010/01/17/magazine/17FOB-onlanguage-t.html\n",
      "https://www.nytimes.com/2010/01/21/arts/design/21abroad.html\n",
      "https://www.nytimes.com/2010/01/25/sports/hockey/25sportsbriefs-nhl.html\n",
      "https://www.nytimes.com/2010/01/29/education/29brush.html\n",
      "https://www.nytimes.com/2010/02/02/sports/football/02freeney.html\n",
      "https://www.nytimes.com/2010/02/06/us/06brfs-DISMISSALOFA_BRF.html\n",
      "https://www.nytimes.com/2010/02/10/arts/music/10arts-AIRFORCERESE_BRF.html\n",
      "https://www.nytimes.com/2010/02/14/nyregion/14love.html\n",
      "https://www.nytimes.com/2010/02/18/arts/television/18arts-IDOLOUTDRAWS_BRF.html\n",
      "https://www.nytimes.com/2010/02/22/health/research/22trialside.html\n",
      "https://www.nytimes.com/2010/02/26/nyregion/26call.html\n",
      "https://www.nytimes.com/2010/03/02/arts/television/02arts-POSTOLYMPICL_BRF.html\n",
      "https://www.nytimes.com/2010/03/07/fashion/weddings/07PARNES.html\n",
      "https://www.nytimes.com/2010/03/11/sports/ncaabasketball/11colleges.html\n",
      "https://query.nytimes.com/gst/fullpage.html?res=9A02E2DE1F31F937A25750C0A9669D8B63\n",
      "https://www.nytimes.com/2010/03/19/sports/ncaabasketball/19radio.html\n",
      "https://www.nytimes.com/2010/03/23/nyregion/23nyc.html\n",
      "https://www.nytimes.com/2010/03/27/sports/27skating.html\n",
      "https://www.nytimes.com/2010/03/31/pageoneplus/31correx-001.html\n",
      "https://www.nytimes.com/2010/04/04/arts/television/04lost.html\n",
      "https://query.nytimes.com/gst/fullpage.html?res=9F0DE3D71F3AF93BA35757C0A9669D8B63\n",
      "https://query.nytimes.com/gst/fullpage.html?res=9803EFD61031F931A25757C0A9669D8B63\n",
      "https://www.nytimes.com/2010/04/17/business/media/17miramax.html\n",
      "https://www.nytimes.com/2010/04/21/nyregion/21espada.html\n",
      "https://www.nytimes.com/2010/04/25/magazine/25Letters-t-GREENECONOMI_LETTERS.html\n",
      "https://www.nytimes.com/2010/04/29/arts/music/29cumming.html\n",
      "https://www.nytimes.com/2010/05/03/us/03land.html\n",
      "https://www.nytimes.com/2010/05/07/business/07auto.html\n",
      "https://www.nytimes.com/2010/05/11/science/11maya.html\n",
      "https://www.nytimes.com/2010/05/16/sports/cycling/16cycling.html\n",
      "https://query.nytimes.com/gst/fullpage.html?res=9C05E2DB173EF93AA25756C0A9669D8B63\n",
      "https://query.nytimes.com/gst/fullpage.html?res=9901E1D81030F930A15756C0A9669D8B63\n",
      "https://www.nytimes.com/2010/05/28/us/politics/28cong.html\n",
      "https://www.nytimes.com/2010/06/01/science/01angi.html\n",
      "https://www.nytimes.com/2010/06/06/education/06gain.html\n",
      "https://www.nytimes.com/2010/06/10/sports/football/10sportsbriefs-game.html\n",
      "https://query.nytimes.com/gst/fullpage.html?res=9F04E6DA1739F930A25755C0A9669D8B63\n",
      "https://www.nytimes.com/2010/06/18/sports/soccer/18scorer.html\n",
      "https://www.nytimes.com/2010/06/22/arts/music/22arts-WNYCHIRESAVI_BRF.html\n",
      "https://query.nytimes.com/gst/fullpage.html?res=9A01E5DD123AF935A15755C0A9669D8B63\n",
      "https://query.nytimes.com/gst/fullpage.html?res=9907E3DF153CF933A05755C0A9669D8B63\n",
      "https://query.nytimes.com/gst/fullpage.html?res=9B01E4DA113EF937A35754C0A9669D8B63\n",
      "https://www.nytimes.com/2010/07/09/us/09spill.html\n",
      "https://query.nytimes.com/gst/fullpage.html?res=9F04EFD61130F930A25754C0A9669D8B63\n",
      "https://www.nytimes.com/2010/07/18/fashion/weddings/18TOBIAS.html\n",
      "https://query.nytimes.com/gst/fullpage.html?res=9F06E2DA1E31F931A15754C0A9669D8B63\n",
      "https://www.nytimes.com/2010/07/27/us/27list.html\n",
      "https://query.nytimes.com/gst/fullpage.html?res=9400E6DD103AF932A05754C0A9669D8B63\n",
      "https://www.nytimes.com/2010/08/05/sports/05sportsbriefs-hambo.html\n",
      "https://www.nytimes.com/2010/08/09/technology/09ihome.html\n",
      "https://www.nytimes.com/2010/08/14/business/14nocera.html\n",
      "https://www.nytimes.com/2010/08/18/business/18lilly.html\n",
      "https://www.nytimes.com/2010/08/22/realestate/22deal2.html\n",
      "https://www.nytimes.com/2010/08/27/arts/27weber.html\n",
      "https://www.nytimes.com/2010/08/31/opinion/31tue3.html\n",
      "https://query.nytimes.com/gst/fullpage.html?res=9C0DE3DA143EF937A3575AC0A9669D8B63\n",
      "https://www.nytimes.com/2010/09/09/opinion/09collins.html\n",
      "https://query.nytimes.com/gst/fullpage.html?res=9405EED81E3AF931A2575AC0A9669D8B63\n",
      "https://www.nytimes.com/2010/09/17/business/17countrywide.html\n",
      "https://www.nytimes.com/2010/09/22/arts/television/22defenders.html\n",
      "https://www.nytimes.com/2010/09/25/us/politics/25cong.html\n",
      "https://query.nytimes.com/gst/fullpage.html?res=9C04E5DA1739F93BA1575AC0A9669D8B63\n",
      "https://www.nytimes.com/2010/10/03/sports/ncaafootball/03crash.html\n",
      "https://www.nytimes.com/2010/10/07/business/07insure.html\n",
      "https://query.nytimes.com/gst/fullpage.html?res=9406E4DC173EF933A25753C1A9669D8B63\n",
      "https://www.nytimes.com/2010/10/15/technology/15google.html\n",
      "https://www.nytimes.com/2010/10/19/science/19sloth.html\n",
      "https://www.nytimes.com/2010/10/24/us/24cncfamily.html\n",
      "https://query.nytimes.com/gst/fullpage.html?res=980DE7DE173AF934A15753C1A9669D8B63\n",
      "https://query.nytimes.com/gst/fullpage.html?res=9E05E7D6173BF932A05753C1A9669D8B63\n",
      "https://www.nytimes.com/2010/11/05/pageoneplus/corrections.html\n",
      "https://www.nytimes.com/2010/11/08/arts/music/08riverside.html\n",
      "https://www.nytimes.com/2010/11/13/sports/baseball/13doubleday.html\n",
      "https://www.nytimes.com/2010/11/17/arts/dance/17showcase.html\n",
      "https://www.nytimes.com/2010/11/21/nyregion/21artsnj.html\n",
      "https://www.nytimes.com/2010/11/25/world/asia/25seoul.html\n",
      "https://www.nytimes.com/2010/11/30/arts/dance/30revelations.html\n",
      "https://www.nytimes.com/2010/12/04/sports/baseball/04cashman.html\n",
      "https://www.nytimes.com/2010/12/08/movies/08rabbit.html\n",
      "https://www.nytimes.com/2010/12/15/health/nutrition/15recipehealth.html\n",
      "https://www.nytimes.com/2010/12/20/health/nutrition/20recipehealth.html\n",
      "https://www.nytimes.com/2010/12/25/sports/football/25rhoden.html\n",
      "https://www.nytimes.com/2010/12/30/nyregion/30kelly.html\n",
      "https://www.nytimes.com/2010/01/17/movies/homevideo/17kehr.html\n",
      "https://query.nytimes.com/gst/fullpage.html?res=9D04EEDC123AF93AA35752C0A9669D8B63\n",
      "https://www.nytimes.com/2010/01/01/sports/football/01sportsbriefs-montana.html\n",
      "https://www.nytimes.com/2010/01/29/health/policy/29health.html\n",
      "https://www.nytimes.com/2010/01/05/us/05tsa.html\n",
      "https://www.nytimes.com/2010/02/02/sports/02corrections-05.html\n",
      "https://www.nytimes.com/2010/01/13/dining/reviews/13brief.html\n",
      "https://www.nytimes.com/2010/02/10/theater/reviews/10dog.html\n",
      "https://www.nytimes.com/2010/02/06/nyregion/06vilar.html\n",
      "https://www.nytimes.com/2010/01/25/sports/golf/25sportsbriefs-pga.html\n",
      "https://www.nytimes.com/2010/03/07/fashion/weddings/07SIEGEL.html\n",
      "https://www.nytimes.com/2010/02/18/technology/18patent.html\n",
      "https://www.nytimes.com/2010/02/14/books/review/PaperRow-t.html\n",
      "https://www.nytimes.com/2010/02/22/us/22land.html\n",
      "https://www.nytimes.com/2010/03/11/sports/skiing/11sportsbriefs-skiing.html\n",
      "https://www.nytimes.com/2010/03/02/theater/02arts-ABALDWINEQUU_BRF.html\n",
      "https://www.nytimes.com/2010/02/26/world/middleeast/26iraq.html\n",
      "https://www.nytimes.com/2010/01/21/technology/companies/21ebay.html\n",
      "https://www.nytimes.com/2010/03/31/sports/baseball/31mets.html\n",
      "https://www.nytimes.com/2010/04/04/realestate/04hunt.html\n",
      "https://www.nytimes.com/2010/03/27/science/27brfs-BIOLOGISTWIN_BRF.html\n",
      "https://query.nytimes.com/gst/fullpage.html?res=9B04E5DB163DF937A25750C0A9669D8B63\n",
      "https://www.nytimes.com/2010/03/23/us/politics/23boyd.html\n",
      "https://www.nytimes.com/2010/03/19/business/economy/19regulate.html\n",
      "https://query.nytimes.com/gst/fullpage.html?res=9806E0DF163AF931A25757C0A9669D8B63\n",
      "https://www.nytimes.com/2010/05/03/sports/baseball/03mets.html\n",
      "https://query.nytimes.com/gst/fullpage.html?res=9404E4DB1F3CF93BA35757C0A9669D8B63\n",
      "https://www.nytimes.com/2010/04/25/books/review/Letters-t-OBAMASFIRSTY_LETTERS.html\n",
      "https://www.nytimes.com/2010/04/17/crosswords/bridge/17card.html\n",
      "https://www.nytimes.com/2010/04/29/business/smallbusiness/29sbiz.html\n",
      "https://www.nytimes.com/2010/04/21/dining/reviews/21rest.html\n",
      "https://www.nytimes.com/2010/05/28/nyregion/28bagel.html\n",
      "https://www.nytimes.com/2010/05/11/arts/music/11carpenter.html\n",
      "https://www.nytimes.com/2010/06/01/science/01mendel.html\n",
      "https://www.nytimes.com/2010/06/06/opinion/06chabon.html\n",
      "https://query.nytimes.com/gst/fullpage.html?res=9E01E4D61639F930A15756C0A9669D8B63\n",
      "https://www.nytimes.com/2010/05/16/world/americas/16mexico.html\n",
      "https://query.nytimes.com/gst/fullpage.html?res=9E06EFDF173AF930A25755C0A9669D8B63\n",
      "https://www.nytimes.com/2010/05/07/theater/reviews/07forest.html\n",
      "https://query.nytimes.com/gst/fullpage.html?res=9402E6DE173EF937A35754C0A9669D8B63\n",
      "https://www.nytimes.com/2010/06/18/movies/18movies.html\n",
      "https://www.nytimes.com/2010/06/22/theater/22arts-REDRECOVERSI_BRF.html\n",
      "https://www.nytimes.com/2010/06/10/sports/hockey/10flyers.html\n",
      "https://query.nytimes.com/gst/fullpage.html?res=9F02E0DE153EF93AA25756C0A9669D8B63\n",
      "https://query.nytimes.com/gst/fullpage.html?res=9F0CE0DC153CF933A05755C0A9669D8B63\n",
      "https://www.nytimes.com/2010/07/09/sports/cycling/09tourdefrance.html\n",
      "https://query.nytimes.com/gst/fullpage.html?res=9906EFD61131F931A15754C0A9669D8B63\n",
      "https://www.nytimes.com/2010/08/05/sports/basketball/05sportsbriefs-teamusa.html\n",
      "https://query.nytimes.com/gst/fullpage.html?res=9F00E0DD133AF930A25754C0A9669D8B63\n",
      "https://www.nytimes.com/2010/06/28/arts/television/28huge.html\n",
      "https://www.nytimes.com/2010/07/27/sports/27boxing.html\n",
      "https://www.nytimes.com/2010/08/14/sports/baseball/14mets.html\n",
      "https://www.nytimes.com/2010/07/18/fashion/weddings/18blacker.html\n",
      "https://query.nytimes.com/gst/fullpage.html?res=9805E5DD103AF932A05754C0A9669D8B63\n",
      "https://www.nytimes.com/2010/08/27/movies/27high.html\n",
      "https://www.nytimes.com/2010/08/31/opinion/31tue2.html\n",
      "https://www.nytimes.com/2010/08/09/world/asia/09india.html\n",
      "https://www.nytimes.com/2010/08/18/nyregion/18term.html\n",
      "https://www.nytimes.com/2010/08/22/fashion/22Love.html\n",
      "https://www.nytimes.com/2010/09/05/realestate/05mark3.html\n",
      "https://query.nytimes.com/gst/fullpage.html?res=9A0CE4D7153CF931A2575AC0A9669D8B63\n",
      "https://www.nytimes.com/2010/10/03/sports/baseball/03cubs.html\n",
      "https://www.nytimes.com/2010/09/25/business/25yale.html\n",
      "https://www.nytimes.com/2010/09/09/us/09speed.html\n",
      "https://www.nytimes.com/2010/09/22/arts/television/22undercovers.html\n",
      "https://query.nytimes.com/gst/fullpage.html?res=980DE6D71F30F93BA1575AC0A9669D8B63\n",
      "https://www.nytimes.com/2010/09/17/movies/17leaves.html\n",
      "https://www.nytimes.com/2010/10/15/arts/15miser.html\n",
      "https://www.nytimes.com/2010/11/30/business/30flier.html\n",
      "https://www.nytimes.com/2010/11/13/nyregion/13responder.html\n",
      "https://query.nytimes.com/gst/fullpage.html?res=9A0CE0D9173FF932A05753C1A9669D8B63\n",
      "https://www.nytimes.com/2010/10/29/arts/television/29walking.html\n",
      "https://www.nytimes.com/2010/11/08/arts/dance/08institute.html\n",
      "https://www.nytimes.com/2010/10/24/us/24bcintel.html\n",
      "https://www.nytimes.com/2010/10/07/us/07cities.html\n",
      "https://query.nytimes.com/gst/fullpage.html?res=9902EEDB103AF933A25753C1A9669D8B63\n",
      "https://www.nytimes.com/2010/12/20/sports/basketball/20nba.html\n",
      "https://www.nytimes.com/2010/11/05/us/05list.html\n",
      "https://www.nytimes.com/2010/11/21/books/review/excerpt-monsoon.html\n",
      "https://www.nytimes.com/2010/11/17/sports/ncaabasketball/17columbia.html\n",
      "https://www.nytimes.com/2010/10/19/arts/television/19arts-FOOTBALLORBA_BRF.html\n",
      "https://www.nytimes.com/2010/12/08/movies/08saint.html\n",
      "https://www.nytimes.com/2010/11/25/world/asia/25mine.html\n",
      "https://www.nytimes.com/2010/12/30/world/africa/30lanny.html\n",
      "https://www.nytimes.com/2010/12/04/business/economy/04jobs.html\n",
      "https://www.nytimes.com/2010/12/25/sports/football/25valuation.html\n",
      "https://query.nytimes.com/gst/fullpage.html?res=9800EFDC123AF93AA35752C0A9669D8B63\n",
      "https://www.nytimes.com/2010/01/17/movies/17soderbergh.html\n",
      "https://www.nytimes.com/2010/01/01/sports/baseball/01sportsbriefs-byrd.html\n",
      "https://www.nytimes.com/2010/01/29/business/29bags.html\n",
      "https://www.nytimes.com/2010/12/15/dining/15appe.html\n",
      "https://www.nytimes.com/2010/01/05/urbaneye/05ubn2.html\n",
      "https://www.nytimes.com/2010/02/02/nyregion/02corrections-04.html\n",
      "https://www.nytimes.com/2010/01/13/dining/reviews/13rbox.html\n",
      "https://www.nytimes.com/2010/02/10/theater/reviews/10happy.html\n",
      "https://www.nytimes.com/2010/02/06/us/06brfs-WILDHORSEROU_BRF.html\n",
      "https://www.nytimes.com/2010/01/25/sports/ncaabasketball/25hoops.html\n",
      "https://www.nytimes.com/2010/02/18/fashion/18ROW.html\n",
      "https://www.nytimes.com/2010/02/14/books/review/EdChoice-t.html\n",
      "https://www.nytimes.com/2010/03/07/fashion/weddings/07KMENKES.html\n",
      "https://www.nytimes.com/2010/02/22/sports/baseball/22strasburg.html\n",
      "https://www.nytimes.com/2010/03/11/business/11regulate.html\n",
      "https://www.nytimes.com/2010/03/02/health/02brod.html\n",
      "https://www.nytimes.com/2010/02/26/nyregion/26terror.html\n",
      "https://www.nytimes.com/2010/01/21/arts/design/21arts-NEWYORKSTATE_BRF.html\n",
      "https://www.nytimes.com/2010/03/31/sports/baseball/31yankees.html\n",
      "https://query.nytimes.com/gst/fullpage.html?res=9500EFD7163EF937A25750C0A9669D8B63\n",
      "https://www.nytimes.com/2010/04/04/books/excerpt-wild-romance.html\n",
      "https://www.nytimes.com/2010/03/23/sports/23sportsbriefs-curling.html\n",
      "https://www.nytimes.com/2010/03/27/sports/27iht-obit.html\n",
      "https://query.nytimes.com/gst/fullpage.html?res=9F03E7DC1131F931A25757C0A9669D8B63\n",
      "https://query.nytimes.com/gst/fullpage.html?res=9507E0D7133CF93BA35757C0A9669D8B63\n",
      "https://www.nytimes.com/2010/03/19/nyregion/19republicans.html\n",
      "https://www.nytimes.com/2010/05/03/world/africa/03uganda.html\n",
      "https://www.nytimes.com/2010/04/25/nyregion/25stop-ready.html\n",
      "https://www.nytimes.com/2010/04/17/theater/17boddman.html\n",
      "https://www.nytimes.com/2010/04/29/business/29regulate.html\n",
      "https://query.nytimes.com/gst/fullpage.html?res=9505E6DD143FF930A15756C0A9669D8B63\n",
      "https://www.nytimes.com/2010/05/11/business/global/11boe.html\n",
      "https://www.nytimes.com/2010/05/28/us/politics/28sestak.html\n",
      "https://www.nytimes.com/2010/04/21/arts/dance/21beauty.html\n",
      "https://query.nytimes.com/gst/fullpage.html?res=9A03E7DE143BF930A25755C0A9669D8B63\n",
      "https://www.nytimes.com/2010/05/16/sports/baseball/16perez.html\n",
      "https://www.nytimes.com/2010/06/06/opinion/lweb06ereader.html\n",
      "https://query.nytimes.com/gst/fullpage.html?res=9C04E2DB123DF937A35754C0A9669D8B63\n",
      "https://www.nytimes.com/2010/06/01/science/01qna.html\n",
      "https://www.nytimes.com/2010/05/07/movies/07casino.html\n",
      "https://www.nytimes.com/2010/06/18/movies/18raavan.html\n",
      "https://query.nytimes.com/gst/fullpage.html?res=9D0DE2DF153CF933A05755C0A9669D8B63\n",
      "https://www.nytimes.com/2010/06/22/arts/television/22arts-FORNEXTSEASO_BRF.html\n",
      "https://query.nytimes.com/gst/fullpage.html?res=9A06E2DD143AF93AA25756C0A9669D8B63\n",
      "https://query.nytimes.com/gst/fullpage.html?res=9A0CE6D8133AF931A15754C0A9669D8B63\n",
      "https://www.nytimes.com/2010/06/10/business/10nathanson.html\n",
      "https://www.nytimes.com/2010/07/14/nyregion/17collapse.html\n",
      "https://www.nytimes.com/2010/08/05/sports/05sportsbriefs-QUALITYROADI_BRF.html\n",
      "https://www.nytimes.com/2010/07/09/sports/09leading.html\n",
      "https://www.nytimes.com/2010/06/27/sports/soccer/27sportsbriefs-redbulls.html\n",
      "https://www.nytimes.com/2010/07/27/nyregion/27lottery.html\n",
      "https://www.nytimes.com/2010/08/14/world/europe/14briefs-RADIATION.html\n",
      "https://query.nytimes.com/gst/fullpage.html?res=9401E5DD103AF932A05754C0A9669D8B63\n",
      "https://www.nytimes.com/2010/07/18/fashion/weddings/18Lueders-Booth.html\n",
      "https://www.nytimes.com/2010/08/31/opinion/31tue1.html\n",
      "https://www.nytimes.com/2010/08/09/business/09poptart.html\n",
      "https://www.nytimes.com/2010/08/27/sports/golf/27sportsbriefs-wie.html\n",
      "https://www.nytimes.com/2010/08/18/nyregion/18sampson.html\n",
      "https://www.nytimes.com/2010/08/22/magazine/22fake-t.html\n",
      "https://query.nytimes.com/gst/fullpage.html?res=9D06EED81E3AF931A2575AC0A9669D8B63\n",
      "https://www.nytimes.com/2010/09/05/sports/soccer/05sportsbriefs-ecuador.html\n",
      "https://www.nytimes.com/2010/10/03/sports/autoracing/03nascar.html\n",
      "https://www.nytimes.com/2010/09/09/us/09flood.html\n",
      "https://query.nytimes.com/gst/fullpage.html?res=9C0CEFDD1739F93BA1575AC0A9669D8B63\n",
      "https://www.nytimes.com/2010/09/25/sports/basketball/25refs.html\n",
      "https://www.nytimes.com/2010/09/21/arts/music/21skinner.html\n",
      "https://www.nytimes.com/2010/09/17/sports/soccer/17sportsbriefs-redbulls.html\n",
      "https://query.nytimes.com/gst/fullpage.html?res=990CEEDD173AF932A05753C1A9669D8B63\n",
      "https://www.nytimes.com/2010/11/30/business/30road.html\n",
      "https://www.nytimes.com/2010/10/28/pageoneplus/corrections.html\n",
      "https://www.nytimes.com/2010/10/15/arts/television/15school.html\n",
      "https://www.nytimes.com/2010/11/08/theater/reviews/08raoul.html\n",
      "https://www.nytimes.com/2010/11/13/world/worldspecial3/13iraq.html\n",
      "https://query.nytimes.com/gst/fullpage.html?res=9D05E0D7133EF933A25753C1A9669D8B63\n",
      "https://www.nytimes.com/2010/10/24/sports/ncaafootball/24east.html\n",
      "https://www.nytimes.com/2010/10/07/sports/baseball/07kepner.html\n",
      "https://www.nytimes.com/2010/11/05/opinion/lweb05npr.html\n",
      "https://www.nytimes.com/2010/12/20/sports/football/20rhoden.html\n",
      "https://www.nytimes.com/2010/10/19/science/19aspen.html\n",
      "https://www.nytimes.com/2010/11/17/business/17views.html\n",
      "https://www.nytimes.com/2010/11/21/nyregion/21dinenj.html\n",
      "https://www.nytimes.com/2010/12/08/dining/reviews/08rest.html\n",
      "https://www.nytimes.com/2010/12/04/business/04markets.html\n",
      "https://www.nytimes.com/2010/11/25/business/global/25markets.html\n",
      "https://www.nytimes.com/2010/12/30/us/30brfs-TWODEADAFTER_BRF.html\n",
      "https://query.nytimes.com/gst/fullpage.html?res=9904E3DD133FF93AA35752C0A9669D8B63\n",
      "https://www.nytimes.com/2010/01/01/sports/basketball/01cncpulse1.html\n",
      "https://www.nytimes.com/2010/01/17/movies/17creation.html\n",
      "https://www.nytimes.com/2010/12/25/opinion/25sat1.html\n",
      "https://www.nytimes.com/2010/01/29/business/global/29euro.html\n",
      "https://www.nytimes.com/2010/12/15/dining/15apperex.html\n",
      "https://www.nytimes.com/2010/01/05/urbaneye/05ubn3.html\n",
      "https://www.nytimes.com/2010/02/02/nyregion/02corrections-03.html\n",
      "https://www.nytimes.com/2010/01/13/greathomesanddestinations/13gh-what.html\n",
      "https://www.nytimes.com/2010/02/10/sports/10cup.html\n",
      "https://www.nytimes.com/2010/02/06/us/06brfs-ARMYTORESCIN_BRF.html\n",
      "https://www.nytimes.com/2010/01/25/sports/football/25nfcside.html\n",
      "https://www.nytimes.com/2010/02/18/world/asia/18marja.html\n",
      "https://www.nytimes.com/2010/03/07/fashion/weddings/07vmenkes.html\n",
      "https://www.nytimes.com/2010/02/14/books/review/Bookshelf-t.html\n",
      "https://www.nytimes.com/2010/02/22/science/earth/22epa.html\n",
      "https://www.nytimes.com/2010/03/02/arts/music/02arts-ROCKHALLSARC_BRF.html\n",
      "https://www.nytimes.com/2010/03/11/sports/football/11sportsbriefs-jets.html\n",
      "https://www.nytimes.com/2010/02/26/world/europe/26italy.html\n",
      "https://www.nytimes.com/2010/01/21/arts/music/21arts-VAMPIREWEEKE_BRF.html\n",
      "https://query.nytimes.com/gst/fullpage.html?res=9F05E3D71F3AF937A25750C0A9669D8B63\n",
      "https://www.nytimes.com/2010/03/31/nyregion/31about.html\n",
      "https://query.nytimes.com/gst/fullpage.html?res=9D03E3D71F3AF93BA35757C0A9669D8B63\n",
      "https://query.nytimes.com/gst/fullpage.html?res=9C04E1DB1531F931A25757C0A9669D8B63\n",
      "https://www.nytimes.com/2010/04/04/sports/baseball/04mauer.html\n",
      "https://www.nytimes.com/2010/03/23/world/europe/23germany.html\n",
      "https://www.nytimes.com/2010/03/27/us/27guns.html\n",
      "https://www.nytimes.com/2010/03/19/nyregion/19paterson.html\n",
      "https://www.nytimes.com/2010/05/03/nyregion/03diary.html\n",
      "https://www.nytimes.com/2010/04/17/us/17religion.html\n",
      "https://www.nytimes.com/2010/04/25/arts/design/25neel.html\n",
      "https://query.nytimes.com/gst/fullpage.html?res=9503E6D91030F930A15756C0A9669D8B63\n",
      "https://www.nytimes.com/2010/04/29/us/29cross.html\n",
      "https://query.nytimes.com/gst/fullpage.html?res=9F0CE3D9113AF930A25755C0A9669D8B63\n",
      "https://www.nytimes.com/2010/05/28/business/28book.html\n",
      "https://www.nytimes.com/2010/05/11/movies/11arts-ATCANNESCONT_BRF.html\n",
      "https://www.nytimes.com/2010/04/21/theater/reviews/21idiot.html\n",
      "https://query.nytimes.com/gst/fullpage.html?res=980CE1DC173EF937A35754C0A9669D8B63\n",
      "https://www.nytimes.com/2010/05/16/sports/soccer/16soccer.html\n",
      "https://www.nytimes.com/2010/06/06/opinion/lweb06brooks.html\n",
      "https://www.nytimes.com/2010/06/01/arts/television/01jersey.html\n",
      "https://query.nytimes.com/gst/fullpage.html?res=9D03E7D9143CF933A05755C0A9669D8B63\n",
      "https://www.nytimes.com/2010/05/07/arts/design/07monet.html\n",
      "https://query.nytimes.com/gst/fullpage.html?res=9D0CE3DD143AF93AA25756C0A9669D8B63\n",
      "https://www.nytimes.com/2010/06/22/arts/design/22arts-NATIONALACAD_BRF.html\n",
      "https://www.nytimes.com/2010/06/18/us/18whale.html\n",
      "https://query.nytimes.com/gst/fullpage.html?res=9C07E5D8133AF931A15754C0A9669D8B63\n",
      "https://www.nytimes.com/2010/06/10/us/10greene.html\n",
      "https://www.nytimes.com/2010/07/14/arts/music/14minott.html\n",
      "https://www.nytimes.com/2010/07/09/us/09boat.html\n",
      "https://www.nytimes.com/2010/08/05/sports/baseball/05mets.html\n",
      "https://www.nytimes.com/2010/06/27/sports/soccer/27ghanateam.html\n",
      "https://query.nytimes.com/gst/fullpage.html?res=9B01E6DD103AF932A05754C0A9669D8B63\n",
      "https://www.nytimes.com/2010/08/14/us/14smit.html\n",
      "https://www.nytimes.com/2010/07/27/opinion/27tue1.html\n",
      "https://www.nytimes.com/2010/07/18/fashion/18With.html\n",
      "https://www.nytimes.com/2010/08/31/sports/tennis/31night.html\n",
      "https://www.nytimes.com/2010/08/09/opinion/09mon4.html\n",
      "https://www.nytimes.com/2010/08/27/sports/ncaafootball/27sportsbriefs-tarheels.html\n",
      "https://query.nytimes.com/gst/fullpage.html?res=940DE7D71E3AF931A2575AC0A9669D8B63\n",
      "https://www.nytimes.com/2010/08/18/sports/baseball/18kepner.html\n",
      "https://www.nytimes.com/2010/08/22/travel/22nextstop.html\n",
      "https://www.nytimes.com/2010/09/05/sports/golf/05sportsbriefs-pebblebeach.html\n",
      "https://query.nytimes.com/gst/fullpage.html?res=9504EED91F3AF93BA1575AC0A9669D8B63\n",
      "https://www.nytimes.com/2010/10/03/business/economy/03foreclose.html\n",
      "https://www.nytimes.com/2010/09/09/us/09fire.html\n",
      "https://www.nytimes.com/2010/09/25/arts/music/25phil.html\n",
      "https://query.nytimes.com/gst/fullpage.html?res=9404EFD9173FF932A05753C1A9669D8B63\n",
      "https://www.nytimes.com/2010/09/17/movies/17virginity.html\n",
      "https://www.nytimes.com/2010/09/21/movies/21ravetch.html\n",
      "https://www.nytimes.com/2010/11/30/science/30obflight.html\n",
      "https://www.nytimes.com/2010/10/28/sports/basketball/28araton.html\n",
      "https://www.nytimes.com/2010/11/08/crosswords/bridge/08card.html\n",
      "https://query.nytimes.com/gst/fullpage.html?res=9D02E3DF143AF933A25753C1A9669D8B63\n",
      "https://www.nytimes.com/2010/10/15/us/15gitmo.html\n",
      "https://www.nytimes.com/2010/11/13/sports/ncaafootball/13penn.html\n",
      "https://www.nytimes.com/2010/10/24/sports/ncaafootball/24colleges.html\n",
      "https://www.nytimes.com/2010/11/05/opinion/05krugman.html\n",
      "https://www.nytimes.com/2010/10/07/us/politics/07manchin.html\n",
      "https://www.nytimes.com/2010/12/20/sports/football/20panthers.html\n",
      "https://www.nytimes.com/2010/11/17/arts/music/17white.html\n",
      "https://www.nytimes.com/2010/10/19/arts/television/19mad.html\n",
      "https://www.nytimes.com/2010/11/21/nyregion/21qbitenj.html\n",
      "https://www.nytimes.com/2010/12/04/world/asia/04qantas.html\n",
      "https://www.nytimes.com/2010/12/08/us/08edwards.html\n",
      "https://query.nytimes.com/gst/fullpage.html?res=950CEEDC123AF93AA35752C0A9669D8B63\n",
      "https://www.nytimes.com/2010/11/25/health/nutrition/25recipehealth.html\n",
      "https://www.nytimes.com/2010/12/30/us/politics/30bai.html\n",
      "https://www.nytimes.com/2010/01/01/sports/ncaafootball/01leach.html\n",
      "https://www.nytimes.com/2010/01/17/movies/17deneuve.html\n",
      "https://www.nytimes.com/2010/12/25/nyregion/25pace.html\n",
      "https://www.nytimes.com/2010/01/29/science/space/29nasa.html\n",
      "https://www.nytimes.com/2010/12/15/dining/15mini.html\n",
      "https://www.nytimes.com/2010/01/05/urbaneye/05ubn1.html\n",
      "https://www.nytimes.com/2010/01/13/arts/music/13glass.html\n",
      "https://www.nytimes.com/2010/02/02/opinion/02engel.html\n",
      "https://www.nytimes.com/2010/02/10/world/europe/10ukraine.html\n",
      "https://www.nytimes.com/2010/02/06/science/space/06shuttle.html\n",
      "https://www.nytimes.com/2010/02/18/garden/18shop.html\n",
      "https://www.nytimes.com/2010/01/25/sports/tennis/25aussie.html\n",
      "https://www.nytimes.com/2010/03/07/fashion/weddings/07BRALEY-.html\n",
      "https://www.nytimes.com/2010/02/22/business/media/22itunes.html\n",
      "https://www.nytimes.com/2010/03/02/arts/02arts-DONNAMURPHYI_BRF.html\n",
      "https://www.nytimes.com/2010/02/14/books/review/Sandomir-t.html\n",
      "https://www.nytimes.com/2010/03/11/sports/hockey/11sportsbriefs-THRASHERSCAL_BRF.html\n",
      "https://query.nytimes.com/gst/fullpage.html?res=9903E0DA1E3BF937A25750C0A9669D8B63\n",
      "https://www.nytimes.com/2010/02/26/world/europe/26chechnya.html\n",
      "https://www.nytimes.com/2010/01/21/arts/21arts-A3DTRIBUTEPL_BRF.html\n",
      "https://query.nytimes.com/gst/fullpage.html?res=9904EEDF113CF93BA35757C0A9669D8B63\n",
      "https://query.nytimes.com/gst/fullpage.html?res=9C0CE0DF163AF931A25757C0A9669D8B63\n",
      "https://www.nytimes.com/2010/03/31/business/31bias.html\n",
      "https://www.nytimes.com/2010/03/23/world/europe/23turkey.html\n",
      "https://www.nytimes.com/2010/04/04/fashion/04love.html\n",
      "https://www.nytimes.com/2010/03/27/us/27chicago.html\n",
      "https://www.nytimes.com/2010/03/19/sports/ncaabasketball/19vecsey.html\n",
      "https://www.nytimes.com/2010/05/03/sports/03sandomir.html\n",
      "https://query.nytimes.com/gst/fullpage.html?res=9803E3DA1030F930A15756C0A9669D8B63\n",
      "https://www.nytimes.com/2010/04/17/arts/television/17masterclass.html\n",
      "https://query.nytimes.com/gst/fullpage.html?res=9E01E0DB153AF930A25755C0A9669D8B63\n",
      "https://www.nytimes.com/2010/04/25/travel/25explorer.html\n",
      "https://www.nytimes.com/2010/04/29/fashion/29BROOKLYN.html\n",
      "https://www.nytimes.com/2010/05/28/opinion/28brooks.html\n",
      "https://query.nytimes.com/gst/fullpage.html?res=9902E3D9123AF937A35754C0A9669D8B63\n",
      "https://www.nytimes.com/2010/05/11/arts/music/11arts-BENEFITCONCE_BRF.html\n",
      "https://www.nytimes.com/2010/06/06/opinion/l06so.html\n",
      "https://query.nytimes.com/gst/fullpage.html?res=9C0DE6DC1F3DF933A05755C0A9669D8B63\n",
      "https://www.nytimes.com/2010/05/16/us/16missing.html\n",
      "https://www.nytimes.com/2010/04/21/arts/music/21new.html\n",
      "https://query.nytimes.com/gst/fullpage.html?res=9807E4DD143EF93AA25756C0A9669D8B63\n",
      "https://www.nytimes.com/2010/06/01/health/01mind.html\n",
      "https://www.nytimes.com/2010/05/07/arts/design/07fashioning.html\n",
      "https://www.nytimes.com/2010/06/22/books/22arts-THEWORLDOFPE_BRF.html\n",
      "https://query.nytimes.com/gst/fullpage.html?res=9F01E4D8133AF931A15754C0A9669D8B63\n",
      "https://www.nytimes.com/2010/06/18/business/media/18adco.html\n",
      "https://www.nytimes.com/2010/07/14/health/14fatigue.html\n",
      "https://www.nytimes.com/2010/06/10/business/10views.html\n",
      "https://www.nytimes.com/2010/07/09/business/economy/09econ.html\n",
      "https://www.nytimes.com/2010/06/27/sports/autoracing/27sportsbriefs-nascar.html\n",
      "https://www.nytimes.com/2010/08/05/pageoneplus/corrections.html\n",
      "https://query.nytimes.com/gst/fullpage.html?res=9F00E1DB1E3BF932A05754C0A9669D8B63\n",
      "https://www.nytimes.com/2010/08/14/business/media/14bizbriefs-NEWCHIEFEXEC_BRF.html\n",
      "https://www.nytimes.com/2010/07/18/fashion/18Letters.html\n",
      "https://www.nytimes.com/2010/07/27/nyregion/27heat.html\n",
      "https://www.nytimes.com/2010/08/31/pageoneplus/corrections.html\n",
      "https://query.nytimes.com/gst/fullpage.html?res=9C00E6DE1E30F931A2575AC0A9669D8B63\n",
      "https://www.nytimes.com/2010/08/09/opinion/09mon3.html\n",
      "https://www.nytimes.com/2010/08/27/us/27bcyudof.html\n",
      "https://www.nytimes.com/2010/08/18/opinion/18freisler.html\n",
      "https://www.nytimes.com/2010/08/22/travel/22Mexico.html\n",
      "https://query.nytimes.com/gst/fullpage.html?res=9E03E0D91F3AF93BA1575AC0A9669D8B63\n",
      "https://www.nytimes.com/2010/09/05/sports/soccer/05sportsbriefs-redbulls.html\n",
      "https://www.nytimes.com/2010/10/03/sports/baseball/03homer.html\n",
      "https://www.nytimes.com/2010/09/09/us/politics/09michelle.html\n",
      "https://query.nytimes.com/gst/fullpage.html?res=9502E2DD173AF932A05753C1A9669D8B63\n",
      "https://www.nytimes.com/2010/09/25/arts/music/25muti.html\n",
      "https://www.nytimes.com/2010/09/17/world/americas/17peru.html\n",
      "https://www.nytimes.com/2010/09/21/arts/21johnston.html\n",
      "https://www.nytimes.com/2010/11/30/arts/design/30picasso.html\n",
      "https://www.nytimes.com/2010/11/08/theater/08osborne.html\n",
      "https://query.nytimes.com/gst/fullpage.html?res=9806E0DC153CF933A25753C1A9669D8B63\n",
      "https://www.nytimes.com/2010/10/15/theater/15theater.html\n",
      "https://www.nytimes.com/2010/10/28/arts/music/28gill.html\n",
      "https://www.nytimes.com/2010/11/13/business/13shop.html\n",
      "https://www.nytimes.com/2010/10/07/technology/07facebook.html\n",
      "https://www.nytimes.com/2010/10/24/us/24bcweber.html\n",
      "https://www.nytimes.com/2010/12/20/us/politics/20food.html\n",
      "https://www.nytimes.com/2010/11/05/opinion/05fri2.html\n",
      "https://www.nytimes.com/2010/10/19/books/19jacobson.html\n",
      "https://www.nytimes.com/2010/11/17/books/17grossman.html\n",
      "https://query.nytimes.com/gst/fullpage.html?res=9E06E2DD143FF93AA35752C0A9669D8B63\n",
      "https://www.nytimes.com/2010/11/21/nyregion/21dineli.html\n",
      "https://www.nytimes.com/2010/12/08/arts/music/08rufus.html\n",
      "https://www.nytimes.com/2010/12/04/world/europe/04domain.html\n",
      "https://www.nytimes.com/2010/12/30/arts/design/30mecca.html\n",
      "https://www.nytimes.com/2010/01/01/us/01cncpulse2.html\n",
      "https://www.nytimes.com/2010/12/25/nyregion/25lottery.html\n",
      "https://www.nytimes.com/2010/01/17/movies/17dargis.html\n",
      "https://www.nytimes.com/2010/01/29/movies/29off.html\n",
      "https://www.nytimes.com/2010/12/15/dining/15minirex.html\n",
      "https://www.nytimes.com/2010/01/05/business/global/05tower.html\n",
      "https://www.nytimes.com/2010/02/02/opinion/02herbert.html\n",
      "https://www.nytimes.com/2010/01/13/movies/13avatar.html\n",
      "https://www.nytimes.com/2010/02/10/arts/music/10orchestra.html\n",
      "https://query.nytimes.com/gst/fullpage.html?res=9C01E2DD153EF936A15752C1A9669D8B63\n",
      "https://www.nytimes.com/2010/02/06/business/economy/06women.html\n",
      "https://www.nytimes.com/2010/02/18/books/excerpt-routes-of-man.html\n",
      "https://www.nytimes.com/2010/01/25/sports/25bowling.html\n",
      "https://www.nytimes.com/2010/03/07/world/middleeast/07kurds.html\n",
      "https://www.nytimes.com/2010/02/22/opinion/22krugman.html\n",
      "https://www.nytimes.com/2010/03/02/world/middleeast/02iran.html\n",
      "https://www.nytimes.com/2010/02/14/books/review/VonDrasek-t.html\n",
      "https://www.nytimes.com/2010/03/11/us/politics/11brfs-WHITEHOUSERE_BRF.html\n",
      "https://query.nytimes.com/gst/fullpage.html?res=9C0DE4D8163FF937A25750C0A9669D8B63\n",
      "https://query.nytimes.com/gst/fullpage.html?res=9B03E0DF163AF931A25757C0A9669D8B63\n",
      "https://www.nytimes.com/2010/02/26/travel/escapes/26icewine.html\n",
      "https://query.nytimes.com/gst/fullpage.html?res=940DE0D7133CF93BA35757C0A9669D8B63\n",
      "https://www.nytimes.com/2010/01/21/arts/dance/21rioult.html\n",
      "https://www.nytimes.com/2010/03/31/nyregion/31landlord.html\n",
      "https://www.nytimes.com/2010/03/23/world/europe/23russia.html\n",
      "https://www.nytimes.com/2010/03/27/us/27beliefs.html\n",
      "https://www.nytimes.com/2010/04/04/magazine/04lives-t.html\n",
      "https://query.nytimes.com/gst/fullpage.html?res=9503E4DB1239F930A15756C0A9669D8B63\n",
      "https://www.nytimes.com/2010/03/19/movies/19polanski.html\n",
      "https://query.nytimes.com/gst/fullpage.html?res=9B0DE2D8153AF930A25755C0A9669D8B63\n",
      "https://www.nytimes.com/2010/05/03/sports/golf/03golf.html\n",
      "https://www.nytimes.com/2010/04/17/theater/17oddman.html\n",
      "https://www.nytimes.com/2010/04/25/arts/television/25guys.html\n",
      "https://www.nytimes.com/2010/04/29/fashion/29GimletEye.html\n",
      "https://query.nytimes.com/gst/fullpage.html?res=9905E6D81230F937A35754C0A9669D8B63\n",
      "https://www.nytimes.com/2010/05/28/business/28air.html\n",
      "https://query.nytimes.com/gst/fullpage.html?res=9A0DE0D7173CF933A05755C0A9669D8B63\n",
      "https://www.nytimes.com/2010/05/11/arts/television/11arts-WALTERSTOUND_BRF.html\n",
      "https://www.nytimes.com/2010/06/06/us/06pensacola.html\n",
      "https://www.nytimes.com/2010/05/16/us/16farms.html\n",
      "https://query.nytimes.com/gst/fullpage.html?res=9D05E4DD143AF93AA25756C0A9669D8B63\n",
      "https://www.nytimes.com/2010/04/21/arts/music/21jackson.html\n",
      "https://www.nytimes.com/2010/06/01/us/01rave.html\n",
      "https://query.nytimes.com/gst/fullpage.html?res=9800E4D8133AF931A15754C0A9669D8B63\n",
      "https://www.nytimes.com/2010/05/07/arts/design/07guide.html\n",
      "https://www.nytimes.com/2010/06/22/business/global/22iht-peseta.html\n",
      "https://www.nytimes.com/2010/06/18/nyregion/18midwives.html\n",
      "https://www.nytimes.com/2010/07/14/world/europe/14jankowski.html\n",
      "https://www.nytimes.com/2010/06/10/us/politics/10nevada.html\n",
      "https://www.nytimes.com/2010/07/09/business/economy/09shop.html\n",
      "https://query.nytimes.com/gst/fullpage.html?res=9C00E2D9153DF932A05754C0A9669D8B63\n",
      "https://www.nytimes.com/2010/06/27/sports/othersports/27sportsbriefs-outdoors.html\n",
      "https://www.nytimes.com/2010/07/18/movies/18solodnz.html\n",
      "https://www.nytimes.com/2010/08/05/nyregion/05staten.html\n",
      "https://www.nytimes.com/2010/08/14/business/global/14bizbriefs-MERGERCREATE_BRF.html\n",
      "https://www.nytimes.com/2010/07/27/nyregion/27bigcity.html\n",
      "https://query.nytimes.com/gst/fullpage.html?res=9501EED91239F931A2575AC0A9669D8B63\n",
      "https://www.nytimes.com/2010/08/31/world/americas/31mexico.html\n",
      "https://www.nytimes.com/2010/08/09/world/europe/09grenoble.html\n",
      "https://query.nytimes.com/gst/fullpage.html?res=9C00E2DE1739F93BA1575AC0A9669D8B63\n",
      "https://www.nytimes.com/2010/08/18/dining/18melonside.html\n",
      "https://www.nytimes.com/2010/08/27/sports/baseball/27mets.html\n",
      "https://www.nytimes.com/2010/08/22/travel/22explorer-sidebar.html\n",
      "https://www.nytimes.com/2010/09/05/sports/autoracing/05sportsbriefs-irl.html\n",
      "https://www.nytimes.com/2010/10/03/world/middleeast/03iraq.html\n",
      "https://query.nytimes.com/gst/fullpage.html?res=9405E7DC173AF932A05753C1A9669D8B63\n",
      "https://www.nytimes.com/2010/09/09/sports/football/09nfl.html\n",
      "https://www.nytimes.com/2010/09/25/sports/25horses.html\n",
      "https://www.nytimes.com/2010/09/17/world/europe/17freeborn.html\n",
      "https://query.nytimes.com/gst/fullpage.html?res=940CE7DC143AF933A25753C1A9669D8B63\n",
      "https://www.nytimes.com/2010/11/30/science/30obshark.html\n",
      "https://www.nytimes.com/2010/11/08/arts/music/08carrie.html\n",
      "https://www.nytimes.com/2010/09/21/education/21college.html\n",
      "https://www.nytimes.com/2010/10/15/business/global/15clone.html\n",
      "https://www.nytimes.com/2010/10/28/technology/28compute.html\n",
      "https://www.nytimes.com/2010/11/13/business/13bizbriefs-FDAQUESTIONS_BRF.html\n",
      "https://www.nytimes.com/2010/10/24/us/24bcshort.html\n",
      "https://www.nytimes.com/2010/10/07/opinion/lweb07women.html\n",
      "https://www.nytimes.com/2010/12/20/sports/basketball/20sponsor.html\n",
      "https://www.nytimes.com/2010/11/05/opinion/05fri1.html\n",
      "https://www.nytimes.com/2010/10/19/arts/music/19till.html\n",
      "https://query.nytimes.com/gst/fullpage.html?res=9C04E3DA103FF93AA35752C0A9669D8B63\n",
      "https://www.nytimes.com/2010/11/17/arts/television/17playboy.html\n",
      "https://www.nytimes.com/2010/11/21/nyregion/21vinesli.html\n",
      "https://www.nytimes.com/2010/12/08/books/08book.html\n",
      "https://www.nytimes.com/2010/12/04/business/global/04yuan.html\n",
      "https://www.nytimes.com/2010/12/30/pageoneplus/corrections.html\n",
      "https://www.nytimes.com/2010/12/25/sports/25sportsbriefs-SUPPORTFORNE_BRF.html\n",
      "https://www.nytimes.com/2010/01/01/us/01sfmetro.html\n",
      "https://www.nytimes.com/2010/01/17/books/review/Letters-t-CORRECTIONS-2.html\n",
      "https://www.nytimes.com/2010/01/29/arts/29kids.html\n",
      "https://query.nytimes.com/gst/fullpage.html?res=9D04E7DB1530F936A25751C1A9669D8B63\n",
      "https://www.nytimes.com/2010/01/05/nyregion/05marriage.html\n",
      "https://www.nytimes.com/2010/02/02/opinion/02brooks.html\n",
      "https://www.nytimes.com/2010/01/13/greathomesanddestinations/13gh-househunting.html\n",
      "https://query.nytimes.com/gst/fullpage.html?res=9B0CE0DA143AF936A15752C1A9669D8B63\n",
      "https://www.nytimes.com/2010/02/10/greathomesanddestinations/10gh-istanbul.html\n",
      "https://www.nytimes.com/2010/02/06/business/global/06air.html\n",
      "https://www.nytimes.com/2010/01/25/sports/olympics/25winter.html\n",
      "https://www.nytimes.com/2010/02/18/books/18book.html\n",
      "https://www.nytimes.com/2010/02/22/opinion/lweb22greece.html\n",
      "https://www.nytimes.com/2010/03/07/us/politics/07address.html\n",
      "https://www.nytimes.com/2010/02/14/books/review/Posesorski-t.html\n",
      "https://query.nytimes.com/gst/fullpage.html?res=9F04EFDF163AF931A25757C0A9669D8B63\n",
      "https://query.nytimes.com/gst/fullpage.html?res=9900E4DE1F31F937A25750C0A9669D8B63\n",
      "https://www.nytimes.com/2010/03/02/health/02glob.html\n",
      "https://www.nytimes.com/2010/02/26/sports/olympics/26loo.html\n",
      "https://query.nytimes.com/gst/fullpage.html?res=9501E3D71F3AF93BA35757C0A9669D8B63\n",
      "https://www.nytimes.com/2010/03/11/us/politics/11brfs-NEWBOOKFORNE_BRF.html\n",
      "https://www.nytimes.com/2010/01/21/world/europe/21london.html\n",
      "https://www.nytimes.com/2010/03/31/sports/ncaabasketball/31mack.html\n",
      "https://query.nytimes.com/gst/fullpage.html?res=9B0DE1D61639F930A15756C0A9669D8B63\n",
      "https://www.nytimes.com/2010/03/27/world/asia/27kandahar.html\n",
      "https://www.nytimes.com/2010/03/23/opinion/23greenberg.html\n",
      "https://www.nytimes.com/2010/03/19/sports/ncaabasketball/19butler.html\n",
      "https://query.nytimes.com/gst/fullpage.html?res=9E02E1DF173EF930A25755C0A9669D8B63\n",
      "https://www.nytimes.com/2010/04/04/magazine/04fob-wwln-t.html\n",
      "https://www.nytimes.com/2010/05/03/nyregion/03torah.html\n",
      "https://query.nytimes.com/gst/fullpage.html?res=9806E0D9123AF937A35754C0A9669D8B63\n",
      "https://www.nytimes.com/2010/04/17/arts/music/17musicians.html\n",
      "https://www.nytimes.com/2010/04/25/arts/television/25friday.html\n",
      "https://www.nytimes.com/2010/05/28/nyregion/28lottery.html\n",
      "https://www.nytimes.com/2010/04/29/world/asia/29afghan.html\n",
      "https://query.nytimes.com/gst/fullpage.html?res=9503E1DE153CF933A05755C0A9669D8B63\n",
      "https://www.nytimes.com/2010/05/11/theater/11arts-TONYWINNINGT_BRF.html\n",
      "https://www.nytimes.com/2010/06/06/opinion/l06salt.html\n",
      "https://query.nytimes.com/gst/fullpage.html?res=9C0CEFDC153EF93AA25756C0A9669D8B63\n",
      "https://www.nytimes.com/2010/05/16/nyregion/16suspect.html\n",
      "https://query.nytimes.com/gst/fullpage.html?res=9505E4D8133AF931A15754C0A9669D8B63\n",
      "https://www.nytimes.com/2010/06/01/science/01cassava.html\n",
      "https://www.nytimes.com/2010/04/21/arts/television/21arts-MADMENSETSSU_BRF.html\n",
      "https://www.nytimes.com/2010/05/07/movies/07babies.html\n",
      "https://www.nytimes.com/2010/06/22/books/22book.html\n",
      "https://www.nytimes.com/2010/06/18/opinion/18beckerman.html\n",
      "https://www.nytimes.com/2010/07/14/arts/music/14hawkins.html\n",
      "https://www.nytimes.com/2010/07/09/world/europe/09norway.html\n",
      "https://www.nytimes.com/2010/06/10/business/10securities.html\n",
      "https://query.nytimes.com/gst/fullpage.html?res=9C06EFDD153DF932A05754C0A9669D8B63\n",
      "https://www.nytimes.com/2010/06/27/sports/othersports/27sportsbriefs-softball.html\n",
      "https://www.nytimes.com/2010/07/18/realestate/18posting.html\n",
      "https://www.nytimes.com/2010/08/05/sports/baseball/05bats.html\n",
      "https://query.nytimes.com/gst/fullpage.html?res=9C0CEED7153CF931A2575AC0A9669D8B63\n",
      "https://www.nytimes.com/2010/08/14/opinion/14schuck.html\n",
      "https://www.nytimes.com/2010/07/27/sports/football/27concussion.html\n",
      "https://query.nytimes.com/gst/fullpage.html?res=9E00E3DA1639F93BA1575AC0A9669D8B63\n",
      "https://www.nytimes.com/2010/08/31/opinion/31brooks.html\n",
      "https://www.nytimes.com/2010/08/09/world/africa/09somalia.html\n",
      "https://www.nytimes.com/2010/08/27/business/27views.html\n",
      "https://www.nytimes.com/2010/08/18/dining/18melons.html\n",
      "https://www.nytimes.com/2010/08/22/travel/22explorer.html\n",
      "https://www.nytimes.com/2010/09/05/sports/ncaafootball/05unc.html\n",
      "https://query.nytimes.com/gst/fullpage.html?res=9401E0DD173AF932A05753C1A9669D8B63\n",
      "https://www.nytimes.com/2010/10/03/sports/baseball/03hitters.html\n",
      "https://www.nytimes.com/2010/09/09/us/09list.html\n",
      "https://query.nytimes.com/gst/fullpage.html?res=9A03E7D6153CF933A25753C1A9669D8B63\n",
      "https://www.nytimes.com/2010/09/25/sports/25leadingoff.html\n",
      "https://www.nytimes.com/2010/09/17/sports/ncaafootball/17sportsbriefs-ncstate.html\n",
      "https://www.nytimes.com/2010/11/08/movies/08clayburgh.html\n",
      "https://www.nytimes.com/2010/11/30/arts/music/30davis.html\n",
      "https://www.nytimes.com/2010/09/21/nyregion/21hochfelder.html\n",
      "https://www.nytimes.com/2010/10/15/world/europe/15trip.html\n",
      "https://www.nytimes.com/2010/10/28/sports/baseball/28tyler.html\n",
      "https://www.nytimes.com/2010/11/13/business/13bizbriefs-PRUDENTIALSE_BRF.html\n",
      "https://www.nytimes.com/2010/10/07/nyregion/07yale.html\n",
      "https://www.nytimes.com/2010/11/05/opinion/05fri3.html\n",
      "https://www.nytimes.com/2010/10/24/sports/ncaafootball/24auburn.html\n",
      "https://www.nytimes.com/2010/12/20/opinion/lweb20recreation.html\n",
      "https://query.nytimes.com/gst/fullpage.html?res=9900EEDC123AF93AA35752C0A9669D8B63\n",
      "https://www.nytimes.com/2010/10/19/science/19quake.html\n",
      "https://www.nytimes.com/2010/11/17/theater/reviews/17personal.html\n",
      "https://www.nytimes.com/2010/11/21/nyregion/21dinewe.html\n",
      "https://www.nytimes.com/2010/12/04/world/middleeast/04israel.html\n",
      "https://www.nytimes.com/2010/12/08/us/politics/08cong-doc.html\n",
      "https://www.nytimes.com/2010/01/01/us/01cncpulse.html\n",
      "https://www.nytimes.com/2010/12/30/world/europe/30moscow.html\n",
      "https://www.nytimes.com/2010/12/25/sports/hockey/25sportsbriefs-SABRESLEADIN_BRF.html\n",
      "https://www.nytimes.com/2010/01/17/books/review/Letters-t-CORRECTIONS-1.html\n",
      "https://www.nytimes.com/2010/01/29/arts/music/29classical.html\n",
      "https://query.nytimes.com/gst/fullpage.html?res=9C07EED6123DF936A25751C1A9669D8B63\n",
      "https://www.nytimes.com/2010/01/05/business/05biogen.html\n",
      "https://query.nytimes.com/gst/fullpage.html?res=9E03E4DD153EF936A15752C1A9669D8B63\n",
      "https://www.nytimes.com/2010/02/02/opinion/lweb02finance.html\n",
      "https://www.nytimes.com/2010/01/13/theater/reviews/13silver.html\n",
      "https://www.nytimes.com/2010/02/10/business/10coke.html\n",
      "https://www.nytimes.com/2010/02/18/technology/18code.html\n",
      "https://www.nytimes.com/2010/01/25/sports/olympics/25bright.html\n",
      "https://www.nytimes.com/2010/02/06/health/06flu.html\n",
      "https://www.nytimes.com/2010/03/07/fashion/06TRENDS.html\n",
      "https://www.nytimes.com/2010/02/22/opinion/l22stamps.html\n",
      "https://query.nytimes.com/gst/fullpage.html?res=9E06E3DC1E3AF937A25750C0A9669D8B63\n",
      "https://query.nytimes.com/gst/fullpage.html?res=9804EEDF163AF931A25757C0A9669D8B63\n",
      "https://www.nytimes.com/2010/02/14/books/review/Crime-t.html\n",
      "https://www.nytimes.com/2010/03/02/world/europe/02georgia.html\n",
      "https://query.nytimes.com/gst/fullpage.html?res=9902E2DD173CF93BA35757C0A9669D8B63\n",
      "https://www.nytimes.com/2010/02/26/world/middleeast/26mideast.html\n",
      "https://www.nytimes.com/2010/01/21/health/policy/21health.html\n",
      "https://query.nytimes.com/gst/fullpage.html?res=9802E5D8163FF930A15756C0A9669D8B63\n",
      "https://www.nytimes.com/2010/03/31/nyregion/31lottery.html\n",
      "https://www.nytimes.com/2010/03/11/us/politics/11brfs-SENATEAPPROV_BRF.html\n",
      "https://query.nytimes.com/gst/fullpage.html?res=9C05E0DC173AF930A25755C0A9669D8B63\n",
      "https://www.nytimes.com/2010/03/27/health/policy/27threats.html\n",
      "https://www.nytimes.com/2010/03/23/us/politics/23florida.html\n",
      "https://www.nytimes.com/2010/03/19/us/19sanford.html\n",
      "https://www.nytimes.com/2010/04/04/movies/04jesuits.html\n",
      "https://www.nytimes.com/2010/05/03/sports/golf/03pga.html\n",
      "https://query.nytimes.com/gst/fullpage.html?res=9500EEDE133DF937A35754C0A9669D8B63\n",
      "https://www.nytimes.com/2010/04/17/arts/television/17dateline.html\n",
      "https://query.nytimes.com/gst/fullpage.html?res=9C01E2D9163CF933A05755C0A9669D8B63\n",
      "https://www.nytimes.com/2010/05/28/world/africa/28zimbabwe.html\n",
      "https://www.nytimes.com/2010/04/25/arts/25abroad.html\n",
      "https://query.nytimes.com/gst/fullpage.html?res=9F04E3DD143AF93AA25756C0A9669D8B63\n",
      "https://www.nytimes.com/2010/04/29/us/29workers.html\n",
      "https://www.nytimes.com/2010/05/11/arts/television/11arts-CBSTOPSSUNDA_BRF.html\n",
      "https://www.nytimes.com/2010/07/23/world/middleeast/23briefs-Mideast.html\n",
      "https://www.nytimes.com/2010/06/06/business/06corner.html\n",
      "https://www.nytimes.com/2010/05/16/opinion/16kristof.html\n",
      "https://www.nytimes.com/2010/06/01/world/middleeast/01turkey.html\n",
      "https://www.nytimes.com/2010/04/21/movies/21arts-PRODUCTIONSU_BRF.html\n",
      "https://www.nytimes.com/2010/05/07/business/07evict.html\n",
      "https://www.nytimes.com/2010/06/22/technology/22reader.html\n",
      "https://www.nytimes.com/2010/07/14/sports/ncaafootball/14sportsbriefs-michigan.html\n",
      "https://www.nytimes.com/2010/06/10/business/media/10viacom.html\n",
      "https://query.nytimes.com/gst/fullpage.html?res=9804EFD6153AF932A05754C0A9669D8B63\n",
      "https://www.nytimes.com/2010/06/18/us/politics/18beach.html\n",
      "https://www.nytimes.com/2010/07/09/business/09markets.html\n",
      "https://www.nytimes.com/2010/06/27/sports/27sportsbriefs-draft.html\n",
      "https://www.nytimes.com/2010/07/18/realestate/18block.html\n",
      "https://www.nytimes.com/2010/08/05/us/05latest.html\n",
      "https://www.nytimes.com/2010/08/14/us/14dolby.html\n",
      "https://query.nytimes.com/gst/fullpage.html?res=9C00E4DA1739F931A2575AC0A9669D8B63\n",
      "https://query.nytimes.com/gst/fullpage.html?res=9F02E0D91F3AF93BA1575AC0A9669D8B63\n",
      "https://www.nytimes.com/2010/07/27/nyregion/27fire.html\n",
      "https://www.nytimes.com/2010/08/31/arts/television/31cxn-06.html\n",
      "https://www.nytimes.com/2010/08/09/business/media/09adco.html\n",
      "https://www.nytimes.com/2010/08/27/nyregion/27soares.html\n",
      "https://www.nytimes.com/2010/08/22/nyregion/22joint.html\n",
      "https://www.nytimes.com/2010/09/05/sports/baseball/05bats.html\n",
      "https://query.nytimes.com/gst/fullpage.html?res=9E06E2D91138F932A05753C1A9669D8B63\n",
      "https://www.nytimes.com/2010/08/18/dining/18melonrex1.html\n",
      "https://query.nytimes.com/gst/fullpage.html?res=9C05E3DD163AF933A25753C1A9669D8B63\n",
      "https://www.nytimes.com/2010/10/03/sports/soccer/03soccer.html\n",
      "https://www.nytimes.com/2010/09/09/sports/golf/09golf.html\n",
      "https://www.nytimes.com/2010/09/25/arts/25fisher.html\n",
      "https://www.nytimes.com/2010/09/17/us/17bcjames.html\n",
      "https://www.nytimes.com/2010/11/08/sports/08haile.html\n",
      "https://www.nytimes.com/2010/11/30/science/30obmammals.html\n",
      "https://www.nytimes.com/2010/09/21/world/africa/21briefs-SOMALIA.html\n",
      "https://www.nytimes.com/2010/11/13/sports/ncaafootball/13colleges.html\n",
      "https://www.nytimes.com/2010/10/15/arts/design/15change.html\n",
      "https://www.nytimes.com/2010/10/28/sports/baseball/28series.html\n",
      "https://www.nytimes.com/2010/11/05/opinion/lweb05asteroid.html\n",
      "https://www.nytimes.com/2010/10/07/sports/baseball/07sfgiants.html\n",
      "https://query.nytimes.com/gst/fullpage.html?res=9807E7DB123AF93AA35752C0A9669D8B63\n",
      "https://www.nytimes.com/2010/10/24/business/24backpage-SMARTCARDSAB_LETTERS.html\n",
      "https://www.nytimes.com/2010/10/19/arts/design/19sunflower.html\n",
      "https://www.nytimes.com/2010/12/20/opinion/l20tenure.html\n",
      "https://www.nytimes.com/2010/11/17/arts/music/17sufjan.html\n",
      "https://www.nytimes.com/2010/11/21/nyregion/21qbitewe.html\n",
      "https://www.nytimes.com/2010/12/04/world/asia/04korea.html\n",
      "https://www.nytimes.com/2010/12/08/realestate/commercial/08harbor.html\n",
      "https://www.nytimes.com/2010/01/01/dining/01sfdine.html\n",
      "https://www.nytimes.com/2010/12/30/nyregion/30cuomo.html\n",
      "https://www.nytimes.com/2010/12/25/sports/ncaafootball/25sportsbriefs-EVALUATIONAT_BRF.html\n",
      "https://query.nytimes.com/gst/fullpage.html?res=9E0DE7D8153AF936A25751C1A9669D8B63\n",
      "https://query.nytimes.com/gst/fullpage.html?res=9F00E0DA143AF936A15752C1A9669D8B63\n",
      "https://www.nytimes.com/2010/01/17/books/review/Bookshelf-t.html\n",
      "https://www.nytimes.com/2010/01/29/books/29appraisal.html\n",
      "https://www.nytimes.com/2010/01/05/world/europe/05belarus.html\n",
      "https://www.nytimes.com/2010/01/13/sports/olympics/13freestyle.html\n",
      "https://www.nytimes.com/2010/02/02/opinion/l02parents.html\n",
      "https://www.nytimes.com/2010/02/18/business/18ftc.html\n",
      "https://www.nytimes.com/2010/02/10/business/media/10disney.html\n",
      "https://www.nytimes.com/2010/01/25/nyregion/25stuy.html\n",
      "https://query.nytimes.com/gst/fullpage.html?res=9504EFDB113DF937A25750C0A9669D8B63\n",
      "https://www.nytimes.com/2010/02/22/opinion/l22aide.html\n",
      "https://www.nytimes.com/2010/02/06/world/middleeast/06gaza.html\n",
      "https://www.nytimes.com/2010/03/07/realestate/07rcxn-002.html\n",
      "https://query.nytimes.com/gst/fullpage.html?res=9F07E0DF163AF931A25757C0A9669D8B63\n",
      "https://www.nytimes.com/2010/02/14/books/review/Wheatcroft-t.html\n",
      "https://query.nytimes.com/gst/fullpage.html?res=980CE3D71F3AF93BA35757C0A9669D8B63\n",
      "https://www.nytimes.com/2010/03/02/science/02evo.html\n",
      "https://query.nytimes.com/gst/fullpage.html?res=9E02E7D71030F930A15756C0A9669D8B63\n",
      "https://www.nytimes.com/2010/02/26/business/global/26greece.html\n",
      "https://www.nytimes.com/2010/01/21/movies/21sundance.html\n",
      "https://query.nytimes.com/gst/fullpage.html?res=9505EFDB153AF930A25755C0A9669D8B63\n",
      "https://www.nytimes.com/2010/03/31/nyregion/31budget.html\n",
      "https://www.nytimes.com/2010/03/11/health/policy/11brfs-OPTINGTOREFU_BRF.html\n",
      "https://www.nytimes.com/2010/03/23/business/media/23rosie.html\n",
      "https://www.nytimes.com/2010/03/27/world/africa/27briefs-Mozambique.html\n",
      "https://www.nytimes.com/2010/04/04/movies/04date.html\n",
      "https://query.nytimes.com/gst/fullpage.html?res=9801E1D9123AF937A35754C0A9669D8B63\n",
      "https://www.nytimes.com/2010/03/19/business/global/19drachma.html\n",
      "https://query.nytimes.com/gst/fullpage.html?res=9D07E0DB123AF933A05755C0A9669D8B63\n",
      "https://www.nytimes.com/2010/05/03/sports/hockey/03nhl.html\n",
      "https://www.nytimes.com/2010/04/17/arts/design/17liberty.html\n",
      "https://query.nytimes.com/gst/fullpage.html?res=950DEEDC153EF93AA25756C0A9669D8B63\n",
      "https://www.nytimes.com/2010/05/28/sports/hockey/28hockey.html\n",
      "https://www.nytimes.com/2010/04/25/magazine/25food-t.html\n",
      "https://www.nytimes.com/2010/04/29/fashion/29scouting.html\n",
      "https://www.nytimes.com/2010/05/11/theater/11arts-KRISTINCHENO_BRF.html\n",
      "https://www.nytimes.com/2010/07/23/world/asia/23briefs-Tibet.html\n",
      "https://www.nytimes.com/2010/06/06/business/06view.html\n",
      "https://www.nytimes.com/2010/05/16/us/politics/16derivatives.html\n",
      "https://www.nytimes.com/2010/05/07/books/07book.html\n",
      "https://www.nytimes.com/2010/06/01/arts/music/01future.html\n",
      "https://www.nytimes.com/2010/04/21/arts/21arts-SUSANBOYLESS_BRF.html\n",
      "https://www.nytimes.com/2010/07/14/sports/14sportsbriefs-TO.html\n",
      "https://www.nytimes.com/2010/06/22/science/22conv.html\n",
      "https://query.nytimes.com/gst/fullpage.html?res=9D0CE7DD103AF932A05754C0A9669D8B63\n",
      "https://www.nytimes.com/2010/06/10/business/10antitrust.html\n",
      "https://www.nytimes.com/2010/06/18/movies/18nature.html\n",
      "https://www.nytimes.com/2010/07/09/world/middleeast/09iraq.html\n",
      "https://www.nytimes.com/2010/06/27/crosswords/chess/27chess.html\n",
      "https://www.nytimes.com/2010/08/05/world/europe/05levy.html\n",
      "https://www.nytimes.com/2010/07/18/realestate/18living.html\n",
      "https://query.nytimes.com/gst/fullpage.html?res=990CE0D81E3AF931A2575AC0A9669D8B63\n",
      "https://www.nytimes.com/2010/08/14/sports/baseball/14citifield.html\n",
      "https://query.nytimes.com/gst/fullpage.html?res=9B06E5DA1739F93BA1575AC0A9669D8B63\n",
      "https://www.nytimes.com/2010/08/31/arts/dance/31arts-DANCINGINTHE_BRF.html\n",
      "https://www.nytimes.com/2010/07/27/opinion/lweb27home.html\n",
      "https://www.nytimes.com/2010/08/22/travel/22hours.html\n",
      "https://query.nytimes.com/gst/fullpage.html?res=9D06E7DE1F30F932A05753C1A9669D8B63\n",
      "https://www.nytimes.com/2010/08/09/nyregion/09lamont.html\n",
      "https://www.nytimes.com/2010/09/05/sports/ncaafootball/05east.html\n",
      "https://www.nytimes.com/2010/08/27/us/27cnczagel.html\n",
      "https://query.nytimes.com/gst/fullpage.html?res=9C07E2D7103AF933A25753C1A9669D8B63\n",
      "https://www.nytimes.com/2010/10/03/world/asia/03binladen.html\n",
      "https://www.nytimes.com/2010/09/09/us/09protests.html\n",
      "https://www.nytimes.com/2010/09/25/world/asia/25kabul.html\n",
      "https://www.nytimes.com/2010/09/17/sports/football/17sportsbriefs-chargers.html\n",
      "https://www.nytimes.com/2010/11/30/science/30qna.html\n",
      "https://www.nytimes.com/2010/11/08/technology/08browser.html\n",
      "https://www.nytimes.com/2010/10/15/us/15bomber.html\n",
      "https://www.nytimes.com/2010/08/18/dining/18melonrex3.html\n",
      "https://www.nytimes.com/2010/09/21/pageoneplus/corrections.html\n",
      "https://www.nytimes.com/2010/11/13/world/asia/13swat.html\n",
      "https://www.nytimes.com/2010/10/28/education/28college.html\n",
      "https://www.nytimes.com/2010/11/05/opinion/l05pontiac.html\n",
      "https://query.nytimes.com/gst/fullpage.html?res=9B0DEFDC123AF93AA35752C0A9669D8B63\n",
      "https://www.nytimes.com/2010/10/07/nyregion/07lotto.html\n",
      "https://www.nytimes.com/2010/10/24/us/24bcmarijuana.html\n",
      "https://www.nytimes.com/2010/12/20/opinion/l20detroit.html\n",
      "https://www.nytimes.com/2010/10/19/arts/music/19newindie.html\n",
      "https://www.nytimes.com/2010/11/17/theater/reviews/17ghost.html\n",
      "https://www.nytimes.com/2010/11/21/nyregion/21dinect.html\n",
      "https://www.nytimes.com/2010/12/08/sports/ncaabasketball/08hurley.html\n",
      "https://query.nytimes.com/gst/fullpage.html?res=9C01E6D91F3EF937A35751C1A9669D8B63\n",
      "https://query.nytimes.com/gst/fullpage.html?res=9403EED9153AF936A25751C1A9669D8B63\n",
      "https://www.nytimes.com/2010/12/30/world/americas/30venez.html\n",
      "https://query.nytimes.com/gst/fullpage.html?res=9C0CEFDB1E3DF936A15752C1A9669D8B63\n",
      "https://www.nytimes.com/2010/01/01/us/01sfzeppelin.html\n",
      "https://www.nytimes.com/2010/12/25/sports/ncaabasketball/25sportsbriefs-MISSISSIPPIS_BRF.html\n",
      "https://www.nytimes.com/2010/01/17/books/review/Vizzini-t.html\n",
      "https://www.nytimes.com/2010/01/29/technology/29motorola.html\n",
      "https://www.nytimes.com/2010/01/05/business/global/05iht-drug.html\n",
      "https://www.nytimes.com/2010/02/18/world/middleeast/18dubai.html\n",
      "https://www.nytimes.com/2010/01/13/arts/music/13chamber.html\n",
      "https://www.nytimes.com/2010/02/02/opinion/l02tsa.html\n",
      "https://www.nytimes.com/2010/02/10/arts/dance/10aperture.html\n",
      "https://query.nytimes.com/gst/fullpage.html?res=9B01EEDD1E3AF937A25750C0A9669D8B63\n",
      "https://www.nytimes.com/2010/01/25/sports/olympics/25whockey.html\n",
      "https://query.nytimes.com/gst/fullpage.html?res=9A01EFDF163AF931A25757C0A9669D8B63\n",
      "https://www.nytimes.com/2010/03/07/realestate/07rcxn-001.html\n",
      "https://www.nytimes.com/2010/02/06/crosswords/bridge/06card.html\n",
      "https://www.nytimes.com/2010/02/22/opinion/22mon4.html\n",
      "https://query.nytimes.com/gst/fullpage.html?res=9D0CE7DC1E38F93BA35757C0A9669D8B63\n",
      "https://www.nytimes.com/2010/03/02/health/02heart.html\n",
      "https://query.nytimes.com/gst/fullpage.html?res=9C0CE5DF173EF930A15756C0A9669D8B63\n",
      "https://www.nytimes.com/2010/02/14/books/review/Rosen-t.html\n",
      "https://query.nytimes.com/gst/fullpage.html?res=9F0CE4DA1739F930A25755C0A9669D8B63\n",
      "https://www.nytimes.com/2010/02/26/health/policy/26health.html\n",
      "https://www.nytimes.com/2010/01/21/fashion/21kids.html\n",
      "https://www.nytimes.com/2010/03/23/business/global/23levy.html\n",
      "https://www.nytimes.com/2010/03/31/nyregion/31skyler.html\n",
      "https://www.nytimes.com/2010/03/11/us/11brfs-EXCOUNCILWOM_BRF.html\n",
      "https://www.nytimes.com/2010/04/04/books/review/Wulf-t.html\n",
      "https://www.nytimes.com/2010/03/27/health/policy/27massgov.html\n",
      "https://query.nytimes.com/gst/fullpage.html?res=9B01E5D9113CF937A35754C0A9669D8B63\n",
      "https://query.nytimes.com/gst/fullpage.html?res=9F06E3D7173CF933A05755C0A9669D8B63\n",
      "https://www.nytimes.com/2010/03/19/nyregion/19nyc.html\n",
      "https://query.nytimes.com/gst/fullpage.html?res=9C0CE4DD143AF93AA25756C0A9669D8B63\n",
      "https://www.nytimes.com/2010/05/03/us/03hepatitis.html\n",
      "https://www.nytimes.com/2010/04/17/arts/dance/17vincent.html\n",
      "https://www.nytimes.com/2010/04/25/magazine/25food-t-001.html\n",
      "https://www.nytimes.com/2010/05/28/business/28mercury.html\n",
      "https://www.nytimes.com/2010/04/29/sports/basketball/29lakers.html\n",
      "https://www.nytimes.com/2010/05/11/theater/11arts-YANKANNOUNCE_BRF.html\n",
      "https://www.nytimes.com/2010/07/23/sports/cricket/23sportsbriefs-wicket.html\n",
      "https://www.nytimes.com/2010/06/06/us/06peak.html\n",
      "https://www.nytimes.com/2010/05/16/us/politics/16murtha.html\n",
      "https://www.nytimes.com/2010/05/07/books/excerpt-crisis-economics.html\n",
      "https://www.nytimes.com/2010/06/01/health/01glob.html\n",
      "https://www.nytimes.com/2010/07/14/world/americas/14briefs-3DRUGSUSPECT_BRF.html\n",
      "https://query.nytimes.com/gst/fullpage.html?res=9E0DE2D7143DF932A05754C0A9669D8B63\n",
      "https://www.nytimes.com/2010/06/10/business/media/10adco.html\n",
      "https://www.nytimes.com/2010/04/21/arts/television/21arts-BRAVODEVELOP_BRF.html\n",
      "https://www.nytimes.com/2010/06/22/science/22egypt.html\n",
      "https://www.nytimes.com/2010/06/18/sports/baseball/18citifield.html\n",
      "https://www.nytimes.com/2010/07/09/world/europe/09russia.html\n",
      "https://www.nytimes.com/2010/08/05/us/politics/05alaska.html\n",
      "https://query.nytimes.com/gst/fullpage.html?res=9E04E6D71E3AF931A2575AC0A9669D8B63\n",
      "https://www.nytimes.com/2010/06/27/world/asia/27prexy.html\n",
      "https://query.nytimes.com/gst/fullpage.html?res=9802EFDD1739F93BA1575AC0A9669D8B63\n",
      "https://www.nytimes.com/2010/07/18/realestate/18hunt.html\n",
      "https://www.nytimes.com/2010/08/14/your-money/credit-and-debit-cards/14money.html\n",
      "https://www.nytimes.com/2010/08/31/technology/31autodesk.html\n",
      "https://query.nytimes.com/gst/fullpage.html?res=9803E4DE1539F932A05753C1A9669D8B63\n",
      "https://www.nytimes.com/2010/07/27/world/europe/27paris.html\n",
      "https://www.nytimes.com/2010/08/22/arts/music/22perry.html\n",
      "https://www.nytimes.com/2010/08/09/business/09views.html\n",
      "https://www.nytimes.com/2010/09/05/us/politics/05dems.html\n",
      "https://query.nytimes.com/gst/fullpage.html?res=940DEFD8133EF933A25753C1A9669D8B63\n",
      "https://www.nytimes.com/2010/08/27/us/27cncdryport.html\n",
      "https://www.nytimes.com/2010/10/03/sports/football/03jets.html\n",
      "https://www.nytimes.com/2010/09/09/nyregion/09backschool.html\n",
      "https://www.nytimes.com/2010/09/25/arts/television/25dogs.html\n",
      "https://www.nytimes.com/2010/09/17/us/17bcproxies.html\n",
      "https://www.nytimes.com/2010/11/30/business/energy-environment/30utilities.html\n",
      "https://www.nytimes.com/2010/10/15/world/americas/15copiapo.html\n",
      "https://www.nytimes.com/2010/11/08/us/08forces.html\n",
      "https://www.nytimes.com/2010/09/21/science/earth/21stove.html\n",
      "https://www.nytimes.com/2010/10/28/business/28friday.html\n",
      "https://query.nytimes.com/gst/fullpage.html?res=940CEFDC123AF93AA35752C0A9669D8B63\n",
      "https://www.nytimes.com/2010/11/13/world/europe/13sarrazin.html\n",
      "https://www.nytimes.com/2010/11/05/opinion/05brooks.html\n",
      "https://www.nytimes.com/2010/10/07/opinion/l07gay.html\n",
      "https://www.nytimes.com/2010/10/24/business/24backpage-THATWIDEINCO_LETTERS.html\n",
      "https://www.nytimes.com/2010/08/18/dining/18melonrex2.html\n",
      "https://www.nytimes.com/2010/12/20/opinion/l20energy.html\n",
      "https://www.nytimes.com/2010/10/19/sports/football/19hits.html\n",
      "https://www.nytimes.com/2010/11/21/nyregion/21qbitect.html\n",
      "https://www.nytimes.com/2010/11/17/business/17tax.html\n",
      "https://query.nytimes.com/gst/fullpage.html?res=9403E2DF153AF937A35751C1A9669D8B63\n",
      "https://query.nytimes.com/gst/fullpage.html?res=9904E6DE1230F936A25751C1A9669D8B63\n",
      "https://www.nytimes.com/2010/12/08/sports/08olympics.html\n",
      "https://www.nytimes.com/2010/12/30/world/asia/30pashtun.html\n",
      "https://query.nytimes.com/gst/fullpage.html?res=9C03E3DD153EF936A15752C1A9669D8B63\n",
      "https://www.nytimes.com/2010/01/17/books/review/Edinger-t.html\n",
      "https://www.nytimes.com/2010/12/25/sports/soccer/25sportsbriefs-INTERMILANHI_BRF.html\n",
      "https://www.nytimes.com/2010/01/01/nyregion/01celebrations.html\n",
      "https://www.nytimes.com/2010/01/29/movies/29when.html\n",
      "https://www.nytimes.com/2010/02/18/movies/18tongue.html\n",
      "https://www.nytimes.com/2010/01/05/us/05appeal.html\n",
      "https://www.nytimes.com/2010/01/13/arts/television/13arts-RATHERSAPPEA_BRF.html\n",
      "https://query.nytimes.com/gst/fullpage.html?res=9F03E1D71130F937A25750C0A9669D8B63\n",
      "https://www.nytimes.com/2010/02/02/us/02corrections-02.html\n",
      "https://www.nytimes.com/2010/02/10/greathomesanddestinations/10gh-househunting.html\n",
      "https://query.nytimes.com/gst/fullpage.html?res=9906EFDF163AF931A25757C0A9669D8B63\n",
      "https://www.nytimes.com/2010/01/25/sports/olympics/25skate.html\n",
      "https://www.nytimes.com/2010/03/07/fashion/07Smoo.html\n",
      "https://www.nytimes.com/2010/02/22/opinion/22mon3.html\n",
      "https://www.nytimes.com/2010/02/06/arts/music/06cactus.html\n",
      "https://query.nytimes.com/gst/fullpage.html?res=9E02E3D71F3AF93BA35757C0A9669D8B63\n",
      "https://query.nytimes.com/gst/fullpage.html?res=9807E4DF173EF930A15756C0A9669D8B63\n",
      "https://query.nytimes.com/gst/fullpage.html?res=980CE1DF173EF930A25755C0A9669D8B63\n",
      "https://www.nytimes.com/2010/03/02/arts/music/02gabriel.html\n",
      "https://www.nytimes.com/2010/02/14/books/review/Caramanica-t.html\n",
      "https://www.nytimes.com/2010/02/26/technology/26palm.html\n",
      "https://www.nytimes.com/2010/01/21/garden/21shop.html\n",
      "https://www.nytimes.com/2010/03/31/nyregion/31rikers.html\n",
      "https://www.nytimes.com/2010/03/23/business/23sorkin.html\n",
      "https://www.nytimes.com/2010/03/11/technology/11distracted.html\n",
      "https://www.nytimes.com/2010/04/04/books/review/Letters-t-INPRAISEOFST_LETTERS.html\n",
      "https://www.nytimes.com/2010/03/27/world/middleeast/27briefs-Egyptbrief.html\n",
      "https://query.nytimes.com/gst/fullpage.html?res=9D06E1DB123AF933A05755C0A9669D8B63\n",
      "https://query.nytimes.com/gst/fullpage.html?res=9803E5DA153EF937A35754C0A9669D8B63\n",
      "https://www.nytimes.com/2010/05/20/arts/music/20arts-SALESOFALBUM_BRF.html\n",
      "https://www.nytimes.com/2010/03/19/sports/hockey/19hockey.html\n",
      "https://www.nytimes.com/2010/05/03/sports/basketball/03lakers.html\n",
      "https://www.nytimes.com/2010/04/17/arts/design/17blacklisting.html\n",
      "https://www.nytimes.com/2010/04/25/books/review/Steel-t.html\n",
      "https://www.nytimes.com/2010/05/28/sports/basketball/28lakers.html\n",
      "https://www.nytimes.com/2010/04/29/world/middleeast/29cairo.html\n",
      "https://www.nytimes.com/2010/07/23/arts/design/23galleries-003.html\n",
      "https://www.nytimes.com/2010/05/11/arts/music/11rite.html\n",
      "https://www.nytimes.com/2010/06/06/education/06pets.html\n",
      "https://www.nytimes.com/2010/05/16/opinion/16friedman.html\n",
      "https://www.nytimes.com/2010/08/01/education/01schools.html\n",
      "https://www.nytimes.com/2010/06/01/science/01conv.html\n",
      "https://www.nytimes.com/2010/07/14/world/middleeast/14briefs-ISRAEL.html\n",
      "https://www.nytimes.com/2010/05/07/theater/07kid.html\n",
      "https://www.nytimes.com/2010/06/10/sports/baseball/10base.html\n",
      "https://www.nytimes.com/2010/04/21/arts/21arts-BROOKLYNFEST_BRF.html\n",
      "https://www.nytimes.com/2010/06/22/world/22whale.html\n",
      "https://query.nytimes.com/gst/fullpage.html?res=9C03E3DE1E30F931A2575AC0A9669D8B63\n",
      "https://www.nytimes.com/2010/06/18/world/africa/18rwanda.html\n",
      "https://www.nytimes.com/2010/07/09/world/europe/09plane.html\n",
      "https://query.nytimes.com/gst/fullpage.html?res=9806E2DD1639F93BA1575AC0A9669D8B63\n",
      "https://www.nytimes.com/2010/08/05/nyregion/05conn.html\n",
      "https://www.nytimes.com/2010/06/27/world/americas/27mexviolence.html\n",
      "https://query.nytimes.com/gst/fullpage.html?res=9A04EFDD173AF932A05753C1A9669D8B63\n",
      "https://www.nytimes.com/2010/07/18/realestate/18Q-A.html\n",
      "https://www.nytimes.com/2010/08/14/nyregion/14metjournal.html\n",
      "https://www.nytimes.com/2010/08/31/opinion/31herbert.html\n",
      "https://www.nytimes.com/2010/07/27/nyregion/27abyssinian.html\n",
      "https://www.nytimes.com/2010/08/22/realestate/22deal1.html\n",
      "https://www.nytimes.com/2010/08/09/business/economy/09rates.html\n",
      "https://www.nytimes.com/2010/09/05/science/05robots.html\n",
      "https://query.nytimes.com/gst/fullpage.html?res=9506E7DC143AF933A25753C1A9669D8B63\n",
      "https://www.nytimes.com/2010/08/27/us/27cncwarren.html\n",
      "https://www.nytimes.com/2010/09/09/nyregion/09rice.html\n",
      "https://www.nytimes.com/2010/09/25/business/global/25drachma.html\n",
      "https://www.nytimes.com/2010/10/03/sports/football/03giants.html\n",
      "https://www.nytimes.com/2010/09/17/sports/basketball/17wnba.html\n",
      "https://www.nytimes.com/2010/11/30/technology/30bizcourt.html\n",
      "https://www.nytimes.com/2010/10/15/world/asia/15india.html\n",
      "https://www.nytimes.com/2010/09/21/world/middleeast/21briefs-BAHRAIN.html\n",
      "https://query.nytimes.com/gst/fullpage.html?res=9F06EEDC123AF93AA35752C0A9669D8B63\n",
      "https://www.nytimes.com/2010/11/08/books/08book.html\n",
      "https://www.nytimes.com/2010/10/28/world/africa/28briefs-HOTELMANAGER_BRF.html\n",
      "https://www.nytimes.com/2010/11/13/nyregion/13terrorism.html\n",
      "https://www.nytimes.com/2010/10/07/us/07bears.html\n",
      "https://www.nytimes.com/2010/11/05/opinion/l05bomb.html\n",
      "https://www.nytimes.com/2010/10/24/us/24shark.html\n",
      "https://www.nytimes.com/2010/12/20/opinion/l20debit.html\n",
      "https://www.nytimes.com/2010/10/19/technology/19webblue.html\n",
      "https://query.nytimes.com/gst/fullpage.html?res=9F07EFD9153AF936A25751C1A9669D8B63\n",
      "https://query.nytimes.com/gst/fullpage.html?res=9807E2DF153AF937A35751C1A9669D8B63\n",
      "https://www.nytimes.com/2010/11/21/automobiles/21CITROEN.html\n",
      "https://www.nytimes.com/2010/12/08/arts/dance/08project.html\n",
      "https://www.nytimes.com/2010/11/17/nyregion/17tunnel.html\n",
      "https://query.nytimes.com/gst/fullpage.html?res=9502E3D81F3DF936A15752C1A9669D8B63\n",
      "https://www.nytimes.com/2010/12/30/world/africa/30briefs-Nigeriabrf.html\n",
      "https://www.nytimes.com/2010/08/18/world/europe/18dutch.html\n",
      "https://www.nytimes.com/2010/01/17/books/review/Marcus-t.html\n",
      "https://www.nytimes.com/2010/12/25/world/asia/25afghan.html\n",
      "https://www.nytimes.com/2010/01/01/sports/ncaafootball/01cncsports.html\n",
      "https://www.nytimes.com/2010/01/13/theater/13arts-WHILESPIDERM_BRF.html\n",
      "https://www.nytimes.com/2010/01/05/world/europe/05russia.html\n",
      "https://www.nytimes.com/2010/02/18/nyregion/18lippman.html\n",
      "https://www.nytimes.com/2010/01/29/arts/design/29art.html\n",
      "https://query.nytimes.com/gst/fullpage.html?res=9B00E1DE1F31F937A25750C0A9669D8B63\n",
      "https://www.nytimes.com/2010/02/02/opinion/l02hospital.html\n",
      "https://query.nytimes.com/gst/fullpage.html?res=9E05EFDF163AF931A25757C0A9669D8B63\n",
      "https://www.nytimes.com/2010/02/10/world/europe/10chechnya.html\n",
      "https://www.nytimes.com/2010/01/25/business/energy-environment/25electric.html\n",
      "https://www.nytimes.com/2010/03/07/fashion/07nite.html\n",
      "https://query.nytimes.com/gst/fullpage.html?res=9B07E2DD133AF93BA35757C0A9669D8B63\n",
      "https://www.nytimes.com/2010/02/22/opinion/22mon2.html\n",
      "https://www.nytimes.com/2010/02/06/sports/football/06goodell.html\n",
      "https://query.nytimes.com/gst/fullpage.html?res=9C0DE5DB143AF930A15756C0A9669D8B63\n",
      "https://query.nytimes.com/gst/fullpage.html?res=9F05E6DA153AF930A25755C0A9669D8B63\n",
      "https://www.nytimes.com/2010/03/02/theater/reviews/02caucasian.html\n",
      "https://www.nytimes.com/2010/02/14/books/review/Fugard-t.html\n",
      "https://www.nytimes.com/2010/02/26/business/economy/26fed.html\n",
      "https://www.nytimes.com/2010/01/21/arts/music/21diehl.html\n",
      "https://www.nytimes.com/2010/03/31/nyregion/31parking.html\n",
      "https://www.nytimes.com/2010/03/23/sports/baseball/23mets.html\n",
      "https://www.nytimes.com/2010/03/11/us/11illinois.html\n",
      "https://query.nytimes.com/gst/fullpage.html?res=980DE7DF173CF933A05755C0A9669D8B63\n",
      "https://www.nytimes.com/2010/04/04/books/review/Letters-t-OURKINDOFVIL_LETTERS.html\n",
      "https://www.nytimes.com/2010/03/27/world/europe/27briefs-russiabrief.html\n",
      "https://www.nytimes.com/2010/05/21/movies/21solitary.html\n",
      "https://query.nytimes.com/gst/fullpage.html?res=9406E0DA123DF937A35754C0A9669D8B63\n",
      "https://www.nytimes.com/2010/05/03/business/economy/03views.html\n",
      "https://www.nytimes.com/2010/03/19/movies/19repomen.html\n",
      "https://www.nytimes.com/2010/04/17/arts/music/17asko.html\n",
      "https://www.nytimes.com/2010/04/25/magazine/25allen-t.html\n",
      "https://www.nytimes.com/2010/05/28/opinion/28fri4.html\n",
      "https://www.nytimes.com/2010/07/23/arts/design/23galleries-002.html\n",
      "https://www.nytimes.com/2010/04/29/fashion/29crib.html\n",
      "https://www.nytimes.com/2010/05/11/health/policy/11land.html\n",
      "https://www.nytimes.com/2010/06/06/education/06petside.html\n",
      "https://www.nytimes.com/2010/05/16/opinion/16dowd.html\n",
      "https://www.nytimes.com/2010/08/01/nyregion/01listingsli.html\n",
      "https://www.nytimes.com/2010/06/01/world/asia/01korea.html\n",
      "https://www.nytimes.com/2010/07/14/science/space/14natbrfs-NASANOTFAULT_BRF.html\n",
      "https://www.nytimes.com/2010/05/07/us/politics/07kagan.html\n",
      "https://www.nytimes.com/2010/04/21/arts/music/21arts-VOLCANOCAUSE_BRF.html\n",
      "https://www.nytimes.com/2010/06/22/science/22obrubber.html\n",
      "https://www.nytimes.com/2010/06/10/sports/baseball/10yankees.html\n",
      "https://query.nytimes.com/gst/fullpage.html?res=9B02E4DC143FF931A2575AC0A9669D8B63\n",
      "https://query.nytimes.com/gst/fullpage.html?res=9C04EFDD1538F93BA1575AC0A9669D8B63\n",
      "https://www.nytimes.com/2010/06/18/world/asia/18kyrgyz.html\n",
      "https://www.nytimes.com/2010/07/09/health/nutrition/09recipehealth.html\n",
      "https://www.nytimes.com/2010/08/05/nyregion/05vics.html\n",
      "https://query.nytimes.com/gst/fullpage.html?res=9B0DE0DC173EF932A05753C1A9669D8B63\n",
      "https://www.nytimes.com/2010/06/27/arts/27alscorr-004.html\n",
      "https://www.nytimes.com/2010/08/14/us/14brfs-RULINGFAVORS_BRF.html\n",
      "https://www.nytimes.com/2010/08/31/opinion/31sanghvi.html\n",
      "https://www.nytimes.com/2010/07/18/realestate/18cov.html\n",
      "https://www.nytimes.com/2010/07/27/opinion/27tue4.html\n",
      "https://www.nytimes.com/2010/08/09/sports/golf/09woods.html\n",
      "https://query.nytimes.com/gst/fullpage.html?res=9B07E5D8113CF933A25753C1A9669D8B63\n",
      "https://www.nytimes.com/2010/08/27/us/27cncsports.html\n",
      "https://www.nytimes.com/2010/08/22/t-magazine/22talk-yablonsky-t.html\n",
      "https://www.nytimes.com/2010/09/05/science/05robotside.html\n",
      "https://www.nytimes.com/2010/09/09/sports/tennis/09wind.html\n",
      "https://www.nytimes.com/2010/09/25/business/economy/25econ.html\n",
      "https://www.nytimes.com/2010/09/17/us/17bchousing.html\n",
      "https://www.nytimes.com/2010/10/03/sports/baseball/03bases.html\n",
      "https://www.nytimes.com/2010/11/30/science/30conversation.html\n",
      "https://www.nytimes.com/2010/10/15/dining/15tipsy.html\n",
      "https://query.nytimes.com/gst/fullpage.html?res=9E05E7DB123AF93AA35752C0A9669D8B63\n",
      "https://www.nytimes.com/2010/09/21/sports/hockey/21sportsbriefs-drury.html\n",
      "https://www.nytimes.com/2010/11/08/world/europe/08greece.html\n",
      "https://www.nytimes.com/2010/10/28/world/middleeast/28briefs-MURDERCHARGE_BRF.html\n",
      "https://www.nytimes.com/2010/10/07/nyregion/07tunnel.html\n",
      "https://www.nytimes.com/2010/11/13/business/13charity.html\n",
      "https://www.nytimes.com/2010/11/05/opinion/05fri4.html\n",
      "https://www.nytimes.com/2010/12/20/opinion/l20disability.html\n",
      "https://www.nytimes.com/2010/10/19/nyregion/19bigcity.html\n",
      "https://query.nytimes.com/gst/fullpage.html?res=9B00E2DF153AF937A35751C1A9669D8B63\n",
      "https://query.nytimes.com/gst/fullpage.html?res=9F0CE7DE1230F936A25751C1A9669D8B63\n",
      "https://www.nytimes.com/2010/10/24/us/politics/24rally.html\n",
      "https://query.nytimes.com/gst/fullpage.html?res=9803E0DA143AF936A15752C1A9669D8B63\n",
      "https://www.nytimes.com/2010/12/08/arts/music/08early.html\n",
      "https://www.nytimes.com/2010/11/21/automobiles/autoshow/21BAKEOFF.html\n",
      "https://www.nytimes.com/2010/12/30/world/africa/30briefs-Piratebrf.html\n",
      "https://www.nytimes.com/2010/11/17/theater/reviews/17broke.html\n",
      "https://www.nytimes.com/2010/08/18/business/global/18trade.html\n",
      "https://www.nytimes.com/2010/01/17/books/review/Willett-t.html\n",
      "https://www.nytimes.com/2010/12/25/us/25goodrich.html\n",
      "https://www.nytimes.com/2010/01/13/arts/television/13arts-PBSSETSNEWSH_BRF.html\n",
      "https://www.nytimes.com/2010/01/01/science/01cncargonne.html\n",
      "https://www.nytimes.com/2010/02/18/movies/18festival.html\n",
      "https://www.nytimes.com/2010/01/29/arts/music/29pop.html\n",
      "https://query.nytimes.com/gst/fullpage.html?res=9A0DE3DA173AF937A25750C0A9669D8B63\n",
      "https://www.nytimes.com/2010/01/05/world/middleeast/05saleh.html\n",
      "https://query.nytimes.com/gst/fullpage.html?res=9B00EFDF163AF931A25757C0A9669D8B63\n",
      "https://www.nytimes.com/2010/02/02/opinion/l02terror.html\n",
      "https://www.nytimes.com/2010/01/25/sports/football/25nfc.html\n",
      "https://www.nytimes.com/2010/02/10/realestate/commercial/10grey.html\n",
      "https://www.nytimes.com/2010/03/07/nyregion/07listingsli-.html\n",
      "https://query.nytimes.com/gst/fullpage.html?res=9407E0DF173EF930A25755C0A9669D8B63\n",
      "https://query.nytimes.com/gst/fullpage.html?res=9906E4D9133CF93BA35757C0A9669D8B63\n",
      "https://www.nytimes.com/2010/02/22/sports/basketball/22knicks.html\n",
      "https://www.nytimes.com/2010/02/06/arts/music/06garrick.html\n",
      "https://query.nytimes.com/gst/fullpage.html?res=9C00EFD91430F930A15756C0A9669D8B63\n",
      "https://www.nytimes.com/2010/03/02/health/02baby.html\n",
      "https://www.nytimes.com/2010/02/14/arts/music/14dogma.html\n",
      "https://www.nytimes.com/2010/02/26/world/asia/26china.html\n",
      "https://www.nytimes.com/2010/03/31/sports/ncaabasketball/31storm.html\n",
      "https://www.nytimes.com/2010/01/21/arts/music/21luna.html\n",
      "https://www.nytimes.com/2010/03/23/urbaneye/23ubn1-1.html\n",
      "https://query.nytimes.com/gst/fullpage.html?res=9504E1DB123AF933A05755C0A9669D8B63\n",
      "https://www.nytimes.com/2010/03/11/sports/baseball/11sportsbriefs-hunter.html\n",
      "https://www.nytimes.com/2010/04/04/books/review/Letters-t-RESPECTABLEC_LETTERS.html\n",
      "https://www.nytimes.com/2010/03/27/us/politics/27orleans.html\n",
      "https://query.nytimes.com/gst/fullpage.html?res=9F0CE1DB123DF937A35754C0A9669D8B63\n",
      "https://www.nytimes.com/2010/05/21/movies/21perrier.html\n",
      "https://www.nytimes.com/2010/03/19/business/global/19yuan.html\n",
      "https://www.nytimes.com/2010/05/03/world/americas/03jonestown.html\n",
      "https://www.nytimes.com/2010/04/17/books/17cartoonist.html\n",
      "https://www.nytimes.com/2010/04/25/theater/25rapture.html\n",
      "https://www.nytimes.com/2010/07/23/arts/design/23galleries-001.html\n",
      "https://www.nytimes.com/2010/05/11/arts/music/11kirill.html\n",
      "https://www.nytimes.com/2010/04/29/business/29fed.html\n",
      "https://www.nytimes.com/2010/05/28/opinion/28fri3.html\n",
      "https://www.nytimes.com/2010/06/06/sports/06refs.html\n",
      "https://www.nytimes.com/2010/08/01/sports/01sportsbriefs-xgames.html\n",
      "https://www.nytimes.com/2010/05/16/world/europe/16sedwill.html\n",
      "https://www.nytimes.com/2010/06/01/world/europe/01vatican.html\n",
      "https://www.nytimes.com/2010/05/07/movies/07movies.html\n",
      "https://www.nytimes.com/2010/07/14/us/14latest.html\n",
      "https://www.nytimes.com/2010/06/22/science/22obfish.html\n",
      "https://www.nytimes.com/2010/04/21/arts/music/21roundup.html\n",
      "https://query.nytimes.com/gst/fullpage.html?res=9901E4D81438F931A2575AC0A9669D8B63\n",
      "https://query.nytimes.com/gst/fullpage.html?res=9D06EED91F3AF93BA1575AC0A9669D8B63\n",
      "https://www.nytimes.com/2010/06/10/nyregion/10claremont.html\n",
      "https://www.nytimes.com/2010/06/18/us/18students.html\n",
      "https://query.nytimes.com/gst/fullpage.html?res=9C04E0D9173FF932A05753C1A9669D8B63\n",
      "https://www.nytimes.com/2010/08/05/us/politics/05elect.html\n",
      "https://query.nytimes.com/gst/fullpage.html?res=9F06E6DF133AF93AA35754C0A9669D8B63\n",
      "https://www.nytimes.com/2010/06/27/arts/27alscorr-002.html\n",
      "https://www.nytimes.com/2010/08/14/us/14brfs-FUGITIVESACC_BRF.html\n",
      "https://www.nytimes.com/2010/08/31/opinion/31wolfowitz.html\n",
      "https://www.nytimes.com/2010/07/18/fashion/18mystery.html\n",
      "https://www.nytimes.com/2010/07/27/world/middleeast/27bloodbank.html\n",
      "https://query.nytimes.com/gst/fullpage.html?res=9C05E1D8113CF933A25753C1A9669D8B63\n",
      "https://www.nytimes.com/2010/08/09/world/middleeast/09iran.html\n",
      "https://www.nytimes.com/2010/08/27/business/27montignac.html\n",
      "https://www.nytimes.com/2010/08/22/arts/music/22moores.html\n",
      "https://www.nytimes.com/2010/09/05/sports/tennis/05night.html\n",
      "https://www.nytimes.com/2010/09/09/world/europe/09blair.html\n",
      "https://www.nytimes.com/2010/09/17/us/17bcmuseum.html\n",
      "https://www.nytimes.com/2010/09/25/arts/design/25iht-monet.html\n",
      "https://www.nytimes.com/2010/11/30/movies/30cowboys.html\n",
      "https://query.nytimes.com/gst/fullpage.html?res=9C05EEDC123AF93AA35752C0A9669D8B63\n",
      "https://www.nytimes.com/2010/10/03/world/americas/03brazil.html\n",
      "https://www.nytimes.com/2010/10/15/theater/15ride.html\n",
      "https://www.nytimes.com/2010/10/28/world/africa/28briefs-Kenya.html\n",
      "https://www.nytimes.com/2010/09/21/world/asia/21briefs-MEETING.html\n",
      "https://www.nytimes.com/2010/11/08/sports/08womens.html\n",
      "https://www.nytimes.com/2010/11/13/arts/music/13odd.html\n",
      "https://www.nytimes.com/2010/11/05/us/05college.html\n",
      "https://www.nytimes.com/2010/10/07/sports/ncaafootball/07nebraska.html\n",
      "https://www.nytimes.com/2010/12/20/opinion/lweb20homeless.html\n",
      "https://query.nytimes.com/gst/fullpage.html?res=9A01EED9153AF936A25751C1A9669D8B63\n",
      "https://query.nytimes.com/gst/fullpage.html?res=9503E2DD1F30F937A35751C1A9669D8B63\n",
      "https://www.nytimes.com/2010/10/19/technology/19apple.html\n",
      "https://query.nytimes.com/gst/fullpage.html?res=9503E5DA143EF936A15752C1A9669D8B63\n",
      "https://www.nytimes.com/2010/10/24/sports/ncaafootball/24yale.html\n",
      "https://www.nytimes.com/2010/12/08/us/08land.html\n",
      "https://www.nytimes.com/2010/12/30/world/africa/30briefs-Sudanbrf.html\n",
      "https://www.nytimes.com/2010/11/21/realestate/21cov.html\n",
      "https://www.nytimes.com/2010/11/17/dining/17pieside.html\n",
      "https://www.nytimes.com/2010/01/17/books/review/Schmemann-t.html\n",
      "https://www.nytimes.com/2010/08/18/business/global/18trust.html\n",
      "https://www.nytimes.com/2010/12/25/sports/golf/25golf.html\n",
      "https://www.nytimes.com/2010/01/13/movies/13arts-SONYSWITCHES_BRF.html\n",
      "https://www.nytimes.com/2010/01/01/business/media/01cable.html\n",
      "https://query.nytimes.com/gst/fullpage.html?res=9904E3D81E3BF937A25750C0A9669D8B63\n",
      "https://www.nytimes.com/2010/01/29/arts/dance/29dance.html\n",
      "https://www.nytimes.com/2010/02/18/theater/reviews/18black.html\n",
      "https://www.nytimes.com/2010/01/05/business/05resorts.html\n",
      "https://query.nytimes.com/gst/fullpage.html?res=9D01E7DC1031F931A25757C0A9669D8B63\n",
      "https://www.nytimes.com/2010/02/02/opinion/02tues4.html\n",
      "https://www.nytimes.com/2010/01/25/sports/football/25colts.html\n",
      "https://www.nytimes.com/2010/02/10/realestate/commercial/10data.html\n",
      "https://query.nytimes.com/gst/fullpage.html?res=9A07E0DC173AF930A25755C0A9669D8B63\n",
      "https://query.nytimes.com/gst/fullpage.html?res=9502EED7123CF93BA35757C0A9669D8B63\n",
      "https://www.nytimes.com/2010/03/07/nyregion/07listingsct-1.html\n",
      "https://www.nytimes.com/2010/02/22/science/space/22shuttle.html\n",
      "https://query.nytimes.com/gst/fullpage.html?res=9C04EFD61F3FF930A15756C0A9669D8B63\n",
      "https://www.nytimes.com/2010/02/14/books/review/Finnerty-t.html\n",
      "https://www.nytimes.com/2010/02/06/arts/dance/06solos.html\n",
      "https://www.nytimes.com/2010/03/02/books/02book.html\n",
      "https://www.nytimes.com/2010/02/26/world/africa/26algeria.html\n",
      "https://www.nytimes.com/2010/01/21/technology/internet/21youtube.html\n",
      "https://www.nytimes.com/2010/03/31/nyregion/31collector.html\n",
      "https://query.nytimes.com/gst/fullpage.html?res=9E01E1DB123AF933A05755C0A9669D8B63\n",
      "https://www.nytimes.com/2010/03/11/sports/soccer/11sportsbriefs-soccer.html\n",
      "https://www.nytimes.com/2010/03/23/urbaneye/23ubn3-1.html\n",
      "https://www.nytimes.com/2010/04/04/books/review/Letters-t-THEREALTHING_LETTERS.html\n",
      "https://query.nytimes.com/gst/fullpage.html?res=940CE2D9123AF937A35754C0A9669D8B63\n",
      "https://www.nytimes.com/2010/03/27/sports/27simmons.html\n",
      "https://www.nytimes.com/2010/03/19/business/media/19adco.html\n",
      "https://www.nytimes.com/2010/05/20/technology/personaltech/20pogue-email.html\n",
      "https://www.nytimes.com/2010/05/03/business/economy/03drill.html\n",
      "https://www.nytimes.com/2010/04/17/arts/television/17arts-SNLSHINESBRI_BRF.html\n",
      "https://www.nytimes.com/2010/04/25/t-magazine/25remix-whisperer-t.html\n",
      "https://www.nytimes.com/2010/07/23/sports/baseball/23mets.html\n",
      "https://www.nytimes.com/2010/04/29/fashion/29gant.html\n",
      "https://www.nytimes.com/2010/05/11/arts/design/11sillman.html\n",
      "https://www.nytimes.com/2010/05/28/science/earth/28latest.html\n",
      "https://www.nytimes.com/2010/06/06/sports/06maloof.html\n",
      "https://www.nytimes.com/2010/08/01/sports/01sportsbriefs-bass.html\n",
      "https://www.nytimes.com/2010/06/01/health/01brod.html\n",
      "https://www.nytimes.com/2010/05/16/opinion/16rich.html\n",
      "https://query.nytimes.com/gst/fullpage.html?res=9C07E1DC1639F93BA1575AC0A9669D8B63\n",
      "https://www.nytimes.com/2010/04/21/dining/21chickenrex2.html\n",
      "https://www.nytimes.com/2010/07/14/health/14natbrfs-DENGUEFEVERO_BRF.html\n",
      "https://www.nytimes.com/2010/06/22/science/22obbone.html\n",
      "https://www.nytimes.com/2010/05/07/greathomesanddestinations/07high.html\n",
      "https://query.nytimes.com/gst/fullpage.html?res=950DE6D71E3AF931A2575AC0A9669D8B63\n",
      "https://query.nytimes.com/gst/fullpage.html?res=9506E0DE113DF932A05753C1A9669D8B63\n",
      "https://www.nytimes.com/2010/06/10/sports/football/10sportsbriefs-bruce.html\n",
      "https://www.nytimes.com/2010/06/18/movies/18wah.html\n",
      "https://www.nytimes.com/2010/08/05/us/politics/05obama.html\n",
      "https://query.nytimes.com/gst/fullpage.html?res=9F04E4DF133AF93AA35754C0A9669D8B63\n",
      "https://www.nytimes.com/2010/06/27/world/27battalion.html\n",
      "https://www.nytimes.com/2010/08/14/sports/football/14jets.html\n",
      "https://www.nytimes.com/2010/08/31/sports/tennis/31sandomir.html\n",
      "https://www.nytimes.com/2010/07/18/realestate/18wczo.html\n",
      "https://query.nytimes.com/gst/fullpage.html?res=9800E4D6143CF933A25753C1A9669D8B63\n",
      "https://www.nytimes.com/2010/07/27/business/media/27reality.html\n",
      "https://www.nytimes.com/2010/08/09/world/asia/09afghan.html\n",
      "https://www.nytimes.com/2010/08/27/pageoneplus/corrections.html\n",
      "https://www.nytimes.com/2010/08/22/arts/music/22rosso.html\n",
      "https://www.nytimes.com/2010/09/05/sports/basketball/05sportsbriefs-Sign.html\n",
      "https://www.nytimes.com/2010/09/09/nyregion/09subway.html\n",
      "https://www.nytimes.com/2010/09/17/nyregion/17qanda.html\n",
      "https://www.nytimes.com/2010/09/25/business/25markets.html\n",
      "https://query.nytimes.com/gst/fullpage.html?res=9802E1DD103FF93AA35752C0A9669D8B63\n",
      "https://www.nytimes.com/2010/11/30/science/30tierney.html\n",
      "https://www.nytimes.com/2010/10/03/us/03scotus.html\n",
      "https://www.nytimes.com/2010/10/15/sports/baseball/15steinbrenner.html\n",
      "https://www.nytimes.com/2010/09/21/world/middleeast/21briefs-GAZA.html\n",
      "https://www.nytimes.com/2010/10/28/world/middleeast/28briefs-UNWORKERSATT_BRF.html\n",
      "https://www.nytimes.com/2010/11/08/sports/08men.html\n",
      "https://www.nytimes.com/2010/11/13/books/13pong.html\n",
      "https://query.nytimes.com/gst/fullpage.html?res=9F03E6D81430F936A25751C1A9669D8B63\n",
      "https://www.nytimes.com/2010/10/07/fashion/07spot1.html\n",
      "https://www.nytimes.com/2010/11/05/us/politics/05murray.html\n",
      "https://query.nytimes.com/gst/fullpage.html?res=9906E2DF153AF937A35751C1A9669D8B63\n",
      "https://www.nytimes.com/2010/12/20/opinion/20mon1.html\n",
      "https://query.nytimes.com/gst/fullpage.html?res=9C07E0DA143AF936A15752C1A9669D8B63\n",
      "https://www.nytimes.com/2010/10/19/health/19global.html\n",
      "https://www.nytimes.com/2010/10/24/us/24cathedral.html\n",
      "https://www.nytimes.com/2010/12/30/world/middleeast/30briefs-Iranbrf.html\n",
      "https://www.nytimes.com/2010/12/08/books/08translate.html\n",
      "https://www.nytimes.com/2010/11/17/dining/17pies.html\n",
      "https://www.nytimes.com/2010/11/21/fashion/21PADDLEOUT.html\n",
      "https://www.nytimes.com/2010/01/17/fashion/17genb.html\n",
      "https://www.nytimes.com/2010/08/18/us/18craigslist.html\n",
      "https://www.nytimes.com/2010/12/25/nyregion/25neediest.html\n",
      "https://www.nytimes.com/2010/01/13/arts/television/13arts-CBSCOMEDIESD_BRF.html\n",
      "https://query.nytimes.com/gst/fullpage.html?res=9B04E2DE1F31F937A25750C0A9669D8B63\n",
      "https://www.nytimes.com/2010/01/01/us/01cncwarren.html\n",
      "https://www.nytimes.com/2010/01/29/arts/music/29jazz.html\n",
      "https://query.nytimes.com/gst/fullpage.html?res=9907EEDF163AF931A25757C0A9669D8B63\n",
      "https://www.nytimes.com/2010/02/18/arts/music/18nyfos.html\n",
      "https://www.nytimes.com/2010/01/05/sports/skiing/05sportsbriefs-xcountry.html\n",
      "https://query.nytimes.com/gst/fullpage.html?res=9A05EEDB143AF930A25755C0A9669D8B63\n",
      "https://query.nytimes.com/gst/fullpage.html?res=9A07EFD7133CF93BA35757C0A9669D8B63\n",
      "https://www.nytimes.com/2010/02/02/opinion/02tues3.html\n",
      "https://www.nytimes.com/2010/02/10/us/10storm.html\n",
      "https://www.nytimes.com/2010/01/25/sports/tennis/25tennis.html\n",
      "https://www.nytimes.com/2010/02/22/sports/olympics/22skicross.html\n",
      "https://www.nytimes.com/2010/03/07/nyregion/07listingsnj-.html\n",
      "https://query.nytimes.com/gst/fullpage.html?res=9403E1D7163AF930A15756C0A9669D8B63\n",
      "https://www.nytimes.com/2010/02/06/theater/reviews/06fanny.html\n",
      "https://www.nytimes.com/2010/02/14/arts/dance/14gome.html\n",
      "https://www.nytimes.com/2010/03/02/health/02lett-DIGITIZINGPA_LETTERS.html\n",
      "https://www.nytimes.com/2010/01/21/arts/music/21tyne.html\n",
      "https://www.nytimes.com/2010/03/11/world/asia/11islamabad.html\n",
      "https://query.nytimes.com/gst/fullpage.html?res=9F03E2DB123AF933A05755C0A9669D8B63\n",
      "https://www.nytimes.com/2010/03/31/business/31gene.html\n",
      "https://www.nytimes.com/2010/02/26/business/26madoff.html\n",
      "https://www.nytimes.com/2010/03/23/urbaneye/23ubn2-1.html\n",
      "https://www.nytimes.com/2010/04/04/books/review/Letters-t-COVERINGCAMP_LETTERS.html\n",
      "https://query.nytimes.com/gst/fullpage.html?res=9902E6DA153EF937A35754C0A9669D8B63\n",
      "https://www.nytimes.com/2010/03/19/business/19views.html\n",
      "https://www.nytimes.com/2010/03/27/world/africa/27briefs-Uganda.html\n",
      "https://www.nytimes.com/2010/05/03/business/media/03nbc.html\n",
      "https://www.nytimes.com/2010/05/20/health/20chen.html\n",
      "https://www.nytimes.com/2010/04/25/travel/25prac.html\n",
      "https://www.nytimes.com/2010/04/17/arts/music/17arts-MYSPACEOFFER_BRF.html\n",
      "https://www.nytimes.com/2010/04/29/fashion/29saks.html\n",
      "https://www.nytimes.com/2010/07/23/arts/23gordon.html\n",
      "https://www.nytimes.com/2010/05/28/nyregion/28nyc.html\n",
      "https://www.nytimes.com/2010/05/11/health/11brod.html\n",
      "https://www.nytimes.com/2010/08/01/sports/basketball/01sportsbriefs-NOPENALTYFOR_BRF.html\n",
      "https://www.nytimes.com/2010/06/06/sports/soccer/06vecsey.html\n",
      "https://query.nytimes.com/gst/fullpage.html?res=9C0CE1DD1F30F93BA1575AC0A9669D8B63\n",
      "https://www.nytimes.com/2010/06/01/health/01attention.html\n",
      "https://www.nytimes.com/2010/05/16/sports/16sportsbriefs-giro.html\n",
      "https://www.nytimes.com/2010/04/21/dining/21chickenrex1.html\n",
      "https://www.nytimes.com/2010/07/14/business/global/14smoke.html\n",
      "https://query.nytimes.com/gst/fullpage.html?res=9F06E6DE1E30F931A2575AC0A9669D8B63\n",
      "https://query.nytimes.com/gst/fullpage.html?res=9501EFDD173AF932A05753C1A9669D8B63\n",
      "https://www.nytimes.com/2010/05/07/arts/artsspecial/07kids.html\n",
      "https://www.nytimes.com/2010/06/22/world/middleeast/22iraq.html\n",
      "https://www.nytimes.com/2010/06/10/opinion/10thu4.html\n",
      "https://query.nytimes.com/gst/fullpage.html?res=9807E4DF133AF93AA35754C0A9669D8B63\n",
      "https://www.nytimes.com/2010/06/18/business/18lockheed.html\n",
      "https://www.nytimes.com/2010/06/27/us/27cncburge.html\n",
      "https://www.nytimes.com/2010/08/05/opinion/05thu4.html\n",
      "https://www.nytimes.com/2010/08/14/us/14brfs-MOREPOWDERFI_BRF.html\n",
      "https://www.nytimes.com/2010/08/31/sports/baseball/31wilpon.html\n",
      "https://query.nytimes.com/gst/fullpage.html?res=9D03E6DF143AF933A25753C1A9669D8B63\n",
      "https://www.nytimes.com/2010/07/18/realestate/18lizo.html\n",
      "https://www.nytimes.com/2010/07/27/opinion/27brooks.html\n",
      "https://www.nytimes.com/2010/08/09/business/media/09economist.html\n",
      "https://www.nytimes.com/2010/08/27/business/27genster.html\n",
      "https://www.nytimes.com/2010/08/22/arts/music/22jennifer.html\n",
      "https://www.nytimes.com/2010/09/05/sports/baseball/05sportsbriefs-silva.html\n",
      "https://www.nytimes.com/2010/09/09/sports/ncaafootball/09sportsbriefs-green.html\n",
      "https://query.nytimes.com/gst/fullpage.html?res=9A02EFDC123AF93AA35752C0A9669D8B63\n",
      "https://www.nytimes.com/2010/09/25/world/asia/25korea.html\n",
      "https://www.nytimes.com/2010/09/17/us/17cncoilspill.html\n",
      "https://www.nytimes.com/2010/11/30/business/global/30views.html\n",
      "https://www.nytimes.com/2010/10/03/sports/football/03eagles.html\n",
      "https://www.nytimes.com/2010/10/15/nyregion/15donovan.html\n",
      "https://www.nytimes.com/2010/09/21/business/global/21gm.html\n",
      "https://www.nytimes.com/2010/11/08/world/asia/08korea.html\n",
      "https://www.nytimes.com/2010/10/28/sports/hockey/28nhl.html\n",
      "https://query.nytimes.com/gst/fullpage.html?res=9905E6D8153AF936A25751C1A9669D8B63\n",
      "https://www.nytimes.com/2010/11/13/arts/music/13kremer.html\n",
      "https://www.nytimes.com/2010/11/05/us/politics/05perry.html\n",
      "https://www.nytimes.com/2010/10/07/world/middleeast/07hezbollah.html\n",
      "https://query.nytimes.com/gst/fullpage.html?res=9904EFD61F3EF937A35751C1A9669D8B63\n",
      "https://query.nytimes.com/gst/fullpage.html?res=9A0CE1DA143AF936A15752C1A9669D8B63\n",
      "https://www.nytimes.com/2010/12/20/pageoneplus/corrections.html\n",
      "https://www.nytimes.com/2010/10/19/arts/music/19quartet.html\n",
      "https://www.nytimes.com/2010/10/24/us/24crystal.html\n",
      "https://www.nytimes.com/2010/12/30/world/europe/30briefs-Russiabrf.html\n",
      "https://www.nytimes.com/2010/12/08/business/economy/08econ.html\n",
      "https://www.nytimes.com/2010/11/17/dining/17pierex2.html\n",
      "https://www.nytimes.com/2010/01/17/automobiles/autoshow/17show.html\n",
      "https://www.nytimes.com/2010/11/21/automobiles/collectibles/21MUSCLE.html\n",
      "https://www.nytimes.com/2010/12/25/arts/design/25neuberger.html\n",
      "https://query.nytimes.com/gst/fullpage.html?res=9A04E7DC1E3AF937A25750C0A9669D8B63\n",
      "https://www.nytimes.com/2010/01/13/arts/music/13fabolous.html\n",
      "https://www.nytimes.com/2010/08/18/opinion/lweb18traffic.html\n",
      "https://query.nytimes.com/gst/fullpage.html?res=950DE4D61331F931A25757C0A9669D8B63\n",
      "https://www.nytimes.com/2010/01/01/sports/01sportsbriefs-jockey.html\n",
      "https://www.nytimes.com/2010/01/29/arts/design/29masters.html\n",
      "https://query.nytimes.com/gst/fullpage.html?res=9D04E0DA123DF93BA35757C0A9669D8B63\n",
      "https://query.nytimes.com/gst/fullpage.html?res=9B06E7D81E3AF930A25755C0A9669D8B63\n",
      "https://www.nytimes.com/2010/02/18/arts/music/18sade.html\n",
      "https://www.nytimes.com/2010/01/05/sports/baseball/05sportsbriefs-rockies.html\n",
      "https://www.nytimes.com/2010/01/25/opinion/25douthat.html\n",
      "https://www.nytimes.com/2010/02/02/opinion/02tues2.html\n",
      "https://www.nytimes.com/2010/02/22/nyregion/22taxis.html\n",
      "https://www.nytimes.com/2010/02/10/arts/music/10battle.html\n",
      "https://query.nytimes.com/gst/fullpage.html?res=9A02E2D8163FF930A15756C0A9669D8B63\n",
      "https://www.nytimes.com/2010/03/07/nyregion/07listingswe-1.html\n",
      "https://www.nytimes.com/2010/03/02/business/02fees.html\n",
      "https://www.nytimes.com/2010/02/14/books/review/Somerville-t.html\n",
      "https://www.nytimes.com/2010/02/06/arts/music/06tapes.html\n",
      "https://query.nytimes.com/gst/fullpage.html?res=9F00E1DB123AF933A05755C0A9669D8B63\n",
      "https://www.nytimes.com/2010/01/21/us/politics/21reconstruct.html\n",
      "https://www.nytimes.com/2010/03/11/nyregion/11basil.html\n",
      "https://www.nytimes.com/2010/03/31/sports/ncaabasketball/31plump.html\n",
      "https://www.nytimes.com/2010/02/26/business/economy/26econ.html\n",
      "https://www.nytimes.com/2010/03/23/opinion/23brooks1.html\n",
      "https://query.nytimes.com/gst/fullpage.html?res=9807EED6153DF937A35754C0A9669D8B63\n",
      "https://www.nytimes.com/2010/04/04/books/review/EdChoice-t.html\n",
      "https://www.nytimes.com/2010/03/19/business/media/19abc.html\n",
      "https://www.nytimes.com/2010/05/20/books/excerpt-the-last-hero.html\n",
      "https://www.nytimes.com/2010/04/25/t-magazine/25remix-nude-t.html\n",
      "https://www.nytimes.com/2010/03/27/technology/companies/27phone.html\n",
      "https://www.nytimes.com/2010/05/03/business/media/03cable.html\n",
      "https://www.nytimes.com/2010/04/17/arts/television/17who.html\n",
      "https://www.nytimes.com/2010/07/23/business/23irving.html\n",
      "https://www.nytimes.com/2010/04/29/fashion/29keds.html\n",
      "https://www.nytimes.com/2010/05/11/nyregion/11slogan.html\n",
      "https://www.nytimes.com/2010/05/28/opinion/28fri2.html\n",
      "https://www.nytimes.com/2010/08/01/sports/soccer/01redbulls.html\n",
      "https://query.nytimes.com/gst/fullpage.html?res=940DE7DA1F30F93BA1575AC0A9669D8B63\n",
      "https://www.nytimes.com/2010/06/06/fashion/weddings/06CHESLEY.html\n",
      "https://www.nytimes.com/2010/06/01/health/research/01happy.html\n",
      "https://query.nytimes.com/gst/fullpage.html?res=9E0CE1DD173AF932A05753C1A9669D8B63\n",
      "https://query.nytimes.com/gst/fullpage.html?res=9C06E1DD173EF931A2575AC0A9669D8B63\n",
      "https://www.nytimes.com/2010/05/16/business/16letter01.html\n",
      "https://www.nytimes.com/2010/05/07/arts/music/07country.html\n",
      "https://www.nytimes.com/2010/07/14/world/middleeast/14gaza.html\n",
      "https://query.nytimes.com/gst/fullpage.html?res=9403E4DF133AF93AA35754C0A9669D8B63\n",
      "https://www.nytimes.com/2010/06/22/science/22qna.html\n",
      "https://www.nytimes.com/2010/06/10/nyregion/10lottery.html\n",
      "https://www.nytimes.com/2010/06/27/us/27cncwarren.html\n",
      "https://www.nytimes.com/2010/06/18/movies/18jonah.html\n",
      "https://www.nytimes.com/2010/08/05/opinion/05thu3.html\n",
      "https://www.nytimes.com/2010/04/21/dining/21carolinarex.html\n",
      "https://query.nytimes.com/gst/fullpage.html?res=9C05E5DF143AF933A25753C1A9669D8B63\n",
      "https://www.nytimes.com/2010/08/31/sports/baseball/31yankees.html\n",
      "https://www.nytimes.com/2010/08/14/nyregion/14turner.html\n",
      "https://www.nytimes.com/2010/07/18/realestate/18njzo.html\n",
      "https://www.nytimes.com/2010/07/27/world/27briefs-TRIBUNAL.html\n",
      "https://www.nytimes.com/2010/08/09/education/09winerip.html\n",
      "https://www.nytimes.com/2010/08/27/business/27air.html\n",
      "https://www.nytimes.com/2010/09/05/sports/05sportsbriefs-arum.html\n",
      "https://www.nytimes.com/2010/08/22/arts/music/22handel.html\n",
      "https://query.nytimes.com/gst/fullpage.html?res=9C07EEDD113FF93AA35752C0A9669D8B63\n",
      "https://www.nytimes.com/2010/09/09/nyregion/09jews.html\n",
      "https://www.nytimes.com/2010/09/17/us/17cncway.html\n",
      "https://www.nytimes.com/2010/09/25/world/europe/25yanayev.html\n",
      "https://www.nytimes.com/2010/11/30/books/30book.html\n",
      "https://www.nytimes.com/2010/10/03/us/politics/03campaign.html\n",
      "https://www.nytimes.com/2010/09/21/sports/ncaafootball/21sportsbriefs-missouri.html\n",
      "https://www.nytimes.com/2010/10/15/business/15walmart.html\n",
      "https://query.nytimes.com/gst/fullpage.html?res=9E0DE3DF1530F936A25751C1A9669D8B63\n",
      "https://www.nytimes.com/2010/11/08/world/asia/08prexy.html\n",
      "https://www.nytimes.com/2010/10/28/nyregion/28bronx.html\n",
      "https://www.nytimes.com/2010/11/13/arts/television/13locator.html\n",
      "https://query.nytimes.com/gst/fullpage.html?res=9D06E7D9153EF937A35751C1A9669D8B63\n",
      "https://query.nytimes.com/gst/fullpage.html?res=9C06EFDD103EF936A15752C1A9669D8B63\n",
      "https://www.nytimes.com/2010/10/07/business/media/07msnbc.html\n",
      "https://www.nytimes.com/2010/11/05/sports/autoracing/05sportsbriefs-massa.html\n",
      "https://www.nytimes.com/2010/10/19/arts/music/19leon.html\n",
      "https://www.nytimes.com/2010/12/20/business/media/20link.html\n",
      "https://www.nytimes.com/2010/12/08/arts/music/08youth.html\n",
      "https://www.nytimes.com/2010/10/24/business/24backpage.html\n",
      "https://www.nytimes.com/2010/12/30/world/europe/30briefs-Heathrowbrf.html\n",
      "https://www.nytimes.com/2010/11/17/dining/17pierex3.html\n",
      "https://www.nytimes.com/2010/01/17/automobiles/autoshow/17design.html\n",
      "https://www.nytimes.com/2010/11/21/books/review/Letters-t-THELOVELYSTO_LETTERS.html\n",
      "https://www.nytimes.com/2010/12/25/nyregion/25otb.html\n",
      "https://query.nytimes.com/gst/fullpage.html?res=9D07E1DF133AF937A25750C0A9669D8B63\n",
      "https://www.nytimes.com/2010/01/13/education/13einstein.html\n",
      "https://query.nytimes.com/gst/fullpage.html?res=9E06E6DE1331F931A25757C0A9669D8B63\n",
      "https://www.nytimes.com/2010/08/18/opinion/l18students.html\n",
      "https://www.nytimes.com/2010/01/01/opinion/lweb01jordan.html\n",
      "https://query.nytimes.com/gst/fullpage.html?res=9C0CE4D8153AF930A25755C0A9669D8B63\n",
      "https://query.nytimes.com/gst/fullpage.html?res=9A04E3D71F3AF93BA35757C0A9669D8B63\n",
      "https://www.nytimes.com/2010/01/29/arts/design/29antiques.html\n",
      "https://www.nytimes.com/2010/01/05/sports/soccer/05sportsbriefs-mls.html\n",
      "https://www.nytimes.com/2010/02/18/business/smallbusiness/18sbiz.html\n",
      "https://www.nytimes.com/2010/01/25/business/25drill.html\n",
      "https://query.nytimes.com/gst/fullpage.html?res=9F07E3D61639F930A15756C0A9669D8B63\n",
      "https://www.nytimes.com/2010/02/22/sports/olympics/22hockey.html\n",
      "https://www.nytimes.com/2010/02/02/opinion/02tues1.html\n",
      "https://www.nytimes.com/2010/02/10/arts/music/10carroll.html\n",
      "https://www.nytimes.com/2010/03/07/fashion/07boal.html\n",
      "https://query.nytimes.com/gst/fullpage.html?res=9E06E0DB123AF933A05755C0A9669D8B63\n",
      "https://www.nytimes.com/2010/02/14/books/review/Pruzan-t.html\n",
      "https://www.nytimes.com/2010/03/02/health/02lett-THELANGUAGEO_LETTERS.html\n",
      "https://www.nytimes.com/2010/02/06/arts/dance/06daela.html\n",
      "https://www.nytimes.com/2010/01/21/fashion/21Skin.html\n",
      "https://www.nytimes.com/2010/03/11/sports/baseball/11blackley.html\n",
      "https://www.nytimes.com/2010/03/31/world/africa/31briefs-rebelattacks.html\n",
      "https://query.nytimes.com/gst/fullpage.html?res=9407EED7133FF937A35754C0A9669D8B63\n",
      "https://www.nytimes.com/2010/02/26/business/26markets.html\n",
      "https://www.nytimes.com/2010/03/23/business/23slots.html\n",
      "https://www.nytimes.com/2010/04/04/arts/dance/04halprin.html\n",
      "https://www.nytimes.com/2010/03/19/business/19toyota.html\n",
      "https://www.nytimes.com/2010/05/20/books/excerpt-private-life.html\n",
      "https://www.nytimes.com/2010/04/25/books/review/InsideList-t.html\n",
      "https://www.nytimes.com/2010/03/27/us/27nuke.html\n",
      "https://www.nytimes.com/2010/05/03/nyregion/03pugh.html\n",
      "https://www.nytimes.com/2010/04/17/theater/17arts-COUPLEHONORE_BRF.html\n",
      "https://www.nytimes.com/2010/07/23/arts/23arts-GLAADGIVESCB_BRF.html\n",
      "https://www.nytimes.com/2010/04/29/fashion/29ROW.html\n",
      "https://www.nytimes.com/2010/08/01/arts/01alcorr.html\n",
      "https://query.nytimes.com/gst/fullpage.html?res=9B01E3D81F30F93BA1575AC0A9669D8B63\n",
      "https://www.nytimes.com/2010/05/11/sports/cycling/11cycling.html\n",
      "https://www.nytimes.com/2010/05/28/opinion/28fri1.html\n",
      "https://www.nytimes.com/2010/06/06/business/06gret.html\n",
      "https://query.nytimes.com/gst/fullpage.html?res=9C02E1DD173AF932A05753C1A9669D8B63\n",
      "https://www.nytimes.com/2010/06/01/world/middleeast/01iht-saudi.html\n",
      "https://query.nytimes.com/gst/fullpage.html?res=9A05E4D91739F931A2575AC0A9669D8B63\n",
      "https://www.nytimes.com/2010/05/16/opinion/16Prudhomme.html\n",
      "https://query.nytimes.com/gst/fullpage.html?res=9404E4DA1739F93AA35754C0A9669D8B63\n",
      "https://www.nytimes.com/2010/05/07/theater/reviews/07milk.html\n",
      "https://www.nytimes.com/2010/07/14/business/14views.html\n",
      "https://www.nytimes.com/2010/06/22/business/media/22ferb.html\n",
      "https://www.nytimes.com/2010/06/10/sports/10sportsbriefs-espn.html\n",
      "https://www.nytimes.com/2010/06/27/pageoneplus/corrections.html\n",
      "https://www.nytimes.com/2010/06/18/arts/music/18classical.html\n",
      "https://www.nytimes.com/2010/08/05/world/europe/05briefs-Chechen.html\n",
      "https://query.nytimes.com/gst/fullpage.html?res=9F05E1D9113CF933A25753C1A9669D8B63\n",
      "https://www.nytimes.com/2010/08/31/nyregion/31soccer.html\n",
      "https://www.nytimes.com/2010/08/14/opinion/14blow.html\n",
      "https://www.nytimes.com/2010/07/18/realestate/18mort.html\n",
      "https://www.nytimes.com/2010/07/27/nyregion/27ontime.html\n",
      "https://www.nytimes.com/2010/08/09/business/09carr.html\n",
      "https://www.nytimes.com/2010/04/21/dining/21chicken.html\n",
      "https://www.nytimes.com/2010/09/05/sports/golf/05sportsbriefs-Masters.html\n",
      "https://query.nytimes.com/gst/fullpage.html?res=9D07EFDC123AF93AA35752C0A9669D8B63\n",
      "https://www.nytimes.com/2010/08/27/us/27schurmann.html\n",
      "https://www.nytimes.com/2010/08/22/arts/22weekaheadweb.html\n",
      "https://www.nytimes.com/2010/09/09/technology/09vodafone.html\n",
      "https://www.nytimes.com/2010/09/17/nyregion/17machines.html\n",
      "https://www.nytimes.com/2010/11/30/science/30brain.html\n",
      "https://www.nytimes.com/2010/09/25/world/asia/25delhi.html\n",
      "https://www.nytimes.com/2010/10/03/us/03feinberg.html\n",
      "https://query.nytimes.com/gst/fullpage.html?res=9F00E0DB133DF936A25751C1A9669D8B63\n",
      "https://www.nytimes.com/2010/09/21/opinion/21tue4.html\n",
      "https://www.nytimes.com/2010/10/15/business/global/15opec.html\n",
      "https://www.nytimes.com/2010/11/08/world/asia/08myanmar.html\n",
      "https://query.nytimes.com/gst/fullpage.html?res=9503E1DF153AF937A35751C1A9669D8B63\n",
      "https://www.nytimes.com/2010/10/28/world/americas/28mexico.html\n",
      "https://query.nytimes.com/gst/fullpage.html?res=9F01E2DB153EF936A15752C1A9669D8B63\n",
      "https://www.nytimes.com/2010/11/13/arts/television/13duty.html\n",
      "https://www.nytimes.com/2010/10/07/opinion/l07translate.html\n",
      "https://www.nytimes.com/2010/11/05/world/africa/05bushmen.html\n",
      "https://www.nytimes.com/2010/10/19/arts/design/19sanctions.html\n",
      "https://www.nytimes.com/2010/12/20/opinion/20krugman.html\n",
      "https://www.nytimes.com/2010/10/24/opinion/24shine.html\n",
      "https://www.nytimes.com/2010/12/08/world/middleeast/08diplo.html\n",
      "https://www.nytimes.com/2010/12/30/sports/hockey/30rangers.html\n",
      "https://www.nytimes.com/2010/01/17/arts/music/17mondo.html\n",
      "https://www.nytimes.com/2010/11/21/books/review/Letters-t-UNNATURALSEL_LETTERS.html\n",
      "https://query.nytimes.com/gst/fullpage.html?res=9902E4DC1E3AF937A25750C0A9669D8B63\n",
      "https://www.nytimes.com/2010/12/25/sports/hockey/25hockey.html\n",
      "https://www.nytimes.com/2010/01/13/world/americas/13mexico.html\n",
      "https://www.nytimes.com/2010/08/18/business/media/18adco.html\n",
      "https://query.nytimes.com/gst/fullpage.html?res=9506E0DF173EF930A25755C0A9669D8B63\n",
      "https://www.nytimes.com/2010/01/01/opinion/l01healthcare.html\n",
      "https://query.nytimes.com/gst/fullpage.html?res=9F05E2D61031F931A25757C0A9669D8B63\n",
      "https://query.nytimes.com/gst/fullpage.html?res=9C0DE6DC1330F93BA35757C0A9669D8B63\n",
      "https://www.nytimes.com/2010/01/05/sports/tennis/05sportsbriefs-auckland.html\n",
      "https://www.nytimes.com/2010/01/29/arts/design/29artist.html\n",
      "https://www.nytimes.com/2010/11/17/dining/reviews/17under.html\n",
      "https://query.nytimes.com/gst/fullpage.html?res=990CE3D8163FF930A15756C0A9669D8B63\n",
      "https://www.nytimes.com/2010/02/18/theater/reviews/18sex.html\n",
      "https://www.nytimes.com/2010/01/25/nyregion/25bar.html\n",
      "https://www.nytimes.com/2010/02/22/business/22ahead.html\n",
      "https://www.nytimes.com/2010/02/02/sports/football/02concussions.html\n",
      "https://www.nytimes.com/2010/02/10/world/americas/10haiti.html\n",
      "https://query.nytimes.com/gst/fullpage.html?res=9802E2DB123AF933A05755C0A9669D8B63\n",
      "https://www.nytimes.com/2010/03/07/fashion/07Rivers.html\n",
      "https://www.nytimes.com/2010/02/14/books/review/Rampell-t.html\n",
      "https://www.nytimes.com/2010/03/02/health/02lett-ARUSHTOMEDIC_LETTERS.html\n",
      "https://www.nytimes.com/2010/01/21/fashion/21SkinSide.html\n",
      "https://query.nytimes.com/gst/fullpage.html?res=9F07E0D9123AF937A35754C0A9669D8B63\n",
      "https://www.nytimes.com/2010/03/11/world/europe/11barcelona.html\n",
      "https://www.nytimes.com/2010/03/31/world/europe/31briefs-franceveil.html\n",
      "https://www.nytimes.com/2010/02/06/arts/music/06ariadne.html\n",
      "https://www.nytimes.com/2010/02/26/world/europe/26turkey.html\n",
      "https://www.nytimes.com/2010/03/23/arts/design/23nyu.html\n",
      "https://www.nytimes.com/2010/04/04/arts/music/04schweitzer.html\n",
      "https://www.nytimes.com/2010/03/19/business/global/19ipo.html\n",
      "https://www.nytimes.com/2010/04/25/t-magazine/25remix-samurai-t.html\n",
      "https://www.nytimes.com/2010/05/20/business/global/20dubai.html\n",
      "https://www.nytimes.com/2010/03/27/arts/television/27hale.html\n",
      "https://www.nytimes.com/2010/05/03/business/media/03stone.html\n",
      "https://www.nytimes.com/2010/04/17/books/17arts-OFMETERANDMO_BRF.html\n",
      "https://www.nytimes.com/2010/07/23/education/23college.html\n",
      "https://query.nytimes.com/gst/fullpage.html?res=9500E3DD1739F93BA1575AC0A9669D8B63\n",
      "https://www.nytimes.com/2010/04/29/technology/29cashless.html\n",
      "https://www.nytimes.com/2010/05/11/health/11case.html\n",
      "https://www.nytimes.com/2010/08/01/crosswords/chess/01chess.html\n",
      "https://query.nytimes.com/gst/fullpage.html?res=9A00E1D9173FF932A05753C1A9669D8B63\n",
      "https://www.nytimes.com/2010/05/28/business/media/28adco.html\n",
      "https://query.nytimes.com/gst/fullpage.html?res=9507EFD81E3AF931A2575AC0A9669D8B63\n",
      "https://query.nytimes.com/gst/fullpage.html?res=9804E3DF133AF93AA35754C0A9669D8B63\n",
      "https://www.nytimes.com/2010/06/06/sports/hockey/06nhl.html\n",
      "https://www.nytimes.com/2010/05/16/opinion/16carter.html\n",
      "https://www.nytimes.com/2010/06/01/health/research/01obesity.html\n",
      "https://www.nytimes.com/2010/05/07/arts/music/07arts-COUNTRYSTARS_BRF.html\n",
      "https://www.nytimes.com/2010/07/14/sports/baseball/14allstar.html\n",
      "https://www.nytimes.com/2010/06/10/business/global/10bank.html\n",
      "https://www.nytimes.com/2010/06/22/science/22scibks.html\n",
      "https://www.nytimes.com/2010/06/18/health/policy/18pill.html\n",
      "https://query.nytimes.com/gst/fullpage.html?res=9801E0D7133EF933A25753C1A9669D8B63\n",
      "https://www.nytimes.com/2010/06/27/us/politics/27cncway.html\n",
      "https://www.nytimes.com/2010/08/05/opinion/05thu2.html\n",
      "https://www.nytimes.com/2010/08/31/theater/reviews/31error.html\n",
      "https://www.nytimes.com/2010/07/27/world/middleeast/27briefs-YEMEN.html\n",
      "https://www.nytimes.com/2010/08/14/world/americas/14canada.html\n",
      "https://www.nytimes.com/2010/08/09/technology/09encrypt.html\n",
      "https://www.nytimes.com/2010/07/18/realestate/18sqft.html\n",
      "https://www.nytimes.com/2010/09/05/sports/05woodward.html\n",
      "https://www.nytimes.com/2010/04/21/dining/21carolina.html\n",
      "https://query.nytimes.com/gst/fullpage.html?res=9E07EEDC123AF93AA35752C0A9669D8B63\n",
      "https://www.nytimes.com/2010/08/27/nyregion/27cabby.html\n",
      "https://www.nytimes.com/2010/08/22/theater/22alsmail.html\n",
      "https://www.nytimes.com/2010/09/17/us/17cncwarren.html\n",
      "https://www.nytimes.com/2010/09/09/us/politics/09chicago.html\n",
      "https://www.nytimes.com/2010/11/30/opinion/lweb30treaty.html\n",
      "https://www.nytimes.com/2010/10/03/sports/ncaabasketball/03recruit.html\n",
      "https://query.nytimes.com/gst/fullpage.html?res=9B05E6DE1230F936A25751C1A9669D8B63\n",
      "https://www.nytimes.com/2010/09/25/world/asia/25chinajapan.html\n",
      "https://www.nytimes.com/2010/09/21/sports/soccer/21sportsbriefs-messi.html\n",
      "https://query.nytimes.com/gst/fullpage.html?res=9C05E2D61438F93BA35752C1A9669D8B63\n",
      "https://www.nytimes.com/2010/10/15/world/middleeast/15lebanon.html\n",
      "https://www.nytimes.com/2010/10/28/sports/tennis/28sportsbriefs-wta.html\n",
      "https://query.nytimes.com/gst/fullpage.html?res=9805E4DB1631F937A35751C1A9669D8B63\n",
      "https://query.nytimes.com/gst/fullpage.html?res=9504E0DA143AF936A15752C1A9669D8B63\n",
      "https://www.nytimes.com/2010/10/07/world/africa/07ethiopia.html\n",
      "https://www.nytimes.com/2010/11/05/sports/soccer/05hofstra.html\n",
      "https://www.nytimes.com/2010/11/13/arts/television/13arts-MENTALISTLIF_BRF.html\n",
      "https://www.nytimes.com/2010/10/19/business/19mortgage.html\n",
      "https://www.nytimes.com/2010/12/20/opinion/20douthat.html\n",
      "https://www.nytimes.com/2010/10/24/business/24corner.html\n",
      "https://www.nytimes.com/2010/12/08/realestate/commercial/08playa.html\n",
      "https://www.nytimes.com/2010/12/30/sports/hockey/30nhl.html\n",
      "https://www.nytimes.com/2010/01/17/movies/17fish.html\n",
      "https://query.nytimes.com/gst/fullpage.html?res=9E02E7DC1E3AF937A25750C0A9669D8B63\n",
      "https://www.nytimes.com/2010/11/21/realestate/21living.html\n",
      "https://www.nytimes.com/2010/12/25/world/europe/25briefs-Ukraine.html\n",
      "https://query.nytimes.com/gst/fullpage.html?res=9C01E0DF173EF930A25755C0A9669D8B63\n",
      "https://www.nytimes.com/2010/01/13/health/13tendon.html\n",
      "https://query.nytimes.com/gst/fullpage.html?res=9901E0DF163AF931A25757C0A9669D8B63\n",
      "https://www.nytimes.com/2010/01/01/opinion/l01terror.html\n",
      "https://www.nytimes.com/2010/08/18/opinion/l18gay.html\n",
      "https://query.nytimes.com/gst/fullpage.html?res=9A05E2D71F3AF93BA35757C0A9669D8B63\n",
      "https://www.nytimes.com/2010/01/05/sports/soccer/05sportsbriefs-materazzi.html\n",
      "https://query.nytimes.com/gst/fullpage.html?res=9901E6DB143AF930A15756C0A9669D8B63\n",
      "https://www.nytimes.com/2010/01/29/movies/29movies.html\n",
      "https://www.nytimes.com/2010/11/17/dining/17curious.html\n",
      "https://www.nytimes.com/2010/02/22/sports/olympics/22rochette.html\n",
      "https://www.nytimes.com/2010/02/18/technology/18hewlett.html\n",
      "https://www.nytimes.com/2010/01/25/us/politics/25obama.html\n",
      "https://query.nytimes.com/gst/fullpage.html?res=9B0CE1DB123AF933A05755C0A9669D8B63\n",
      "https://www.nytimes.com/2010/02/02/us/02corrections-01.html\n",
      "https://www.nytimes.com/2010/02/10/world/europe/10union.html\n",
      "https://www.nytimes.com/2010/03/07/nyregion/07dinenj.html\n",
      "https://www.nytimes.com/2010/03/02/health/02lett-OFAPOLOGIESA_LETTERS.html\n",
      "https://www.nytimes.com/2010/02/14/books/review/Mansbach-t.html\n",
      "https://query.nytimes.com/gst/fullpage.html?res=9B03E0D9123AF937A35754C0A9669D8B63\n",
      "https://www.nytimes.com/2010/01/21/technology/21censor.html\n",
      "https://www.nytimes.com/2010/03/31/world/asia/31briefs-chinababies.html\n",
      "https://www.nytimes.com/2010/02/26/world/europe/26france.html\n",
      "https://www.nytimes.com/2010/03/11/garden/11tvside.html\n",
      "https://www.nytimes.com/2010/03/23/us/23acorn.html\n",
      "https://www.nytimes.com/2010/02/06/arts/music/06sanchez.html\n",
      "https://www.nytimes.com/2010/04/04/arts/music/04smith.html\n",
      "https://www.nytimes.com/2010/04/25/books/review/Tanenhaus-t.html\n",
      "https://www.nytimes.com/2010/03/19/business/19fedex.html\n",
      "https://www.nytimes.com/2010/05/20/sports/basketball/20lakers.html\n",
      "https://www.nytimes.com/2010/05/03/world/asia/03nepal.html\n",
      "https://www.nytimes.com/2010/03/27/world/asia/27aquino.html\n",
      "https://www.nytimes.com/2010/04/17/arts/music/17arts-TERRYGILLIAM_BRF.html\n",
      "https://query.nytimes.com/gst/fullpage.html?res=9E04EEDD1739F93BA1575AC0A9669D8B63\n",
      "https://query.nytimes.com/gst/fullpage.html?res=9D0CE2DD173AF932A05753C1A9669D8B63\n",
      "https://www.nytimes.com/2010/07/23/education/23gainful.html\n",
      "https://www.nytimes.com/2010/04/29/fashion/29SkinThree.html\n",
      "https://www.nytimes.com/2010/05/11/health/11eggs.html\n",
      "https://query.nytimes.com/gst/fullpage.html?res=9903E0D91730F931A2575AC0A9669D8B63\n",
      "https://query.nytimes.com/gst/fullpage.html?res=980CE5D91339F93AA35754C0A9669D8B63\n",
      "https://www.nytimes.com/2010/08/01/sports/baseball/01yankees.html\n",
      "https://www.nytimes.com/2010/05/28/sports/baseball/28choo.html\n",
      "https://www.nytimes.com/2010/06/06/fashion/weddings/06loomis.html\n",
      "https://www.nytimes.com/2010/05/16/world/middleeast/16france.html\n",
      "https://www.nytimes.com/2010/06/01/health/research/01tanning.html\n",
      "https://www.nytimes.com/2010/05/07/theater/07theater.html\n",
      "https://www.nytimes.com/2010/07/14/opinion/lweb14diner.html\n",
      "https://www.nytimes.com/2010/06/22/science/22chimp.html\n",
      "https://www.nytimes.com/2010/06/10/sports/10sportsbriefs-progress.html\n",
      "https://query.nytimes.com/gst/fullpage.html?res=9E06E6DB143AF933A25753C1A9669D8B63\n",
      "https://www.nytimes.com/2010/06/18/opinion/l18saudi.html\n",
      "https://www.nytimes.com/2010/08/05/health/05chanock.html\n",
      "https://www.nytimes.com/2010/08/31/world/asia/31webbriefs-KASHMIR.html\n",
      "https://www.nytimes.com/2010/06/27/us/27cncanderson.html\n",
      "https://www.nytimes.com/2010/07/27/nyregion/27nyc.html\n",
      "https://www.nytimes.com/2010/08/14/us/politics/14acorn.html\n",
      "https://www.nytimes.com/2010/08/09/technology/09rim.html\n",
      "https://query.nytimes.com/gst/fullpage.html?res=9F04E7DB123AF93AA35752C0A9669D8B63\n",
      "https://www.nytimes.com/2010/09/05/sports/cycling/05sportsbriefs-Vuelta.html\n",
      "https://www.nytimes.com/2010/07/18/realestate/18habi.html\n",
      "https://www.nytimes.com/2010/08/27/sports/basketball/27liberty.html\n",
      "https://www.nytimes.com/2010/04/21/dining/reviews/21under.html\n",
      "https://www.nytimes.com/2010/09/17/nyregion/17charter.html\n",
      "https://www.nytimes.com/2010/08/22/magazine/22food-t-000.html\n",
      "https://www.nytimes.com/2010/09/09/us/politics/09rahm.html\n",
      "https://www.nytimes.com/2010/11/30/world/asia/30korea.html\n",
      "https://query.nytimes.com/gst/fullpage.html?res=9501E5DB133DF936A25751C1A9669D8B63\n",
      "https://www.nytimes.com/2010/10/03/sports/golf/03ryder.html\n",
      "https://www.nytimes.com/2010/09/25/world/asia/25chef.html\n",
      "https://www.nytimes.com/2010/09/21/sports/hockey/21sportsbriefs-penguins.html\n",
      "https://query.nytimes.com/gst/fullpage.html?res=9806E2D61438F93BA35752C1A9669D8B63\n",
      "https://www.nytimes.com/2010/10/15/world/asia/15nato.html\n",
      "https://query.nytimes.com/gst/fullpage.html?res=9E06EFD61E3DF936A15752C1A9669D8B63\n",
      "https://www.nytimes.com/2010/10/28/sports/ncaabasketball/28sportsbriefs-ncaa.html\n",
      "https://query.nytimes.com/gst/fullpage.html?res=9C0CE7DE133EF937A35751C1A9669D8B63\n",
      "https://www.nytimes.com/2010/10/07/opinion/l07congo.html\n",
      "https://www.nytimes.com/2010/11/05/sports/05nhl.html\n",
      "https://www.nytimes.com/2010/12/20/opinion/20mon4.html\n",
      "https://www.nytimes.com/2010/11/13/sports/baseball/13baseball.html\n",
      "https://www.nytimes.com/2010/10/19/books/19poetry.html\n",
      "https://www.nytimes.com/2010/10/24/opinion/lweb24vote.html\n",
      "https://query.nytimes.com/gst/fullpage.html?res=9C00E2DE1F31F937A25750C0A9669D8B63\n",
      "https://www.nytimes.com/2010/12/30/nyregion/30bus.html\n",
      "https://www.nytimes.com/2010/12/08/sports/baseball/08jeter.html\n",
      "https://www.nytimes.com/2010/01/17/fashion/17social.html\n",
      "https://www.nytimes.com/2010/11/21/books/review/Letters-t-AFRICASINDIG_LETTERS.html\n",
      "https://query.nytimes.com/gst/fullpage.html?res=9807EFDF163AF931A25757C0A9669D8B63\n",
      "https://query.nytimes.com/gst/fullpage.html?res=9807E0D8113AF930A25755C0A9669D8B63\n",
      "https://www.nytimes.com/2010/12/25/nyregion/25newark.html\n",
      "https://www.nytimes.com/2010/01/01/opinion/l01estate.html\n",
      "https://www.nytimes.com/2010/01/13/arts/dance/13wade.html\n",
      "https://www.nytimes.com/2010/08/18/opinion/l18school.html\n",
      "https://www.nytimes.com/2010/04/09/movies/09kuchar.html\n",
      "https://www.nytimes.com/2010/01/05/world/asia/05briefs-Malaysia.html\n",
      "https://query.nytimes.com/gst/fullpage.html?res=9403EED7113AF930A15756C0A9669D8B63\n",
      "https://www.nytimes.com/2010/11/17/dining/17french.html\n",
      "https://www.nytimes.com/2010/01/29/arts/music/29grammys.html\n",
      "https://www.nytimes.com/2010/02/22/business/media/22adcol.html\n",
      "https://www.nytimes.com/2010/02/18/sports/golf/18tiger.html\n",
      "https://www.nytimes.com/2010/01/25/opinion/25saviano.html\n",
      "https://query.nytimes.com/gst/fullpage.html?res=9D06EFDC153CF933A05755C0A9669D8B63\n",
      "https://www.nytimes.com/2010/02/02/nyregion/02corrections-00.html\n",
      "https://www.nytimes.com/2010/03/07/movies/07bollywood.html\n",
      "https://www.nytimes.com/2010/02/10/world/europe/10germany.html\n",
      "https://www.nytimes.com/2010/07/05/health/nutrition/05recipehealth.html\n",
      "https://www.nytimes.com/2010/03/02/health/research/02aware.html\n",
      "https://www.nytimes.com/2010/02/14/books/review/Grandin-t.html\n",
      "https://www.nytimes.com/2010/01/21/world/europe/21munich.html\n",
      "https://www.nytimes.com/2010/03/31/business/economy/31leonhardt.html\n",
      "https://www.nytimes.com/2010/02/26/world/asia/26india.html\n",
      "https://www.nytimes.com/2010/03/11/us/politics/11inquire.html\n",
      "https://www.nytimes.com/2010/03/23/world/europe/23britain.html\n",
      "https://www.nytimes.com/2010/04/04/arts/music/04tommasini.html\n",
      "https://www.nytimes.com/2010/02/06/arts/music/06unsound.html\n",
      "https://www.nytimes.com/2010/04/25/t-magazine/25remix-merkin-t.html\n",
      "https://www.nytimes.com/2010/03/19/books/excerpt-lonelyhearts.html\n",
      "https://www.nytimes.com/2010/05/20/arts/design/20arakawa.html\n",
      "https://www.nytimes.com/2010/05/03/business/economy/03crisis.html\n",
      "https://query.nytimes.com/gst/fullpage.html?res=9806E0DD1739F93BA1575AC0A9669D8B63\n",
      "https://www.nytimes.com/2010/04/17/theater/17arts-DANIELRADCLI_BRF.html\n",
      "https://query.nytimes.com/gst/fullpage.html?res=9503E1DD173AF932A05753C1A9669D8B63\n",
      "https://www.nytimes.com/2010/03/27/world/europe/27russia.html\n",
      "https://www.nytimes.com/2010/07/23/sports/baseball/23yankees.html\n",
      "https://www.nytimes.com/2010/04/29/fashion/29SkinTwo.html\n",
      "https://query.nytimes.com/gst/fullpage.html?res=9E05E4DF133AF93AA35754C0A9669D8B63\n",
      "https://query.nytimes.com/gst/fullpage.html?res=9C0DE0D8123FF931A2575AC0A9669D8B63\n",
      "https://www.nytimes.com/2010/05/11/business/global/11yuan.html\n",
      "https://www.nytimes.com/2010/08/01/sports/baseball/01mets.html\n",
      "https://www.nytimes.com/2010/05/28/us/28birnbaum.html\n",
      "https://www.nytimes.com/2010/06/06/weekinreview/06cooper.html\n",
      "https://www.nytimes.com/2010/05/16/jobs/16boss.html\n",
      "https://www.nytimes.com/2010/06/01/health/01real.html\n",
      "https://www.nytimes.com/2010/05/07/movies/07arts-GENARTFOLDSV_BRF.html\n",
      "https://www.nytimes.com/2010/06/10/sports/ncaafootball/10sportsbriefs-michigan.html\n",
      "https://www.nytimes.com/2010/07/14/opinion/lweb14educ.html\n",
      "https://www.nytimes.com/2010/06/22/science/22brain.html\n",
      "https://query.nytimes.com/gst/fullpage.html?res=9405E4DA173DF933A25753C1A9669D8B63\n",
      "https://www.nytimes.com/2010/06/18/sports/golf/18tryon.html\n",
      "https://www.nytimes.com/2010/08/31/sports/global/31fiba.html\n",
      "https://www.nytimes.com/2010/08/05/world/europe/05briefs-Embassy.html\n",
      "https://www.nytimes.com/2010/07/27/world/europe/27briefs-PALESTINIAN.html\n",
      "https://www.nytimes.com/2010/06/27/sports/27sportsbriefs-ucla.html\n",
      "https://www.nytimes.com/2010/08/14/business/global/14sanctions.html\n",
      "https://www.nytimes.com/2010/08/09/world/asia/09food.html\n",
      "https://query.nytimes.com/gst/fullpage.html?res=9A01E6DB103FF93AA35752C0A9669D8B63\n",
      "https://www.nytimes.com/2010/07/18/movies/homevideo/18kehr.html\n",
      "https://www.nytimes.com/2010/09/05/sports/ncaafootball/05irish.html\n",
      "https://www.nytimes.com/2010/09/17/us/17cncgolf.html\n",
      "https://www.nytimes.com/2010/04/21/dining/21jerky.html\n",
      "https://www.nytimes.com/2010/08/27/sports/ncaafootball/27sportsbriefs-usc.html\n",
      "https://www.nytimes.com/2010/08/22/magazine/22food-t-001.html\n",
      "https://query.nytimes.com/gst/fullpage.html?res=9801E4D61430F936A25751C1A9669D8B63\n",
      "https://www.nytimes.com/2010/11/30/world/americas/30gitmo.html\n",
      "https://www.nytimes.com/2010/09/09/business/09store.html\n",
      "https://www.nytimes.com/2010/10/03/world/middleeast/03mideast.html\n",
      "https://query.nytimes.com/gst/fullpage.html?res=9A0DEED61038F93BA35752C1A9669D8B63\n",
      "https://query.nytimes.com/gst/fullpage.html?res=9A05E3DC1F3DF936A15752C1A9669D8B63\n",
      "https://query.nytimes.com/gst/fullpage.html?res=9C07E4D91331F936A1575AC0A9669D8B63\n",
      "https://www.nytimes.com/2010/09/21/sports/soccer/21goal.html\n",
      "https://query.nytimes.com/gst/fullpage.html?res=980DE1D91631F937A35751C1A9669D8B63\n",
      "https://www.nytimes.com/2010/10/15/business/economy/15econ.html\n",
      "https://www.nytimes.com/2010/10/07/world/asia/07china.html\n",
      "https://www.nytimes.com/2010/10/28/world/asia/28seoul.html\n",
      "https://www.nytimes.com/2010/11/05/world/americas/05haiti.html\n",
      "https://www.nytimes.com/2010/12/20/opinion/20mon2.html\n",
      "https://query.nytimes.com/gst/fullpage.html?res=9D03EED6173AF937A25750C0A9669D8B63\n",
      "https://www.nytimes.com/2010/10/19/health/nutrition/19best.html\n",
      "https://www.nytimes.com/2010/11/13/crosswords/bridge/13card.html\n",
      "https://www.nytimes.com/2010/10/24/business/24claim.html\n",
      "https://www.nytimes.com/2010/12/08/sports/football/08rhoden.html\n",
      "https://www.nytimes.com/2010/12/30/world/africa/30ivory.html\n",
      "https://www.nytimes.com/2010/01/17/automobiles/autoreviews/17taurus.html\n",
      "https://query.nytimes.com/gst/fullpage.html?res=9405E0DB153AF930A25755C0A9669D8B63\n",
      "https://query.nytimes.com/gst/fullpage.html?res=9F05EEDF163AF931A25757C0A9669D8B63\n",
      "https://www.nytimes.com/2010/11/21/books/review/Letters-t-APOWERFULLIN_LETTERS.html\n",
      "https://www.nytimes.com/2010/01/01/opinion/01fri3.html\n",
      "https://www.nytimes.com/2010/12/25/world/africa/25briefs-Westernsahara.html\n",
      "https://www.nytimes.com/2010/01/13/theater/13brantley.html\n",
      "https://www.nytimes.com/2010/04/09/sports/09sportsbriefs-sioux.html\n",
      "https://www.nytimes.com/2010/08/18/sports/18swimmer.html\n",
      "https://query.nytimes.com/gst/fullpage.html?res=9D05EFD61739F930A15756C0A9669D8B63\n",
      "https://www.nytimes.com/2010/01/05/world/africa/05briefs-Southafrica.html\n",
      "https://www.nytimes.com/2010/01/29/arts/music/29castro.html\n",
      "https://www.nytimes.com/2010/11/17/dining/17fcal.html\n",
      "https://query.nytimes.com/gst/fullpage.html?res=9E02E7D61F3DF933A05755C0A9669D8B63\n",
      "https://www.nytimes.com/2010/02/22/business/media/22addes.html\n",
      "https://www.nytimes.com/2010/01/25/opinion/lweb25glass.html\n",
      "https://www.nytimes.com/2010/02/18/business/global/18airbus.html\n",
      "https://www.nytimes.com/2010/02/02/us/02calif.html\n",
      "https://www.nytimes.com/2010/07/05/sports/05goal.html\n",
      "https://www.nytimes.com/2010/03/07/nyregion/07dineli.html\n",
      "https://www.nytimes.com/2010/02/10/sports/10leading.html\n",
      "https://www.nytimes.com/2010/03/02/sports/football/02jets.html\n",
      "https://www.nytimes.com/2010/02/14/books/review/Heilbrunn-t.html\n",
      "https://www.nytimes.com/2010/01/21/business/smallbusiness/21sbiz.html\n",
      "https://www.nytimes.com/2010/03/31/world/middleeast/31prexy.html\n",
      "https://www.nytimes.com/2010/02/26/greathomesanddestinations/26away.html\n",
      "https://www.nytimes.com/2010/03/11/world/americas/11chile.html\n",
      "https://www.nytimes.com/2010/04/04/travel/04letters-ATREKINNEPAL_LETTERS.html\n",
      "https://www.nytimes.com/2010/03/23/sports/autoracing/23iceracing.html\n",
      "https://www.nytimes.com/2010/02/06/arts/music/06arts-AWOULDBECARM_BRF.html\n",
      "https://www.nytimes.com/2010/03/19/books/19book.html\n",
      "https://query.nytimes.com/gst/fullpage.html?res=940DEED8163AF936A15757C0A9669D8B63\n",
      "https://www.nytimes.com/2010/05/20/arts/20greenberg.html\n",
      "https://query.nytimes.com/gst/fullpage.html?res=9901E2DB1F30F93BA1575AC0A9669D8B63\n",
      "https://www.nytimes.com/2010/04/17/arts/dance/17arts-FOOTNOTE_BRF.html\n",
      "https://www.nytimes.com/2010/05/03/arts/03sarno.html\n",
      "https://query.nytimes.com/gst/fullpage.html?res=9B06EEDB1439F932A05753C1A9669D8B63\n",
      "https://query.nytimes.com/gst/fullpage.html?res=9407E7DA1F39F93AA35754C0A9669D8B63\n",
      "https://www.nytimes.com/2010/04/29/business/29toyota.html\n",
      "https://query.nytimes.com/gst/fullpage.html?res=9801E7D71E3AF931A2575AC0A9669D8B63\n",
      "https://www.nytimes.com/2010/03/27/world/africa/27zimbabwe.html\n",
      "https://www.nytimes.com/2010/07/23/nyregion/23lottery.html\n",
      "https://www.nytimes.com/2010/05/28/business/28shop.html\n",
      "https://www.nytimes.com/2010/06/06/business/global/06toxic.html\n",
      "https://www.nytimes.com/2010/05/11/health/11klass.html\n",
      "https://www.nytimes.com/2010/08/01/pageoneplus/corrections.html\n",
      "https://www.nytimes.com/2010/05/16/jobs/16pre.html\n",
      "https://www.nytimes.com/2010/06/01/world/asia/01maoist.html\n",
      "https://www.nytimes.com/2010/06/10/sports/ncaafootball/10sportsbriefs-oregon.html\n",
      "https://www.nytimes.com/2010/05/07/arts/television/07arts-MILLIONSFORW_BRF.html\n",
      "https://www.nytimes.com/2010/07/14/opinion/lweb14un.html\n",
      "https://query.nytimes.com/gst/fullpage.html?res=9D03E4DC173EF933A25753C1A9669D8B63\n",
      "https://www.nytimes.com/2010/06/22/world/europe/22europe.html\n",
      "https://www.nytimes.com/2010/06/18/world/americas/18colombia.html\n",
      "https://www.nytimes.com/2010/08/31/world/middleeast/31webbriefs-BAHRAIN.html\n",
      "https://www.nytimes.com/2010/07/27/business/global/27bank.html\n",
      "https://www.nytimes.com/2010/08/05/world/europe/05briefs-Campbell.html\n",
      "https://www.nytimes.com/2010/08/14/opinion/14sat1.html\n",
      "https://www.nytimes.com/2010/06/27/sports/27cws.html\n",
      "https://query.nytimes.com/gst/fullpage.html?res=9D04E2DE103FF93AA35752C0A9669D8B63\n",
      "https://www.nytimes.com/2010/08/09/opinion/lweb09honduras.html\n",
      "https://www.nytimes.com/2010/09/05/sports/05sportsbriefs-Desormeaux.html\n",
      "https://www.nytimes.com/2010/07/18/arts/music/18playlist.html\n",
      "https://www.nytimes.com/2010/04/21/dining/21grits.html\n",
      "https://www.nytimes.com/2010/09/17/nyregion/17coned.html\n",
      "https://www.nytimes.com/2010/08/27/sports/baseball/27sportsbriefs-littleleague.html\n",
      "https://query.nytimes.com/gst/fullpage.html?res=9B00EED9153AF936A25751C1A9669D8B63\n",
      "https://www.nytimes.com/2010/08/22/t-magazine/22talk-petkanas-t.html\n",
      "https://query.nytimes.com/gst/fullpage.html?res=9D03E4D8173AF93BA35752C1A9669D8B63\n",
      "https://www.nytimes.com/2010/11/30/business/30gm.html\n",
      "https://www.nytimes.com/2010/09/09/sports/tennis/09princeton.html\n",
      "https://query.nytimes.com/gst/fullpage.html?res=9A0DE0DA143AF936A15752C1A9669D8B63\n",
      "https://query.nytimes.com/gst/fullpage.html?res=9D01E1DE1231F936A1575AC0A9669D8B63\n",
      "https://www.nytimes.com/2010/10/03/sports/golf/03pga.html\n",
      "https://query.nytimes.com/gst/fullpage.html?res=9406E5D61F3EF937A35751C1A9669D8B63\n",
      "https://www.nytimes.com/2010/09/21/sports/21sportsbriefs-boxing.html\n",
      "https://www.nytimes.com/2010/10/15/business/15markets.html\n",
      "https://www.nytimes.com/2010/10/28/sports/basketball/28nets.html\n",
      "https://www.nytimes.com/2010/10/07/fashion/07FIT.html\n",
      "https://www.nytimes.com/2010/11/05/sports/soccer/05vecsey.html\n",
      "https://query.nytimes.com/gst/fullpage.html?res=9F0CEFD7163EF937A25750C0A9669D8B63\n",
      "https://www.nytimes.com/2010/12/20/opinion/20mon3.html\n",
      "https://www.nytimes.com/2010/10/19/world/africa/19nigeria.html\n",
      "https://www.nytimes.com/2010/11/13/business/13meter.html\n",
      "https://www.nytimes.com/2010/12/30/us/30brfs-KIDNEYISTHEC_BRF.html\n",
      "https://www.nytimes.com/2010/10/24/health/policy/24exchange.html\n",
      "https://query.nytimes.com/gst/fullpage.html?res=9B07EFDD1031F931A25757C0A9669D8B63\n",
      "https://query.nytimes.com/gst/fullpage.html?res=9C05EEDB153AF930A25755C0A9669D8B63\n",
      "https://www.nytimes.com/2010/01/17/books/review/Drezner-t.html\n",
      "https://www.nytimes.com/2010/12/08/world/middleeast/08killing.html\n",
      "https://www.nytimes.com/2010/11/21/realestate/21habi.html\n",
      "https://www.nytimes.com/2010/04/09/sports/soccer/09sportsbriefs-soccer.html\n",
      "https://www.nytimes.com/2010/12/25/us/politics/25michigan.html\n",
      "https://www.nytimes.com/2010/01/01/opinion/01fri2.html\n",
      "https://query.nytimes.com/gst/fullpage.html?res=9E0DE3D91130F930A15756C0A9669D8B63\n",
      "https://www.nytimes.com/2010/08/18/sports/football/18nfl.html\n",
      "https://www.nytimes.com/2010/01/13/arts/music/13verdi.html\n",
      "https://www.nytimes.com/2010/01/29/arts/television/29arts-AFTERRATINGS_BRF.html\n",
      "https://www.nytimes.com/2010/01/05/sports/baseball/05hall.html\n",
      "https://query.nytimes.com/gst/fullpage.html?res=9902E1DB123AF933A05755C0A9669D8B63\n",
      "https://www.nytimes.com/2010/11/17/dining/reviews/17restaurant.html\n",
      "https://www.nytimes.com/2010/02/22/opinion/22mon1.html\n",
      "https://www.nytimes.com/2010/01/25/opinion/l25chalabi.html\n",
      "https://www.nytimes.com/2010/02/18/fashion/18DIARY.html\n",
      "https://www.nytimes.com/2010/02/02/sports/02iditarod.html\n",
      "https://www.nytimes.com/2010/07/05/business/05views.html\n",
      "https://www.nytimes.com/2010/03/07/nyregion/07qbiteli.html\n",
      "https://www.nytimes.com/2010/02/10/business/economy/10econ.html\n",
      "https://www.nytimes.com/2010/02/14/books/review/Agee-t.html\n",
      "https://www.nytimes.com/2010/03/02/arts/music/02simon.html\n",
      "https://www.nytimes.com/2010/01/21/business/21aig.html\n",
      "https://www.nytimes.com/2010/03/31/world/europe/31pope.html\n",
      "https://www.nytimes.com/2010/02/26/health/nutrition/26recipehealth.html\n",
      "https://www.nytimes.com/2010/04/04/travel/04letters-PRESERVINGMA_LETTERS.html\n",
      "https://www.nytimes.com/2010/03/11/business/11askk.html\n",
      "https://www.nytimes.com/2010/02/06/arts/television/06arts-MENTALISTPUL_BRF.html\n",
      "https://www.nytimes.com/2010/03/23/sports/ncaabasketball/23duke.html\n",
      "https://query.nytimes.com/gst/fullpage.html?res=9406E4D7163AF936A15757C0A9669D8B63\n",
      "https://query.nytimes.com/gst/fullpage.html?res=9C06EFD91F3AF93BA1575AC0A9669D8B63\n",
      "https://www.nytimes.com/2010/03/19/arts/design/19gormley.html\n",
      "https://www.nytimes.com/2010/05/20/us/20tax.html\n",
      "https://www.nytimes.com/2010/04/17/world/middleeast/17goldstone.html\n",
      "https://query.nytimes.com/gst/fullpage.html?res=9906E4DF133AF93AA35754C0A9669D8B63\n",
      "https://query.nytimes.com/gst/fullpage.html?res=9C05EFDD143DF932A05753C1A9669D8B63\n",
      "https://www.nytimes.com/2010/05/03/business/media/03adco.html\n",
      "https://query.nytimes.com/gst/fullpage.html?res=9A01E5D71E3AF931A2575AC0A9669D8B63\n",
      "https://www.nytimes.com/2010/04/29/fashion/29SkinOne.html\n",
      "https://www.nytimes.com/2010/03/27/arts/television/27twentyfour.html\n",
      "https://www.nytimes.com/2010/05/28/business/media/28village.html\n",
      "https://www.nytimes.com/2010/07/23/nyregion/23cop.html\n",
      "https://www.nytimes.com/2010/06/06/fashion/weddings/06PLYNCH.html\n",
      "https://www.nytimes.com/2010/05/11/business/11moodys.html\n",
      "https://www.nytimes.com/2010/08/01/sports/tennis/01sportsbriefs-azarenka.html\n",
      "https://www.nytimes.com/2010/05/16/business/16shelf.html\n",
      "https://www.nytimes.com/2010/06/01/technology/01apple.html\n",
      "https://www.nytimes.com/2010/06/10/sports/baseball/10mets.html\n",
      "https://www.nytimes.com/2010/05/07/arts/television/07arts-IDOLSAGSAGAI_BRF.html\n",
      "https://query.nytimes.com/gst/fullpage.html?res=9F06E3DD163AF933A25753C1A9669D8B63\n",
      "https://www.nytimes.com/2010/07/14/opinion/l14violin.html\n",
      "https://www.nytimes.com/2010/06/22/health/22prof.html\n",
      "https://www.nytimes.com/2010/08/31/sports/soccer/31goal.html\n",
      "https://www.nytimes.com/2010/07/27/opinion/l27afghan.html\n",
      "https://www.nytimes.com/2010/06/18/us/18latest.html\n",
      "https://www.nytimes.com/2010/08/05/nyregion/05budget.html\n",
      "https://query.nytimes.com/gst/fullpage.html?res=9801EEDC123AF93AA35752C0A9669D8B63\n",
      "https://www.nytimes.com/2010/08/14/opinion/14sat4.html\n",
      "https://www.nytimes.com/2010/06/27/business/27regulate.html\n",
      "https://www.nytimes.com/2010/08/09/books/09arts-RICHARDPRICE_BRF.html\n",
      "https://www.nytimes.com/2010/09/05/sports/autoracing/05sportsbriefs-nascar.html\n",
      "https://www.nytimes.com/2010/07/18/arts/music/18webb.html\n",
      "https://www.nytimes.com/2010/04/21/dining/21off.html\n",
      "https://query.nytimes.com/gst/fullpage.html?res=9901E3DD123DF936A25751C1A9669D8B63\n",
      "https://www.nytimes.com/2010/09/17/opinion/17burde.html\n",
      "https://query.nytimes.com/gst/fullpage.html?res=950DE7D61438F93BA35752C1A9669D8B63\n",
      "https://www.nytimes.com/2010/08/27/sports/hockey/27sportsbriefs-guerin.html\n",
      "https://query.nytimes.com/gst/fullpage.html?res=9903E4DA1E3DF936A15752C1A9669D8B63\n",
      "https://www.nytimes.com/2010/08/22/t-magazine/22talk-jacobs-t.html\n",
      "https://query.nytimes.com/gst/fullpage.html?res=9F02EEDB1F3AF936A1575AC0A9669D8B63\n",
      "https://www.nytimes.com/2010/11/30/us/30oklahoma.html\n",
      "https://query.nytimes.com/gst/fullpage.html?res=9F05E1DF153AF937A35751C1A9669D8B63\n",
      "https://www.nytimes.com/2010/09/09/opinion/09thurs3.html\n",
      "https://www.nytimes.com/2010/10/03/sports/golf/03fourball.html\n",
      "https://www.nytimes.com/2010/09/21/sports/ncaafootball/21sportsbriefs-rutgers.html\n",
      "https://www.nytimes.com/2010/10/15/world/europe/15france.html\n",
      "https://query.nytimes.com/gst/fullpage.html?res=9C07E2D6173AF937A25750C0A9669D8B63\n",
      "https://www.nytimes.com/2010/10/07/world/asia/07fraud.html\n",
      "https://www.nytimes.com/2010/10/28/us/politics/28floridagov.html\n",
      "https://www.nytimes.com/2010/11/05/nyregion/05parking.html\n",
      "https://www.nytimes.com/2010/12/20/opinion/20cohen.html\n",
      "https://www.nytimes.com/2010/10/19/health/views/19case.html\n",
      "https://www.nytimes.com/2010/12/30/us/30locker.html\n",
      "https://query.nytimes.com/gst/fullpage.html?res=9503E6DA153AF930A25755C0A9669D8B63\n",
      "https://www.nytimes.com/2010/01/17/books/review/DErasmo-t.html\n",
      "https://query.nytimes.com/gst/fullpage.html?res=9B04E4D61031F931A25757C0A9669D8B63\n",
      "https://www.nytimes.com/2010/10/24/opinion/l24china.html\n",
      "https://www.nytimes.com/2010/11/13/movies/13sky.html\n",
      "https://www.nytimes.com/2010/12/08/world/asia/08bomb.html\n",
      "https://www.nytimes.com/2010/04/09/sports/basketball/09sportsbriefs-wnba.html\n",
      "https://www.nytimes.com/2010/11/21/realestate/21hunt.html\n",
      "https://query.nytimes.com/gst/fullpage.html?res=9C04E3D8163FF930A15756C0A9669D8B63\n",
      "https://www.nytimes.com/2010/12/25/opinion/25sat2.html\n",
      "https://www.nytimes.com/2010/01/01/opinion/01fri1.html\n",
      "https://www.nytimes.com/2010/08/18/opinion/l18alzheimers.html\n",
      "https://www.nytimes.com/2010/01/13/world/africa/13nigeria.html\n",
      "https://www.nytimes.com/2010/01/29/arts/television/29arts-WEDNESDAYSRA_BRF.html\n",
      "https://www.nytimes.com/2010/07/01/technology/personaltech/01pogue-email.html\n",
      "https://www.nytimes.com/2010/01/05/sports/football/05nfl.html\n",
      "https://www.nytimes.com/2010/11/17/dining/17off.html\n",
      "https://www.nytimes.com/2010/01/25/opinion/l25opera.html\n",
      "https://www.nytimes.com/2010/02/22/sports/olympics/22russia.html\n",
      "https://www.nytimes.com/2010/02/18/sports/autoracing/18autos.html\n",
      "https://www.nytimes.com/2010/03/07/nyregion/07dinect.html\n",
      "https://www.nytimes.com/2010/02/02/nyregion/02guatemalan.html\n",
      "https://www.nytimes.com/2010/07/05/technology/05drill.html\n",
      "https://www.nytimes.com/2010/02/14/books/review/Schillinger-t.html\n",
      "https://www.nytimes.com/2010/02/10/nyregion/10taxis.html\n",
      "https://www.nytimes.com/2010/03/02/health/02stat.html\n",
      "https://www.nytimes.com/2010/01/21/world/americas/21mexico.html\n",
      "https://www.nytimes.com/2010/03/31/world/europe/31start.html\n",
      "https://www.nytimes.com/2010/04/04/automobiles/autoshow/04CAMERA.html\n",
      "https://www.nytimes.com/2010/02/06/arts/music/06arts-SPRINGSTEENH_BRF.html\n",
      "https://query.nytimes.com/gst/fullpage.html?res=9501E4D7163AF936A15757C0A9669D8B63\n",
      "https://www.nytimes.com/2010/03/11/crosswords/bridge/11card.html\n",
      "https://www.nytimes.com/2010/03/23/sports/football/23nfl.html\n",
      "https://query.nytimes.com/gst/fullpage.html?res=990CE0D91F3AF93BA1575AC0A9669D8B63\n",
      "https://www.nytimes.com/2010/04/17/business/17airlines.html\n",
      "https://www.nytimes.com/2010/05/20/sports/baseball/20yankees.html\n",
      "https://query.nytimes.com/gst/fullpage.html?res=9A03E3D71E3CF932A05753C1A9669D8B63\n",
      "https://query.nytimes.com/gst/fullpage.html?res=9F05E3DF133AF93AA35754C0A9669D8B63\n",
      "https://www.nytimes.com/2010/03/19/arts/design/19vogel.html\n",
      "https://query.nytimes.com/gst/fullpage.html?res=9500E0D61031F931A2575AC0A9669D8B63\n",
      "https://query.nytimes.com/gst/fullpage.html?res=9E01E2DD113AF935A15751C0A9669D8B63\n",
      "https://www.nytimes.com/2010/05/03/nyregion/03immig.html\n",
      "https://www.nytimes.com/2010/04/29/fashion/29unitard.html\n",
      "https://www.nytimes.com/2010/05/28/world/asia/28drones.html\n",
      "https://www.nytimes.com/2010/03/27/arts/design/27ouroboros.html\n",
      "https://www.nytimes.com/2010/06/06/fashion/weddings/06Hufft.html\n",
      "https://www.nytimes.com/2010/07/23/pageoneplus/corrections.html\n",
      "https://www.nytimes.com/2010/08/01/world/asia/01afghan.html\n",
      "https://www.nytimes.com/2010/05/11/opinion/lweb11bike.html\n",
      "https://www.nytimes.com/2010/05/16/business/16fund.html\n",
      "https://www.nytimes.com/2010/06/01/business/01flier.html\n",
      "https://www.nytimes.com/2010/10/11/theater/reviews/11radio.html\n",
      "https://www.nytimes.com/2010/05/07/arts/television/07arts-PERKINSOUTOF_BRF.html\n",
      "https://www.nytimes.com/2010/06/10/sports/baseball/10bats.html\n",
      "https://www.nytimes.com/2010/07/14/opinion/l14haiti.html\n",
      "https://www.nytimes.com/2010/08/31/sports/tennis/31colombia.html\n",
      "https://www.nytimes.com/2010/06/22/health/22glob.html\n",
      "https://www.nytimes.com/2010/07/27/world/americas/27honduras.html\n",
      "https://www.nytimes.com/2010/06/18/sports/baseball/18pins.html\n",
      "https://query.nytimes.com/gst/fullpage.html?res=9A05E1D71E3FF93AA35752C0A9669D8B63\n",
      "https://www.nytimes.com/2010/08/05/sports/baseball/05citifield.html\n",
      "https://www.nytimes.com/2010/08/14/opinion/14sat3.html\n",
      "https://www.nytimes.com/2010/06/27/sports/27bats.html\n",
      "https://www.nytimes.com/2010/09/05/weekinreview/05grist.html\n",
      "https://www.nytimes.com/2010/08/09/arts/dance/09arts-DANCECOMPANI_BRF.html\n",
      "https://query.nytimes.com/gst/fullpage.html?res=980CE6D8153AF936A25751C1A9669D8B63\n",
      "https://query.nytimes.com/gst/fullpage.html?res=9402E4DA1539F93BA35752C1A9669D8B63\n",
      "https://www.nytimes.com/2010/04/21/dining/21fcal.html\n",
      "https://www.nytimes.com/2010/07/18/fashion/18CHELSEA.html\n",
      "https://query.nytimes.com/gst/fullpage.html?res=9407EEDB1F3AF936A1575AC0A9669D8B63\n",
      "https://www.nytimes.com/2010/09/17/opinion/17tobolowsky.html\n",
      "https://www.nytimes.com/2010/08/27/sports/baseball/27bats.html\n",
      "https://query.nytimes.com/gst/fullpage.html?res=9E02E5D91E3DF936A15752C1A9669D8B63\n",
      "https://www.nytimes.com/2010/08/22/travel/22journeys.html\n",
      "https://query.nytimes.com/gst/fullpage.html?res=9F07E1DE1631F937A35751C1A9669D8B63\n",
      "https://www.nytimes.com/2010/11/30/sports/football/30helmets.html\n",
      "https://www.nytimes.com/2010/09/09/nyregion/09dwi.html\n",
      "https://www.nytimes.com/2010/10/03/sports/baseball/03nlwest.html\n",
      "https://www.nytimes.com/2010/09/21/opinion/21tue3.html\n",
      "https://www.nytimes.com/2010/10/15/health/nutrition/15recipehealth.html\n",
      "https://query.nytimes.com/gst/fullpage.html?res=9B04E6DC1E3AF937A25750C0A9669D8B63\n",
      "https://www.nytimes.com/2010/10/07/business/media/07adco.html\n",
      "https://www.nytimes.com/2010/10/28/us/politics/28mainegov.html\n",
      "https://www.nytimes.com/2010/11/05/nyregion/05morris.html\n",
      "https://www.nytimes.com/2010/12/20/world/20nations.html\n",
      "https://www.nytimes.com/2010/10/19/health/research/19anorexia.html\n",
      "https://query.nytimes.com/gst/fullpage.html?res=9D04E1D7143FF930A25755C0A9669D8B63\n",
      "https://query.nytimes.com/gst/fullpage.html?res=9A00E0DF163AF931A25757C0A9669D8B63\n",
      "https://www.nytimes.com/2010/12/30/sports/ncaabasketball/30hoops.html\n",
      "https://www.nytimes.com/2010/01/17/books/review/Heilbrunn-t.html\n",
      "https://www.nytimes.com/2010/10/24/opinion/lweb24numbers.html\n",
      "https://www.nytimes.com/2010/11/13/nyregion/13trees.html\n",
      "https://www.nytimes.com/2010/12/08/world/europe/08ireland.html\n",
      "https://query.nytimes.com/gst/fullpage.html?res=9503E4DB143AF930A15756C0A9669D8B63\n",
      "https://www.nytimes.com/2010/04/09/sports/09sportsbriefs-kerrigan.html\n",
      "https://www.nytimes.com/2010/11/21/movies/homevideo/21kehr.html\n",
      "https://www.nytimes.com/2010/01/01/us/01scotus.html\n",
      "https://www.nytimes.com/2010/12/25/nyregion/25bigcity.html\n",
      "https://www.nytimes.com/2010/01/13/realestate/13energy.html\n",
      "https://www.nytimes.com/2010/08/18/sports/baseball/18soldiers.html\n",
      "https://www.nytimes.com/2010/07/01/arts/01allen.html\n",
      "https://www.nytimes.com/2010/01/29/world/europe/29italy.html\n",
      "https://www.nytimes.com/2010/01/05/world/asia/05pstan.html\n",
      "https://www.nytimes.com/2010/01/25/opinion/25mon4.html\n",
      "https://www.nytimes.com/2010/02/22/business/media/22textbook.html\n",
      "https://www.nytimes.com/2010/11/17/dining/17pierex1.html\n",
      "https://www.nytimes.com/2010/02/18/technology/personaltech/18pogue.html\n",
      "https://www.nytimes.com/2010/03/07/nyregion/07qbitect.html\n",
      "https://www.nytimes.com/2010/07/05/business/05ahead.html\n",
      "https://www.nytimes.com/2010/02/14/magazine/14FOB-ethicist-t.html\n",
      "https://www.nytimes.com/2010/02/02/nyregion/02fire.html\n",
      "https://www.nytimes.com/2010/02/10/world/asia/10avalanche.html\n",
      "https://www.nytimes.com/2010/03/02/us/politics/02detain.html\n",
      "https://www.nytimes.com/2010/01/21/business/21cheat.html\n",
      "https://www.nytimes.com/2010/04/04/automobiles/autoshow/04SHOW.html\n",
      "https://query.nytimes.com/gst/fullpage.html?res=9900EED8163AF936A15757C0A9669D8B63\n",
      "https://www.nytimes.com/2010/03/31/urbaneye/31ubn3.html\n",
      "https://www.nytimes.com/2010/02/06/your-money/life-and-disability-insurance/06money.html\n",
      "https://query.nytimes.com/gst/fullpage.html?res=9404EFD91F3AF93BA1575AC0A9669D8B63\n",
      "https://www.nytimes.com/2010/03/11/technology/personaltech/11smart1.html\n",
      "https://query.nytimes.com/gst/fullpage.html?res=9F01EEDB1F39F93AA35754C0A9669D8B63\n",
      "https://www.nytimes.com/2010/04/17/your-money/17wealth.html\n",
      "https://www.nytimes.com/2010/05/20/us/20brfs-JEWELRYBRAND_BRF.html\n",
      "https://www.nytimes.com/2010/03/23/world/middleeast/23briefs-Yemenbf.html\n",
      "https://query.nytimes.com/gst/fullpage.html?res=9F03E4D91030F931A2575AC0A9669D8B63\n",
      "https://query.nytimes.com/gst/fullpage.html?res=9901E3DE1539F932A05753C1A9669D8B63\n",
      "https://query.nytimes.com/gst/fullpage.html?res=9505E1DD113AF935A15751C0A9669D8B63\n",
      "https://www.nytimes.com/2010/03/19/arts/dance/19tyler.html\n",
      "https://www.nytimes.com/2010/05/03/world/03weapons.html\n",
      "https://www.nytimes.com/2010/05/28/business/global/28spain.html\n",
      "https://www.nytimes.com/2010/04/29/fashion/29tween.html\n",
      "https://www.nytimes.com/2010/06/06/fashion/weddings/06VENTURA.html\n",
      "https://www.nytimes.com/2010/03/27/books/27arts-JUDGINGBOOKS_BRF.html\n",
      "https://www.nytimes.com/2010/07/23/world/asia/23warren.html\n",
      "https://www.nytimes.com/2010/08/01/sports/autoracing/01sportsbriefs-ellis.html\n",
      "https://www.nytimes.com/2010/05/11/business/11miles.html\n",
      "https://www.nytimes.com/2010/06/01/health/nutrition/01recipehealth.html\n",
      "https://www.nytimes.com/2010/05/16/business/16view.html\n",
      "https://www.nytimes.com/2010/10/11/health/nutrition/11recipehealth.html\n",
      "https://www.nytimes.com/2010/05/07/theater/07arts-NEWARTISTICD_BRF.html\n",
      "https://www.nytimes.com/2010/07/14/opinion/l14rivers.html\n",
      "https://www.nytimes.com/2010/06/10/health/10radiation.html\n",
      "https://www.nytimes.com/2010/08/31/us/politics/31obama.html\n",
      "https://www.nytimes.com/2010/06/22/health/22brod.html\n",
      "https://www.nytimes.com/2010/07/27/world/europe/27scandal.html\n",
      "https://query.nytimes.com/gst/fullpage.html?res=940DEEDC123AF93AA35752C0A9669D8B63\n",
      "https://www.nytimes.com/2010/06/18/arts/music/18pop.html\n",
      "https://www.nytimes.com/2010/08/14/health/policy/14drug.html\n",
      "https://www.nytimes.com/2010/08/05/us/05gulf.html\n",
      "https://query.nytimes.com/gst/fullpage.html?res=9D01E2D81530F936A25751C1A9669D8B63\n",
      "https://www.nytimes.com/2010/09/05/sports/05colleges.html\n",
      "https://www.nytimes.com/2010/06/27/sports/golf/27lpga.html\n",
      "https://query.nytimes.com/gst/fullpage.html?res=9C00E4D8173AF93BA35752C1A9669D8B63\n",
      "https://www.nytimes.com/2010/08/09/opinion/l09restaurant.html\n",
      "https://www.nytimes.com/2010/04/21/arts/music/21pops.html\n",
      "https://query.nytimes.com/gst/fullpage.html?res=9B04E0DC1231F936A1575AC0A9669D8B63\n",
      "https://www.nytimes.com/2010/07/18/books/review/excerpt-nine-lives.html\n",
      "https://query.nytimes.com/gst/fullpage.html?res=9D07EFDA143AF936A15752C1A9669D8B63\n",
      "https://www.nytimes.com/2010/09/17/us/17list.html\n",
      "https://www.nytimes.com/2010/08/27/arts/design/27arts-CLEVELANDMUS_BRF.html\n",
      "https://query.nytimes.com/gst/fullpage.html?res=9E06EFD91F3EF937A35751C1A9669D8B63\n",
      "https://www.nytimes.com/2010/08/22/magazine/22letters-t-MYLIFEINTHER_LETTERS.html\n",
      "https://www.nytimes.com/2010/09/09/opinion/09thurs2.html\n",
      "https://www.nytimes.com/2010/11/30/business/30cyber.html\n",
      "https://www.nytimes.com/2010/09/21/sports/basketball/21sportsbriefs-artest.html\n",
      "https://query.nytimes.com/gst/fullpage.html?res=9B07E7DA1139F937A25750C0A9669D8B63\n",
      "https://www.nytimes.com/2010/10/03/world/asia/03indo.html\n",
      "https://query.nytimes.com/gst/fullpage.html?res=9506E1DD1431F936A25753C1A9669D8B63\n",
      "https://www.nytimes.com/2010/10/28/us/politics/28texasgov.html\n",
      "https://www.nytimes.com/2010/11/05/opinion/l05elect.html\n",
      "https://www.nytimes.com/2010/10/07/sports/baseball/07phillies.html\n",
      "https://query.nytimes.com/gst/fullpage.html?res=9B04E3D9133AF930A25755C0A9669D8B63\n",
      "https://www.nytimes.com/2010/10/19/arts/music/19concert.html\n",
      "https://www.nytimes.com/2010/12/20/sports/soccer/20sportsbriefs-DAVIESSRETUR_BRF.html\n",
      "https://query.nytimes.com/gst/fullpage.html?res=9B05E2D71031F931A25757C0A9669D8B63\n",
      "https://www.nytimes.com/2010/01/17/fashion/weddings/17vows.html\n",
      "https://www.nytimes.com/2010/12/30/sports/basketball/30nba.html\n",
      "https://www.nytimes.com/2010/10/24/opinion/l24voting.html\n",
      "https://www.nytimes.com/2010/11/13/theater/reviews/13notes.html\n",
      "https://query.nytimes.com/gst/fullpage.html?res=9D04E0D8163FF930A15756C0A9669D8B63\n",
      "https://www.nytimes.com/2010/12/08/world/europe/08georgia.html\n",
      "https://www.nytimes.com/2010/11/21/fashion/21POSSESSED.html\n",
      "https://www.nytimes.com/2010/04/09/sports/basketball/09sportsbriefs-nets.html\n",
      "https://www.nytimes.com/2010/01/01/us/politics/01tsa.html\n",
      "https://www.nytimes.com/2010/12/25/opinion/25collins.html\n",
      "https://www.nytimes.com/2010/01/13/arts/dance/13hawkins.html\n",
      "https://www.nytimes.com/2010/08/18/us/politics/18donate.html\n",
      "https://www.nytimes.com/2010/01/29/business/29mods.html\n",
      "https://www.nytimes.com/2010/07/01/world/asia/01korea.html\n",
      "https://www.nytimes.com/2010/01/05/business/global/05pricing.html\n",
      "https://www.nytimes.com/2010/01/25/opinion/25mon2.html\n",
      "https://www.nytimes.com/2010/02/22/business/energy-environment/22deal.html\n",
      "https://www.nytimes.com/2010/03/07/nyregion/07dinewe.html\n",
      "https://www.nytimes.com/2010/02/18/world/europe/18britain.html\n",
      "https://www.nytimes.com/2010/02/14/movies/14polanski.html\n",
      "https://www.nytimes.com/2010/07/05/business/05bonds.html\n",
      "https://www.nytimes.com/2010/02/02/nyregion/02experience.html\n",
      "https://www.nytimes.com/2010/03/02/technology/02ticket.html\n",
      "https://www.nytimes.com/2010/02/10/world/asia/10pollute.html\n",
      "https://www.nytimes.com/2010/01/21/world/europe/21britain.html\n",
      "https://www.nytimes.com/2010/11/17/dining/17timer.html\n",
      "https://query.nytimes.com/gst/fullpage.html?res=9E05E7D7163AF936A15757C0A9669D8B63\n",
      "https://www.nytimes.com/2010/04/04/fashion/04genb.html\n",
      "https://query.nytimes.com/gst/fullpage.html?res=9C01E0D91F3AF93BA1575AC0A9669D8B63\n",
      "https://www.nytimes.com/2010/03/31/urbaneye/31ubn1.html\n",
      "https://query.nytimes.com/gst/fullpage.html?res=9D0CE4DF133AF93AA35754C0A9669D8B63\n",
      "https://www.nytimes.com/2010/02/06/arts/06arts-FOOTNOTES_BRF.html\n",
      "https://www.nytimes.com/2010/03/11/books/excerpt-next.html\n",
      "https://www.nytimes.com/2010/04/17/business/economy/17charts.html\n",
      "https://query.nytimes.com/gst/fullpage.html?res=9903E5DC1731F935A15751C0A9669D8B63\n",
      "https://query.nytimes.com/gst/fullpage.html?res=9805E1DF103FF932A05753C1A9669D8B63\n",
      "https://query.nytimes.com/gst/fullpage.html?res=9B00E5D71E3AF931A2575AC0A9669D8B63\n",
      "https://www.nytimes.com/2010/05/20/us/politics/20brfs-KAGANHEARING_BRF.html\n",
      "https://www.nytimes.com/2010/03/23/sports/ncaabasketball/23cornell.html\n",
      "https://www.nytimes.com/2010/03/19/arts/design/19bprice.html\n",
      "https://www.nytimes.com/2010/05/28/science/earth/28workers.html\n",
      "https://www.nytimes.com/2010/05/03/business/media/03paper.html\n",
      "https://www.nytimes.com/2010/06/06/fashion/weddings/06MERCADO.html\n",
      "https://www.nytimes.com/2010/03/27/arts/television/27arts-CBSWINSTHURS_BRF.html\n",
      "https://www.nytimes.com/2010/04/29/sports/basketball/29mavericks.html\n",
      "https://www.nytimes.com/2010/07/23/opinion/23fri1.html\n",
      "https://www.nytimes.com/2010/08/01/sports/cycling/01sportsbriefs-landis.html\n",
      "https://www.nytimes.com/2010/05/11/world/africa/11zimbabwe.html\n",
      "https://www.nytimes.com/2010/05/16/opinion/16sun4.html\n",
      "https://www.nytimes.com/2010/06/01/business/01markets.html\n",
      "https://www.nytimes.com/2010/10/11/business/media/11adnewsletter3.html\n",
      "https://www.nytimes.com/2010/05/07/arts/dance/07arts-BALLETTHEATE_BRF.html\n",
      "https://www.nytimes.com/2010/07/14/opinion/l14immig.html\n",
      "https://www.nytimes.com/2010/06/10/business/energy-environment/10gates.html\n",
      "https://www.nytimes.com/2010/08/31/sports/soccer/31bradley.html\n",
      "https://query.nytimes.com/gst/fullpage.html?res=9E03E4DE133FF93AA35752C0A9669D8B63\n",
      "https://www.nytimes.com/2010/07/27/opinion/l27caesarean.html\n",
      "https://www.nytimes.com/2010/06/22/us/22spill.html\n",
      "https://www.nytimes.com/2010/08/14/education/14college.html\n",
      "https://www.nytimes.com/2010/06/18/movies/18killer.html\n",
      "https://query.nytimes.com/gst/fullpage.html?res=9C00E6D8153AF936A25751C1A9669D8B63\n",
      "https://www.nytimes.com/2010/08/05/nyregion/05lottery.html\n",
      "https://query.nytimes.com/gst/fullpage.html?res=9C01E7DA1438F93BA35752C1A9669D8B63\n",
      "https://www.nytimes.com/2010/09/05/sports/golf/05golf.html\n",
      "https://www.nytimes.com/2010/06/27/us/27bcintel.html\n",
      "https://query.nytimes.com/gst/fullpage.html?res=9C06EEDA1231F936A1575AC0A9669D8B63\n",
      "https://www.nytimes.com/2010/08/09/arts/music/09arts-SPRINGSTEEND_BRF.html\n",
      "https://www.nytimes.com/2010/04/21/dining/21pies.html\n",
      "https://query.nytimes.com/gst/fullpage.html?res=9C06E7D91F3DF936A15752C1A9669D8B63\n",
      "https://www.nytimes.com/2010/07/18/arts/television/18mad.html\n",
      "https://query.nytimes.com/gst/fullpage.html?res=9907E1DF153AF937A35751C1A9669D8B63\n",
      "https://www.nytimes.com/2010/08/27/movies/27daniel.html\n"
     ]
    }
   ],
   "source": [
    "async def fetch_p(articles):\n",
    "    for article in tqdm(articles):\n",
    "        if article is None:\n",
    "            break\n",
    "            \n",
    "        print(article['web_url'])\n",
    "\n",
    "        resp = await do_request(article['web_url'])\n",
    "        bs = BeautifulSoup(resp.content, 'lxml')\n",
    "\n",
    "\n",
    "        for p in bs.select('.story-body-text.story-content'):\n",
    "            if int(p['data-para-count']) > 100:\n",
    "                article['first-para'] = p.text\n",
    "                break\n",
    "                \n",
    "    return articles\n",
    "\n",
    "import itertools\n",
    "def grouper(n, iterable, fillvalue=None):\n",
    "    \"grouper(3, 'ABCDEFG', 'x') --> ABC DEF Gxx\"\n",
    "    args = [iter(iterable)] * n\n",
    "    return itertools.zip_longest(*args, fillvalue=fillvalue)\n",
    "\n",
    "async def do_magic():\n",
    "    tasks = [asyncio.ensure_future(fetch_p(group)) for group in grouper(1000, articles)]\n",
    "    for task in tasks:\n",
    "        await task\n",
    "        \n",
    "loop = asyncio.get_event_loop()\n",
    "loop.run_until_complete(do_magic())"
   ]
  },
  {
   "cell_type": "code",
   "execution_count": null,
   "metadata": {
    "collapsed": true
   },
   "outputs": [],
   "source": [
    "with open('articles-all.pkl', 'wb') as fp:\n",
    "    pickle.dump(articles, fp)"
   ]
  }
 ],
 "metadata": {
  "kernelspec": {
   "display_name": "Python 3",
   "language": "python",
   "name": "python3"
  },
  "language_info": {
   "codemirror_mode": {
    "name": "ipython",
    "version": 3
   },
   "file_extension": ".py",
   "mimetype": "text/x-python",
   "name": "python",
   "nbconvert_exporter": "python",
   "pygments_lexer": "ipython3",
   "version": "3.6.0"
  },
  "widgets": {
   "state": {
    "0019c258730a4ff99d8f449cbc8facde": {
     "views": [
      {
       "cell_index": 8
      }
     ]
    },
    "00ea404c53804dd39a691779d223e2e2": {
     "views": [
      {
       "cell_index": 8
      }
     ]
    },
    "012053f7ae914e7b9033233df2b190f4": {
     "views": [
      {
       "cell_index": 8
      }
     ]
    },
    "013c0aeed232443a984602840b4ad8cd": {
     "views": [
      {
       "cell_index": 8
      }
     ]
    },
    "01bcca85ad444a8a96d0ca05127d6b4e": {
     "views": [
      {
       "cell_index": 8
      }
     ]
    },
    "0241c95a8b5145f9a8f69774fdab832d": {
     "views": [
      {
       "cell_index": 8
      }
     ]
    },
    "028e0665a44e488792839faafbb58718": {
     "views": [
      {
       "cell_index": 8
      }
     ]
    },
    "0291d498acc74d3e970e617f8228430c": {
     "views": [
      {
       "cell_index": 8
      }
     ]
    },
    "03bf6a1588384defa88bd54b65d5394b": {
     "views": [
      {
       "cell_index": 8
      }
     ]
    },
    "046dbd8a51e1400183767a0a96176ea0": {
     "views": [
      {
       "cell_index": 8
      }
     ]
    },
    "0509b15459c64a91b2b339a400c6e74c": {
     "views": [
      {
       "cell_index": 8
      }
     ]
    },
    "059e234e74b846ef93deca6c9d41fde0": {
     "views": [
      {
       "cell_index": 8
      }
     ]
    },
    "05d38351f1ac4f98832520ac3d410cfb": {
     "views": [
      {
       "cell_index": 8
      }
     ]
    },
    "05e4e023c9ca4491b38fc3bd1be45374": {
     "views": [
      {
       "cell_index": 8
      }
     ]
    },
    "05e59207351745a1ae1b0a829bc97c52": {
     "views": [
      {
       "cell_index": 8
      }
     ]
    },
    "06207672ba9443299aa02121b8fb972e": {
     "views": [
      {
       "cell_index": 8
      }
     ]
    },
    "06de1ef1f6e3469f9e81a6e8c426935b": {
     "views": [
      {
       "cell_index": 8
      }
     ]
    },
    "0735863be8754440ab17c03d5e7a1593": {
     "views": [
      {
       "cell_index": 8
      }
     ]
    },
    "07b6689bb2e34be79e870944aef5bfdd": {
     "views": [
      {
       "cell_index": 8
      }
     ]
    },
    "088f3299f56a4cf393b3c69367ba2ad0": {
     "views": [
      {
       "cell_index": 8
      }
     ]
    },
    "09014de779a146a48546127ab78b452b": {
     "views": [
      {
       "cell_index": 8
      }
     ]
    },
    "09278d23660648a5985ede3635a6c937": {
     "views": [
      {
       "cell_index": 8
      }
     ]
    },
    "097567d9835b4a62b48415c7ba5ea1a3": {
     "views": [
      {
       "cell_index": 8
      }
     ]
    },
    "0a0c1d6d5bfc4f4dbf3b0e53456e0f63": {
     "views": [
      {
       "cell_index": 8
      }
     ]
    },
    "0adad1411de74c8db4084f488bf99844": {
     "views": [
      {
       "cell_index": 8
      }
     ]
    },
    "0afd73cd3b7c45f181cf0b046cef0485": {
     "views": [
      {
       "cell_index": 8
      }
     ]
    },
    "0afe069e54bd480e94a73808eac1fe75": {
     "views": [
      {
       "cell_index": 8
      }
     ]
    },
    "0b50806a52074e568abb1550d80b85a0": {
     "views": [
      {
       "cell_index": 8
      }
     ]
    },
    "0bb2deceb7134f3f91bb1b8f50b6001f": {
     "views": [
      {
       "cell_index": 8
      }
     ]
    },
    "0be0530a3be2462992e9b89a26541370": {
     "views": [
      {
       "cell_index": 8
      }
     ]
    },
    "0c28afe7c2414f308204f9332d1ade12": {
     "views": [
      {
       "cell_index": 8
      }
     ]
    },
    "0c8bf5e2929a469fb4395187f6a34167": {
     "views": [
      {
       "cell_index": 8
      }
     ]
    },
    "0cea92db94bd413fbe0ad5c2e35bdde9": {
     "views": [
      {
       "cell_index": 8
      }
     ]
    },
    "0d493491759344d696ab55bc84b87e0a": {
     "views": [
      {
       "cell_index": 8
      }
     ]
    },
    "0d7022e6ad034804a810ed5f20072061": {
     "views": [
      {
       "cell_index": 8
      }
     ]
    },
    "0d725b864fb9497896584b4a5212b027": {
     "views": [
      {
       "cell_index": 8
      }
     ]
    },
    "0de7ed5f9c5944dfa7cb190a66d0c586": {
     "views": [
      {
       "cell_index": 8
      }
     ]
    },
    "0eb8ca38ed2d41f2b435610c013e44cd": {
     "views": [
      {
       "cell_index": 8
      }
     ]
    },
    "0ff90ac235c541d9a0402ab1459633ea": {
     "views": [
      {
       "cell_index": 8
      }
     ]
    },
    "107b63d5e4384adbbf4655f9b265b867": {
     "views": [
      {
       "cell_index": 8
      }
     ]
    },
    "10a070e2803b4630b8de353a63aa5f0f": {
     "views": [
      {
       "cell_index": 8
      }
     ]
    },
    "11517a823b9d4887a87ebb1ee3412771": {
     "views": [
      {
       "cell_index": 8
      }
     ]
    },
    "1161697c01f44967af60f8d3ffcbaf86": {
     "views": [
      {
       "cell_index": 8
      }
     ]
    },
    "11c8373a47204ed1be7ea836f4a05028": {
     "views": [
      {
       "cell_index": 8
      }
     ]
    },
    "125e06284867459abbe7246c0744f4c1": {
     "views": [
      {
       "cell_index": 8
      }
     ]
    },
    "1276fb48b8084f60957dbcc723ddb793": {
     "views": [
      {
       "cell_index": 8
      }
     ]
    },
    "12ba4bb28b1f4459a7f7939b2c1c97b0": {
     "views": [
      {
       "cell_index": 5
      }
     ]
    },
    "137c3e1965c0455cba18c729d1bda614": {
     "views": [
      {
       "cell_index": 8
      }
     ]
    },
    "151ca1125d9049ffb9f94baab824f36e": {
     "views": [
      {
       "cell_index": 8
      }
     ]
    },
    "16fee45e90764dbea48a201d1f5e1d7e": {
     "views": [
      {
       "cell_index": 8
      }
     ]
    },
    "17c7d23c1c974aecb842b57f4d277198": {
     "views": [
      {
       "cell_index": 8
      }
     ]
    },
    "1839a0570414420c8d82ec38acc1084b": {
     "views": [
      {
       "cell_index": 8
      }
     ]
    },
    "19187843bd17486f9b26cfdc9cf59d16": {
     "views": [
      {
       "cell_index": 8
      }
     ]
    },
    "19220d8d7dc34f0fa1b9771fa5d84723": {
     "views": [
      {
       "cell_index": 8
      }
     ]
    },
    "194e31d72e464a9e9100a0470dc706b9": {
     "views": [
      {
       "cell_index": 8
      }
     ]
    },
    "1a004528db924bdeb6f1a8db7f095edb": {
     "views": [
      {
       "cell_index": 8
      }
     ]
    },
    "1a68d5ffd39a43a1b3912e0d0d493791": {
     "views": [
      {
       "cell_index": 8
      }
     ]
    },
    "1aef7bba9e624120aa3931d833ed8c08": {
     "views": [
      {
       "cell_index": 8
      }
     ]
    },
    "1b2744d88c5f47b9bd5cea7f62cc5683": {
     "views": [
      {
       "cell_index": 8
      }
     ]
    },
    "1b6c35220fb347758ee50a053b3c0d74": {
     "views": [
      {
       "cell_index": 8
      }
     ]
    },
    "1b73ae7515914aecac80d3a3c39ebe2b": {
     "views": [
      {
       "cell_index": 8
      }
     ]
    },
    "1b9843e5ea63408c85518d970aca140d": {
     "views": [
      {
       "cell_index": 8
      }
     ]
    },
    "1cb52c481b0d4e7cab0ac2bcd0243820": {
     "views": [
      {
       "cell_index": 8
      }
     ]
    },
    "1dde5c67550e42248afa7be0d7bc0537": {
     "views": [
      {
       "cell_index": 8
      }
     ]
    },
    "1e7f10341cb84bc7a14ed79f41f613e0": {
     "views": [
      {
       "cell_index": 8
      }
     ]
    },
    "1ef06e68bf2f443f947af81c58991ac6": {
     "views": [
      {
       "cell_index": 8
      }
     ]
    },
    "1f1cabd4ac564dc79975f9525700fee8": {
     "views": [
      {
       "cell_index": 8
      }
     ]
    },
    "1fe1bcfd0de04bada825b43a1e8f33bb": {
     "views": [
      {
       "cell_index": 8
      }
     ]
    },
    "20b831ad15d94a5d81b96dd822e0a1cc": {
     "views": [
      {
       "cell_index": 8
      }
     ]
    },
    "21432ba37508436ebce804324e553d51": {
     "views": [
      {
       "cell_index": 8
      }
     ]
    },
    "21e6ce71e2c445339856065c93cfcca3": {
     "views": [
      {
       "cell_index": 8
      }
     ]
    },
    "2228a3cac44847f7821a9d99bba1c4b0": {
     "views": [
      {
       "cell_index": 8
      }
     ]
    },
    "2232dc6090fb45c09f52e57ffc2bf3be": {
     "views": [
      {
       "cell_index": 8
      }
     ]
    },
    "22a0d8f636a34348baff312530f13109": {
     "views": [
      {
       "cell_index": 8
      }
     ]
    },
    "2385bcd3f66147a3955c43c16eb3cc24": {
     "views": [
      {
       "cell_index": 8
      }
     ]
    },
    "238c0a231bc84b59978ab78413710e59": {
     "views": [
      {
       "cell_index": 8
      }
     ]
    },
    "239df13a58cd48129598b865557ecd50": {
     "views": [
      {
       "cell_index": 8
      }
     ]
    },
    "2435b93955c14b8d800c14d8ee1d2dc6": {
     "views": [
      {
       "cell_index": 8
      }
     ]
    },
    "245a1992ff6a45a0b31da99936bdeb73": {
     "views": [
      {
       "cell_index": 8
      }
     ]
    },
    "2461e9ed54ff4970b650bb09b54aa463": {
     "views": [
      {
       "cell_index": 8
      }
     ]
    },
    "25b1b76412424109bab09b6bddede91e": {
     "views": [
      {
       "cell_index": 8
      }
     ]
    },
    "2643017a58bd43dd8f1613fe4fa052b5": {
     "views": [
      {
       "cell_index": 8
      }
     ]
    },
    "266774962322488e8491c760607c146e": {
     "views": [
      {
       "cell_index": 8
      }
     ]
    },
    "27c73895732a4924973a11cce9722a82": {
     "views": [
      {
       "cell_index": 8
      }
     ]
    },
    "27fa590d3f5b416698ce5313bf331052": {
     "views": [
      {
       "cell_index": 8
      }
     ]
    },
    "293ebe8606664a1c9dae1d9d456e0fb3": {
     "views": [
      {
       "cell_index": 8
      }
     ]
    },
    "2a106b5a4cc245a9822202bc8daf7823": {
     "views": [
      {
       "cell_index": 8
      }
     ]
    },
    "2a627dae224d479abfe81c2bb07d358a": {
     "views": [
      {
       "cell_index": 8
      }
     ]
    },
    "2abbd904e6f846efb48242314b6df166": {
     "views": [
      {
       "cell_index": 8
      }
     ]
    },
    "2b19a2a05309421e8c23882d5f471dec": {
     "views": [
      {
       "cell_index": 8
      }
     ]
    },
    "2b62dd1dd25241cb96c3d26e76aff590": {
     "views": [
      {
       "cell_index": 8
      }
     ]
    },
    "2be04f59281f4d77a16b483a0312b90f": {
     "views": [
      {
       "cell_index": 8
      }
     ]
    },
    "2c7d7b96d2214fa9a9625d2bdd9990e1": {
     "views": [
      {
       "cell_index": 8
      }
     ]
    },
    "2cc17a724c3344dbb7be85a5dedf6b5c": {
     "views": [
      {
       "cell_index": 8
      }
     ]
    },
    "2ceb358d070c4f05a8f792c212f9e312": {
     "views": [
      {
       "cell_index": 8
      }
     ]
    },
    "2d9523242223464491e0289acb044a2b": {
     "views": [
      {
       "cell_index": 8
      }
     ]
    },
    "2d9b2265271f468c97963b07efd8b4c1": {
     "views": [
      {
       "cell_index": 8
      }
     ]
    },
    "2e06f1f527434def8ede7b00ff089ddc": {
     "views": [
      {
       "cell_index": 8
      }
     ]
    },
    "2e089367bf2a4acba18291c7114d456d": {
     "views": [
      {
       "cell_index": 8
      }
     ]
    },
    "2e9533261543446189478eed299be412": {
     "views": [
      {
       "cell_index": 8
      }
     ]
    },
    "2f0a4f3f3ec744ee81d3338a423f4855": {
     "views": [
      {
       "cell_index": 8
      }
     ]
    },
    "2f33850d75e34e61aba9c3b760f00af5": {
     "views": [
      {
       "cell_index": 8
      }
     ]
    },
    "2fb596dcd7bf40e481b8558646ce6a4c": {
     "views": [
      {
       "cell_index": 8
      }
     ]
    },
    "3010639d16fe4546a9cf6a4427a38e55": {
     "views": [
      {
       "cell_index": 8
      }
     ]
    },
    "30ca56b3af464a88bee87f4ed15bf67e": {
     "views": [
      {
       "cell_index": 8
      }
     ]
    },
    "318d76cef78648e0929a856fbb35d26a": {
     "views": [
      {
       "cell_index": 8
      }
     ]
    },
    "31ac916a2aa04e53811f38a33950fa12": {
     "views": [
      {
       "cell_index": 8
      }
     ]
    },
    "31c208f279244605835ba130a2d04dd9": {
     "views": [
      {
       "cell_index": 8
      }
     ]
    },
    "327133c16e3a4258bd3e449917ca50de": {
     "views": [
      {
       "cell_index": 8
      }
     ]
    },
    "33779ea13e824159b61b3e5e39d96f20": {
     "views": [
      {
       "cell_index": 8
      }
     ]
    },
    "33f22263ebf043819fc314fe9b9a65b6": {
     "views": [
      {
       "cell_index": 8
      }
     ]
    },
    "33f822393768467cbd16a8ed8723de0c": {
     "views": [
      {
       "cell_index": 8
      }
     ]
    },
    "3407010c12274f8f9b59a4a2f52610da": {
     "views": [
      {
       "cell_index": 8
      }
     ]
    },
    "344efa29f41e457fb769b6d1523d50f3": {
     "views": [
      {
       "cell_index": 8
      }
     ]
    },
    "34ba8ef3d501407a84ee8e116a60b4b0": {
     "views": [
      {
       "cell_index": 8
      }
     ]
    },
    "34d365968e844f25aa0865e4240bdd35": {
     "views": [
      {
       "cell_index": 8
      }
     ]
    },
    "351181f6f7c545f392f1b6d5cb3b04be": {
     "views": [
      {
       "cell_index": 8
      }
     ]
    },
    "36023df918144b03a45b861ff6212aad": {
     "views": [
      {
       "cell_index": 8
      }
     ]
    },
    "36e3c6c889c24c03b1e46bdadfe20b35": {
     "views": [
      {
       "cell_index": 8
      }
     ]
    },
    "37a74fc033784593a05c85f69fa4683b": {
     "views": [
      {
       "cell_index": 8
      }
     ]
    },
    "38456bf913d544d1b2b7f36ad3796915": {
     "views": [
      {
       "cell_index": 8
      }
     ]
    },
    "388303d5c0cc41b68ff97dbc382b7d40": {
     "views": [
      {
       "cell_index": 8
      }
     ]
    },
    "3b379fb42aac4d48a096651d6835e786": {
     "views": [
      {
       "cell_index": 8
      }
     ]
    },
    "3b8b26aee07240c1b93249cd25755f73": {
     "views": [
      {
       "cell_index": 8
      }
     ]
    },
    "3be2138e20164d7cbf65fcac028bb600": {
     "views": [
      {
       "cell_index": 8
      }
     ]
    },
    "3c4beb5037184b6a8fc04d24efcfd52f": {
     "views": [
      {
       "cell_index": 8
      }
     ]
    },
    "3c5d128393534e6cb233844ce55a7178": {
     "views": [
      {
       "cell_index": 8
      }
     ]
    },
    "3c6b9eb7bc2c44bd80a4bf2a5a65e813": {
     "views": [
      {
       "cell_index": 8
      }
     ]
    },
    "3d0d4375746f4783b3526fda29f17dbf": {
     "views": [
      {
       "cell_index": 8
      }
     ]
    },
    "3d62340b11124bbb83f8af60b74d96ba": {
     "views": [
      {
       "cell_index": 8
      }
     ]
    },
    "3f1509187ef541879c941383f2692501": {
     "views": [
      {
       "cell_index": 8
      }
     ]
    },
    "3f4dbef93c7f4b71af7d0c0beb979a2c": {
     "views": [
      {
       "cell_index": 8
      }
     ]
    },
    "3ffa6e41271b4b45a579c5d820af6f17": {
     "views": [
      {
       "cell_index": 8
      }
     ]
    },
    "41464f1499f94ed6ad62e095bcf05e0a": {
     "views": [
      {
       "cell_index": 8
      }
     ]
    },
    "41483464452245d2b968a1c7fa96f260": {
     "views": [
      {
       "cell_index": 8
      }
     ]
    },
    "4222f17a47cd4f52b121943c0688d59a": {
     "views": [
      {
       "cell_index": 8
      }
     ]
    },
    "4282951037da469fa224c1dd14098fbe": {
     "views": [
      {
       "cell_index": 8
      }
     ]
    },
    "42a62addfb3743c1bc4dcb9bb7a7c24d": {
     "views": [
      {
       "cell_index": 8
      }
     ]
    },
    "4420e1696e2f46a6a53984a5ecd81dab": {
     "views": [
      {
       "cell_index": 8
      }
     ]
    },
    "44ccb05a23e549debe06fd70e368640d": {
     "views": [
      {
       "cell_index": 8
      }
     ]
    },
    "45af9c568770478db7a62be395847dfc": {
     "views": [
      {
       "cell_index": 8
      }
     ]
    },
    "46623ac79f4949a497bd75abee81c095": {
     "views": [
      {
       "cell_index": 8
      }
     ]
    },
    "473e3d9e16614f9c911aede6b549a8c8": {
     "views": [
      {
       "cell_index": 8
      }
     ]
    },
    "483f8442dda747159d44f5d2151a9550": {
     "views": [
      {
       "cell_index": 8
      }
     ]
    },
    "4885c4eba7dd468a9bc79e5303385c69": {
     "views": [
      {
       "cell_index": 8
      }
     ]
    },
    "494791d1e2d44ed78e2d848fb05cc31d": {
     "views": [
      {
       "cell_index": 8
      }
     ]
    },
    "4a2bfeac00354efab1ce632a1a48980a": {
     "views": [
      {
       "cell_index": 8
      }
     ]
    },
    "4a57a545933641e69cd6c86cac035a6d": {
     "views": [
      {
       "cell_index": 8
      }
     ]
    },
    "4b112e50d0354855bd81919f7729dd6b": {
     "views": [
      {
       "cell_index": 8
      }
     ]
    },
    "4b193c3e6fb645d5807084dbf32fb4e7": {
     "views": [
      {
       "cell_index": 8
      }
     ]
    },
    "4b4525359df84a79b180a203f6c6c0a4": {
     "views": [
      {
       "cell_index": 8
      }
     ]
    },
    "4b7068c74bd94513ac15e608c836854e": {
     "views": [
      {
       "cell_index": 8
      }
     ]
    },
    "4c2e71ca3d224225bb0e8badded3b159": {
     "views": [
      {
       "cell_index": 8
      }
     ]
    },
    "4c4cb5ebf2534a0d805e149bcf6fd9a5": {
     "views": [
      {
       "cell_index": 8
      }
     ]
    },
    "4c5c64eac5644f1399172fb023f3bdbb": {
     "views": [
      {
       "cell_index": 8
      }
     ]
    },
    "4d48a007443c4f6781baaaa6337364db": {
     "views": [
      {
       "cell_index": 8
      }
     ]
    },
    "4e198de74e22444582c50b37527ede68": {
     "views": [
      {
       "cell_index": 8
      }
     ]
    },
    "4e77ee70539b4d73b89b6d561f876fc9": {
     "views": [
      {
       "cell_index": 8
      }
     ]
    },
    "4eb87c5da804433287b6c75e5891a9dc": {
     "views": [
      {
       "cell_index": 8
      }
     ]
    },
    "5045a6168d874b6fb7ffbadd8705fb9a": {
     "views": [
      {
       "cell_index": 8
      }
     ]
    },
    "505c94a4113e42a28a8d42d2dcdaf661": {
     "views": [
      {
       "cell_index": 8
      }
     ]
    },
    "50d271d94dfe498f98d5be69758c6787": {
     "views": [
      {
       "cell_index": 8
      }
     ]
    },
    "50d993065d3c4bb5b02e4c048b1d7e64": {
     "views": [
      {
       "cell_index": 8
      }
     ]
    },
    "513e793fd30c4cd1aea10b1d9828428c": {
     "views": [
      {
       "cell_index": 8
      }
     ]
    },
    "520d4acbb9bb44ef91c76baec0e47e27": {
     "views": [
      {
       "cell_index": 8
      }
     ]
    },
    "52287f2924df4f47a82f7a819a7c7182": {
     "views": [
      {
       "cell_index": 5
      }
     ]
    },
    "525389a350fd4ed592366744b7047e29": {
     "views": [
      {
       "cell_index": 8
      }
     ]
    },
    "52c0e8c485d544f6b594cfd753c06868": {
     "views": [
      {
       "cell_index": 8
      }
     ]
    },
    "52e80b3981ff4f3ba0c33825d59c0484": {
     "views": [
      {
       "cell_index": 8
      }
     ]
    },
    "533db1f97d814d0583fa0c17f5865827": {
     "views": [
      {
       "cell_index": 8
      }
     ]
    },
    "53d7f92787784eb88ec0c8dc58997aea": {
     "views": [
      {
       "cell_index": 8
      }
     ]
    },
    "542382eed4a14448bba8b11ac6a5c7bf": {
     "views": [
      {
       "cell_index": 8
      }
     ]
    },
    "54312dcca88e4f0e9fd3bb3771c642cb": {
     "views": [
      {
       "cell_index": 8
      }
     ]
    },
    "54862dac9f25436bb281c26f458f1e88": {
     "views": [
      {
       "cell_index": 8
      }
     ]
    },
    "54979ceb34c6486892706a207ca84f40": {
     "views": [
      {
       "cell_index": 8
      }
     ]
    },
    "54c1240365e641b5bb1eab35902b982b": {
     "views": [
      {
       "cell_index": 8
      }
     ]
    },
    "55096a29a4d842e088b57488a8776961": {
     "views": [
      {
       "cell_index": 8
      }
     ]
    },
    "5532033a6a6a42f8ad1a4314d1e55f8e": {
     "views": [
      {
       "cell_index": 8
      }
     ]
    },
    "55ce2fc4bf1b484f9bb3cf2eb1416b30": {
     "views": [
      {
       "cell_index": 8
      }
     ]
    },
    "55d9858749824c7ab7c378493aa2e684": {
     "views": [
      {
       "cell_index": 8
      }
     ]
    },
    "560157ddb29d41e69b523a34b6e2e413": {
     "views": [
      {
       "cell_index": 8
      }
     ]
    },
    "572cacf110d648fe9e710735ac946ba4": {
     "views": [
      {
       "cell_index": 8
      }
     ]
    },
    "57d0585439cf48a9bf500cfc9bd70f7a": {
     "views": [
      {
       "cell_index": 8
      }
     ]
    },
    "584b7d85e37349c8a419afad7e76259e": {
     "views": [
      {
       "cell_index": 8
      }
     ]
    },
    "5862076361e3491a821667710496a04f": {
     "views": [
      {
       "cell_index": 8
      }
     ]
    },
    "590765c0f81e4c63a10e50ab75e9c82f": {
     "views": [
      {
       "cell_index": 8
      }
     ]
    },
    "590808ee582b4a368bea0a10b51c7fb6": {
     "views": [
      {
       "cell_index": 8
      }
     ]
    },
    "5a08901ab8b2447d8b025e5fed2c2b94": {
     "views": [
      {
       "cell_index": 8
      }
     ]
    },
    "5a2af5933ac44da88dd3ee3649ec1d2a": {
     "views": [
      {
       "cell_index": 8
      }
     ]
    },
    "5bc24bd44292481d9e58fc2dfbc1bf7a": {
     "views": [
      {
       "cell_index": 8
      }
     ]
    },
    "5becf222d605464dbd93355a586cf0d4": {
     "views": [
      {
       "cell_index": 8
      }
     ]
    },
    "5c12e2b11a9c4cfdb49fa9452bbc464e": {
     "views": [
      {
       "cell_index": 8
      }
     ]
    },
    "5c6c233aeff9441bb99551b4cff93b83": {
     "views": [
      {
       "cell_index": 8
      }
     ]
    },
    "5cca0d4bd444427f9aba57a66b880340": {
     "views": [
      {
       "cell_index": 8
      }
     ]
    },
    "5ccd8482ffdd4bef99ec58f63a15c03c": {
     "views": [
      {
       "cell_index": 8
      }
     ]
    },
    "5d67cc1b7c574118be93480a7e85fa8c": {
     "views": [
      {
       "cell_index": 8
      }
     ]
    },
    "5dec92a231b94c16bb081419e2110112": {
     "views": [
      {
       "cell_index": 8
      }
     ]
    },
    "5e1a8c312d1f4f8d88bfe66264bf9fc5": {
     "views": [
      {
       "cell_index": 8
      }
     ]
    },
    "5f1126b55bba477e84de8411378e319c": {
     "views": [
      {
       "cell_index": 8
      }
     ]
    },
    "5f7f28fe3efd412b8d3e22709b64a67a": {
     "views": [
      {
       "cell_index": 8
      }
     ]
    },
    "61996c5348f148b89d344b00ee38bb81": {
     "views": [
      {
       "cell_index": 8
      }
     ]
    },
    "61a2a9d6a40446bc8880a19c62b6a46c": {
     "views": [
      {
       "cell_index": 8
      }
     ]
    },
    "62242d693a134281ac35d1afae4afa8d": {
     "views": [
      {
       "cell_index": 8
      }
     ]
    },
    "62390e3ebb9844eca5994b21a1eed9cd": {
     "views": [
      {
       "cell_index": 8
      }
     ]
    },
    "6328ca427a3041688af7baf2c0dab02b": {
     "views": [
      {
       "cell_index": 8
      }
     ]
    },
    "63722c4a87bf42539186eb0ea226a388": {
     "views": [
      {
       "cell_index": 8
      }
     ]
    },
    "6446c25a66f24a29ad58b6651638a855": {
     "views": [
      {
       "cell_index": 8
      }
     ]
    },
    "644ff716b5d04d1fa7bb26e656526e6a": {
     "views": [
      {
       "cell_index": 8
      }
     ]
    },
    "64e5595b87cf4070bc2720d9e7759394": {
     "views": [
      {
       "cell_index": 8
      }
     ]
    },
    "654e10fce05f49bbbd7f1d0d614e3047": {
     "views": [
      {
       "cell_index": 8
      }
     ]
    },
    "6564cce5c738401499424c4dbe38e26a": {
     "views": [
      {
       "cell_index": 8
      }
     ]
    },
    "65bc0063b2e740aa8f496e408cd2cb9a": {
     "views": [
      {
       "cell_index": 8
      }
     ]
    },
    "6692f8226e7d4e7db78714b81b810c6e": {
     "views": [
      {
       "cell_index": 8
      }
     ]
    },
    "6731744ff732429e866fb4549ca6706a": {
     "views": [
      {
       "cell_index": 8
      }
     ]
    },
    "6799923905a345aeb32fe40441a33b64": {
     "views": [
      {
       "cell_index": 8
      }
     ]
    },
    "67e90a3e4314487cb357e82591df79e8": {
     "views": [
      {
       "cell_index": 8
      }
     ]
    },
    "6838547557974132849830c7730fc8e2": {
     "views": [
      {
       "cell_index": 8
      }
     ]
    },
    "6868600d773f4ddc96d489360a23a21a": {
     "views": [
      {
       "cell_index": 8
      }
     ]
    },
    "68bc5a5431034c8f8f8ebfd3130a5509": {
     "views": [
      {
       "cell_index": 3
      }
     ]
    },
    "69322ab87c8d4fb9a3a3590f3513bbe2": {
     "views": [
      {
       "cell_index": 8
      }
     ]
    },
    "697cf87a3b8a469e8b5a1b8c137d5240": {
     "views": [
      {
       "cell_index": 8
      }
     ]
    },
    "69adac646a1947bc95c5e001f9e904ab": {
     "views": [
      {
       "cell_index": 8
      }
     ]
    },
    "69bcbffae9ce46e5855e2cdf94edbfc2": {
     "views": [
      {
       "cell_index": 8
      }
     ]
    },
    "6a46b2dc62a34dc193e7a8669e86b676": {
     "views": [
      {
       "cell_index": 8
      }
     ]
    },
    "6a5cb8210b4a48f387e817ac66a2e331": {
     "views": [
      {
       "cell_index": 8
      }
     ]
    },
    "6add0c463d2c4c36b83299071aa5ca8e": {
     "views": [
      {
       "cell_index": 8
      }
     ]
    },
    "6ae82da798794af58422e6e273f0c6b5": {
     "views": [
      {
       "cell_index": 8
      }
     ]
    },
    "6b39b45df1444dd88be4509d460eb004": {
     "views": [
      {
       "cell_index": 8
      }
     ]
    },
    "6bbbce8003ad484eb1288be026e67701": {
     "views": [
      {
       "cell_index": 8
      }
     ]
    },
    "6cd454fdfdf74b64a2e15ffb8d45d0e5": {
     "views": [
      {
       "cell_index": 8
      }
     ]
    },
    "6de91cd72ce94113942b49faee842442": {
     "views": [
      {
       "cell_index": 8
      }
     ]
    },
    "6e955b6f3f8d4c248062743a85e9c86e": {
     "views": [
      {
       "cell_index": 8
      }
     ]
    },
    "6f49d4665b774635b25a2401825af665": {
     "views": [
      {
       "cell_index": 8
      }
     ]
    },
    "704257e28af2450eb57e86f15273898a": {
     "views": [
      {
       "cell_index": 8
      }
     ]
    },
    "705c606300f24820a511ccc88d8ccccb": {
     "views": [
      {
       "cell_index": 8
      }
     ]
    },
    "708d34792ac8432998efa397e0574b5d": {
     "views": [
      {
       "cell_index": 8
      }
     ]
    },
    "70a42d401a8c45f4a2125a1f0c0813c3": {
     "views": [
      {
       "cell_index": 8
      }
     ]
    },
    "7125b913cc854d9a9656d568d811fe2d": {
     "views": [
      {
       "cell_index": 8
      }
     ]
    },
    "715e745a09c441c5b4edbcf88c3d8765": {
     "views": [
      {
       "cell_index": 8
      }
     ]
    },
    "7222e90e251b4d8f8075b50bc41faf5a": {
     "views": [
      {
       "cell_index": 8
      }
     ]
    },
    "730d508f249f44bfb2668ef041bb10e3": {
     "views": [
      {
       "cell_index": 8
      }
     ]
    },
    "742037da859f4846bfa55e6b71bf9ec4": {
     "views": [
      {
       "cell_index": 8
      }
     ]
    },
    "7436b5ef276940808916220efbf16f4c": {
     "views": [
      {
       "cell_index": 8
      }
     ]
    },
    "74b3af70fb6f420d9ba69e5706aa23dd": {
     "views": [
      {
       "cell_index": 8
      }
     ]
    },
    "74d4edea87c04a448983888362a0612e": {
     "views": [
      {
       "cell_index": 8
      }
     ]
    },
    "768729f8bcc644ff86e86b13db954632": {
     "views": [
      {
       "cell_index": 8
      }
     ]
    },
    "76c045ab544943d1aeab9e9868917b71": {
     "views": [
      {
       "cell_index": 8
      }
     ]
    },
    "775314524c6c462d85dd5a395151c2f7": {
     "views": [
      {
       "cell_index": 8
      }
     ]
    },
    "7826c7773fc3484c81470480d3cdc679": {
     "views": [
      {
       "cell_index": 8
      }
     ]
    },
    "782f4b6106f64b9eb46c38d130834c04": {
     "views": [
      {
       "cell_index": 8
      }
     ]
    },
    "7a28212ca6484436b41ee79671a45286": {
     "views": [
      {
       "cell_index": 8
      }
     ]
    },
    "7d3aedf59d0d4beab7dda38e3d4167e1": {
     "views": [
      {
       "cell_index": 8
      }
     ]
    },
    "7d57da4ecb1a4c22b893cba8e874c83a": {
     "views": [
      {
       "cell_index": 8
      }
     ]
    },
    "7d5d5c720a4b4a179c18c63e4ef3cdad": {
     "views": [
      {
       "cell_index": 8
      }
     ]
    },
    "7db4b46e3ea84601837fb61e7b7ee8c8": {
     "views": [
      {
       "cell_index": 8
      }
     ]
    },
    "7e8f457b72be4bf6ba55766326ab668f": {
     "views": [
      {
       "cell_index": 8
      }
     ]
    },
    "7ebdf552d32240d0bf9aa132c9278f84": {
     "views": [
      {
       "cell_index": 8
      }
     ]
    },
    "7f8ea31dd26d46609177f32535eca3c4": {
     "views": [
      {
       "cell_index": 8
      }
     ]
    },
    "7fb6c7a039394023bab469329d5d26b2": {
     "views": [
      {
       "cell_index": 8
      }
     ]
    },
    "82831749f8ef4ee7b5d368375d5e9ae4": {
     "views": [
      {
       "cell_index": 8
      }
     ]
    },
    "82f9d1c11d5f43048fa7074d2e748a62": {
     "views": [
      {
       "cell_index": 8
      }
     ]
    },
    "8302acba5d6a461f90425c34572837b6": {
     "views": [
      {
       "cell_index": 8
      }
     ]
    },
    "832c987920dc4903889138a734a0f44b": {
     "views": [
      {
       "cell_index": 8
      }
     ]
    },
    "8395774f244c49bcae40e24213138d20": {
     "views": [
      {
       "cell_index": 8
      }
     ]
    },
    "83a0e0b67b4a4673959959ecb59760ec": {
     "views": [
      {
       "cell_index": 8
      }
     ]
    },
    "8496776d37e949148521bba444522b49": {
     "views": [
      {
       "cell_index": 8
      }
     ]
    },
    "855d0acaa13146ac9ac88f9783b7f2d7": {
     "views": [
      {
       "cell_index": 8
      }
     ]
    },
    "85f2d9f43c2e42c1ba9301a69057bb9b": {
     "views": [
      {
       "cell_index": 8
      }
     ]
    },
    "867c31cfb2574430a56f76b6a1f8c19e": {
     "views": [
      {
       "cell_index": 8
      }
     ]
    },
    "86b95de5bfde483aa9299c7472c39437": {
     "views": [
      {
       "cell_index": 8
      }
     ]
    },
    "872359a4d01f43d0b6674b3f9fc31943": {
     "views": [
      {
       "cell_index": 8
      }
     ]
    },
    "890bfc0d747f460fa9a3d9d4f8f562e8": {
     "views": [
      {
       "cell_index": 8
      }
     ]
    },
    "894f28195ec346ca98e2624edf07bca7": {
     "views": [
      {
       "cell_index": 8
      }
     ]
    },
    "8a78959b50f044d6bef5d72b98b7a72c": {
     "views": [
      {
       "cell_index": 8
      }
     ]
    },
    "8a9ea9f6182d48199eb3fc9be107c501": {
     "views": [
      {
       "cell_index": 8
      }
     ]
    },
    "8aaee698dfa94aefa942f0efb5ea391e": {
     "views": [
      {
       "cell_index": 8
      }
     ]
    },
    "8c6c3c15ccf346aba87376ef715e5b1e": {
     "views": [
      {
       "cell_index": 8
      }
     ]
    },
    "8cbb69a03a02427784a3554ba958e96a": {
     "views": [
      {
       "cell_index": 8
      }
     ]
    },
    "8cd5c910992d4c8eae1333d4d4ff2148": {
     "views": [
      {
       "cell_index": 8
      }
     ]
    },
    "8d164a099d474476aed53e6c35d1a19a": {
     "views": [
      {
       "cell_index": 8
      }
     ]
    },
    "8de4104e318943da8c5700d86f89c6a8": {
     "views": [
      {
       "cell_index": 8
      }
     ]
    },
    "8e3c099202a6402a829b127f6cbeab4c": {
     "views": [
      {
       "cell_index": 8
      }
     ]
    },
    "8e48264fe2c8428db35efb7fc3f5dc2f": {
     "views": [
      {
       "cell_index": 8
      }
     ]
    },
    "8ebada6b934048cea3460ae348075c83": {
     "views": [
      {
       "cell_index": 8
      }
     ]
    },
    "8f72a5eb43314d16a91aa803d7cecd5a": {
     "views": [
      {
       "cell_index": 8
      }
     ]
    },
    "8f79fa4c97154321bd523b5a1a242239": {
     "views": [
      {
       "cell_index": 8
      }
     ]
    },
    "8f88e2f243024295818f7d3d33d6c5e9": {
     "views": [
      {
       "cell_index": 8
      }
     ]
    },
    "8fcce1202d8c4823b7c2338f8eeef102": {
     "views": [
      {
       "cell_index": 8
      }
     ]
    },
    "8fee3b7e91994656adefb17110216663": {
     "views": [
      {
       "cell_index": 8
      }
     ]
    },
    "909a92b1b2eb4a50b21833f431e82cba": {
     "views": [
      {
       "cell_index": 8
      }
     ]
    },
    "90f859311d0543a7a098c2b165b5a304": {
     "views": [
      {
       "cell_index": 8
      }
     ]
    },
    "913eb62bc21d4a708370813e99b79d9d": {
     "views": [
      {
       "cell_index": 8
      }
     ]
    },
    "92d55777e286432ca551fa94845effeb": {
     "views": [
      {
       "cell_index": 8
      }
     ]
    },
    "939ba91c63074efb9ce43f0eb7d0f51b": {
     "views": [
      {
       "cell_index": 8
      }
     ]
    },
    "9407d014a933441f8dd08d774cf5817c": {
     "views": [
      {
       "cell_index": 8
      }
     ]
    },
    "942b5404d80040a2ae47a1e7cb04dda1": {
     "views": [
      {
       "cell_index": 8
      }
     ]
    },
    "9443d2bb25a442358ecc813723c7ef54": {
     "views": [
      {
       "cell_index": 8
      }
     ]
    },
    "9478ec57355a4bf1b91246586f041c38": {
     "views": [
      {
       "cell_index": 8
      }
     ]
    },
    "948148edc5414f088b0335c0a727aa99": {
     "views": [
      {
       "cell_index": 8
      }
     ]
    },
    "948fe9314aa241a8b61eb082b3fbfccf": {
     "views": [
      {
       "cell_index": 8
      }
     ]
    },
    "94bb5f700af84a6dac4522f1491f90de": {
     "views": [
      {
       "cell_index": 5
      }
     ]
    },
    "9510f68d357f4018bec0bb10625eaf49": {
     "views": [
      {
       "cell_index": 8
      }
     ]
    },
    "9552ef2335874764aa8d54d5ebde782d": {
     "views": [
      {
       "cell_index": 8
      }
     ]
    },
    "9587d4f7111c4b47a5ad654d021e605d": {
     "views": [
      {
       "cell_index": 8
      }
     ]
    },
    "958fedd6b8b745839819eedc6e371c16": {
     "views": [
      {
       "cell_index": 8
      }
     ]
    },
    "95c3b1f86995486495398fc1e235d0d8": {
     "views": [
      {
       "cell_index": 8
      }
     ]
    },
    "95e2b91939394683a34d21c7c56ee916": {
     "views": [
      {
       "cell_index": 8
      }
     ]
    },
    "9656bcf33e864819a0b3592a49d094df": {
     "views": [
      {
       "cell_index": 8
      }
     ]
    },
    "965ae9352b9843c09560fefd9e4a03c6": {
     "views": [
      {
       "cell_index": 8
      }
     ]
    },
    "968276c2cfb24142a628fc164d733618": {
     "views": [
      {
       "cell_index": 8
      }
     ]
    },
    "96921dc9c4b947cfb6615b4a289298c3": {
     "views": [
      {
       "cell_index": 8
      }
     ]
    },
    "96cbc89938334a9bb906c509bd8d997a": {
     "views": [
      {
       "cell_index": 8
      }
     ]
    },
    "972376e098de4a11afff7496d97bf608": {
     "views": [
      {
       "cell_index": 8
      }
     ]
    },
    "98399fe856554322902d9a1869fbe2d7": {
     "views": [
      {
       "cell_index": 8
      }
     ]
    },
    "98a46b84c3ab466ab11036c45aac9433": {
     "views": [
      {
       "cell_index": 8
      }
     ]
    },
    "98eccd23de354d18951196e6b68d0d5c": {
     "views": [
      {
       "cell_index": 8
      }
     ]
    },
    "992ec0e2b9f54e90820a22309e498742": {
     "views": [
      {
       "cell_index": 8
      }
     ]
    },
    "99a25e3a305d441b89c3486eb63adb45": {
     "views": [
      {
       "cell_index": 8
      }
     ]
    },
    "9a876fc0b95641b8915afe0e59fc6fa0": {
     "views": [
      {
       "cell_index": 8
      }
     ]
    },
    "9c8d99dfd66148cc8232e6939138ba1c": {
     "views": [
      {
       "cell_index": 8
      }
     ]
    },
    "9d68df2f2af14b09a2e21e943629bdf4": {
     "views": [
      {
       "cell_index": 8
      }
     ]
    },
    "9dc9558a145e46b88213297fcb3fff71": {
     "views": [
      {
       "cell_index": 8
      }
     ]
    },
    "9ddbe7b7bf6f4dfe98907187a7884905": {
     "views": [
      {
       "cell_index": 8
      }
     ]
    },
    "9e73be24c3414241a4c68d25d05299b4": {
     "views": [
      {
       "cell_index": 8
      }
     ]
    },
    "9f00bcc2819b49358b66d9064f4ce02d": {
     "views": [
      {
       "cell_index": 8
      }
     ]
    },
    "9f71a5448ec44398b0d6d40bbf3ae4d8": {
     "views": [
      {
       "cell_index": 8
      }
     ]
    },
    "9fa09578cd994fbab71b29259a912085": {
     "views": [
      {
       "cell_index": 8
      }
     ]
    },
    "9fe2ba231ee84872af6ddc83a8b05773": {
     "views": [
      {
       "cell_index": 8
      }
     ]
    },
    "a0572c26eb884d518b386217d0d1a93f": {
     "views": [
      {
       "cell_index": 8
      }
     ]
    },
    "a08bfc8922d64478a6dfde6142e2a031": {
     "views": [
      {
       "cell_index": 8
      }
     ]
    },
    "a0e3c94862f54978be663b5792cd68f6": {
     "views": [
      {
       "cell_index": 8
      }
     ]
    },
    "a161cf0a4ded48718133bf077cabe17d": {
     "views": [
      {
       "cell_index": 8
      }
     ]
    },
    "a16fe92fa5dc4056837873f92579466f": {
     "views": [
      {
       "cell_index": 8
      }
     ]
    },
    "a1c951cab0644f51b67a0be01adbe39d": {
     "views": [
      {
       "cell_index": 8
      }
     ]
    },
    "a1fbb9ff0aa14dd191849d9cc1ce1896": {
     "views": [
      {
       "cell_index": 8
      }
     ]
    },
    "a3c01bfe2f1d4efe8fd17f558ad3229f": {
     "views": [
      {
       "cell_index": 8
      }
     ]
    },
    "a41c051ef1a443e5a40a79767dab2643": {
     "views": [
      {
       "cell_index": 8
      }
     ]
    },
    "a459a2a1563e4501a2ac247021e92a18": {
     "views": [
      {
       "cell_index": 8
      }
     ]
    },
    "a54edf61588c4079a5f4a5b6371ae0f3": {
     "views": [
      {
       "cell_index": 8
      }
     ]
    },
    "a7a2e8059a154200896f577b31468283": {
     "views": [
      {
       "cell_index": 8
      }
     ]
    },
    "a7fb60d5ea1a4936856aeb16237143e5": {
     "views": [
      {
       "cell_index": 8
      }
     ]
    },
    "ab19a0eb021541db9a3f6463ed5fcd9c": {
     "views": [
      {
       "cell_index": 8
      }
     ]
    },
    "ac1238d22a234a1093238d6121b45f35": {
     "views": [
      {
       "cell_index": 8
      }
     ]
    },
    "ac5531c7bb6f4e65942464deea4f6059": {
     "views": [
      {
       "cell_index": 8
      }
     ]
    },
    "ac90bf652dfd43fe9bb9e146d8948eba": {
     "views": [
      {
       "cell_index": 8
      }
     ]
    },
    "ac9583cd82ca43b9ab57fbd629466aa2": {
     "views": [
      {
       "cell_index": 8
      }
     ]
    },
    "ad40f36e43f54a57b395df55c4baece7": {
     "views": [
      {
       "cell_index": 8
      }
     ]
    },
    "ad5d2909ebcf4cc2846d5328ba98e4eb": {
     "views": [
      {
       "cell_index": 8
      }
     ]
    },
    "adc9feec826b453383115b2a3af3b83f": {
     "views": [
      {
       "cell_index": 8
      }
     ]
    },
    "ae6f92ea35b641058ed98d4cd95b4b06": {
     "views": [
      {
       "cell_index": 8
      }
     ]
    },
    "ae7d1270a50f4ed6810430b08651c9a2": {
     "views": [
      {
       "cell_index": 8
      }
     ]
    },
    "afa7da892c614c10b1324f63f71a7a4b": {
     "views": [
      {
       "cell_index": 8
      }
     ]
    },
    "afc128b1e3954d99a1a7a9be69c9dd39": {
     "views": [
      {
       "cell_index": 8
      }
     ]
    },
    "b0b26f8b876e470582244a0d61ddd7cb": {
     "views": [
      {
       "cell_index": 8
      }
     ]
    },
    "b14694d75c944868b3156f4dbfde5a2f": {
     "views": [
      {
       "cell_index": 8
      }
     ]
    },
    "b1cc1d995bee485c96765bcf29c16cca": {
     "views": [
      {
       "cell_index": 8
      }
     ]
    },
    "b2d2c38ba08c422cbd8fcc6a2e1c0a4b": {
     "views": [
      {
       "cell_index": 8
      }
     ]
    },
    "b3f213d60ca6448893efaf8bdf45c3cd": {
     "views": [
      {
       "cell_index": 8
      }
     ]
    },
    "b49f949c0a274eceae5ba55d01dd5a7c": {
     "views": [
      {
       "cell_index": 8
      }
     ]
    },
    "b4d29434be7a4e9a9aebc62ed79be326": {
     "views": [
      {
       "cell_index": 8
      }
     ]
    },
    "b4eeacbc4302473d9e1acff9df81b897": {
     "views": [
      {
       "cell_index": 8
      }
     ]
    },
    "b551d69d32844aafaff9d1d72ea027ef": {
     "views": [
      {
       "cell_index": 8
      }
     ]
    },
    "b5bf70700acf457da0f5892933e84703": {
     "views": [
      {
       "cell_index": 8
      }
     ]
    },
    "b66e03a810b64a15b11560dd485cf6bb": {
     "views": [
      {
       "cell_index": 8
      }
     ]
    },
    "b697353dc0d04dbd95b54ca07e7a30ac": {
     "views": [
      {
       "cell_index": 8
      }
     ]
    },
    "b6c2766936f847edb29b1451f9b56f26": {
     "views": [
      {
       "cell_index": 8
      }
     ]
    },
    "b818d9eb9fac445ab679f7b63e40a6cc": {
     "views": [
      {
       "cell_index": 8
      }
     ]
    },
    "b91ea0dbca8c40e9a9ce9776bc1e22b8": {
     "views": [
      {
       "cell_index": 8
      }
     ]
    },
    "b91f14109f3f43c1a9c6e2964a08ae7c": {
     "views": [
      {
       "cell_index": 8
      }
     ]
    },
    "ba6f7fe050d549d189dad7659b5baf03": {
     "views": [
      {
       "cell_index": 8
      }
     ]
    },
    "bae8802a34674c63bd2f4ca259c3baf2": {
     "views": [
      {
       "cell_index": 8
      }
     ]
    },
    "bb2af9a3a8aa434fad9f895a8f8b10fc": {
     "views": [
      {
       "cell_index": 8
      }
     ]
    },
    "bc1b1fb15f514965930fe8d8fe7d884f": {
     "views": [
      {
       "cell_index": 8
      }
     ]
    },
    "bd06edfe98cb49089e6433626269d4cc": {
     "views": [
      {
       "cell_index": 8
      }
     ]
    },
    "bdfaf402847b424a9b3b8a10302682c6": {
     "views": [
      {
       "cell_index": 8
      }
     ]
    },
    "be815063218e41e98aad70145221e727": {
     "views": [
      {
       "cell_index": 8
      }
     ]
    },
    "bebbd4fa891a404c9bea3b4768fe17c0": {
     "views": [
      {
       "cell_index": 8
      }
     ]
    },
    "bf5c90dfd98f456988cd4cfe2f36715f": {
     "views": [
      {
       "cell_index": 8
      }
     ]
    },
    "bf9f9eb323e74dd9b903aeb1c904472e": {
     "views": [
      {
       "cell_index": 8
      }
     ]
    },
    "c01275c6e44c4a14bc1a64cffb7f96d8": {
     "views": [
      {
       "cell_index": 8
      }
     ]
    },
    "c0184ea30db64d00a197953203d8951a": {
     "views": [
      {
       "cell_index": 8
      }
     ]
    },
    "c1e64341976a48d69dfa8bdb17b8e9eb": {
     "views": [
      {
       "cell_index": 8
      }
     ]
    },
    "c3e6f4b9d264469fac3bb8c75923019f": {
     "views": [
      {
       "cell_index": 8
      }
     ]
    },
    "c445d704e537445988eba0c4889522ed": {
     "views": [
      {
       "cell_index": 8
      }
     ]
    },
    "c543f5b5acc4459cbc5e3bd1bf5bc2c8": {
     "views": [
      {
       "cell_index": 8
      }
     ]
    },
    "c580592c189e45d0adf17855c8bf427f": {
     "views": [
      {
       "cell_index": 8
      }
     ]
    },
    "c69a224454754e99ac342a389a5e556c": {
     "views": [
      {
       "cell_index": 8
      }
     ]
    },
    "c7a583e7f873454594426efe6b0d7720": {
     "views": [
      {
       "cell_index": 8
      }
     ]
    },
    "c846eb00f8c2401e8dadda2a0e5322e0": {
     "views": [
      {
       "cell_index": 8
      }
     ]
    },
    "c90a8833b93c40fb9b169825937a11f1": {
     "views": [
      {
       "cell_index": 8
      }
     ]
    },
    "ca2406860dd144aa9674872b4718cd19": {
     "views": [
      {
       "cell_index": 8
      }
     ]
    },
    "ca40e2742e3848509df3acbdeca6acdc": {
     "views": [
      {
       "cell_index": 8
      }
     ]
    },
    "cab5d75ded5743c28971a695efd1554e": {
     "views": [
      {
       "cell_index": 8
      }
     ]
    },
    "cb89175086af40ce87dd83f30e22fbbd": {
     "views": [
      {
       "cell_index": 8
      }
     ]
    },
    "cbf947f717764cc7a053f2d1e6b0b009": {
     "views": [
      {
       "cell_index": 8
      }
     ]
    },
    "cd9ad1ee5a02415cb1a1272c2feb60bd": {
     "views": [
      {
       "cell_index": 8
      }
     ]
    },
    "cdfe5c877d6b421c865ca5285e772503": {
     "views": [
      {
       "cell_index": 8
      }
     ]
    },
    "ce2b16afce034901ab1b833a0ed5c194": {
     "views": [
      {
       "cell_index": 8
      }
     ]
    },
    "cf09d3b2be9b4533ac3332879ff52248": {
     "views": [
      {
       "cell_index": 8
      }
     ]
    },
    "d0211140462e40e88977186d2ddac1a5": {
     "views": [
      {
       "cell_index": 8
      }
     ]
    },
    "d094126e2be545ea97a0ed28f321d6b6": {
     "views": [
      {
       "cell_index": 8
      }
     ]
    },
    "d0ae6e1d10b04d339792e75d5ac70450": {
     "views": [
      {
       "cell_index": 8
      }
     ]
    },
    "d1cad08a7d4a420a8cf16b18479f3f67": {
     "views": [
      {
       "cell_index": 8
      }
     ]
    },
    "d1f05a6442df4e90bc4bfaf363be38c9": {
     "views": [
      {
       "cell_index": 8
      }
     ]
    },
    "d23c3b81125444639e4e3bdfc2229daa": {
     "views": [
      {
       "cell_index": 8
      }
     ]
    },
    "d2429d14d4124349b6223a315f5af6e5": {
     "views": [
      {
       "cell_index": 8
      }
     ]
    },
    "d3be7651302d46a8b83f01ff2afd6c25": {
     "views": [
      {
       "cell_index": 8
      }
     ]
    },
    "d5a5d1403e7e437bab60a3884a9ac9fb": {
     "views": [
      {
       "cell_index": 8
      }
     ]
    },
    "d5e183843d2f41cba9477ec53b919dd1": {
     "views": [
      {
       "cell_index": 8
      }
     ]
    },
    "d62c897375af43c1afd494ced4e39769": {
     "views": [
      {
       "cell_index": 8
      }
     ]
    },
    "d66ac7def44c411e8870171071167de5": {
     "views": [
      {
       "cell_index": 8
      }
     ]
    },
    "d685041f86ae47acabbba7adb2bcde08": {
     "views": [
      {
       "cell_index": 8
      }
     ]
    },
    "d6e96e354e914d118dcabed8d0b36c9f": {
     "views": [
      {
       "cell_index": 8
      }
     ]
    },
    "d7843ad4c4f2427b9e96bbea06a47c7c": {
     "views": [
      {
       "cell_index": 8
      }
     ]
    },
    "d817c87f29844db0a3f2ef2dbbe40d1b": {
     "views": [
      {
       "cell_index": 8
      }
     ]
    },
    "d829715c584b4d1fb4ec249fa2a75fc7": {
     "views": [
      {
       "cell_index": 8
      }
     ]
    },
    "d82f4cffe89e47d88d5f42395df7ca70": {
     "views": [
      {
       "cell_index": 8
      }
     ]
    },
    "d889d61abc9c4378bca4a17db6744837": {
     "views": [
      {
       "cell_index": 8
      }
     ]
    },
    "d95beafe6fcc40a19d9c105248584bc4": {
     "views": [
      {
       "cell_index": 8
      }
     ]
    },
    "d9b57b4b41164bc49f484ae7fef684ea": {
     "views": [
      {
       "cell_index": 8
      }
     ]
    },
    "d9ca0c3703464b6e982eb1c79679b611": {
     "views": [
      {
       "cell_index": 8
      }
     ]
    },
    "da0f781035b7444f9cf30a880c3f52ce": {
     "views": [
      {
       "cell_index": 8
      }
     ]
    },
    "dab6b458b71f41d19b0aa57a016dd632": {
     "views": [
      {
       "cell_index": 8
      }
     ]
    },
    "db20d7f8298e4571962b5fd9f745d38d": {
     "views": [
      {
       "cell_index": 8
      }
     ]
    },
    "db68fea2b10549cb8585c4f046e848ba": {
     "views": [
      {
       "cell_index": 8
      }
     ]
    },
    "dc93f5f2201a463788b5473fdf4b2d88": {
     "views": [
      {
       "cell_index": 8
      }
     ]
    },
    "dca4594e95c24219805e39466c777a8c": {
     "views": [
      {
       "cell_index": 8
      }
     ]
    },
    "dcbdf37043214372923182850c6764a5": {
     "views": [
      {
       "cell_index": 8
      }
     ]
    },
    "dd02ff1528e941c082549692a9ffbf9a": {
     "views": [
      {
       "cell_index": 8
      }
     ]
    },
    "dd0ace7a34f340b08483b4ca52da6e6a": {
     "views": [
      {
       "cell_index": 8
      }
     ]
    },
    "dd9db7fe0cd942118c81e59d241bed64": {
     "views": [
      {
       "cell_index": 8
      }
     ]
    },
    "dda5961eed9e47a884c39762fa476f49": {
     "views": [
      {
       "cell_index": 8
      }
     ]
    },
    "ddcab1eb5f344fe99894c5bfd9d3281d": {
     "views": [
      {
       "cell_index": 8
      }
     ]
    },
    "de4d0c4b57904abca851607df4c9e285": {
     "views": [
      {
       "cell_index": 8
      }
     ]
    },
    "df24e59cc90f4077bf7be8f17e2760bb": {
     "views": [
      {
       "cell_index": 8
      }
     ]
    },
    "df94ce3aae2f4aa78ba714e67afc28c0": {
     "views": [
      {
       "cell_index": 8
      }
     ]
    },
    "dfe33c8f245446ef9d09503d5502272b": {
     "views": [
      {
       "cell_index": 8
      }
     ]
    },
    "e035d34126ff44efa4d357b01af72941": {
     "views": [
      {
       "cell_index": 8
      }
     ]
    },
    "e0ebb469f3a34d8192e3ff0a324356d7": {
     "views": [
      {
       "cell_index": 8
      }
     ]
    },
    "e1036b95356345eab6913f3be28b1a55": {
     "views": [
      {
       "cell_index": 8
      }
     ]
    },
    "e12b79673fdf429586a528cd5521c4e5": {
     "views": [
      {
       "cell_index": 8
      }
     ]
    },
    "e1590c53569d4067aecac297badba01d": {
     "views": [
      {
       "cell_index": 8
      }
     ]
    },
    "e15ff91404c94e0f85a1c59cceaff0e0": {
     "views": [
      {
       "cell_index": 8
      }
     ]
    },
    "e16d751c7dcd4fd2a1e347941217ae59": {
     "views": [
      {
       "cell_index": 8
      }
     ]
    },
    "e1738dc8a9d14c34ab106a24f1c4b7a3": {
     "views": [
      {
       "cell_index": 8
      }
     ]
    },
    "e1f120d3d2e84f75a519430cbbb6e3a0": {
     "views": [
      {
       "cell_index": 8
      }
     ]
    },
    "e217fd8acba042c29b1acaa074c8510f": {
     "views": [
      {
       "cell_index": 8
      }
     ]
    },
    "e23ce33ab6d84311993b56a1ddc53e19": {
     "views": [
      {
       "cell_index": 8
      }
     ]
    },
    "e25c2308a46c4d54aa02a61be274131c": {
     "views": [
      {
       "cell_index": 5
      }
     ]
    },
    "e27940bc6bdc4c068c44a10ae8bd4381": {
     "views": [
      {
       "cell_index": 8
      }
     ]
    },
    "e39221c892e048dd84c8997d793bbbf5": {
     "views": [
      {
       "cell_index": 8
      }
     ]
    },
    "e45ad15218af478397281df49b2ee75a": {
     "views": [
      {
       "cell_index": 8
      }
     ]
    },
    "e48d53c98fca49d29acdc3cb3d052761": {
     "views": [
      {
       "cell_index": 8
      }
     ]
    },
    "e5bc4b94097c484da12a743268a087d3": {
     "views": [
      {
       "cell_index": 8
      }
     ]
    },
    "e6670a1fc46547adbaac70327be4922c": {
     "views": [
      {
       "cell_index": 8
      }
     ]
    },
    "e7b3a3da27614400a5a93fb47c3409a9": {
     "views": [
      {
       "cell_index": 8
      }
     ]
    },
    "e7e8f0caf4ed4e7c842b4b0285c0b4ba": {
     "views": [
      {
       "cell_index": 8
      }
     ]
    },
    "e833d146f63f4db88547c9539b491b73": {
     "views": [
      {
       "cell_index": 8
      }
     ]
    },
    "e8429939277444ac8c6420bbe5fc792d": {
     "views": [
      {
       "cell_index": 8
      }
     ]
    },
    "e88459be3ec64c69b86b82e25c0a9245": {
     "views": [
      {
       "cell_index": 8
      }
     ]
    },
    "e9efd83b4f88487f8bd13ef5041eadbf": {
     "views": [
      {
       "cell_index": 8
      }
     ]
    },
    "ea0837a25c544ccc9f6f47701d748b76": {
     "views": [
      {
       "cell_index": 8
      }
     ]
    },
    "ea84f51a8e2240c2bda3cc166282d44c": {
     "views": [
      {
       "cell_index": 8
      }
     ]
    },
    "eb9e0c20476e4a28bcd829ef4fc6d037": {
     "views": [
      {
       "cell_index": 8
      }
     ]
    },
    "ebc6295ab22345d29b0f2799054fdd63": {
     "views": [
      {
       "cell_index": 8
      }
     ]
    },
    "ebd283f852a840f5bcf4e3ef808d34f6": {
     "views": [
      {
       "cell_index": 8
      }
     ]
    },
    "ebe6cfc2850b407a9c0a8846f1207a5a": {
     "views": [
      {
       "cell_index": 8
      }
     ]
    },
    "ec33903330b647fdae8aa8c8a174afd3": {
     "views": [
      {
       "cell_index": 8
      }
     ]
    },
    "ecceed3e9e024199bd11da28d5e051d2": {
     "views": [
      {
       "cell_index": 8
      }
     ]
    },
    "ecd509478f20489d874ea3cb98049ce9": {
     "views": [
      {
       "cell_index": 8
      }
     ]
    },
    "ecd97dac67cf47ffbf1536faf268c3bb": {
     "views": [
      {
       "cell_index": 8
      }
     ]
    },
    "ed098a82344a4d9e8b16e42ea26e54d8": {
     "views": [
      {
       "cell_index": 8
      }
     ]
    },
    "eda69a5726414d3c97ed055f4b18ef66": {
     "views": [
      {
       "cell_index": 8
      }
     ]
    },
    "edafeeffaef241dc8f91dea5c4a3a84e": {
     "views": [
      {
       "cell_index": 8
      }
     ]
    },
    "eeca355a0a0a402a8d0f8da0b90117a4": {
     "views": [
      {
       "cell_index": 8
      }
     ]
    },
    "f014f05032f947a183223b0f33a92706": {
     "views": [
      {
       "cell_index": 8
      }
     ]
    },
    "f02272d18cfa4707b7c9110b3bcc1c6a": {
     "views": [
      {
       "cell_index": 8
      }
     ]
    },
    "f07f708398ac4d799899884dc3fe2e01": {
     "views": [
      {
       "cell_index": 8
      }
     ]
    },
    "f0ae4436251649c3b48c3613b99e6fa3": {
     "views": [
      {
       "cell_index": 8
      }
     ]
    },
    "f0b7c689fcc74e10bf6b84a551918e6a": {
     "views": [
      {
       "cell_index": 8
      }
     ]
    },
    "f10646f4a2dd4e978752afc8547bcd3f": {
     "views": [
      {
       "cell_index": 8
      }
     ]
    },
    "f2612b8385e54f5485538b4ed499dec6": {
     "views": [
      {
       "cell_index": 8
      }
     ]
    },
    "f2e9b5f579e84bcea12883368b30095f": {
     "views": [
      {
       "cell_index": 8
      }
     ]
    },
    "f3549a65cd984bf99a072e6775e405dd": {
     "views": [
      {
       "cell_index": 8
      }
     ]
    },
    "f3722cc70a264b6bb073f1bf8bf3f844": {
     "views": [
      {
       "cell_index": 8
      }
     ]
    },
    "f434bedeab1a43b39f027a725d34f2e4": {
     "views": [
      {
       "cell_index": 8
      }
     ]
    },
    "f4385e64ae5d4c26ab66d4be543d90cb": {
     "views": [
      {
       "cell_index": 8
      }
     ]
    },
    "f54652e3001e4fedb0b971f678414375": {
     "views": [
      {
       "cell_index": 8
      }
     ]
    },
    "f559bb593da64311a337f2c54e7ff3dc": {
     "views": [
      {
       "cell_index": 8
      }
     ]
    },
    "f6921c70d246438287da32318dbf730b": {
     "views": [
      {
       "cell_index": 8
      }
     ]
    },
    "f6b0115cf9834c6a811e273c5f4e8b61": {
     "views": [
      {
       "cell_index": 8
      }
     ]
    },
    "f71245017e734df28ad473939ee80b3f": {
     "views": [
      {
       "cell_index": 5
      }
     ]
    },
    "f7d492f374dd45d9a6d07e98c07ac758": {
     "views": [
      {
       "cell_index": 8
      }
     ]
    },
    "f813b4ac5719484b87f4e4a46c442ecd": {
     "views": [
      {
       "cell_index": 8
      }
     ]
    },
    "f894699247ae41809ed6d27f54b214d6": {
     "views": [
      {
       "cell_index": 8
      }
     ]
    },
    "f91bd5d49afd49d9853edf51e091638c": {
     "views": [
      {
       "cell_index": 8
      }
     ]
    },
    "f92fc7cae66e4e53acb26096d9a9b81a": {
     "views": [
      {
       "cell_index": 8
      }
     ]
    },
    "f96a4272156b48eba05ce944550d71d6": {
     "views": [
      {
       "cell_index": 8
      }
     ]
    },
    "f9df2c1bf1584fe78c458680a86d49ad": {
     "views": [
      {
       "cell_index": 8
      }
     ]
    },
    "f9ed5607267045b8af66c02f19191e3d": {
     "views": [
      {
       "cell_index": 8
      }
     ]
    },
    "fa387784f3bf4911a451b9bad5ecd853": {
     "views": [
      {
       "cell_index": 8
      }
     ]
    },
    "fa3b816df2a740f2aafea3a581ee046b": {
     "views": [
      {
       "cell_index": 8
      }
     ]
    },
    "fa60a2a34ed044799d13b25a001ff5f0": {
     "views": [
      {
       "cell_index": 8
      }
     ]
    },
    "fa86ed9ea65e4165be150c240b22182e": {
     "views": [
      {
       "cell_index": 8
      }
     ]
    },
    "fa8c3f0de8ef43ba926fa0fb202bed09": {
     "views": [
      {
       "cell_index": 8
      }
     ]
    },
    "fa9b9e4bf5684d58a0cadfd3f234b806": {
     "views": [
      {
       "cell_index": 8
      }
     ]
    },
    "fb63081267ee4002ae6b0be437b2b9fd": {
     "views": [
      {
       "cell_index": 8
      }
     ]
    },
    "fbb7b4b05da64213a3def8ee42ec436f": {
     "views": [
      {
       "cell_index": 8
      }
     ]
    },
    "fcd9e53024d14dd1bc4b1d91d460b00e": {
     "views": [
      {
       "cell_index": 8
      }
     ]
    },
    "fd5421d938084a579f57d06640e4427d": {
     "views": [
      {
       "cell_index": 8
      }
     ]
    },
    "fd76af50495044c1893ea3eba20bc550": {
     "views": [
      {
       "cell_index": 8
      }
     ]
    },
    "fe3dc2559f6d4c2db955750d95ed358b": {
     "views": [
      {
       "cell_index": 8
      }
     ]
    },
    "fe67bb768def4114975945029c3b82a8": {
     "views": [
      {
       "cell_index": 8
      }
     ]
    },
    "ffe8c0cbae684c2caf44b59d78dd1516": {
     "views": [
      {
       "cell_index": 8
      }
     ]
    }
   },
   "version": "1.2.0"
  }
 },
 "nbformat": 4,
 "nbformat_minor": 2
}
