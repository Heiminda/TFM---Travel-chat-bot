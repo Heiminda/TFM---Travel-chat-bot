{
 "cells": [
  {
   "cell_type": "code",
   "execution_count": 38,
   "metadata": {
    "collapsed": true
   },
   "outputs": [],
   "source": [
    "import pickle\n",
    "import json\n",
    "from sklearn.model_selection import train_test_split\n",
    "from sklearn.feature_extraction.text import CountVectorizer\n",
    "from nltk.tokenize import sent_tokenize"
   ]
  },
  {
   "cell_type": "code",
   "execution_count": 3,
   "metadata": {
    "collapsed": false
   },
   "outputs": [],
   "source": [
    "with open('articles.pkl', 'rb') as fp:\n",
    "    articles = pickle.load(fp)"
   ]
  },
  {
   "cell_type": "code",
   "execution_count": 77,
   "metadata": {
    "collapsed": false
   },
   "outputs": [],
   "source": [
    "def filt(x):\n",
    "    x = x.replace('=', '').replace('\\t', ' ').replace('\\n', '')\n",
    "    sents = sent_tokenize(str(x.encode('ascii', 'ignore')))\n",
    "    return '<p><s>' + \"</s><s>\".join(sents) + '</s></p>'\n",
    "\n",
    "def head(s):\n",
    "    def _(s):\n",
    "        if type(s) == dict:\n",
    "            return s.get('print_headline', s.get('main', s.get('content_kicker', '')))\n",
    "\n",
    "        return s\n",
    "    return filt(_(s))\n",
    "\n",
    "bare = [(head(a['headline']), filt(a['snippet'])) for a in articles if a['snippet']]\n",
    "important = [('abstract=' + head(a['headline']), 'article=' + filt(a['snippet'])) for a in articles if a['snippet']]"
   ]
  },
  {
   "cell_type": "code",
   "execution_count": 78,
   "metadata": {
    "collapsed": false
   },
   "outputs": [
    {
     "data": {
      "text/plain": [
       "(86411, 83809)"
      ]
     },
     "execution_count": 78,
     "metadata": {},
     "output_type": "execute_result"
    }
   ],
   "source": [
    "len(articles), len(important)"
   ]
  },
  {
   "cell_type": "code",
   "execution_count": 79,
   "metadata": {
    "collapsed": false
   },
   "outputs": [
    {
     "data": {
      "text/plain": [
       "(\"abstract=<p><s>b'With Bradley Out,cubs Bring In Byrd'</s></p>\",\n",
       " \"article=<p><s>b'The Cubs, who had been searching for a center fielder, agreed Thursday to a three-year, $15 million contract with Marlon Byrd....'</s></p>\")"
      ]
     },
     "execution_count": 79,
     "metadata": {},
     "output_type": "execute_result"
    }
   ],
   "source": [
    "important[0]"
   ]
  },
  {
   "cell_type": "code",
   "execution_count": 80,
   "metadata": {
    "collapsed": false
   },
   "outputs": [],
   "source": [
    "train, test = train_test_split(important)"
   ]
  },
  {
   "cell_type": "code",
   "execution_count": 81,
   "metadata": {
    "collapsed": false
   },
   "outputs": [],
   "source": [
    "with open('articles_test.txt', 'w') as fp:\n",
    "    fp.writelines(['\\t'.join(pair) + '\\n' for pair in test])\n",
    "    \n",
    "with open('articles_train.txt', 'w') as fp:\n",
    "    fp.writelines(['\\t'.join(pair) + '\\n' for pair in train])"
   ]
  },
  {
   "cell_type": "code",
   "execution_count": 82,
   "metadata": {
    "collapsed": false
   },
   "outputs": [],
   "source": [
    "all_text = [' '.join(a) for a in bare]\n",
    "cv = CountVectorizer(token_pattern='(?:(?u)\\\\b\\\\w\\\\w+\\\\b)|(?:</?\\\\w>)')\n",
    "mat = cv.fit_transform(all_text)"
   ]
  },
  {
   "cell_type": "code",
   "execution_count": 83,
   "metadata": {
    "collapsed": false
   },
   "outputs": [],
   "source": [
    "vocab = zip(cv.get_feature_names(), mat.toarray().sum(axis=0))\n",
    "vocab = sorted(vocab, key=lambda x: x[1], reverse=True)"
   ]
  },
  {
   "cell_type": "code",
   "execution_count": 84,
   "metadata": {
    "collapsed": false
   },
   "outputs": [],
   "source": [
    "with open('vocab.txt', 'w') as fp:\n",
    "    fp.writelines([' '.join(map(str, pair)) + '\\n' for pair in vocab])"
   ]
  }
 ],
 "metadata": {
  "kernelspec": {
   "display_name": "Python 3",
   "language": "python",
   "name": "python3"
  },
  "language_info": {
   "codemirror_mode": {
    "name": "ipython",
    "version": 3
   },
   "file_extension": ".py",
   "mimetype": "text/x-python",
   "name": "python",
   "nbconvert_exporter": "python",
   "pygments_lexer": "ipython3",
   "version": "3.6.0"
  }
 },
 "nbformat": 4,
 "nbformat_minor": 2
}
