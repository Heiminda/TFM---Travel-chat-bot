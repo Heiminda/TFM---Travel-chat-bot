{
 "cells": [
  {
   "cell_type": "code",
   "execution_count": 16,
   "metadata": {
    "collapsed": true
   },
   "outputs": [],
   "source": [
    "token = \"353528360:AAElSBItMyuY2UsSL1tdx6D4YEZpHpJFopg\""
   ]
  },
  {
   "cell_type": "code",
   "execution_count": 17,
   "metadata": {
    "collapsed": false
   },
   "outputs": [],
   "source": [
    "import twx.botapi as tbot\n",
    "from twx.botapi import TelegramBot, ReplyKeyboardMarkup\n",
    "bot = TelegramBot(token)"
   ]
  },
  {
   "cell_type": "code",
   "execution_count": 18,
   "metadata": {
    "collapsed": false,
    "scrolled": true
   },
   "outputs": [
    {
     "data": {
      "text/plain": [
       "User(id=353528360, first_name=u'yogi', last_name=None, username=u'yogifatherbot')"
      ]
     },
     "execution_count": 18,
     "metadata": {},
     "output_type": "execute_result"
    }
   ],
   "source": [
    "bot.update_bot_info().wait()"
   ]
  },
  {
   "cell_type": "code",
   "execution_count": 28,
   "metadata": {
    "collapsed": true
   },
   "outputs": [
    {
     "name": "stdout",
     "output_type": "stream",
     "text": [
      "Update(update_id=734512792, message=Message(message_id=6, sender=User(id=359321247, first_name=u'Manuel', last_name=u'Sarmiento', username=None), date=1488991499, edit_date=None, chat=Chat(id=359321247, type=u'private', title=None, username=None, first_name=u'Manuel', last_name=u'Sarmiento'), forward_from=None, forward_from_chat=None, forward_date=None, reply_to_message=None, text=u'asdsa', entities=None, audio=None, document=None, photo=None, sticker=None, video=None, voice=None, caption=None, contact=None, location=None, venue=None, new_chat_member=None, left_chat_member=None, new_chat_title=None, new_chat_photo=None, delete_chat_photo=None, group_chat_created=None, supergroup_chat_created=None, channel_chat_created=None, migrate_to_chat_id=None, migrate_from_chat_id=None, pinned_message=None), edited_message=None, inline_query=None, chosen_inline_result=None, callback_query=None)\n",
      "--------------\n",
      "Update(update_id=734512793, message=Message(message_id=7, sender=User(id=359321247, first_name=u'Manuel', last_name=u'Sarmiento', username=None), date=1488991558, edit_date=None, chat=Chat(id=359321247, type=u'private', title=None, username=None, first_name=u'Manuel', last_name=u'Sarmiento'), forward_from=None, forward_from_chat=None, forward_date=None, reply_to_message=None, text=u'sdasda', entities=None, audio=None, document=None, photo=None, sticker=None, video=None, voice=None, caption=None, contact=None, location=None, venue=None, new_chat_member=None, left_chat_member=None, new_chat_title=None, new_chat_photo=None, delete_chat_photo=None, group_chat_created=None, supergroup_chat_created=None, channel_chat_created=None, migrate_to_chat_id=None, migrate_from_chat_id=None, pinned_message=None), edited_message=None, inline_query=None, chosen_inline_result=None, callback_query=None)\n",
      "--------------\n",
      "Update(update_id=734512794, message=Message(message_id=8, sender=User(id=346784964, first_name=u'Guillem', last_name=None, username=u'blipi'), date=1488991736, edit_date=None, chat=Chat(id=346784964, type=u'private', title=None, username=u'blipi', first_name=u'Guillem', last_name=None), forward_from=None, forward_from_chat=None, forward_date=None, reply_to_message=None, text=u'/start', entities=[MessageEntity(type=u'bot_command', offset=0, length=6, url=None, user=None)], audio=None, document=None, photo=None, sticker=None, video=None, voice=None, caption=None, contact=None, location=None, venue=None, new_chat_member=None, left_chat_member=None, new_chat_title=None, new_chat_photo=None, delete_chat_photo=None, group_chat_created=None, supergroup_chat_created=None, channel_chat_created=None, migrate_to_chat_id=None, migrate_from_chat_id=None, pinned_message=None), edited_message=None, inline_query=None, chosen_inline_result=None, callback_query=None)\n",
      "--------------\n",
      "Update(update_id=734512795, message=Message(message_id=10, sender=User(id=346784964, first_name=u'Guillem', last_name=None, username=u'blipi'), date=1488991914, edit_date=None, chat=Chat(id=346784964, type=u'private', title=None, username=u'blipi', first_name=u'Guillem', last_name=None), forward_from=None, forward_from_chat=None, forward_date=None, reply_to_message=None, text=u'ok', entities=None, audio=None, document=None, photo=None, sticker=None, video=None, voice=None, caption=None, contact=None, location=None, venue=None, new_chat_member=None, left_chat_member=None, new_chat_title=None, new_chat_photo=None, delete_chat_photo=None, group_chat_created=None, supergroup_chat_created=None, channel_chat_created=None, migrate_to_chat_id=None, migrate_from_chat_id=None, pinned_message=None), edited_message=None, inline_query=None, chosen_inline_result=None, callback_query=None)\n",
      "--------------\n"
     ]
    }
   ],
   "source": [
    "updates = bot.get_updates(734512791).wait()\n",
    "for update in updates:\n",
    "    print(update)\n",
    "    print(\"--------------\")"
   ]
  }
 ],
 "metadata": {
  "kernelspec": {
   "display_name": "Python 2",
   "language": "python",
   "name": "python2"
  },
  "language_info": {
   "codemirror_mode": {
    "name": "ipython",
    "version": 2
   },
   "file_extension": ".py",
   "mimetype": "text/x-python",
   "name": "python",
   "nbconvert_exporter": "python",
   "pygments_lexer": "ipython2",
   "version": "2.7.13"
  }
 },
 "nbformat": 4,
 "nbformat_minor": 2
}
