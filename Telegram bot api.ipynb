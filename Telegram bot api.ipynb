{
 "cells": [
  {
   "cell_type": "code",
   "execution_count": 1,
   "metadata": {
    "collapsed": true
   },
   "outputs": [],
   "source": [
    "token = \"353528360:AAElSBItMyuY2UsSL1tdx6D4YEZpHpJFopg\""
   ]
  },
  {
   "cell_type": "code",
   "execution_count": 2,
   "metadata": {
    "collapsed": false
   },
   "outputs": [],
   "source": [
    "import twx.botapi as tbot\n",
    "from twx.botapi import TelegramBot, ReplyKeyboardMarkup\n",
    "import re\n",
    "import datetime,time\n",
    "bot = TelegramBot(token)"
   ]
  },
  {
   "cell_type": "code",
   "execution_count": null,
   "metadata": {
    "collapsed": false,
    "scrolled": true
   },
   "outputs": [],
   "source": [
    "bot.update_bot_info().wait()"
   ]
  },
  {
   "cell_type": "code",
   "execution_count": null,
   "metadata": {
    "collapsed": true
   },
   "outputs": [],
   "source": [
    "def valid_date(s):\n",
    "    try:\n",
    "        datetime.datetime.strptime(s, '%d/%m/%Y')\n",
    "        return(True)\n",
    "    except ValueError:\n",
    "        return(False)\n",
    "    "
   ]
  },
  {
   "cell_type": "code",
   "execution_count": null,
   "metadata": {
    "collapsed": false
   },
   "outputs": [],
   "source": [
    "Today = datetime.datetime.now()\n",
    "Today = Today.strftime(\"%d/%m/%Y\")\n",
    "name = \"Yogi\"\n",
    "start_message = \"Welcome to \" + name + \" Preparing a flight? Fill the form below and we will help you:\"\n",
    "Form = \"From: xxxx \\n To: xxxx \\n Departure date: YYYY/mm/dd \\n Return date: YYYY/mm/dd \\n Hotel: yes/no\"\n",
    "DateErrorMessage = \"Error in the dates selected, please fill the form below:\"\n",
    "DontUnderstandErrorMessage = \"Sorry I haven't undestand you, please fill the form below:\"\n",
    "LastUpdate = 734512820"
   ]
  },
  {
   "cell_type": "code",
   "execution_count": null,
   "metadata": {
    "collapsed": false
   },
   "outputs": [
    {
     "name": "stdout",
     "output_type": "stream",
     "text": [
      "27/03/2017\n",
      "01/04/2017\n",
      "True\n"
     ]
    }
   ],
   "source": [
    "#while True:\n",
    "time.sleep(1)\n",
    "updates = bot.get_updates(LastUpdate).wait()\n",
    "for update in updates:\n",
    "    s = update.message.text\n",
    "    #LastUpdate +=1\n",
    "    if(s == \"/start\"):\n",
    "        bot.send_message(update.message.sender.id, start_message).wait()\n",
    "        bot.send_message(update.message.sender.id, Form).wait()\n",
    "    elif(s.split(' ', 1)[0] == \"From:\"):\n",
    "        _, _, after_keyword = s.partition('From: ')\n",
    "        origin = after_keyword.split(' ', 1)[0]\n",
    "        _, _, after_keyword = s.partition('To: ')\n",
    "        destination = after_keyword.split(' ', 1)[0]\n",
    "        _, _, after_keyword = s.partition('Departure date: ')\n",
    "        depdate = after_keyword.split(' ', 1)[0]\n",
    "        _, _, after_keyword = s.partition('Return date: ')\n",
    "        retdate = after_keyword.split(' ', 1)[0]\n",
    "        _, _, after_keyword = s.partition('Hotel: ')\n",
    "        hotel = after_keyword.split(' ', 1)[0]\n",
    "        print depdate \n",
    "        print retdate\n",
    "        print depdate>retdate\n",
    "        if((not valid_date(depdate) or not valid_date(retdate)) or depdate > retdate or depdate < Today ):\n",
    "            bot.send_message(update.message.sender.id, DateErrorMessage).wait()\n",
    "            bot.send_message(update.message.sender.id, Form).wait()\n",
    "        else:\n",
    "            message = \"We are looking for the best flight from \" + origin + \" to \" + destination + \" from \" + depdate + \" to \" + retdate\n",
    "            if(hotel== yes):\n",
    "                message = message + \"including hotel\"\n",
    "            message = message + \" Wait while we check for the best offer\"\n",
    "            bot.send_message(update.message.sender.id, message).wait()\n",
    "    else:\n",
    "        bot.send_message(update.message.sender.id, DontUnderstandErrorMessage).wait().wait()\n",
    "        bot.send_message(update.message.sender.id, Form).wait()\n",
    "\n",
    "    print(update)\n",
    "    print(\"--------------\")"
   ]
  },
  {
   "cell_type": "code",
   "execution_count": 11,
   "metadata": {
    "collapsed": false
   },
   "outputs": [
    {
     "data": {
      "text/plain": [
       "359321247"
      ]
     },
     "execution_count": 11,
     "metadata": {},
     "output_type": "execute_result"
    }
   ],
   "source": [
    "update.message.sender.id"
   ]
  },
  {
   "cell_type": "code",
   "execution_count": null,
   "metadata": {
    "collapsed": false
   },
   "outputs": [],
   "source": [
    "Today = datetime.datetime.now()\n",
    "Today = Today.strftime(\"%Y/%m/%d\")"
   ]
  },
  {
   "cell_type": "code",
   "execution_count": null,
   "metadata": {
    "collapsed": true
   },
   "outputs": [],
   "source": [
    "bot.set_webhook"
   ]
  },
  {
   "cell_type": "code",
   "execution_count": 6,
   "metadata": {
    "collapsed": false
   },
   "outputs": [],
   "source": [
    "updates = bot.get_updates(LastUpdate).wait()"
   ]
  },
  {
   "cell_type": "code",
   "execution_count": 7,
   "metadata": {
    "collapsed": false
   },
   "outputs": [
    {
     "data": {
      "text/plain": [
       "[Update(update_id=734512810, message=Message(message_id=62, sender=User(id=359321247, first_name=u'Manuel', last_name=u'Sarmiento', username=None), date=1489596445, edit_date=None, chat=Chat(id=359321247, type=u'private', title=None, username=None, first_name=u'Manuel', last_name=u'Sarmiento'), forward_from=None, forward_from_chat=None, forward_date=None, reply_to_message=None, text=u'/start', entities=[MessageEntity(type=u'bot_command', offset=0, length=6, url=None, user=None)], audio=None, document=None, photo=None, sticker=None, video=None, voice=None, caption=None, contact=None, location=None, venue=None, new_chat_member=None, left_chat_member=None, new_chat_title=None, new_chat_photo=None, delete_chat_photo=None, group_chat_created=None, supergroup_chat_created=None, channel_chat_created=None, migrate_to_chat_id=None, migrate_from_chat_id=None, pinned_message=None), edited_message=None, inline_query=None, chosen_inline_result=None, callback_query=None),\n",
       " Update(update_id=734512811, message=Message(message_id=64, sender=User(id=359321247, first_name=u'Manuel', last_name=u'Sarmiento', username=None), date=1489596533, edit_date=None, chat=Chat(id=359321247, type=u'private', title=None, username=None, first_name=u'Manuel', last_name=u'Sarmiento'), forward_from=None, forward_from_chat=None, forward_date=None, reply_to_message=None, text=u'/start', entities=[MessageEntity(type=u'bot_command', offset=0, length=6, url=None, user=None)], audio=None, document=None, photo=None, sticker=None, video=None, voice=None, caption=None, contact=None, location=None, venue=None, new_chat_member=None, left_chat_member=None, new_chat_title=None, new_chat_photo=None, delete_chat_photo=None, group_chat_created=None, supergroup_chat_created=None, channel_chat_created=None, migrate_to_chat_id=None, migrate_from_chat_id=None, pinned_message=None), edited_message=None, inline_query=None, chosen_inline_result=None, callback_query=None),\n",
       " Update(update_id=734512812, message=Message(message_id=65, sender=User(id=359321247, first_name=u'Manuel', last_name=u'Sarmiento', username=None), date=1489596545, edit_date=None, chat=Chat(id=359321247, type=u'private', title=None, username=None, first_name=u'Manuel', last_name=u'Sarmiento'), forward_from=None, forward_from_chat=None, forward_date=None, reply_to_message=None, text=u'/start', entities=[MessageEntity(type=u'bot_command', offset=0, length=6, url=None, user=None)], audio=None, document=None, photo=None, sticker=None, video=None, voice=None, caption=None, contact=None, location=None, venue=None, new_chat_member=None, left_chat_member=None, new_chat_title=None, new_chat_photo=None, delete_chat_photo=None, group_chat_created=None, supergroup_chat_created=None, channel_chat_created=None, migrate_to_chat_id=None, migrate_from_chat_id=None, pinned_message=None), edited_message=None, inline_query=None, chosen_inline_result=None, callback_query=None),\n",
       " Update(update_id=734512813, message=Message(message_id=67, sender=User(id=359321247, first_name=u'Manuel', last_name=u'Sarmiento', username=None), date=1489596658, edit_date=None, chat=Chat(id=359321247, type=u'private', title=None, username=None, first_name=u'Manuel', last_name=u'Sarmiento'), forward_from=None, forward_from_chat=None, forward_date=None, reply_to_message=None, text=u'/start', entities=[MessageEntity(type=u'bot_command', offset=0, length=6, url=None, user=None)], audio=None, document=None, photo=None, sticker=None, video=None, voice=None, caption=None, contact=None, location=None, venue=None, new_chat_member=None, left_chat_member=None, new_chat_title=None, new_chat_photo=None, delete_chat_photo=None, group_chat_created=None, supergroup_chat_created=None, channel_chat_created=None, migrate_to_chat_id=None, migrate_from_chat_id=None, pinned_message=None), edited_message=None, inline_query=None, chosen_inline_result=None, callback_query=None)]"
      ]
     },
     "execution_count": 7,
     "metadata": {},
     "output_type": "execute_result"
    }
   ],
   "source": [
    "updates"
   ]
  }
 ],
 "metadata": {
  "kernelspec": {
   "display_name": "Python 2",
   "language": "python",
   "name": "python2"
  },
  "language_info": {
   "codemirror_mode": {
    "name": "ipython",
    "version": 2
   },
   "file_extension": ".py",
   "mimetype": "text/x-python",
   "name": "python",
   "nbconvert_exporter": "python",
   "pygments_lexer": "ipython2",
   "version": "2.7.13"
  }
 },
 "nbformat": 4,
 "nbformat_minor": 2
}
