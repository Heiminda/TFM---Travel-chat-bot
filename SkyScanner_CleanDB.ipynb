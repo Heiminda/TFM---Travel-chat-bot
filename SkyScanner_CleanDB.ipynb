{
 "cells": [
  {
   "cell_type": "code",
   "execution_count": 1,
   "metadata": {
    "collapsed": false
   },
   "outputs": [],
   "source": [
    "from pymongo import MongoClient\n",
    "import json\n",
    "from pprint import pprint\n",
    "from tqdm import tqdm_notebook as tqdm"
   ]
  },
  {
   "cell_type": "code",
   "execution_count": 2,
   "metadata": {
    "collapsed": true
   },
   "outputs": [],
   "source": [
    "client = MongoClient()"
   ]
  },
  {
   "cell_type": "code",
   "execution_count": 3,
   "metadata": {
    "collapsed": false
   },
   "outputs": [],
   "source": [
    "def clean_itinerary(itinerary):\n",
    "    def select_cols(item, cols):\n",
    "        if type(cols) == list:\n",
    "            tpl = [select_cols(item, k) for k in cols]\n",
    "            return dict(tpl)\n",
    "        elif type(cols) == dict:\n",
    "            key, val = list(cols.items())[0]\n",
    "            return select_cols(item[key][0], val)\n",
    "\n",
    "        return cols, item[cols]\n",
    "\n",
    "    keys_of_interest = {\n",
    "        'Itineraries': ['OutboundLegId', {'PricingOptions': 'Price'}]\n",
    "    }\n",
    "\n",
    "    clean = {}\n",
    "    clean['_id'] = itinerary['_id']\n",
    "    for key, columns in keys_of_interest.items():\n",
    "        clean[key] = [select_cols(item, columns) for item in itinerary[key]]\n",
    "\n",
    "    return clean"
   ]
  },
  {
   "cell_type": "code",
   "execution_count": 4,
   "metadata": {
    "collapsed": false
   },
   "outputs": [],
   "source": [
    "db = client.skyscanner\n",
    "itineraries = db.itineraries\n",
    "\n",
    "cleaned_itineraries = db.cleaned_itineraries"
   ]
  },
  {
   "cell_type": "code",
   "execution_count": 6,
   "metadata": {
    "collapsed": false,
    "scrolled": false
   },
   "outputs": [
    {
     "name": "stdout",
     "output_type": "stream",
     "text": [
      "\n"
     ]
    }
   ],
   "source": [
    "iterator = itineraries.find()\n",
    "\n",
    "start = 0\n",
    "iterator.skip(start * 1000)\n",
    "\n",
    "if start == 0:\n",
    "    cleaned_itineraries.drop()\n",
    "\n",
    "for i in tqdm(range(start * 1000, itineraries.count(), 1000)):\n",
    "    end = min(1000, itineraries.count() - i)\n",
    "    cleaned_itineraries.insert_many([clean_itinerary(next(iterator)) for item in tqdm(range(end), leave=False)])"
   ]
  },
  {
   "cell_type": "code",
   "execution_count": null,
   "metadata": {
    "collapsed": true
   },
   "outputs": [],
   "source": []
  }
 ],
 "metadata": {
  "anaconda-cloud": {},
  "kernelspec": {
   "display_name": "Python 3",
   "language": "python",
   "name": "python3"
  },
  "language_info": {
   "codemirror_mode": {
    "name": "ipython",
    "version": 3
   },
   "file_extension": ".py",
   "mimetype": "text/x-python",
   "name": "python",
   "nbconvert_exporter": "python",
   "pygments_lexer": "ipython3",
   "version": "3.6.0"
  },
  "widgets": {
   "state": {
    "02c1d304552a44e591f92f17aaca0724": {
     "views": [
      {
       "cell_index": 4
      }
     ]
    },
    "111ef2abb84645a88d8e3a101a76449f": {
     "views": [
      {
       "cell_index": 4
      }
     ]
    },
    "148ba9414bd24e17b1a94b3752a75bb5": {
     "views": [
      {
       "cell_index": 4
      }
     ]
    },
    "246a8ba4c8d54731bb65d9fa8e075756": {
     "views": [
      {
       "cell_index": 4
      }
     ]
    },
    "29978360067c47f38ebf5f54748e3ed3": {
     "views": [
      {
       "cell_index": 4
      }
     ]
    },
    "2a4b4e8b3d224f9e8d55b8977a5b090b": {
     "views": [
      {
       "cell_index": 4
      }
     ]
    },
    "2def4fbd78c74f6b8e8d717db4662ee5": {
     "views": [
      {
       "cell_index": 4
      }
     ]
    },
    "3c1eade149da4a388a20762c00263e30": {
     "views": [
      {
       "cell_index": 4
      }
     ]
    },
    "413275d8846c49f78af4d117fdccf13b": {
     "views": [
      {
       "cell_index": 4
      }
     ]
    },
    "4305967de9cb4788a12d6a2b49fb6f5d": {
     "views": [
      {
       "cell_index": 4
      }
     ]
    },
    "436b71a26c8f407baed88b85e7db7c42": {
     "views": [
      {
       "cell_index": 4
      }
     ]
    },
    "4762d52c61da46968778a9e93c1b0cc1": {
     "views": [
      {
       "cell_index": 4
      }
     ]
    },
    "4b872e83bcf64179828313e277dfe170": {
     "views": [
      {
       "cell_index": 4
      }
     ]
    },
    "5798041f05834655a190d7841894bd0c": {
     "views": [
      {
       "cell_index": 4
      }
     ]
    },
    "59647a9f966445c79b7cbfc079af156b": {
     "views": [
      {
       "cell_index": 4
      }
     ]
    },
    "5d10c0adfdd34f34b43a915af46381ec": {
     "views": [
      {
       "cell_index": 4
      }
     ]
    },
    "5deeb3d528fb4f16946db9d01d0d5bad": {
     "views": [
      {
       "cell_index": 4
      }
     ]
    },
    "6533c2b8f7fc4038a6517596e4de4b45": {
     "views": [
      {
       "cell_index": 4
      }
     ]
    },
    "66568a772ca44ed1b86c49b3580a2c16": {
     "views": [
      {
       "cell_index": 4
      }
     ]
    },
    "6cd6633876064f869703c456684800b7": {
     "views": [
      {
       "cell_index": 4
      }
     ]
    },
    "6d8829c4bb72492baf06e800c56a58a3": {
     "views": [
      {
       "cell_index": 4
      }
     ]
    },
    "6da0fb1306e04cddb912a3192423bf3e": {
     "views": [
      {
       "cell_index": 4
      }
     ]
    },
    "70a4098187da4558963637b0f9892f76": {
     "views": [
      {
       "cell_index": 4
      }
     ]
    },
    "734e37f6fb2e48d3b942517a58ae5f50": {
     "views": [
      {
       "cell_index": 4
      }
     ]
    },
    "76e754b8d536470386b20fa43760be23": {
     "views": [
      {
       "cell_index": 4
      }
     ]
    },
    "7962f36e70c34522b661b5ba0f1a76dd": {
     "views": [
      {
       "cell_index": 4
      }
     ]
    },
    "83e21981e7c245ff8ff1e180895f0c55": {
     "views": [
      {
       "cell_index": 4
      }
     ]
    },
    "8d2dd71b14c34fdf95b0df176731445f": {
     "views": [
      {
       "cell_index": 4
      }
     ]
    },
    "8f37d631acb74a1bbe48354cb81f6d15": {
     "views": [
      {
       "cell_index": 4
      }
     ]
    },
    "93aa77d25c5840c386c59a3ed57fedf4": {
     "views": [
      {
       "cell_index": 4
      }
     ]
    },
    "940ffd174f9e499daa7379bfcb84cf91": {
     "views": [
      {
       "cell_index": 4
      }
     ]
    },
    "9ebc79fcda4944dda6b59726b72f706d": {
     "views": [
      {
       "cell_index": 4
      }
     ]
    },
    "9ee6159aaab24e28a559365714caf630": {
     "views": [
      {
       "cell_index": 4
      }
     ]
    },
    "a289ee603c3846afb25ca57a21c382c6": {
     "views": [
      {
       "cell_index": 4
      }
     ]
    },
    "a64ab96daf0c4c46b2dd5d5006718556": {
     "views": [
      {
       "cell_index": 4
      }
     ]
    },
    "ad6797f0dfd644a2899bcccd73ea0303": {
     "views": [
      {
       "cell_index": 4
      }
     ]
    },
    "b0798fe64c65440ea49b74c3636a9e00": {
     "views": [
      {
       "cell_index": 4
      }
     ]
    },
    "b37aa3d799204ec78d1ec3a53d63a279": {
     "views": [
      {
       "cell_index": 4
      }
     ]
    },
    "b41ed10a7f0449768ee21ecc36f7caa6": {
     "views": [
      {
       "cell_index": 4
      }
     ]
    },
    "c5989946a8294c8d8035f31eed6834e8": {
     "views": [
      {
       "cell_index": 4
      }
     ]
    },
    "d33198e49f494e95874a266a8ac2fcdc": {
     "views": [
      {
       "cell_index": 4
      }
     ]
    },
    "d3b94727250141a1998c8cb1da43dbf3": {
     "views": [
      {
       "cell_index": 4
      }
     ]
    },
    "d8a864bb7ee04605ba234ccd35b3d503": {
     "views": [
      {
       "cell_index": 4
      }
     ]
    },
    "d9138b7e186449c689ff38bc9d0af056": {
     "views": [
      {
       "cell_index": 4
      }
     ]
    },
    "d9e3612e4a9e41699ad8ed58782f65ef": {
     "views": [
      {
       "cell_index": 4
      }
     ]
    },
    "de6dd917fd214d31908cd5147030b07b": {
     "views": [
      {
       "cell_index": 4
      }
     ]
    },
    "e24d894677e648c98d3e0abbec43866f": {
     "views": [
      {
       "cell_index": 4
      }
     ]
    },
    "e2c99cd235c0485d9934d7a1adb7a6ea": {
     "views": [
      {
       "cell_index": 4
      }
     ]
    },
    "fd130c0f907746cb929382b96f5e9d93": {
     "views": [
      {
       "cell_index": 4
      }
     ]
    },
    "fdcc42afd4ed4754a7aa04d2cd90e5d2": {
     "views": [
      {
       "cell_index": 4
      }
     ]
    },
    "fff85ea1e1464571bae30617a4b43ada": {
     "views": [
      {
       "cell_index": 4
      }
     ]
    }
   },
   "version": "1.2.0"
  }
 },
 "nbformat": 4,
 "nbformat_minor": 1
}
